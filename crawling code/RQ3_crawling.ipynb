{
 "cells": [
  {
   "cell_type": "code",
   "execution_count": null,
   "metadata": {},
   "outputs": [],
   "source": [
    "#!pip install selenium"
   ]
  },
  {
   "cell_type": "code",
   "execution_count": 31,
   "metadata": {},
   "outputs": [],
   "source": [
    "import selenium\n",
    "from selenium import webdriver\n",
    "from selenium.webdriver.common.by import By\n",
    "from selenium.webdriver.chrome.service import Service\n",
    "import time\n",
    "\n",
    "from bs4 import BeautifulSoup\n",
    "import requests"
   ]
  },
  {
   "cell_type": "code",
   "execution_count": 32,
   "metadata": {},
   "outputs": [],
   "source": [
    "chrome_options = webdriver.ChromeOptions()\n",
    "chrome_options.add_argument('--user-agent=\"Mozilla/5.0 (Macintosh; Intel Mac OS X 10_13_4) AppleWebKit/537.36 (KHTML, like Gecko) Chrome/66.0.3359.139 Safari/537.36\"')\n",
    "service = Service(\"./chromedriver\")  \n",
    "driver = webdriver.Chrome(service=service, options=chrome_options)"
   ]
  },
  {
   "cell_type": "code",
   "execution_count": 33,
   "metadata": {},
   "outputs": [],
   "source": [
    "QUERY = \"I-MOD\"          \n",
    "START_DATE = \"2022.07.01\" \n",
    "END_DATE = \"2023.06.30\"\n",
    "START_PAGE = 1            \n",
    "END_PAGE = 8\n",
    "article_filename = \"article_\" + QUERY + \"_\" + START_DATE + \"_\" + END_DATE + \"_\" + str(START_PAGE) + \".txt\""
   ]
  },
  {
   "cell_type": "code",
   "execution_count": 40,
   "metadata": {},
   "outputs": [
    {
     "name": "stdout",
     "output_type": "stream",
     "text": [
      "\n",
      "* 최대 0 개 기사 수집이 완료되었습니다.\n",
      "* 수집된 기사는 아래 파일에 저장되었습니다.\n",
      "  : article_I-MOD_2022.07.01_2023.06.30_1.txt\n"
     ]
    }
   ],
   "source": [
    "f = open(article_filename, \"w\", encoding=\"utf-8\")\n",
    "news_count = 0\n",
    "\n",
    "for page in range(START_PAGE, END_PAGE*10+1, 10):\n",
    "    URL = \"https://search.naver.com/search.naver?&where=news&query=\" + QUERY \n",
    "    URL += \"&sm=tab_pge&sort=0&photo=0&field=0&reporter_article=&pd=3&ds=\"\n",
    "    URL += START_DATE + \"&de=\" + END_DATE + \"&docid=&&start=\" + str(page) + \"&refresh_start=0\"\n",
    "    driver.get(URL)\n",
    "    time.sleep(2)\n",
    "    \n",
    "    try:\n",
    "        news_list = driver.find_element(By.CLASS_NAME, \"list_news\").find_elements(By.CLASS_NAME, \"bx\")\n",
    "    except:\n",
    "        break\n",
    "    \n",
    "    \n",
    "    for news in news_list[:]:\n",
    "        link_list = news.find_element(By.CLASS_NAME, \"info_group\").find_elements(By.TAG_NAME, \"a\")\n",
    "        if len(link_list) == 1:\n",
    "            continue\n",
    "        article_url = link_list[1].get_attribute(\"href\").strip()\n",
    "        link_list[1].click()\n",
    "        time.sleep(1)\n",
    "        current_window = driver.current_window_handle\n",
    "        try:\n",
    "            new_window = [window for window in driver.window_handles if window != current_window][0]\n",
    "            driver.switch_to.window(new_window)\n",
    "        except:\n",
    "            driver.switch_to.window(current_window)\n",
    "            continue\n",
    "        time.sleep(2) \n",
    "        \n",
    "        try:               \n",
    "            if \"sports.news\" in article_url:\n",
    "                source_label = driver.find_element(By.ID, \"pressLogo\").find_element(By.TAG_NAME, \"img\")\n",
    "                source = source_label.get_attribute(\"alt\").strip()\n",
    "                datetime = driver.find_element(By.CLASS_NAME, \"info\").find_element(By.TAG_NAME, \"span\").text.replace(\"기사입력\", \"\").strip()\n",
    "                content = driver.find_element(By.CLASS_NAME, \"news_end\").text.strip().replace(\"\\n\", \" \")\n",
    "                title = driver.find_element(By.CLASS_NAME, \"title\").text.strip()\n",
    "                \n",
    "            elif \"n.news\" in article_url:\n",
    "                try:\n",
    "                    try:\n",
    "                        source_label = driver.find_element(By.ID, \"pressLogo\").find_element(By.TAG_NAME, \"img\")\n",
    "                        source = source_label.get_attribute(\"alt\").strip()\n",
    "                    except:\n",
    "                        source_label = driver.find_element(By.CLASS_NAME, \"media_end_head_top_logo\").find_element(By.TAG_NAME, \"img\")\n",
    "                        source = source_label.get_attribute(\"alt\").strip()\n",
    "                    datetime = driver.find_element(By.CLASS_NAME, \"_ARTICLE_DATE_TIME\").text.strip()            \n",
    "                    content = driver.find_element(By.CLASS_NAME, \"_article_content\").text.strip().replace(\"\\n\", \" \")\n",
    "                    title = driver.find_element(By.CLASS_NAME, \"media_end_head_headline\").text.strip()\n",
    "                except:\n",
    "                    source_label = driver.find_element(By.CLASS_NAME, \"press_logo\")\n",
    "                    source_img = source_label.find_element(By.TAG_NAME, \"img\")\n",
    "                    source = source_img.get_attribute(\"alt\").strip()\n",
    "                    datetime = driver.find_element(By.CLASS_NAME, \"author\")\n",
    "                    datetime = datetime.find_element(By.TAG_NAME, \"em\").text.strip()\n",
    "                    content = driver.find_element(By.ID, \"articeBody\").text.strip().replace(\"\\n\", \" \")\n",
    "                    title = driver.find_element(By.CLASS_NAME, \"end_tit\").text.strip()\n",
    "                    \n",
    "            else:\n",
    "                driver.close()\n",
    "                time.sleep(2)\n",
    "                driver.switch_to.window(current_window)\n",
    "                continue\n",
    "                \n",
    "        except:\n",
    "            driver.close()\n",
    "            time.sleep(2)\n",
    "            driver.switch_to.window(current_window)\n",
    "            f.flush()\n",
    "            continue\n",
    "            \n",
    "        f.write(source + \"\\t\" + datetime + \"\\t\" + \n",
    "                     article_url + \"\\t\" + title + \"\\t\" + content + \"\\n\")\n",
    "        \n",
    "        driver.close()\n",
    "        time.sleep(2)\n",
    "        driver.switch_to.window(current_window)\n",
    "        f.flush()\n",
    "        \n",
    "f.close()\n",
    "\n",
    "print()\n",
    "print(\"* 최대\", news_count, \"개 기사 수집이 완료되었습니다.\")\n",
    "print(\"* 수집된 기사는 아래 파일에 저장되었습니다.\")\n",
    "print(\"  :\", article_filename)"
   ]
  },
  {
   "cell_type": "code",
   "execution_count": 41,
   "metadata": {},
   "outputs": [],
   "source": [
    "driver.close()"
   ]
  },
  {
   "cell_type": "code",
   "execution_count": null,
   "metadata": {},
   "outputs": [],
   "source": []
  }
 ],
 "metadata": {
  "kernelspec": {
   "display_name": "Python 3 (ipykernel)",
   "language": "python",
   "name": "python3"
  },
  "language_info": {
   "codemirror_mode": {
    "name": "ipython",
    "version": 3
   },
   "file_extension": ".py",
   "mimetype": "text/x-python",
   "name": "python",
   "nbconvert_exporter": "python",
   "pygments_lexer": "ipython3",
   "version": "3.11.4"
  }
 },
 "nbformat": 4,
 "nbformat_minor": 2
}
