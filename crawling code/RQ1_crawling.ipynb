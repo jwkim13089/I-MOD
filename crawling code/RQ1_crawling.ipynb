{
 "cells": [
  {
   "cell_type": "code",
   "execution_count": 15,
   "metadata": {
    "scrolled": true
   },
   "outputs": [],
   "source": [
    "#!pip install selenium"
   ]
  },
  {
   "cell_type": "code",
   "execution_count": 16,
   "metadata": {},
   "outputs": [],
   "source": [
    "import selenium\n",
    "from selenium import webdriver\n",
    "from selenium.webdriver.common.by import By\n",
    "from selenium.webdriver.chrome.service import Service\n",
    "import time"
   ]
  },
  {
   "cell_type": "code",
   "execution_count": 17,
   "metadata": {},
   "outputs": [],
   "source": [
    "chrome_options = webdriver.ChromeOptions()\n",
    "chrome_options.add_argument('--user-agent=\"Mozilla/5.0 (Macintosh; Intel Mac OS X 10_13_4) AppleWebKit/537.36 (KHTML, like Gecko) Chrome/66.0.3359.139 Safari/537.36\"')\n",
    "service = Service(\"./chromedriver\")  \n",
    "driver = webdriver.Chrome(service=service, options=chrome_options)"
   ]
  },
  {
   "cell_type": "code",
   "execution_count": 21,
   "metadata": {},
   "outputs": [],
   "source": [
    "#사이트 접속\n",
    "URL = \"https://www.epeople.go.kr/nep/prpsl/opnPrpl/opnpblPrpslList.npaid\"\n",
    "driver.get(URL)\n",
    "\n",
    "#기관 선택\n",
    "elem = driver.find_element(By.XPATH,\"/html/body/div[3]/main/div/section/article/form[2]/div[1]/div[1]/div[1]/div/div[2]/select[1]\")\n",
    "elem.send_keys(\"지방자치단체\")\n",
    "driver.find_element(By.XPATH,\"/html/body/div[3]/main/div/section/article/form[2]/div[1]/div[1]/div[4]/button[1]\").click()\n",
    "time.sleep(2)\n",
    "elem = driver.find_element(By.XPATH,\"/html/body/div[3]/main/div/section/article/form[2]/div[1]/div[1]/div[1]/div/div[2]/select[2]\")\n",
    "elem.send_keys(\"인천광역시\")\n",
    "driver.find_element(By.XPATH,\"/html/body/div[3]/main/div/section/article/form[2]/div[1]/div[1]/div[4]/button[1]\").click()\n",
    "time.sleep(2)\n",
    "\n"
   ]
  },
  {
   "cell_type": "code",
   "execution_count": 19,
   "metadata": {},
   "outputs": [
    {
     "name": "stdout",
     "output_type": "stream",
     "text": [
      "1029개의 제안 수집\r"
     ]
    }
   ],
   "source": [
    "posting = 0\n",
    "f = open(\"연구문제1-1.txt\", \"w\", encoding=\"utf-8\")\n",
    "\n",
    "period = [\"2016-11-01\",\"2017-04-30\",\"2017-05-01\",\"2017-10-31\",\"2017-11-01\",\"2018-04-30\",\"2018-05-01\",\"2018-10-31\",\"2018-11-01\",\"2019-04-30\",\"2019-05-01\",\"2019-11-30\"]\n",
    "for i in range(0,len(period),2):\n",
    "    elem = driver.find_element(By.XPATH,\"/html/body/div[3]/main/div/section/article/form[2]/div[1]/div[1]/div[2]/div/div[2]/input[1]\")\n",
    "    elem.clear()\n",
    "    elem.send_keys(period[i])\n",
    "\n",
    "    elem = driver.find_element(By.XPATH,\"/html/body/div[3]/main/div/section/article/form[2]/div[1]/div[1]/div[2]/div/div[2]/input[2]\")\n",
    "    elem.clear()\n",
    "    elem.send_keys(period[i+1])\n",
    "    driver.find_element(By.XPATH,\"/html/body/div[3]/main/div/section/article/form[2]/div[1]/div[1]/div[4]/button[1]\").click()\n",
    "    time.sleep(2)\n",
    "    \n",
    "    page_limit = driver.find_element(By.XPATH,\"/html/body/div[3]/main/div/section/article/form[2]/div[2]/span\")\n",
    "    page_limit = page_limit.text\n",
    "    page_limit = page_limit.split('/')\n",
    "    page_limit = page_limit[-1].split(')')\n",
    "\n",
    "    page_limit = page_limit[0]\n",
    "    for page_num in range(1, int(page_limit)+1):\n",
    "        for i in range(1,11) : \n",
    "            try : \n",
    "                title_url = \"/html/body/div[3]/main/div/section/article/form[2]/table/tbody/tr[\"+ str(i) +\"]/td[2]/a\"\n",
    "                elem = driver.find_element(By.XPATH, title_url).click()\n",
    "                time.sleep(2)\n",
    "                try:       \n",
    "                    title = driver.find_element(By.XPATH, \"/html/body/div[3]/main/div/section/article/div[1]/div/div[1]/div[1]\")\n",
    "                    field = driver.find_element(By.XPATH,\"/html/body/div[3]/main/div/section/article/div[1]/div/div[2]/div[1]\")\n",
    "                    problem = driver.find_element(By.XPATH,\"/html/body/div[3]/main/div/section/article/div[1]/div/div[3]/div[1]/div\")\n",
    "                    solution = driver.find_element(By.XPATH,\"/html/body/div[3]/main/div/section/article/div[1]/div/div[3]/div[2]/div\")\n",
    "                    benefit = driver.find_element(By.XPATH,\"/html/body/div[3]/main/div/section/article/div[1]/div/div[3]/div[3]/div\")\n",
    "                    date = driver.find_element(By.XPATH,\"/html/body/div[3]/main/div/section/article/div[1]/div/div[4]/div[2]\")\n",
    "    \n",
    "                    f.write(\"POSTING\"+\"\\t\"+title.text+\"\\t\"+field.text+\"\\t\"+date.text+\"\\t\"+problem.text+\"\\t\"+solution.text+\"\\t\"+benefit.text+\"\\n\") \n",
    "       \n",
    "                    posting += 1\n",
    "                    print(str(posting)+\"개의 제안 수집\", end=\"\\r\")\n",
    "        \n",
    "                    driver.switch_to.default_content()\n",
    "                    time.sleep(2)\n",
    "        \n",
    "                except:\n",
    "                    driver.switch_to.default_content()\n",
    "                    time.sleep(2)\n",
    "                    continue\n",
    "        \n",
    "                driver.back()\n",
    "            \n",
    "            except : \n",
    "                continue\n",
    "        \n",
    "        time.sleep(3)\n",
    "        elem = driver.find_element(By.XPATH, \"/html/body/div[3]/main/div/section/article/form[2]/div[3]/span[4]/a\").click()\n",
    "        \n",
    "f.close()"
   ]
  },
  {
   "cell_type": "code",
   "execution_count": 23,
   "metadata": {},
   "outputs": [
    {
     "name": "stdout",
     "output_type": "stream",
     "text": [
      "313개의 제안 수집\r"
     ]
    }
   ],
   "source": [
    "posting = 0\n",
    "f = open(\"연구문제1-2.txt\", \"w\", encoding=\"utf-8\")\n",
    "\n",
    "period = [\"2019-12-01\",\"2020-05-31\",\"2020-06-01\",\"2020-11-30\",\"2020-12-01\",\"2021-05-31\",\"2021-06-01\",\"2021-11-30\",\"2021-12-01\",\"2022-05-31\",\"2022-06-01\",\"2022-11-30\",\"2022-12-01\",\"2022-12-31\",]\n",
    "for i in range(0,len(period),2):\n",
    "    elem = driver.find_element(By.XPATH,\"/html/body/div[3]/main/div/section/article/form[2]/div[1]/div[1]/div[2]/div/div[2]/input[1]\")\n",
    "    elem.clear()\n",
    "    elem.send_keys(period[i])\n",
    "\n",
    "    elem = driver.find_element(By.XPATH,\"/html/body/div[3]/main/div/section/article/form[2]/div[1]/div[1]/div[2]/div/div[2]/input[2]\")\n",
    "    elem.clear()\n",
    "    elem.send_keys(period[i+1])\n",
    "    driver.find_element(By.XPATH,\"/html/body/div[3]/main/div/section/article/form[2]/div[1]/div[1]/div[4]/button[1]\").click()\n",
    "    time.sleep(2)\n",
    "    \n",
    "    page_limit = driver.find_element(By.XPATH,\"/html/body/div[3]/main/div/section/article/form[2]/div[2]/span\")\n",
    "    page_limit = page_limit.text\n",
    "    page_limit = page_limit.split('/')\n",
    "    page_limit = page_limit[-1].split(')')\n",
    "\n",
    "    page_limit = page_limit[0]\n",
    "    for page_num in range(1, int(page_limit)+1):\n",
    "        for i in range(1,11) : \n",
    "            try : \n",
    "                title_url = \"/html/body/div[3]/main/div/section/article/form[2]/table/tbody/tr[\"+ str(i) +\"]/td[2]/a\"\n",
    "                elem = driver.find_element(By.XPATH, title_url).click()\n",
    "                time.sleep(2)\n",
    "                try:       \n",
    "                    title = driver.find_element(By.XPATH, \"/html/body/div[3]/main/div/section/article/div[1]/div/div[1]/div[1]\")\n",
    "                    field = driver.find_element(By.XPATH,\"/html/body/div[3]/main/div/section/article/div[1]/div/div[2]/div[1]\")\n",
    "                    problem = driver.find_element(By.XPATH,\"/html/body/div[3]/main/div/section/article/div[1]/div/div[3]/div[1]/div\")\n",
    "                    solution = driver.find_element(By.XPATH,\"/html/body/div[3]/main/div/section/article/div[1]/div/div[3]/div[2]/div\")\n",
    "                    benefit = driver.find_element(By.XPATH,\"/html/body/div[3]/main/div/section/article/div[1]/div/div[3]/div[3]/div\")\n",
    "                    date = driver.find_element(By.XPATH,\"/html/body/div[3]/main/div/section/article/div[1]/div/div[4]/div[2]\")\n",
    "    \n",
    "                    f.write(\"POSTING\"+\"\\t\"+title.text+\"\\t\"+field.text+\"\\t\"+date.text+\"\\t\"+problem.text+\"\\t\"+solution.text+\"\\t\"+benefit.text+\"\\n\") \n",
    "       \n",
    "                    posting += 1\n",
    "                    print(str(posting)+\"개의 제안 수집\", end=\"\\r\")\n",
    "        \n",
    "                    driver.switch_to.default_content()\n",
    "                    time.sleep(2)\n",
    "        \n",
    "                except:\n",
    "                    driver.switch_to.default_content()\n",
    "                    time.sleep(2)\n",
    "                    continue\n",
    "        \n",
    "                driver.back()\n",
    "            \n",
    "            except : \n",
    "                continue\n",
    "        \n",
    "        time.sleep(3)\n",
    "        elem = driver.find_element(By.XPATH, \"/html/body/div[3]/main/div/section/article/form[2]/div[3]/span[3]/a\").click()\n",
    "        \n",
    "f.close()"
   ]
  },
  {
   "cell_type": "code",
   "execution_count": null,
   "metadata": {},
   "outputs": [],
   "source": []
  }
 ],
 "metadata": {
  "kernelspec": {
   "display_name": "Python 3 (ipykernel)",
   "language": "python",
   "name": "python3"
  },
  "language_info": {
   "codemirror_mode": {
    "name": "ipython",
    "version": 3
   },
   "file_extension": ".py",
   "mimetype": "text/x-python",
   "name": "python",
   "nbconvert_exporter": "python",
   "pygments_lexer": "ipython3",
   "version": "3.11.4"
  }
 },
 "nbformat": 4,
 "nbformat_minor": 2
}
