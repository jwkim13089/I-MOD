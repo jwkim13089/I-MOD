{
 "cells": [
  {
   "cell_type": "code",
   "execution_count": 1,
   "metadata": {},
   "outputs": [],
   "source": [
    "import pandas as pd\n",
    "\n",
    "# 데이터 불러오기\n",
    "livinglab = pd.read_csv(\"/home/teanaps_home/workspace/local/livinglab_final2.csv\")"
   ]
  },
  {
   "cell_type": "markdown",
   "metadata": {},
   "source": [
    "## 1. 토큰화"
   ]
  },
  {
   "cell_type": "markdown",
   "metadata": {},
   "source": [
    "### 1) 토큰화 준비"
   ]
  },
  {
   "cell_type": "code",
   "execution_count": 10,
   "metadata": {},
   "outputs": [],
   "source": [
    "from teanaps.nlp import MorphologicalAnalyzer\n",
    "\n",
    "# 텍스트 데이터 토큰화\n",
    "# TEANAPS 형태소 분석기를 불러오기\n",
    "ma = MorphologicalAnalyzer()\n",
    "ma.set_tagger(\"okt\")"
   ]
  },
  {
   "cell_type": "code",
   "execution_count": 6,
   "metadata": {},
   "outputs": [],
   "source": [
    "'''\n",
    "일반명사(NNG), 고유명사(NNP), 동사(VV), 형용사(VA), 보조 용언(VX)\n",
    "'''\n",
    "\n",
    "#고려할 태그\n",
    "tag_list = ['NNG','NNP','VV','VA','VX']\n",
    "\n",
    "# 계산할 tag만 남기고 다른 품사는 제거\n",
    "def remove_word_by_tag(token,tag_list):\n",
    "  temp = list()\n",
    "  for k in range(len(token)):\n",
    "    if token[k][1] in tag_list:\n",
    "      temp.append(token[k][:-1])\n",
    "    else:\n",
    "      continue\n",
    "  return temp\n",
    "\n",
    "\n",
    "# 형태소 분석\n",
    "def morph_analysis(comments):\n",
    "  morph_token = []\n",
    "  for comment in comments:\n",
    "    token = ma.parse(comment)\n",
    "    token = remove_word_by_tag(token, tag_list)\n",
    "    morph_token.append(token)\n",
    "  return morph_token\n",
    "\n",
    "\n",
    "# 품사별 단어 빈도수 계산\n",
    "from collections import defaultdict\n",
    "\n",
    "def word_count(part, tokens): # part는 원하는 품사\n",
    "  part_list = defaultdict(int)\n",
    "  for token in tokens:\n",
    "    for k in range(len(token)):\n",
    "      if token[k][1] == part: # token의 품사가 지정한 품사이면\n",
    "        part_list[token[k][0]] += 1\n",
    "  return part_list"
   ]
  },
  {
   "cell_type": "markdown",
   "metadata": {},
   "source": [
    "### 2) 단어 빈도수"
   ]
  },
  {
   "cell_type": "code",
   "execution_count": 6,
   "metadata": {},
   "outputs": [
    {
     "data": {
      "text/html": [
       "<div>\n",
       "<style scoped>\n",
       "    .dataframe tbody tr th:only-of-type {\n",
       "        vertical-align: middle;\n",
       "    }\n",
       "\n",
       "    .dataframe tbody tr th {\n",
       "        vertical-align: top;\n",
       "    }\n",
       "\n",
       "    .dataframe thead th {\n",
       "        text-align: right;\n",
       "    }\n",
       "</style>\n",
       "<table border=\"1\" class=\"dataframe\">\n",
       "  <thead>\n",
       "    <tr style=\"text-align: right;\">\n",
       "      <th></th>\n",
       "      <th>count</th>\n",
       "      <th>WORD</th>\n",
       "      <th>TAG</th>\n",
       "    </tr>\n",
       "  </thead>\n",
       "  <tbody>\n",
       "    <tr>\n",
       "      <th>0</th>\n",
       "      <td>42</td>\n",
       "      <td>버스</td>\n",
       "      <td>NNG</td>\n",
       "    </tr>\n",
       "    <tr>\n",
       "      <th>1</th>\n",
       "      <td>41</td>\n",
       "      <td>했다</td>\n",
       "      <td>VV</td>\n",
       "    </tr>\n",
       "    <tr>\n",
       "      <th>2</th>\n",
       "      <td>31</td>\n",
       "      <td>이용</td>\n",
       "      <td>NNG</td>\n",
       "    </tr>\n",
       "    <tr>\n",
       "      <th>3</th>\n",
       "      <td>28</td>\n",
       "      <td>호출</td>\n",
       "      <td>NNG</td>\n",
       "    </tr>\n",
       "    <tr>\n",
       "      <th>4</th>\n",
       "      <td>26</td>\n",
       "      <td>시간</td>\n",
       "      <td>NNG</td>\n",
       "    </tr>\n",
       "    <tr>\n",
       "      <th>5</th>\n",
       "      <td>25</td>\n",
       "      <td>정류장</td>\n",
       "      <td>NNG</td>\n",
       "    </tr>\n",
       "    <tr>\n",
       "      <th>6</th>\n",
       "      <td>22</td>\n",
       "      <td>이동</td>\n",
       "      <td>NNG</td>\n",
       "    </tr>\n",
       "    <tr>\n",
       "      <th>7</th>\n",
       "      <td>22</td>\n",
       "      <td>위해</td>\n",
       "      <td>NNG</td>\n",
       "    </tr>\n",
       "    <tr>\n",
       "      <th>8</th>\n",
       "      <td>18</td>\n",
       "      <td>하였다</td>\n",
       "      <td>VV</td>\n",
       "    </tr>\n",
       "    <tr>\n",
       "      <th>9</th>\n",
       "      <td>18</td>\n",
       "      <td>것</td>\n",
       "      <td>NNG</td>\n",
       "    </tr>\n",
       "    <tr>\n",
       "      <th>10</th>\n",
       "      <td>18</td>\n",
       "      <td>타고</td>\n",
       "      <td>NNG</td>\n",
       "    </tr>\n",
       "    <tr>\n",
       "      <th>11</th>\n",
       "      <td>17</td>\n",
       "      <td>를</td>\n",
       "      <td>NNG</td>\n",
       "    </tr>\n",
       "    <tr>\n",
       "      <th>12</th>\n",
       "      <td>17</td>\n",
       "      <td>계양역</td>\n",
       "      <td>NNG</td>\n",
       "    </tr>\n",
       "    <tr>\n",
       "      <th>13</th>\n",
       "      <td>16</td>\n",
       "      <td>가기</td>\n",
       "      <td>NNG</td>\n",
       "    </tr>\n",
       "    <tr>\n",
       "      <th>14</th>\n",
       "      <td>15</td>\n",
       "      <td>배차</td>\n",
       "      <td>NNG</td>\n",
       "    </tr>\n",
       "    <tr>\n",
       "      <th>15</th>\n",
       "      <td>15</td>\n",
       "      <td>아이모드</td>\n",
       "      <td>NNG</td>\n",
       "    </tr>\n",
       "    <tr>\n",
       "      <th>16</th>\n",
       "      <td>13</td>\n",
       "      <td>하여</td>\n",
       "      <td>VV</td>\n",
       "    </tr>\n",
       "    <tr>\n",
       "      <th>17</th>\n",
       "      <td>13</td>\n",
       "      <td>도착</td>\n",
       "      <td>NNG</td>\n",
       "    </tr>\n",
       "    <tr>\n",
       "      <th>18</th>\n",
       "      <td>13</td>\n",
       "      <td>앱</td>\n",
       "      <td>NNG</td>\n",
       "    </tr>\n",
       "    <tr>\n",
       "      <th>19</th>\n",
       "      <td>12</td>\n",
       "      <td>해</td>\n",
       "      <td>VV</td>\n",
       "    </tr>\n",
       "  </tbody>\n",
       "</table>\n",
       "</div>"
      ],
      "text/plain": [
       "   count  WORD  TAG\n",
       "0     42    버스  NNG\n",
       "1     41    했다   VV\n",
       "2     31    이용  NNG\n",
       "3     28    호출  NNG\n",
       "4     26    시간  NNG\n",
       "5     25   정류장  NNG\n",
       "6     22    이동  NNG\n",
       "7     22    위해  NNG\n",
       "8     18   하였다   VV\n",
       "9     18     것  NNG\n",
       "10    18    타고  NNG\n",
       "11    17     를  NNG\n",
       "12    17   계양역  NNG\n",
       "13    16    가기  NNG\n",
       "14    15    배차  NNG\n",
       "15    15  아이모드  NNG\n",
       "16    13    하여   VV\n",
       "17    13    도착  NNG\n",
       "18    13     앱  NNG\n",
       "19    12     해   VV"
      ]
     },
     "execution_count": 6,
     "metadata": {},
     "output_type": "execute_result"
    }
   ],
   "source": [
    "comments = livinglab['start_point']\n",
    "\n",
    "header_list = ['count','WORD','TAG']\n",
    "count_df = pd.DataFrame(columns=header_list)\n",
    "\n",
    "morph_token = morph_analysis(comments)\n",
    "word_list = []\n",
    "for tag in tag_list:\n",
    "  word_list = word_count(tag, morph_token)\n",
    "  sorted_list = sorted(word_list.items(), key=lambda x: x[1], reverse=True)\n",
    "  for i in range(len(sorted_list)):\n",
    "    count_df = count_df.append({'count':sorted_list[i][1], 'WORD':sorted_list[i][0],'TAG':tag}, ignore_index=True)\n",
    "    count_df = count_df.sort_values('count', ascending=False)\n",
    "\n",
    "count_df = count_df.reset_index(drop = True)\n",
    "count_df.head(20)"
   ]
  },
  {
   "cell_type": "code",
   "execution_count": 7,
   "metadata": {},
   "outputs": [],
   "source": [
    "# 단어 빈도수 파일 저장\n",
    "count_df.to_csv(\"/home/teanaps_home/workspace/local/리빙랩_단어빈도수.csv\", encoding = \"utf-8\", index = False)"
   ]
  },
  {
   "cell_type": "markdown",
   "metadata": {},
   "source": [
    "### 3) 불용어처리"
   ]
  },
  {
   "cell_type": "code",
   "execution_count": 8,
   "metadata": {},
   "outputs": [
    {
     "data": {
      "text/html": [
       "<div>\n",
       "<style scoped>\n",
       "    .dataframe tbody tr th:only-of-type {\n",
       "        vertical-align: middle;\n",
       "    }\n",
       "\n",
       "    .dataframe tbody tr th {\n",
       "        vertical-align: top;\n",
       "    }\n",
       "\n",
       "    .dataframe thead th {\n",
       "        text-align: right;\n",
       "    }\n",
       "</style>\n",
       "<table border=\"1\" class=\"dataframe\">\n",
       "  <thead>\n",
       "    <tr style=\"text-align: right;\">\n",
       "      <th></th>\n",
       "      <th>count</th>\n",
       "      <th>WORD</th>\n",
       "      <th>TAG</th>\n",
       "    </tr>\n",
       "  </thead>\n",
       "  <tbody>\n",
       "    <tr>\n",
       "      <th>0</th>\n",
       "      <td>42</td>\n",
       "      <td>버스</td>\n",
       "      <td>NNG</td>\n",
       "    </tr>\n",
       "    <tr>\n",
       "      <th>1</th>\n",
       "      <td>41</td>\n",
       "      <td>했다</td>\n",
       "      <td>VV</td>\n",
       "    </tr>\n",
       "    <tr>\n",
       "      <th>2</th>\n",
       "      <td>31</td>\n",
       "      <td>이용</td>\n",
       "      <td>NNG</td>\n",
       "    </tr>\n",
       "    <tr>\n",
       "      <th>3</th>\n",
       "      <td>28</td>\n",
       "      <td>호출</td>\n",
       "      <td>NNG</td>\n",
       "    </tr>\n",
       "    <tr>\n",
       "      <th>4</th>\n",
       "      <td>26</td>\n",
       "      <td>시간</td>\n",
       "      <td>NNG</td>\n",
       "    </tr>\n",
       "  </tbody>\n",
       "</table>\n",
       "</div>"
      ],
      "text/plain": [
       "   count WORD  TAG\n",
       "0     42   버스  NNG\n",
       "1     41   했다   VV\n",
       "2     31   이용  NNG\n",
       "3     28   호출  NNG\n",
       "4     26   시간  NNG"
      ]
     },
     "execution_count": 8,
     "metadata": {},
     "output_type": "execute_result"
    }
   ],
   "source": [
    "stopwords_df = pd.read_csv(\"/home/teanaps_home/workspace/local/리빙랩_단어빈도수.csv\", encoding = \"utf-8\")\n",
    "stopwords_df.head()"
   ]
  },
  {
   "cell_type": "code",
   "execution_count": 9,
   "metadata": {},
   "outputs": [
    {
     "data": {
      "text/html": [
       "<div>\n",
       "<style scoped>\n",
       "    .dataframe tbody tr th:only-of-type {\n",
       "        vertical-align: middle;\n",
       "    }\n",
       "\n",
       "    .dataframe tbody tr th {\n",
       "        vertical-align: top;\n",
       "    }\n",
       "\n",
       "    .dataframe thead th {\n",
       "        text-align: right;\n",
       "    }\n",
       "</style>\n",
       "<table border=\"1\" class=\"dataframe\">\n",
       "  <thead>\n",
       "    <tr style=\"text-align: right;\">\n",
       "      <th></th>\n",
       "      <th>count</th>\n",
       "      <th>WORD</th>\n",
       "      <th>TAG</th>\n",
       "    </tr>\n",
       "  </thead>\n",
       "  <tbody>\n",
       "    <tr>\n",
       "      <th>0</th>\n",
       "      <td>42</td>\n",
       "      <td>버스</td>\n",
       "      <td>NNG</td>\n",
       "    </tr>\n",
       "    <tr>\n",
       "      <th>2</th>\n",
       "      <td>31</td>\n",
       "      <td>이용</td>\n",
       "      <td>NNG</td>\n",
       "    </tr>\n",
       "    <tr>\n",
       "      <th>3</th>\n",
       "      <td>28</td>\n",
       "      <td>호출</td>\n",
       "      <td>NNG</td>\n",
       "    </tr>\n",
       "    <tr>\n",
       "      <th>4</th>\n",
       "      <td>26</td>\n",
       "      <td>시간</td>\n",
       "      <td>NNG</td>\n",
       "    </tr>\n",
       "    <tr>\n",
       "      <th>5</th>\n",
       "      <td>25</td>\n",
       "      <td>정류장</td>\n",
       "      <td>NNG</td>\n",
       "    </tr>\n",
       "    <tr>\n",
       "      <th>6</th>\n",
       "      <td>22</td>\n",
       "      <td>이동</td>\n",
       "      <td>NNG</td>\n",
       "    </tr>\n",
       "    <tr>\n",
       "      <th>7</th>\n",
       "      <td>22</td>\n",
       "      <td>위해</td>\n",
       "      <td>NNG</td>\n",
       "    </tr>\n",
       "    <tr>\n",
       "      <th>9</th>\n",
       "      <td>18</td>\n",
       "      <td>것</td>\n",
       "      <td>NNG</td>\n",
       "    </tr>\n",
       "    <tr>\n",
       "      <th>10</th>\n",
       "      <td>18</td>\n",
       "      <td>타고</td>\n",
       "      <td>NNG</td>\n",
       "    </tr>\n",
       "    <tr>\n",
       "      <th>11</th>\n",
       "      <td>17</td>\n",
       "      <td>를</td>\n",
       "      <td>NNG</td>\n",
       "    </tr>\n",
       "    <tr>\n",
       "      <th>12</th>\n",
       "      <td>17</td>\n",
       "      <td>계양역</td>\n",
       "      <td>NNG</td>\n",
       "    </tr>\n",
       "    <tr>\n",
       "      <th>13</th>\n",
       "      <td>16</td>\n",
       "      <td>가기</td>\n",
       "      <td>NNG</td>\n",
       "    </tr>\n",
       "    <tr>\n",
       "      <th>14</th>\n",
       "      <td>15</td>\n",
       "      <td>배차</td>\n",
       "      <td>NNG</td>\n",
       "    </tr>\n",
       "    <tr>\n",
       "      <th>15</th>\n",
       "      <td>15</td>\n",
       "      <td>아이모드</td>\n",
       "      <td>NNG</td>\n",
       "    </tr>\n",
       "    <tr>\n",
       "      <th>17</th>\n",
       "      <td>13</td>\n",
       "      <td>도착</td>\n",
       "      <td>NNG</td>\n",
       "    </tr>\n",
       "    <tr>\n",
       "      <th>18</th>\n",
       "      <td>13</td>\n",
       "      <td>앱</td>\n",
       "      <td>NNG</td>\n",
       "    </tr>\n",
       "    <tr>\n",
       "      <th>20</th>\n",
       "      <td>12</td>\n",
       "      <td>후</td>\n",
       "      <td>NNG</td>\n",
       "    </tr>\n",
       "    <tr>\n",
       "      <th>23</th>\n",
       "      <td>11</td>\n",
       "      <td>역</td>\n",
       "      <td>NNG</td>\n",
       "    </tr>\n",
       "    <tr>\n",
       "      <th>24</th>\n",
       "      <td>10</td>\n",
       "      <td>지하철</td>\n",
       "      <td>NNG</td>\n",
       "    </tr>\n",
       "    <tr>\n",
       "      <th>25</th>\n",
       "      <td>10</td>\n",
       "      <td>집</td>\n",
       "      <td>NNG</td>\n",
       "    </tr>\n",
       "  </tbody>\n",
       "</table>\n",
       "</div>"
      ],
      "text/plain": [
       "    count  WORD  TAG\n",
       "0      42    버스  NNG\n",
       "2      31    이용  NNG\n",
       "3      28    호출  NNG\n",
       "4      26    시간  NNG\n",
       "5      25   정류장  NNG\n",
       "6      22    이동  NNG\n",
       "7      22    위해  NNG\n",
       "9      18     것  NNG\n",
       "10     18    타고  NNG\n",
       "11     17     를  NNG\n",
       "12     17   계양역  NNG\n",
       "13     16    가기  NNG\n",
       "14     15    배차  NNG\n",
       "15     15  아이모드  NNG\n",
       "17     13    도착  NNG\n",
       "18     13     앱  NNG\n",
       "20     12     후  NNG\n",
       "23     11     역  NNG\n",
       "24     10   지하철  NNG\n",
       "25     10     집  NNG"
      ]
     },
     "execution_count": 9,
     "metadata": {},
     "output_type": "execute_result"
    }
   ],
   "source": [
    "# vv 삭제\n",
    "stopwords_df = stopwords_df.loc[stopwords_df['TAG'] != \"VV\"]\n",
    "stopwords_df.head(20)"
   ]
  },
  {
   "cell_type": "code",
   "execution_count": 10,
   "metadata": {},
   "outputs": [],
   "source": [
    "stopwords_df = stopwords_df.reset_index(drop=True)"
   ]
  },
  {
   "cell_type": "code",
   "execution_count": 18,
   "metadata": {},
   "outputs": [],
   "source": [
    "stopwords_df.loc[(stopwords_df[\"WORD\"] == \"\") |\n",
    "                 (stopwords_df[\"WORD\"] == \"위해\") |\n",
    "                 (stopwords_df[\"WORD\"] == \"것\") |\n",
    "                 (stopwords_df[\"WORD\"] == \"을\") |\n",
    "                 (stopwords_df[\"WORD\"] == \"의\") |\n",
    "                 (stopwords_df[\"WORD\"] == \"와\") |\n",
    "                 (stopwords_df[\"WORD\"] == \"에도\") |    \n",
    "                 (stopwords_df[\"WORD\"] == \"에서\") |                 \n",
    "                 (stopwords_df[\"WORD\"] == \"를\") |\n",
    "                 (stopwords_df[\"WORD\"] == \"가기\") |\n",
    "                 (stopwords_df[\"WORD\"] == \"후\") |\n",
    "                 (stopwords_df[\"WORD\"] == \"역\") |\n",
    "                 (stopwords_df[\"WORD\"] == \"집\") |\n",
    "                 (stopwords_df[\"WORD\"] == \"불\") |\n",
    "                 (stopwords_df[\"WORD\"] == \"있어\") |\n",
    "                 (stopwords_df[\"WORD\"] == \"수\") |\n",
    "                 (stopwords_df[\"WORD\"] == \"바로\") |\n",
    "                 (stopwords_df[\"WORD\"] == \"해\") |\n",
    "                 (stopwords_df[\"WORD\"] == \"번\") |\n",
    "                 (stopwords_df[\"WORD\"] == \"때문\") |\n",
    "                 (stopwords_df[\"WORD\"] == \"앞\") |\n",
    "                 (stopwords_df[\"WORD\"] == \"것\") |\n",
    "                 (stopwords_df[\"WORD\"] == \"벌써\") |\n",
    "                 (stopwords_df[\"WORD\"] == \"승\") |\n",
    "                 (stopwords_df[\"WORD\"] == \"내\")  |\n",
    "                 (stopwords_df[\"WORD\"] == \"봄\") |\n",
    "                 (stopwords_df[\"WORD\"] == \"그냥\") |\n",
    "                 (stopwords_df[\"WORD\"] == \"겸\") |\n",
    "                 (stopwords_df[\"WORD\"] == \"왜\") |\n",
    "                 (stopwords_df[\"WORD\"] == \"의\") |\n",
    "                 (stopwords_df[\"WORD\"] == \"밖\") |\n",
    "                 (stopwords_df[\"WORD\"] == \"창\")\n",
    ", \"TAG\"] = \"불\""
   ]
  },
  {
   "cell_type": "code",
   "execution_count": 19,
   "metadata": {},
   "outputs": [
    {
     "name": "stdout",
     "output_type": "stream",
     "text": [
      "    WORD TAG\n",
      "6     위해   불\n",
      "7      것   불\n",
      "9      를   불\n",
      "11    가기   불\n",
      "16     후   불\n",
      "17     역   불\n",
      "19     집   불\n",
      "28    있어   불\n",
      "31     수   불\n",
      "32    바로   불\n",
      "37     해   불\n",
      "39     번   불\n",
      "42    때문   불\n",
      "43     앞   불\n",
      "68     겸   불\n",
      "92     봄   불\n",
      "103   그냥   불\n",
      "134    내   불\n",
      "393    밖   불\n"
     ]
    }
   ],
   "source": [
    "print(stopwords_df.loc[stopwords_df[\"TAG\"] == \"불\", [\"WORD\", \"TAG\"]])\n"
   ]
  },
  {
   "cell_type": "markdown",
   "metadata": {},
   "source": [
    "## 2. 토큰화"
   ]
  },
  {
   "cell_type": "code",
   "execution_count": 20,
   "metadata": {},
   "outputs": [
    {
     "data": {
      "text/html": [
       "<div>\n",
       "<style scoped>\n",
       "    .dataframe tbody tr th:only-of-type {\n",
       "        vertical-align: middle;\n",
       "    }\n",
       "\n",
       "    .dataframe tbody tr th {\n",
       "        vertical-align: top;\n",
       "    }\n",
       "\n",
       "    .dataframe thead th {\n",
       "        text-align: right;\n",
       "    }\n",
       "</style>\n",
       "<table border=\"1\" class=\"dataframe\">\n",
       "  <thead>\n",
       "    <tr style=\"text-align: right;\">\n",
       "      <th></th>\n",
       "      <th>start_point</th>\n",
       "      <th>get_on</th>\n",
       "      <th>get_off</th>\n",
       "      <th>end_point</th>\n",
       "      <th>recommend</th>\n",
       "      <th>Tokens</th>\n",
       "      <th>Token_Content</th>\n",
       "    </tr>\n",
       "  </thead>\n",
       "  <tbody>\n",
       "    <tr>\n",
       "      <th>0</th>\n",
       "      <td>일요일에도 여는 한의원이라 치료를 받고 집으로 돌아감</td>\n",
       "      <td>굳이 건너지 않고 버스를 탈 수 있는게 너무 좋았다마침 버스도 근처에 있어5분도 되...</td>\n",
       "      <td>마찬가지로 횡단보도를 건너지 않고 집에 바로 갈 수 있어 너무 좋았다 사소한 거지만...</td>\n",
       "      <td>버스를 탈때보다는 편하게 길도 안 건너고 도착했다</td>\n",
       "      <td>돌아가는 버스를 이용하는 사람들</td>\n",
       "      <td>[(일요일, NNG, (0, 3)), (에도, JC, (3, 5)), (여, NNG...</td>\n",
       "      <td>일요일 여 한의원 치료 집</td>\n",
       "    </tr>\n",
       "    <tr>\n",
       "      <th>1</th>\n",
       "      <td>일을 마치고 필라테스 상담을 하고 집에 가는데 버스간격이 길다 그래서 아이모드를 이...</td>\n",
       "      <td>완정역에서 아이모드를 탑승했다 나밖에 탑승하지 않았고 편하게 집으로 왔다 그런데 평...</td>\n",
       "      <td>차가 진짜 멀미가 심하다 이 점때문에 버스나 택시를 이용할 것  같다는 생각을 했다</td>\n",
       "      <td>가까운 직선거리의 버스 노선이라면 버스를 이용하는게 낫겠다 하는 생각이 들었다</td>\n",
       "      <td>돌아가는 버스를 이용하는 사람들</td>\n",
       "      <td>[(일, NNG, (0, 1)), (을, JC, (1, 2)), (마치, NNG, ...</td>\n",
       "      <td>일 마치 필라테스 상담 집 버스 간격 길다 I-MOD 이용 배차 간격 버스 고민</td>\n",
       "    </tr>\n",
       "    <tr>\n",
       "      <th>2</th>\n",
       "      <td>검단의 IMOD를 이용하기 전 IMOD가 먼저 도입됐고 관광하기 좋은 송도를 방문하...</td>\n",
       "      <td>센트럴파크에서 관광을 마친 후 테크노파크역에 있는 송도 현대아울렛에서 쇼핑을 하기 ...</td>\n",
       "      <td>탑승은 일반 버스카드를 태그하듯 QR코드를 기기에 태그하기만 하면 돼서 간편했다 I...</td>\n",
       "      <td>우선 IMOD 버스로 시민들이 보다 저렴한 가격에 쾌적한 환경의 이동수단을 제공받을...</td>\n",
       "      <td>비오는 날 등 기상이 안 좋은 날이나 짐이 많을 때 혹은 거동이 불편한 분이 이동할...</td>\n",
       "      <td>[(검단, NNG, (0, 2)), (의, JC, (2, 3)), (IMOD, OL...</td>\n",
       "      <td>검단 를 이용 전 먼저 도입 관광 좋은 송도 방문 전철 타고 신연수역 하차 센트럴파...</td>\n",
       "    </tr>\n",
       "    <tr>\n",
       "      <th>3</th>\n",
       "      <td>여자친구와 함께 송도 센트럴파크에 놀러갔다 오랜 시간동안 걸으니 피로가 많이 쌓여서...</td>\n",
       "      <td>카페에서 IMOD호출을 눌렀는데 배차가 되지 않아 20분 정도 기다렸던 것 같다 처...</td>\n",
       "      <td>탑승한 사람이 나와 여자친구밖에 없어서 그런지 최단경로로 목적지까지 이동할 수 있었...</td>\n",
       "      <td>처음이라 비교적 짧은 거리만 이동했지만 다음에는 좀 더 긴 거리를 목적지로 설정해서...</td>\n",
       "      <td>\\n추천  짐이 많거나 목적지까지 거리가 멀지만 시간여유가 있는 시민\\n이유 1 ...</td>\n",
       "      <td>[(여자친구, NNG, (0, 4)), (와, JC, (4, 5)), (함께, MA...</td>\n",
       "      <td>여자친구 송도 센트럴 파크 시간 동안 피로 근처 카페 가기 충분히 쉰 후 집 교통 ...</td>\n",
       "    </tr>\n",
       "    <tr>\n",
       "      <th>4</th>\n",
       "      <td>송도에서 놀기 위해 차를 타고 송도로 향했다 송도에서 여기저기를 방문할 예정이라 차...</td>\n",
       "      <td>20분 후에 IMOD에 탑승할 수 있었고 IMOD안에는 추가로 다른 승객이 탑승해 ...</td>\n",
       "      <td>기다린 시간을 포함하여 35분 만에 목적지에 도착할 수 있었다 IMOD를 다른 승객...</td>\n",
       "      <td>하지만 여전히 서비스는 편리했고 쾌적하게 이동할 수 있었다 배차가 진행되지 않았을 ...</td>\n",
       "      <td>\\n추천  시간이 넉넉하고 쾌적하게 이동하고 싶은 사람\\n이유  배차가 빠르게 진...</td>\n",
       "      <td>[(송도, NNG, (0, 2)), (에서, JC, (2, 4)), ( , OL, ...</td>\n",
       "      <td>송도 위해 차 타고 송도로 향 송도 여기저기 방문 예정 차 계속 가지 힘들었고 무료...</td>\n",
       "    </tr>\n",
       "  </tbody>\n",
       "</table>\n",
       "</div>"
      ],
      "text/plain": [
       "                                         start_point  \\\n",
       "0                      일요일에도 여는 한의원이라 치료를 받고 집으로 돌아감   \n",
       "1  일을 마치고 필라테스 상담을 하고 집에 가는데 버스간격이 길다 그래서 아이모드를 이...   \n",
       "2  검단의 IMOD를 이용하기 전 IMOD가 먼저 도입됐고 관광하기 좋은 송도를 방문하...   \n",
       "3  여자친구와 함께 송도 센트럴파크에 놀러갔다 오랜 시간동안 걸으니 피로가 많이 쌓여서...   \n",
       "4  송도에서 놀기 위해 차를 타고 송도로 향했다 송도에서 여기저기를 방문할 예정이라 차...   \n",
       "\n",
       "                                              get_on  \\\n",
       "0  굳이 건너지 않고 버스를 탈 수 있는게 너무 좋았다마침 버스도 근처에 있어5분도 되...   \n",
       "1  완정역에서 아이모드를 탑승했다 나밖에 탑승하지 않았고 편하게 집으로 왔다 그런데 평...   \n",
       "2  센트럴파크에서 관광을 마친 후 테크노파크역에 있는 송도 현대아울렛에서 쇼핑을 하기 ...   \n",
       "3  카페에서 IMOD호출을 눌렀는데 배차가 되지 않아 20분 정도 기다렸던 것 같다 처...   \n",
       "4  20분 후에 IMOD에 탑승할 수 있었고 IMOD안에는 추가로 다른 승객이 탑승해 ...   \n",
       "\n",
       "                                             get_off  \\\n",
       "0  마찬가지로 횡단보도를 건너지 않고 집에 바로 갈 수 있어 너무 좋았다 사소한 거지만...   \n",
       "1     차가 진짜 멀미가 심하다 이 점때문에 버스나 택시를 이용할 것  같다는 생각을 했다   \n",
       "2  탑승은 일반 버스카드를 태그하듯 QR코드를 기기에 태그하기만 하면 돼서 간편했다 I...   \n",
       "3  탑승한 사람이 나와 여자친구밖에 없어서 그런지 최단경로로 목적지까지 이동할 수 있었...   \n",
       "4  기다린 시간을 포함하여 35분 만에 목적지에 도착할 수 있었다 IMOD를 다른 승객...   \n",
       "\n",
       "                                           end_point  \\\n",
       "0                        버스를 탈때보다는 편하게 길도 안 건너고 도착했다   \n",
       "1        가까운 직선거리의 버스 노선이라면 버스를 이용하는게 낫겠다 하는 생각이 들었다   \n",
       "2  우선 IMOD 버스로 시민들이 보다 저렴한 가격에 쾌적한 환경의 이동수단을 제공받을...   \n",
       "3  처음이라 비교적 짧은 거리만 이동했지만 다음에는 좀 더 긴 거리를 목적지로 설정해서...   \n",
       "4  하지만 여전히 서비스는 편리했고 쾌적하게 이동할 수 있었다 배차가 진행되지 않았을 ...   \n",
       "\n",
       "                                           recommend  \\\n",
       "0                                  돌아가는 버스를 이용하는 사람들   \n",
       "1                                  돌아가는 버스를 이용하는 사람들   \n",
       "2  비오는 날 등 기상이 안 좋은 날이나 짐이 많을 때 혹은 거동이 불편한 분이 이동할...   \n",
       "3  \n",
       "\\n추천  짐이 많거나 목적지까지 거리가 멀지만 시간여유가 있는 시민\\n이유 1 ...   \n",
       "4  \n",
       "\\n추천  시간이 넉넉하고 쾌적하게 이동하고 싶은 사람\\n이유  배차가 빠르게 진...   \n",
       "\n",
       "                                              Tokens  \\\n",
       "0  [(일요일, NNG, (0, 3)), (에도, JC, (3, 5)), (여, NNG...   \n",
       "1  [(일, NNG, (0, 1)), (을, JC, (1, 2)), (마치, NNG, ...   \n",
       "2  [(검단, NNG, (0, 2)), (의, JC, (2, 3)), (IMOD, OL...   \n",
       "3  [(여자친구, NNG, (0, 4)), (와, JC, (4, 5)), (함께, MA...   \n",
       "4  [(송도, NNG, (0, 2)), (에서, JC, (2, 4)), ( , OL, ...   \n",
       "\n",
       "                                       Token_Content  \n",
       "0                                     일요일 여 한의원 치료 집  \n",
       "1       일 마치 필라테스 상담 집 버스 간격 길다 I-MOD 이용 배차 간격 버스 고민  \n",
       "2  검단 를 이용 전 먼저 도입 관광 좋은 송도 방문 전철 타고 신연수역 하차 센트럴파...  \n",
       "3  여자친구 송도 센트럴 파크 시간 동안 피로 근처 카페 가기 충분히 쉰 후 집 교통 ...  \n",
       "4  송도 위해 차 타고 송도로 향 송도 여기저기 방문 예정 차 계속 가지 힘들었고 무료...  "
      ]
     },
     "execution_count": 20,
     "metadata": {},
     "output_type": "execute_result"
    }
   ],
   "source": [
    "livinglab.head()"
   ]
  },
  {
   "cell_type": "code",
   "execution_count": 21,
   "metadata": {},
   "outputs": [
    {
     "data": {
      "text/plain": [
       "[('마찬가지', 'NNG', (0, 4)),\n",
       " ('로', 'JC', (4, 5)),\n",
       " ('횡단보도', 'NNG', (6, 10)),\n",
       " ('를', 'JC', (10, 11)),\n",
       " ('건너지', 'VV', (12, 15)),\n",
       " ('않고', 'VV', (16, 18)),\n",
       " ('집', 'NNG', (19, 20)),\n",
       " ('에', 'JC', (20, 21)),\n",
       " ('바로', 'NNG', (22, 24)),\n",
       " ('갈', 'VV', (25, 26)),\n",
       " ('수', 'NNG', (27, 28)),\n",
       " ('있어', 'VA', (29, 31)),\n",
       " ('너무', 'MAG', (32, 34)),\n",
       " ('좋았다', 'VA', (35, 38))]"
      ]
     },
     "execution_count": 21,
     "metadata": {},
     "output_type": "execute_result"
    }
   ],
   "source": [
    "ma.parse(\"마찬가지로 횡단보도를 건너지 않고 집에 바로 갈 수 있어 너무 좋았다\")"
   ]
  },
  {
   "cell_type": "code",
   "execution_count": 23,
   "metadata": {},
   "outputs": [
    {
     "name": "stdout",
     "output_type": "stream",
     "text": [
      "총 토큰 개수 : 2725\n"
     ]
    },
    {
     "data": {
      "text/html": [
       "<div>\n",
       "<style scoped>\n",
       "    .dataframe tbody tr th:only-of-type {\n",
       "        vertical-align: middle;\n",
       "    }\n",
       "\n",
       "    .dataframe tbody tr th {\n",
       "        vertical-align: top;\n",
       "    }\n",
       "\n",
       "    .dataframe thead th {\n",
       "        text-align: right;\n",
       "    }\n",
       "</style>\n",
       "<table border=\"1\" class=\"dataframe\">\n",
       "  <thead>\n",
       "    <tr style=\"text-align: right;\">\n",
       "      <th></th>\n",
       "      <th>start_point</th>\n",
       "      <th>get_on</th>\n",
       "      <th>get_off</th>\n",
       "      <th>end_point</th>\n",
       "      <th>recommend</th>\n",
       "      <th>Tokens</th>\n",
       "      <th>Token_Content</th>\n",
       "    </tr>\n",
       "  </thead>\n",
       "  <tbody>\n",
       "    <tr>\n",
       "      <th>0</th>\n",
       "      <td>일요일에도 여는 한의원이라 치료를 받고 집으로 돌아감</td>\n",
       "      <td>굳이 건너지 않고 버스를 탈 수 있는게 너무 좋았다마침 버스도 근처에 있어5분도 되...</td>\n",
       "      <td>마찬가지로 횡단보도를 건너지 않고 집에 바로 갈 수 있어 너무 좋았다 사소한 거지만...</td>\n",
       "      <td>버스를 탈때보다는 편하게 길도 안 건너고 도착했다</td>\n",
       "      <td>돌아가는 버스를 이용하는 사람들</td>\n",
       "      <td>[(일요일, NNG, (0, 3)), (에도, JC, (3, 5)), (여, NNG...</td>\n",
       "      <td>일요일 여 한의원 치료 집</td>\n",
       "    </tr>\n",
       "    <tr>\n",
       "      <th>1</th>\n",
       "      <td>일을 마치고 필라테스 상담을 하고 집에 가는데 버스간격이 길다 그래서 아이모드를 이...</td>\n",
       "      <td>완정역에서 아이모드를 탑승했다 나밖에 탑승하지 않았고 편하게 집으로 왔다 그런데 평...</td>\n",
       "      <td>차가 진짜 멀미가 심하다 이 점때문에 버스나 택시를 이용할 것  같다는 생각을 했다</td>\n",
       "      <td>가까운 직선거리의 버스 노선이라면 버스를 이용하는게 낫겠다 하는 생각이 들었다</td>\n",
       "      <td>돌아가는 버스를 이용하는 사람들</td>\n",
       "      <td>[(일, NNG, (0, 1)), (을, JC, (1, 2)), (마치, NNG, ...</td>\n",
       "      <td>일 마치 필라테스 상담 집 버스 간격 길다 I-MOD 이용 배차 간격 버스 고민</td>\n",
       "    </tr>\n",
       "    <tr>\n",
       "      <th>2</th>\n",
       "      <td>검단의 IMOD를 이용하기 전 IMOD가 먼저 도입됐고 관광하기 좋은 송도를 방문하...</td>\n",
       "      <td>센트럴파크에서 관광을 마친 후 테크노파크역에 있는 송도 현대아울렛에서 쇼핑을 하기 ...</td>\n",
       "      <td>탑승은 일반 버스카드를 태그하듯 QR코드를 기기에 태그하기만 하면 돼서 간편했다 I...</td>\n",
       "      <td>우선 IMOD 버스로 시민들이 보다 저렴한 가격에 쾌적한 환경의 이동수단을 제공받을...</td>\n",
       "      <td>비오는 날 등 기상이 안 좋은 날이나 짐이 많을 때 혹은 거동이 불편한 분이 이동할...</td>\n",
       "      <td>[(검단, NNG, (0, 2)), (의, JC, (2, 3)), (IMOD, OL...</td>\n",
       "      <td>검단 를 이용 전 먼저 도입 관광 좋은 송도 방문 전철 타고 신연수역 하차 센트럴파...</td>\n",
       "    </tr>\n",
       "    <tr>\n",
       "      <th>3</th>\n",
       "      <td>여자친구와 함께 송도 센트럴파크에 놀러갔다 오랜 시간동안 걸으니 피로가 많이 쌓여서...</td>\n",
       "      <td>카페에서 IMOD호출을 눌렀는데 배차가 되지 않아 20분 정도 기다렸던 것 같다 처...</td>\n",
       "      <td>탑승한 사람이 나와 여자친구밖에 없어서 그런지 최단경로로 목적지까지 이동할 수 있었...</td>\n",
       "      <td>처음이라 비교적 짧은 거리만 이동했지만 다음에는 좀 더 긴 거리를 목적지로 설정해서...</td>\n",
       "      <td>\\n추천  짐이 많거나 목적지까지 거리가 멀지만 시간여유가 있는 시민\\n이유 1 ...</td>\n",
       "      <td>[(여자친구, NNG, (0, 4)), (와, JC, (4, 5)), (함께, MA...</td>\n",
       "      <td>여자친구 송도 센트럴 파크 시간 동안 피로 근처 카페 가기 충분히 쉰 후 집 교통 ...</td>\n",
       "    </tr>\n",
       "    <tr>\n",
       "      <th>4</th>\n",
       "      <td>송도에서 놀기 위해 차를 타고 송도로 향했다 송도에서 여기저기를 방문할 예정이라 차...</td>\n",
       "      <td>20분 후에 IMOD에 탑승할 수 있었고 IMOD안에는 추가로 다른 승객이 탑승해 ...</td>\n",
       "      <td>기다린 시간을 포함하여 35분 만에 목적지에 도착할 수 있었다 IMOD를 다른 승객...</td>\n",
       "      <td>하지만 여전히 서비스는 편리했고 쾌적하게 이동할 수 있었다 배차가 진행되지 않았을 ...</td>\n",
       "      <td>\\n추천  시간이 넉넉하고 쾌적하게 이동하고 싶은 사람\\n이유  배차가 빠르게 진...</td>\n",
       "      <td>[(송도, NNG, (0, 2)), (에서, JC, (2, 4)), ( , OL, ...</td>\n",
       "      <td>송도 위해 차 타고 송도로 향 송도 여기저기 방문 예정 차 계속 가지 힘들었고 무료...</td>\n",
       "    </tr>\n",
       "  </tbody>\n",
       "</table>\n",
       "</div>"
      ],
      "text/plain": [
       "                                         start_point  \\\n",
       "0                      일요일에도 여는 한의원이라 치료를 받고 집으로 돌아감   \n",
       "1  일을 마치고 필라테스 상담을 하고 집에 가는데 버스간격이 길다 그래서 아이모드를 이...   \n",
       "2  검단의 IMOD를 이용하기 전 IMOD가 먼저 도입됐고 관광하기 좋은 송도를 방문하...   \n",
       "3  여자친구와 함께 송도 센트럴파크에 놀러갔다 오랜 시간동안 걸으니 피로가 많이 쌓여서...   \n",
       "4  송도에서 놀기 위해 차를 타고 송도로 향했다 송도에서 여기저기를 방문할 예정이라 차...   \n",
       "\n",
       "                                              get_on  \\\n",
       "0  굳이 건너지 않고 버스를 탈 수 있는게 너무 좋았다마침 버스도 근처에 있어5분도 되...   \n",
       "1  완정역에서 아이모드를 탑승했다 나밖에 탑승하지 않았고 편하게 집으로 왔다 그런데 평...   \n",
       "2  센트럴파크에서 관광을 마친 후 테크노파크역에 있는 송도 현대아울렛에서 쇼핑을 하기 ...   \n",
       "3  카페에서 IMOD호출을 눌렀는데 배차가 되지 않아 20분 정도 기다렸던 것 같다 처...   \n",
       "4  20분 후에 IMOD에 탑승할 수 있었고 IMOD안에는 추가로 다른 승객이 탑승해 ...   \n",
       "\n",
       "                                             get_off  \\\n",
       "0  마찬가지로 횡단보도를 건너지 않고 집에 바로 갈 수 있어 너무 좋았다 사소한 거지만...   \n",
       "1     차가 진짜 멀미가 심하다 이 점때문에 버스나 택시를 이용할 것  같다는 생각을 했다   \n",
       "2  탑승은 일반 버스카드를 태그하듯 QR코드를 기기에 태그하기만 하면 돼서 간편했다 I...   \n",
       "3  탑승한 사람이 나와 여자친구밖에 없어서 그런지 최단경로로 목적지까지 이동할 수 있었...   \n",
       "4  기다린 시간을 포함하여 35분 만에 목적지에 도착할 수 있었다 IMOD를 다른 승객...   \n",
       "\n",
       "                                           end_point  \\\n",
       "0                        버스를 탈때보다는 편하게 길도 안 건너고 도착했다   \n",
       "1        가까운 직선거리의 버스 노선이라면 버스를 이용하는게 낫겠다 하는 생각이 들었다   \n",
       "2  우선 IMOD 버스로 시민들이 보다 저렴한 가격에 쾌적한 환경의 이동수단을 제공받을...   \n",
       "3  처음이라 비교적 짧은 거리만 이동했지만 다음에는 좀 더 긴 거리를 목적지로 설정해서...   \n",
       "4  하지만 여전히 서비스는 편리했고 쾌적하게 이동할 수 있었다 배차가 진행되지 않았을 ...   \n",
       "\n",
       "                                           recommend  \\\n",
       "0                                  돌아가는 버스를 이용하는 사람들   \n",
       "1                                  돌아가는 버스를 이용하는 사람들   \n",
       "2  비오는 날 등 기상이 안 좋은 날이나 짐이 많을 때 혹은 거동이 불편한 분이 이동할...   \n",
       "3  \n",
       "\\n추천  짐이 많거나 목적지까지 거리가 멀지만 시간여유가 있는 시민\\n이유 1 ...   \n",
       "4  \n",
       "\\n추천  시간이 넉넉하고 쾌적하게 이동하고 싶은 사람\\n이유  배차가 빠르게 진...   \n",
       "\n",
       "                                              Tokens  \\\n",
       "0  [(일요일, NNG, (0, 3)), (에도, JC, (3, 5)), (여, NNG...   \n",
       "1  [(일, NNG, (0, 1)), (을, JC, (1, 2)), (마치, NNG, ...   \n",
       "2  [(검단, NNG, (0, 2)), (의, JC, (2, 3)), (IMOD, OL...   \n",
       "3  [(여자친구, NNG, (0, 4)), (와, JC, (4, 5)), (함께, MA...   \n",
       "4  [(송도, NNG, (0, 2)), (에서, JC, (2, 4)), ( , OL, ...   \n",
       "\n",
       "                                       Token_Content  \n",
       "0                                     일요일 여 한의원 치료 집  \n",
       "1       일 마치 필라테스 상담 집 버스 간격 길다 I-MOD 이용 배차 간격 버스 고민  \n",
       "2  검단 를 이용 전 먼저 도입 관광 좋은 송도 방문 전철 타고 신연수역 하차 센트럴파...  \n",
       "3  여자친구 송도 센트럴 파크 시간 동안 피로 근처 카페 가기 충분히 쉰 후 집 교통 ...  \n",
       "4  송도 위해 차 타고 송도로 향 송도 여기저기 방문 예정 차 계속 가지 힘들었고 무료...  "
      ]
     },
     "execution_count": 23,
     "metadata": {},
     "output_type": "execute_result"
    }
   ],
   "source": [
    "from teanaps.nlp import Processing\n",
    "pro = Processing()\n",
    "\n",
    "#고려할 태그\n",
    "tag_list = ['NNG','NNP','VA']\n",
    "\n",
    "comments = livinglab['start_point']\n",
    "\n",
    "# 리뷰 토큰화 후 데이터 프레임에 추가 \n",
    "tokens = []\n",
    "tokenized_sentence_list = []\n",
    "count_tokens = 0\n",
    "for text in comments:\n",
    "    pos_list = ma.parse(text)\n",
    "    word_list = [p[0] for p in pos_list if p[1] in tag_list ]  \n",
    "\n",
    "    for w in range(len(word_list)) :\n",
    "        if \"IMOD\" in word_list[w]:\n",
    "            word_list[w] = \"I-MOD\" \n",
    "        elif \"지불\" in word_list[w]:\n",
    "            word_list[w] = \"결제\"\n",
    "        elif \"아이모드\" in word_list[w]:\n",
    "            word_list[w] = \"I-MOD\"\n",
    "        elif \"센트럴 파크\" in word_list[w]:\n",
    "            word_list[w] = \"센트럴파크\"\n",
    "        elif \"mod\" in word_list[w]:\n",
    "            word_list[w] = \"I-MOD\"\n",
    "\n",
    "    noun = ' '.join(s for s in word_list)\n",
    "    tokenized_sentence_list.append(noun)\n",
    "    tokens.append(pos_list)\n",
    "\n",
    "    count_tokens += len(pos_list)\n",
    "\n",
    "print('총 토큰 개수 :', count_tokens)\n",
    "livinglab['Tokens'] = tokens   # 새로운 열 추가\n",
    "livinglab['Token_Content'] = tokenized_sentence_list\n",
    "livinglab.head()"
   ]
  },
  {
   "cell_type": "code",
   "execution_count": 25,
   "metadata": {},
   "outputs": [
    {
     "name": "stdout",
     "output_type": "stream",
     "text": [
      "총 토큰 개수 : 2725\n"
     ]
    },
    {
     "data": {
      "text/html": [
       "<div>\n",
       "<style scoped>\n",
       "    .dataframe tbody tr th:only-of-type {\n",
       "        vertical-align: middle;\n",
       "    }\n",
       "\n",
       "    .dataframe tbody tr th {\n",
       "        vertical-align: top;\n",
       "    }\n",
       "\n",
       "    .dataframe thead th {\n",
       "        text-align: right;\n",
       "    }\n",
       "</style>\n",
       "<table border=\"1\" class=\"dataframe\">\n",
       "  <thead>\n",
       "    <tr style=\"text-align: right;\">\n",
       "      <th></th>\n",
       "      <th>start_point</th>\n",
       "      <th>get_on</th>\n",
       "      <th>get_off</th>\n",
       "      <th>end_point</th>\n",
       "      <th>recommend</th>\n",
       "      <th>Tokens</th>\n",
       "      <th>Token_Content</th>\n",
       "      <th>NNG_Token_Content</th>\n",
       "    </tr>\n",
       "  </thead>\n",
       "  <tbody>\n",
       "    <tr>\n",
       "      <th>0</th>\n",
       "      <td>일요일에도 여는 한의원이라 치료를 받고 집으로 돌아감</td>\n",
       "      <td>굳이 건너지 않고 버스를 탈 수 있는게 너무 좋았다마침 버스도 근처에 있어5분도 되...</td>\n",
       "      <td>마찬가지로 횡단보도를 건너지 않고 집에 바로 갈 수 있어 너무 좋았다 사소한 거지만...</td>\n",
       "      <td>버스를 탈때보다는 편하게 길도 안 건너고 도착했다</td>\n",
       "      <td>돌아가는 버스를 이용하는 사람들</td>\n",
       "      <td>[(일요일, NNG, (0, 3)), (에도, JC, (3, 5)), (여, NNG...</td>\n",
       "      <td>일요일 여 한의원 치료 집</td>\n",
       "      <td>일요일 여 한의원 치료 집</td>\n",
       "    </tr>\n",
       "    <tr>\n",
       "      <th>1</th>\n",
       "      <td>일을 마치고 필라테스 상담을 하고 집에 가는데 버스간격이 길다 그래서 아이모드를 이...</td>\n",
       "      <td>완정역에서 아이모드를 탑승했다 나밖에 탑승하지 않았고 편하게 집으로 왔다 그런데 평...</td>\n",
       "      <td>차가 진짜 멀미가 심하다 이 점때문에 버스나 택시를 이용할 것  같다는 생각을 했다</td>\n",
       "      <td>가까운 직선거리의 버스 노선이라면 버스를 이용하는게 낫겠다 하는 생각이 들었다</td>\n",
       "      <td>돌아가는 버스를 이용하는 사람들</td>\n",
       "      <td>[(일, NNG, (0, 1)), (을, JC, (1, 2)), (마치, NNG, ...</td>\n",
       "      <td>일 마치 필라테스 상담 집 버스 간격 길다 I-MOD 이용 배차 간격 버스 고민</td>\n",
       "      <td>일 마치 필라테스 상담 집 버스 간격 I-MOD 이용 배차 간격 버스 고민</td>\n",
       "    </tr>\n",
       "    <tr>\n",
       "      <th>2</th>\n",
       "      <td>검단의 IMOD를 이용하기 전 IMOD가 먼저 도입됐고 관광하기 좋은 송도를 방문하...</td>\n",
       "      <td>센트럴파크에서 관광을 마친 후 테크노파크역에 있는 송도 현대아울렛에서 쇼핑을 하기 ...</td>\n",
       "      <td>탑승은 일반 버스카드를 태그하듯 QR코드를 기기에 태그하기만 하면 돼서 간편했다 I...</td>\n",
       "      <td>우선 IMOD 버스로 시민들이 보다 저렴한 가격에 쾌적한 환경의 이동수단을 제공받을...</td>\n",
       "      <td>비오는 날 등 기상이 안 좋은 날이나 짐이 많을 때 혹은 거동이 불편한 분이 이동할...</td>\n",
       "      <td>[(검단, NNG, (0, 2)), (의, JC, (2, 3)), (IMOD, OL...</td>\n",
       "      <td>검단 를 이용 전 먼저 도입 관광 좋은 송도 방문 전철 타고 신연수역 하차 센트럴파...</td>\n",
       "      <td>검단 를 이용 전 먼저 도입 관광 송도 방문 전철 타고 신연수역 하차 센트럴파크역 ...</td>\n",
       "    </tr>\n",
       "    <tr>\n",
       "      <th>3</th>\n",
       "      <td>여자친구와 함께 송도 센트럴파크에 놀러갔다 오랜 시간동안 걸으니 피로가 많이 쌓여서...</td>\n",
       "      <td>카페에서 IMOD호출을 눌렀는데 배차가 되지 않아 20분 정도 기다렸던 것 같다 처...</td>\n",
       "      <td>탑승한 사람이 나와 여자친구밖에 없어서 그런지 최단경로로 목적지까지 이동할 수 있었...</td>\n",
       "      <td>처음이라 비교적 짧은 거리만 이동했지만 다음에는 좀 더 긴 거리를 목적지로 설정해서...</td>\n",
       "      <td>\\n추천  짐이 많거나 목적지까지 거리가 멀지만 시간여유가 있는 시민\\n이유 1 ...</td>\n",
       "      <td>[(여자친구, NNG, (0, 4)), (와, JC, (4, 5)), (함께, MA...</td>\n",
       "      <td>여자친구 송도 센트럴 파크 시간 동안 피로 근처 카페 가기 충분히 쉰 후 집 교통 ...</td>\n",
       "      <td>여자친구 송도 센트럴 파크 시간 동안 피로 근처 카페 가기 쉰 후 집 교통 편 버스...</td>\n",
       "    </tr>\n",
       "    <tr>\n",
       "      <th>4</th>\n",
       "      <td>송도에서 놀기 위해 차를 타고 송도로 향했다 송도에서 여기저기를 방문할 예정이라 차...</td>\n",
       "      <td>20분 후에 IMOD에 탑승할 수 있었고 IMOD안에는 추가로 다른 승객이 탑승해 ...</td>\n",
       "      <td>기다린 시간을 포함하여 35분 만에 목적지에 도착할 수 있었다 IMOD를 다른 승객...</td>\n",
       "      <td>하지만 여전히 서비스는 편리했고 쾌적하게 이동할 수 있었다 배차가 진행되지 않았을 ...</td>\n",
       "      <td>\\n추천  시간이 넉넉하고 쾌적하게 이동하고 싶은 사람\\n이유  배차가 빠르게 진...</td>\n",
       "      <td>[(송도, NNG, (0, 2)), (에서, JC, (2, 4)), ( , OL, ...</td>\n",
       "      <td>송도 위해 차 타고 송도로 향 송도 여기저기 방문 예정 차 계속 가지 힘들었고 무료...</td>\n",
       "      <td>송도 위해 차 타고 송도로 향 송도 여기저기 방문 예정 차 계속 가지 무료 주차장 ...</td>\n",
       "    </tr>\n",
       "  </tbody>\n",
       "</table>\n",
       "</div>"
      ],
      "text/plain": [
       "                                         start_point  \\\n",
       "0                      일요일에도 여는 한의원이라 치료를 받고 집으로 돌아감   \n",
       "1  일을 마치고 필라테스 상담을 하고 집에 가는데 버스간격이 길다 그래서 아이모드를 이...   \n",
       "2  검단의 IMOD를 이용하기 전 IMOD가 먼저 도입됐고 관광하기 좋은 송도를 방문하...   \n",
       "3  여자친구와 함께 송도 센트럴파크에 놀러갔다 오랜 시간동안 걸으니 피로가 많이 쌓여서...   \n",
       "4  송도에서 놀기 위해 차를 타고 송도로 향했다 송도에서 여기저기를 방문할 예정이라 차...   \n",
       "\n",
       "                                              get_on  \\\n",
       "0  굳이 건너지 않고 버스를 탈 수 있는게 너무 좋았다마침 버스도 근처에 있어5분도 되...   \n",
       "1  완정역에서 아이모드를 탑승했다 나밖에 탑승하지 않았고 편하게 집으로 왔다 그런데 평...   \n",
       "2  센트럴파크에서 관광을 마친 후 테크노파크역에 있는 송도 현대아울렛에서 쇼핑을 하기 ...   \n",
       "3  카페에서 IMOD호출을 눌렀는데 배차가 되지 않아 20분 정도 기다렸던 것 같다 처...   \n",
       "4  20분 후에 IMOD에 탑승할 수 있었고 IMOD안에는 추가로 다른 승객이 탑승해 ...   \n",
       "\n",
       "                                             get_off  \\\n",
       "0  마찬가지로 횡단보도를 건너지 않고 집에 바로 갈 수 있어 너무 좋았다 사소한 거지만...   \n",
       "1     차가 진짜 멀미가 심하다 이 점때문에 버스나 택시를 이용할 것  같다는 생각을 했다   \n",
       "2  탑승은 일반 버스카드를 태그하듯 QR코드를 기기에 태그하기만 하면 돼서 간편했다 I...   \n",
       "3  탑승한 사람이 나와 여자친구밖에 없어서 그런지 최단경로로 목적지까지 이동할 수 있었...   \n",
       "4  기다린 시간을 포함하여 35분 만에 목적지에 도착할 수 있었다 IMOD를 다른 승객...   \n",
       "\n",
       "                                           end_point  \\\n",
       "0                        버스를 탈때보다는 편하게 길도 안 건너고 도착했다   \n",
       "1        가까운 직선거리의 버스 노선이라면 버스를 이용하는게 낫겠다 하는 생각이 들었다   \n",
       "2  우선 IMOD 버스로 시민들이 보다 저렴한 가격에 쾌적한 환경의 이동수단을 제공받을...   \n",
       "3  처음이라 비교적 짧은 거리만 이동했지만 다음에는 좀 더 긴 거리를 목적지로 설정해서...   \n",
       "4  하지만 여전히 서비스는 편리했고 쾌적하게 이동할 수 있었다 배차가 진행되지 않았을 ...   \n",
       "\n",
       "                                           recommend  \\\n",
       "0                                  돌아가는 버스를 이용하는 사람들   \n",
       "1                                  돌아가는 버스를 이용하는 사람들   \n",
       "2  비오는 날 등 기상이 안 좋은 날이나 짐이 많을 때 혹은 거동이 불편한 분이 이동할...   \n",
       "3  \n",
       "\\n추천  짐이 많거나 목적지까지 거리가 멀지만 시간여유가 있는 시민\\n이유 1 ...   \n",
       "4  \n",
       "\\n추천  시간이 넉넉하고 쾌적하게 이동하고 싶은 사람\\n이유  배차가 빠르게 진...   \n",
       "\n",
       "                                              Tokens  \\\n",
       "0  [(일요일, NNG, (0, 3)), (에도, JC, (3, 5)), (여, NNG...   \n",
       "1  [(일, NNG, (0, 1)), (을, JC, (1, 2)), (마치, NNG, ...   \n",
       "2  [(검단, NNG, (0, 2)), (의, JC, (2, 3)), (IMOD, OL...   \n",
       "3  [(여자친구, NNG, (0, 4)), (와, JC, (4, 5)), (함께, MA...   \n",
       "4  [(송도, NNG, (0, 2)), (에서, JC, (2, 4)), ( , OL, ...   \n",
       "\n",
       "                                       Token_Content  \\\n",
       "0                                     일요일 여 한의원 치료 집   \n",
       "1       일 마치 필라테스 상담 집 버스 간격 길다 I-MOD 이용 배차 간격 버스 고민   \n",
       "2  검단 를 이용 전 먼저 도입 관광 좋은 송도 방문 전철 타고 신연수역 하차 센트럴파...   \n",
       "3  여자친구 송도 센트럴 파크 시간 동안 피로 근처 카페 가기 충분히 쉰 후 집 교통 ...   \n",
       "4  송도 위해 차 타고 송도로 향 송도 여기저기 방문 예정 차 계속 가지 힘들었고 무료...   \n",
       "\n",
       "                                   NNG_Token_Content  \n",
       "0                                     일요일 여 한의원 치료 집  \n",
       "1          일 마치 필라테스 상담 집 버스 간격 I-MOD 이용 배차 간격 버스 고민  \n",
       "2  검단 를 이용 전 먼저 도입 관광 송도 방문 전철 타고 신연수역 하차 센트럴파크역 ...  \n",
       "3  여자친구 송도 센트럴 파크 시간 동안 피로 근처 카페 가기 쉰 후 집 교통 편 버스...  \n",
       "4  송도 위해 차 타고 송도로 향 송도 여기저기 방문 예정 차 계속 가지 무료 주차장 ...  "
      ]
     },
     "execution_count": 25,
     "metadata": {},
     "output_type": "execute_result"
    }
   ],
   "source": [
    "#고려할 태그\n",
    "tag_list = ['NNG','NNP']\n",
    "\n",
    "comments = livinglab['start_point']\n",
    "\n",
    "# 리뷰 토큰화 후 데이터 프레임에 추가 \n",
    "tokens = []\n",
    "tokenized_sentence_list = []\n",
    "count_tokens = 0\n",
    "for text in comments:\n",
    "    pos_list = ma.parse(text)\n",
    "    word_list = [p[0] for p in pos_list if p[1] in tag_list]\n",
    "\n",
    "    for w in range(len(word_list)) :\n",
    "        if \"IMOD\" in word_list[w]:\n",
    "            word_list[w] = \"I-MOD\" \n",
    "        elif \"지불\" in word_list[w]:\n",
    "            word_list[w] = \"결제\"\n",
    "        elif \"아이모드\" in word_list[w]:\n",
    "            word_list[w] = \"I-MOD\"\n",
    "        elif \"센트럴 파크\" in word_list[w]:\n",
    "            word_list[w] = \"센트럴파크\"\n",
    "        elif \"mod\" in word_list[w]:\n",
    "            word_list[w] = \"I-MOD\"\n",
    "\n",
    "    noun = ' '.join(s for s in word_list)\n",
    "    tokenized_sentence_list.append(noun)\n",
    "    tokens.append(pos_list)\n",
    "\n",
    "    count_tokens += len(pos_list)\n",
    "\n",
    "print('총 토큰 개수 :', count_tokens)\n",
    "# livinglab['Tokens'] = tokens   # 새로운 열 추가\n",
    "# livinglab['Token_Content'] = tokenized_sentence_list\n",
    "livinglab['NNG_Token_Content'] = tokenized_sentence_list\n",
    "livinglab.head()"
   ]
  },
  {
   "cell_type": "code",
   "execution_count": 27,
   "metadata": {},
   "outputs": [
    {
     "name": "stdout",
     "output_type": "stream",
     "text": [
      "총 토큰 개수 : 3185\n"
     ]
    },
    {
     "data": {
      "text/html": [
       "<div>\n",
       "<style scoped>\n",
       "    .dataframe tbody tr th:only-of-type {\n",
       "        vertical-align: middle;\n",
       "    }\n",
       "\n",
       "    .dataframe tbody tr th {\n",
       "        vertical-align: top;\n",
       "    }\n",
       "\n",
       "    .dataframe thead th {\n",
       "        text-align: right;\n",
       "    }\n",
       "</style>\n",
       "<table border=\"1\" class=\"dataframe\">\n",
       "  <thead>\n",
       "    <tr style=\"text-align: right;\">\n",
       "      <th></th>\n",
       "      <th>start_point</th>\n",
       "      <th>get_on</th>\n",
       "      <th>get_off</th>\n",
       "      <th>end_point</th>\n",
       "      <th>recommend</th>\n",
       "      <th>Tokens</th>\n",
       "      <th>Token_Content</th>\n",
       "      <th>NNG_Token_Content</th>\n",
       "    </tr>\n",
       "  </thead>\n",
       "  <tbody>\n",
       "    <tr>\n",
       "      <th>0</th>\n",
       "      <td>일요일에도 여는 한의원이라 치료를 받고 집으로 돌아감</td>\n",
       "      <td>굳이 건너지 않고 버스를 탈 수 있는게 너무 좋았다마침 버스도 근처에 있어5분도 되...</td>\n",
       "      <td>마찬가지로 횡단보도를 건너지 않고 집에 바로 갈 수 있어 너무 좋았다 사소한 거지만...</td>\n",
       "      <td>버스를 탈때보다는 편하게 길도 안 건너고 도착했다</td>\n",
       "      <td>돌아가는 버스를 이용하는 사람들</td>\n",
       "      <td>[(굳이, NNG, (0, 2)), (건너지, VV, (3, 6)), (않고, VV...</td>\n",
       "      <td>굳이 버스 탈 수 있는게 좋았다 마침 버스 근처 있어 바로 도착 원래 택시 이용 거...</td>\n",
       "      <td>일요일 여 한의원 치료 집</td>\n",
       "    </tr>\n",
       "    <tr>\n",
       "      <th>1</th>\n",
       "      <td>일을 마치고 필라테스 상담을 하고 집에 가는데 버스간격이 길다 그래서 아이모드를 이...</td>\n",
       "      <td>완정역에서 아이모드를 탑승했다 나밖에 탑승하지 않았고 편하게 집으로 왔다 그런데 평...</td>\n",
       "      <td>차가 진짜 멀미가 심하다 이 점때문에 버스나 택시를 이용할 것  같다는 생각을 했다</td>\n",
       "      <td>가까운 직선거리의 버스 노선이라면 버스를 이용하는게 낫겠다 하는 생각이 들었다</td>\n",
       "      <td>돌아가는 버스를 이용하는 사람들</td>\n",
       "      <td>[(완정역, NNG, (0, 3)), (에서, JC, (3, 5)), (아이모드, ...</td>\n",
       "      <td>완정역 I-MOD 탑승 나 탑승 편하게 집 평일 저녁 이후 배차 앞 본격 많은 사람...</td>\n",
       "      <td>일 마치 필라테스 상담 집 버스 간격 I-MOD 이용 배차 간격 버스 고민</td>\n",
       "    </tr>\n",
       "    <tr>\n",
       "      <th>2</th>\n",
       "      <td>검단의 IMOD를 이용하기 전 IMOD가 먼저 도입됐고 관광하기 좋은 송도를 방문하...</td>\n",
       "      <td>센트럴파크에서 관광을 마친 후 테크노파크역에 있는 송도 현대아울렛에서 쇼핑을 하기 ...</td>\n",
       "      <td>탑승은 일반 버스카드를 태그하듯 QR코드를 기기에 태그하기만 하면 돼서 간편했다 I...</td>\n",
       "      <td>우선 IMOD 버스로 시민들이 보다 저렴한 가격에 쾌적한 환경의 이동수단을 제공받을...</td>\n",
       "      <td>비오는 날 등 기상이 안 좋은 날이나 짐이 많을 때 혹은 거동이 불편한 분이 이동할...</td>\n",
       "      <td>[(센트럴, NNG, (0, 3)), (파크, NNG, (3, 5)), (에서, J...</td>\n",
       "      <td>센트럴 파크 관광 후 테크노파크역 있는 송도 아울렛 쇼핑 위해 어플 이용 를 호출 ...</td>\n",
       "      <td>검단 를 이용 전 먼저 도입 관광 송도 방문 전철 타고 신연수역 하차 센트럴파크역 ...</td>\n",
       "    </tr>\n",
       "    <tr>\n",
       "      <th>3</th>\n",
       "      <td>여자친구와 함께 송도 센트럴파크에 놀러갔다 오랜 시간동안 걸으니 피로가 많이 쌓여서...</td>\n",
       "      <td>카페에서 IMOD호출을 눌렀는데 배차가 되지 않아 20분 정도 기다렸던 것 같다 처...</td>\n",
       "      <td>탑승한 사람이 나와 여자친구밖에 없어서 그런지 최단경로로 목적지까지 이동할 수 있었...</td>\n",
       "      <td>처음이라 비교적 짧은 거리만 이동했지만 다음에는 좀 더 긴 거리를 목적지로 설정해서...</td>\n",
       "      <td>\\n추천  짐이 많거나 목적지까지 거리가 멀지만 시간여유가 있는 시민\\n이유 1 ...</td>\n",
       "      <td>[(카페, NNG, (0, 2)), (에서, JC, (2, 4)), (IMOD, O...</td>\n",
       "      <td>카페 호출 배차 정도 것 같다 처음 점검 당황 이 부분 개선 필요한 것 같다 배차 ...</td>\n",
       "      <td>여자친구 송도 센트럴 파크 시간 동안 피로 근처 카페 가기 쉰 후 집 교통 편 버스...</td>\n",
       "    </tr>\n",
       "    <tr>\n",
       "      <th>4</th>\n",
       "      <td>송도에서 놀기 위해 차를 타고 송도로 향했다 송도에서 여기저기를 방문할 예정이라 차...</td>\n",
       "      <td>20분 후에 IMOD에 탑승할 수 있었고 IMOD안에는 추가로 다른 승객이 탑승해 ...</td>\n",
       "      <td>기다린 시간을 포함하여 35분 만에 목적지에 도착할 수 있었다 IMOD를 다른 승객...</td>\n",
       "      <td>하지만 여전히 서비스는 편리했고 쾌적하게 이동할 수 있었다 배차가 진행되지 않았을 ...</td>\n",
       "      <td>\\n추천  시간이 넉넉하고 쾌적하게 이동하고 싶은 사람\\n이유  배차가 빠르게 진...</td>\n",
       "      <td>[(20분, SN, (0, 3)), ( , OL, (3, 4)), (후, NNG, ...</td>\n",
       "      <td>후 탑승 수 있었고 안 추가 다른 승객 탑승 있었다 를 다수 이용 매번 혼자 이용 ...</td>\n",
       "      <td>송도 위해 차 타고 송도로 향 송도 여기저기 방문 예정 차 계속 가지 무료 주차장 ...</td>\n",
       "    </tr>\n",
       "  </tbody>\n",
       "</table>\n",
       "</div>"
      ],
      "text/plain": [
       "                                         start_point  \\\n",
       "0                      일요일에도 여는 한의원이라 치료를 받고 집으로 돌아감   \n",
       "1  일을 마치고 필라테스 상담을 하고 집에 가는데 버스간격이 길다 그래서 아이모드를 이...   \n",
       "2  검단의 IMOD를 이용하기 전 IMOD가 먼저 도입됐고 관광하기 좋은 송도를 방문하...   \n",
       "3  여자친구와 함께 송도 센트럴파크에 놀러갔다 오랜 시간동안 걸으니 피로가 많이 쌓여서...   \n",
       "4  송도에서 놀기 위해 차를 타고 송도로 향했다 송도에서 여기저기를 방문할 예정이라 차...   \n",
       "\n",
       "                                              get_on  \\\n",
       "0  굳이 건너지 않고 버스를 탈 수 있는게 너무 좋았다마침 버스도 근처에 있어5분도 되...   \n",
       "1  완정역에서 아이모드를 탑승했다 나밖에 탑승하지 않았고 편하게 집으로 왔다 그런데 평...   \n",
       "2  센트럴파크에서 관광을 마친 후 테크노파크역에 있는 송도 현대아울렛에서 쇼핑을 하기 ...   \n",
       "3  카페에서 IMOD호출을 눌렀는데 배차가 되지 않아 20분 정도 기다렸던 것 같다 처...   \n",
       "4  20분 후에 IMOD에 탑승할 수 있었고 IMOD안에는 추가로 다른 승객이 탑승해 ...   \n",
       "\n",
       "                                             get_off  \\\n",
       "0  마찬가지로 횡단보도를 건너지 않고 집에 바로 갈 수 있어 너무 좋았다 사소한 거지만...   \n",
       "1     차가 진짜 멀미가 심하다 이 점때문에 버스나 택시를 이용할 것  같다는 생각을 했다   \n",
       "2  탑승은 일반 버스카드를 태그하듯 QR코드를 기기에 태그하기만 하면 돼서 간편했다 I...   \n",
       "3  탑승한 사람이 나와 여자친구밖에 없어서 그런지 최단경로로 목적지까지 이동할 수 있었...   \n",
       "4  기다린 시간을 포함하여 35분 만에 목적지에 도착할 수 있었다 IMOD를 다른 승객...   \n",
       "\n",
       "                                           end_point  \\\n",
       "0                        버스를 탈때보다는 편하게 길도 안 건너고 도착했다   \n",
       "1        가까운 직선거리의 버스 노선이라면 버스를 이용하는게 낫겠다 하는 생각이 들었다   \n",
       "2  우선 IMOD 버스로 시민들이 보다 저렴한 가격에 쾌적한 환경의 이동수단을 제공받을...   \n",
       "3  처음이라 비교적 짧은 거리만 이동했지만 다음에는 좀 더 긴 거리를 목적지로 설정해서...   \n",
       "4  하지만 여전히 서비스는 편리했고 쾌적하게 이동할 수 있었다 배차가 진행되지 않았을 ...   \n",
       "\n",
       "                                           recommend  \\\n",
       "0                                  돌아가는 버스를 이용하는 사람들   \n",
       "1                                  돌아가는 버스를 이용하는 사람들   \n",
       "2  비오는 날 등 기상이 안 좋은 날이나 짐이 많을 때 혹은 거동이 불편한 분이 이동할...   \n",
       "3  \n",
       "\\n추천  짐이 많거나 목적지까지 거리가 멀지만 시간여유가 있는 시민\\n이유 1 ...   \n",
       "4  \n",
       "\\n추천  시간이 넉넉하고 쾌적하게 이동하고 싶은 사람\\n이유  배차가 빠르게 진...   \n",
       "\n",
       "                                              Tokens  \\\n",
       "0  [(굳이, NNG, (0, 2)), (건너지, VV, (3, 6)), (않고, VV...   \n",
       "1  [(완정역, NNG, (0, 3)), (에서, JC, (3, 5)), (아이모드, ...   \n",
       "2  [(센트럴, NNG, (0, 3)), (파크, NNG, (3, 5)), (에서, J...   \n",
       "3  [(카페, NNG, (0, 2)), (에서, JC, (2, 4)), (IMOD, O...   \n",
       "4  [(20분, SN, (0, 3)), ( , OL, (3, 4)), (후, NNG, ...   \n",
       "\n",
       "                                       Token_Content  \\\n",
       "0  굳이 버스 탈 수 있는게 좋았다 마침 버스 근처 있어 바로 도착 원래 택시 이용 거...   \n",
       "1  완정역 I-MOD 탑승 나 탑승 편하게 집 평일 저녁 이후 배차 앞 본격 많은 사람...   \n",
       "2  센트럴 파크 관광 후 테크노파크역 있는 송도 아울렛 쇼핑 위해 어플 이용 를 호출 ...   \n",
       "3  카페 호출 배차 정도 것 같다 처음 점검 당황 이 부분 개선 필요한 것 같다 배차 ...   \n",
       "4  후 탑승 수 있었고 안 추가 다른 승객 탑승 있었다 를 다수 이용 매번 혼자 이용 ...   \n",
       "\n",
       "                                   NNG_Token_Content  \n",
       "0                                     일요일 여 한의원 치료 집  \n",
       "1          일 마치 필라테스 상담 집 버스 간격 I-MOD 이용 배차 간격 버스 고민  \n",
       "2  검단 를 이용 전 먼저 도입 관광 송도 방문 전철 타고 신연수역 하차 센트럴파크역 ...  \n",
       "3  여자친구 송도 센트럴 파크 시간 동안 피로 근처 카페 가기 쉰 후 집 교통 편 버스...  \n",
       "4  송도 위해 차 타고 송도로 향 송도 여기저기 방문 예정 차 계속 가지 무료 주차장 ...  "
      ]
     },
     "execution_count": 27,
     "metadata": {},
     "output_type": "execute_result"
    }
   ],
   "source": [
    "from teanaps.nlp import Processing\n",
    "pro = Processing()\n",
    "\n",
    "#고려할 태그\n",
    "tag_list = ['NNG','NNP','VA']\n",
    "\n",
    "comments = livinglab['get_on']\n",
    "\n",
    "# 리뷰 토큰화 후 데이터 프레임에 추가 \n",
    "tokens = []\n",
    "tokenized_sentence_list = []\n",
    "count_tokens = 0\n",
    "for text in comments:\n",
    "    pos_list = ma.parse(text)\n",
    "    word_list = [p[0] for p in pos_list if p[1] in tag_list]\n",
    "    for w in range(len(word_list)) :\n",
    "        if \"IMOD\" in word_list[w]:\n",
    "            word_list[w] = \"I-MOD\" \n",
    "        elif \"지불\" in word_list[w]:\n",
    "            word_list[w] = \"결제\"\n",
    "        elif \"아이모드\" in word_list[w]:\n",
    "            word_list[w] = \"I-MOD\"\n",
    "        elif \"센트럴 파크\" in word_list[w]:\n",
    "            word_list[w] = \"센트럴파크\"\n",
    "        elif \"mod\" in word_list[w]:\n",
    "            word_list[w] = \"I-MOD\"\n",
    "\n",
    "    noun = ' '.join(s for s in word_list)\n",
    "    tokenized_sentence_list.append(noun)\n",
    "    tokens.append(pos_list)\n",
    "\n",
    "    count_tokens += len(pos_list)\n",
    "\n",
    "print('총 토큰 개수 :', count_tokens)\n",
    "livinglab['Tokens'] = tokens   # 새로운 열 추가\n",
    "livinglab['Token_Content'] = tokenized_sentence_list\n",
    "livinglab.head()"
   ]
  },
  {
   "cell_type": "code",
   "execution_count": 28,
   "metadata": {},
   "outputs": [
    {
     "name": "stdout",
     "output_type": "stream",
     "text": [
      "총 토큰 개수 : 3185\n"
     ]
    },
    {
     "data": {
      "text/html": [
       "<div>\n",
       "<style scoped>\n",
       "    .dataframe tbody tr th:only-of-type {\n",
       "        vertical-align: middle;\n",
       "    }\n",
       "\n",
       "    .dataframe tbody tr th {\n",
       "        vertical-align: top;\n",
       "    }\n",
       "\n",
       "    .dataframe thead th {\n",
       "        text-align: right;\n",
       "    }\n",
       "</style>\n",
       "<table border=\"1\" class=\"dataframe\">\n",
       "  <thead>\n",
       "    <tr style=\"text-align: right;\">\n",
       "      <th></th>\n",
       "      <th>start_point</th>\n",
       "      <th>get_on</th>\n",
       "      <th>get_off</th>\n",
       "      <th>end_point</th>\n",
       "      <th>recommend</th>\n",
       "      <th>Tokens</th>\n",
       "      <th>Token_Content</th>\n",
       "      <th>NNG_Token_Content</th>\n",
       "    </tr>\n",
       "  </thead>\n",
       "  <tbody>\n",
       "    <tr>\n",
       "      <th>0</th>\n",
       "      <td>일요일에도 여는 한의원이라 치료를 받고 집으로 돌아감</td>\n",
       "      <td>굳이 건너지 않고 버스를 탈 수 있는게 너무 좋았다마침 버스도 근처에 있어5분도 되...</td>\n",
       "      <td>마찬가지로 횡단보도를 건너지 않고 집에 바로 갈 수 있어 너무 좋았다 사소한 거지만...</td>\n",
       "      <td>버스를 탈때보다는 편하게 길도 안 건너고 도착했다</td>\n",
       "      <td>돌아가는 버스를 이용하는 사람들</td>\n",
       "      <td>[(굳이, NNG, (0, 2)), (건너지, VV, (3, 6)), (않고, VV...</td>\n",
       "      <td>굳이 버스 탈 수 있는게 좋았다 마침 버스 근처 있어 바로 도착 원래 택시 이용 거...</td>\n",
       "      <td>굳이 버스 탈 수 마침 버스 근처 바로 도착 원래 택시 이용 거나 배차 간격 버스 ...</td>\n",
       "    </tr>\n",
       "    <tr>\n",
       "      <th>1</th>\n",
       "      <td>일을 마치고 필라테스 상담을 하고 집에 가는데 버스간격이 길다 그래서 아이모드를 이...</td>\n",
       "      <td>완정역에서 아이모드를 탑승했다 나밖에 탑승하지 않았고 편하게 집으로 왔다 그런데 평...</td>\n",
       "      <td>차가 진짜 멀미가 심하다 이 점때문에 버스나 택시를 이용할 것  같다는 생각을 했다</td>\n",
       "      <td>가까운 직선거리의 버스 노선이라면 버스를 이용하는게 낫겠다 하는 생각이 들었다</td>\n",
       "      <td>돌아가는 버스를 이용하는 사람들</td>\n",
       "      <td>[(완정역, NNG, (0, 3)), (에서, JC, (3, 5)), (아이모드, ...</td>\n",
       "      <td>완정역 I-MOD 탑승 나 탑승 편하게 집 평일 저녁 이후 배차 앞 본격 많은 사람...</td>\n",
       "      <td>완정역 I-MOD 탑승 나 탑승 집 평일 저녁 이후 배차 앞 본격 사람 이용 얼마나...</td>\n",
       "    </tr>\n",
       "    <tr>\n",
       "      <th>2</th>\n",
       "      <td>검단의 IMOD를 이용하기 전 IMOD가 먼저 도입됐고 관광하기 좋은 송도를 방문하...</td>\n",
       "      <td>센트럴파크에서 관광을 마친 후 테크노파크역에 있는 송도 현대아울렛에서 쇼핑을 하기 ...</td>\n",
       "      <td>탑승은 일반 버스카드를 태그하듯 QR코드를 기기에 태그하기만 하면 돼서 간편했다 I...</td>\n",
       "      <td>우선 IMOD 버스로 시민들이 보다 저렴한 가격에 쾌적한 환경의 이동수단을 제공받을...</td>\n",
       "      <td>비오는 날 등 기상이 안 좋은 날이나 짐이 많을 때 혹은 거동이 불편한 분이 이동할...</td>\n",
       "      <td>[(센트럴, NNG, (0, 3)), (파크, NNG, (3, 5)), (에서, J...</td>\n",
       "      <td>센트럴 파크 관광 후 테크노파크역 있는 송도 아울렛 쇼핑 위해 어플 이용 를 호출 ...</td>\n",
       "      <td>센트럴 파크 관광 후 테크노파크역 송도 아울렛 쇼핑 위해 어플 이용 를 호출 를 탑...</td>\n",
       "    </tr>\n",
       "    <tr>\n",
       "      <th>3</th>\n",
       "      <td>여자친구와 함께 송도 센트럴파크에 놀러갔다 오랜 시간동안 걸으니 피로가 많이 쌓여서...</td>\n",
       "      <td>카페에서 IMOD호출을 눌렀는데 배차가 되지 않아 20분 정도 기다렸던 것 같다 처...</td>\n",
       "      <td>탑승한 사람이 나와 여자친구밖에 없어서 그런지 최단경로로 목적지까지 이동할 수 있었...</td>\n",
       "      <td>처음이라 비교적 짧은 거리만 이동했지만 다음에는 좀 더 긴 거리를 목적지로 설정해서...</td>\n",
       "      <td>\\n추천  짐이 많거나 목적지까지 거리가 멀지만 시간여유가 있는 시민\\n이유 1 ...</td>\n",
       "      <td>[(카페, NNG, (0, 2)), (에서, JC, (2, 4)), (IMOD, O...</td>\n",
       "      <td>카페 호출 배차 정도 것 같다 처음 점검 당황 이 부분 개선 필요한 것 같다 배차 ...</td>\n",
       "      <td>카페 호출 배차 정도 것 처음 점검 당황 이 부분 개선 것 배차 다행 마음 근처 정...</td>\n",
       "    </tr>\n",
       "    <tr>\n",
       "      <th>4</th>\n",
       "      <td>송도에서 놀기 위해 차를 타고 송도로 향했다 송도에서 여기저기를 방문할 예정이라 차...</td>\n",
       "      <td>20분 후에 IMOD에 탑승할 수 있었고 IMOD안에는 추가로 다른 승객이 탑승해 ...</td>\n",
       "      <td>기다린 시간을 포함하여 35분 만에 목적지에 도착할 수 있었다 IMOD를 다른 승객...</td>\n",
       "      <td>하지만 여전히 서비스는 편리했고 쾌적하게 이동할 수 있었다 배차가 진행되지 않았을 ...</td>\n",
       "      <td>\\n추천  시간이 넉넉하고 쾌적하게 이동하고 싶은 사람\\n이유  배차가 빠르게 진...</td>\n",
       "      <td>[(20분, SN, (0, 3)), ( , OL, (3, 4)), (후, NNG, ...</td>\n",
       "      <td>후 탑승 수 있었고 안 추가 다른 승객 탑승 있었다 를 다수 이용 매번 혼자 이용 ...</td>\n",
       "      <td>후 탑승 수 안 추가 다른 승객 탑승 를 다수 이용 매번 혼자 이용 다른 승객 처음...</td>\n",
       "    </tr>\n",
       "  </tbody>\n",
       "</table>\n",
       "</div>"
      ],
      "text/plain": [
       "                                         start_point  \\\n",
       "0                      일요일에도 여는 한의원이라 치료를 받고 집으로 돌아감   \n",
       "1  일을 마치고 필라테스 상담을 하고 집에 가는데 버스간격이 길다 그래서 아이모드를 이...   \n",
       "2  검단의 IMOD를 이용하기 전 IMOD가 먼저 도입됐고 관광하기 좋은 송도를 방문하...   \n",
       "3  여자친구와 함께 송도 센트럴파크에 놀러갔다 오랜 시간동안 걸으니 피로가 많이 쌓여서...   \n",
       "4  송도에서 놀기 위해 차를 타고 송도로 향했다 송도에서 여기저기를 방문할 예정이라 차...   \n",
       "\n",
       "                                              get_on  \\\n",
       "0  굳이 건너지 않고 버스를 탈 수 있는게 너무 좋았다마침 버스도 근처에 있어5분도 되...   \n",
       "1  완정역에서 아이모드를 탑승했다 나밖에 탑승하지 않았고 편하게 집으로 왔다 그런데 평...   \n",
       "2  센트럴파크에서 관광을 마친 후 테크노파크역에 있는 송도 현대아울렛에서 쇼핑을 하기 ...   \n",
       "3  카페에서 IMOD호출을 눌렀는데 배차가 되지 않아 20분 정도 기다렸던 것 같다 처...   \n",
       "4  20분 후에 IMOD에 탑승할 수 있었고 IMOD안에는 추가로 다른 승객이 탑승해 ...   \n",
       "\n",
       "                                             get_off  \\\n",
       "0  마찬가지로 횡단보도를 건너지 않고 집에 바로 갈 수 있어 너무 좋았다 사소한 거지만...   \n",
       "1     차가 진짜 멀미가 심하다 이 점때문에 버스나 택시를 이용할 것  같다는 생각을 했다   \n",
       "2  탑승은 일반 버스카드를 태그하듯 QR코드를 기기에 태그하기만 하면 돼서 간편했다 I...   \n",
       "3  탑승한 사람이 나와 여자친구밖에 없어서 그런지 최단경로로 목적지까지 이동할 수 있었...   \n",
       "4  기다린 시간을 포함하여 35분 만에 목적지에 도착할 수 있었다 IMOD를 다른 승객...   \n",
       "\n",
       "                                           end_point  \\\n",
       "0                        버스를 탈때보다는 편하게 길도 안 건너고 도착했다   \n",
       "1        가까운 직선거리의 버스 노선이라면 버스를 이용하는게 낫겠다 하는 생각이 들었다   \n",
       "2  우선 IMOD 버스로 시민들이 보다 저렴한 가격에 쾌적한 환경의 이동수단을 제공받을...   \n",
       "3  처음이라 비교적 짧은 거리만 이동했지만 다음에는 좀 더 긴 거리를 목적지로 설정해서...   \n",
       "4  하지만 여전히 서비스는 편리했고 쾌적하게 이동할 수 있었다 배차가 진행되지 않았을 ...   \n",
       "\n",
       "                                           recommend  \\\n",
       "0                                  돌아가는 버스를 이용하는 사람들   \n",
       "1                                  돌아가는 버스를 이용하는 사람들   \n",
       "2  비오는 날 등 기상이 안 좋은 날이나 짐이 많을 때 혹은 거동이 불편한 분이 이동할...   \n",
       "3  \n",
       "\\n추천  짐이 많거나 목적지까지 거리가 멀지만 시간여유가 있는 시민\\n이유 1 ...   \n",
       "4  \n",
       "\\n추천  시간이 넉넉하고 쾌적하게 이동하고 싶은 사람\\n이유  배차가 빠르게 진...   \n",
       "\n",
       "                                              Tokens  \\\n",
       "0  [(굳이, NNG, (0, 2)), (건너지, VV, (3, 6)), (않고, VV...   \n",
       "1  [(완정역, NNG, (0, 3)), (에서, JC, (3, 5)), (아이모드, ...   \n",
       "2  [(센트럴, NNG, (0, 3)), (파크, NNG, (3, 5)), (에서, J...   \n",
       "3  [(카페, NNG, (0, 2)), (에서, JC, (2, 4)), (IMOD, O...   \n",
       "4  [(20분, SN, (0, 3)), ( , OL, (3, 4)), (후, NNG, ...   \n",
       "\n",
       "                                       Token_Content  \\\n",
       "0  굳이 버스 탈 수 있는게 좋았다 마침 버스 근처 있어 바로 도착 원래 택시 이용 거...   \n",
       "1  완정역 I-MOD 탑승 나 탑승 편하게 집 평일 저녁 이후 배차 앞 본격 많은 사람...   \n",
       "2  센트럴 파크 관광 후 테크노파크역 있는 송도 아울렛 쇼핑 위해 어플 이용 를 호출 ...   \n",
       "3  카페 호출 배차 정도 것 같다 처음 점검 당황 이 부분 개선 필요한 것 같다 배차 ...   \n",
       "4  후 탑승 수 있었고 안 추가 다른 승객 탑승 있었다 를 다수 이용 매번 혼자 이용 ...   \n",
       "\n",
       "                                   NNG_Token_Content  \n",
       "0  굳이 버스 탈 수 마침 버스 근처 바로 도착 원래 택시 이용 거나 배차 간격 버스 ...  \n",
       "1  완정역 I-MOD 탑승 나 탑승 집 평일 저녁 이후 배차 앞 본격 사람 이용 얼마나...  \n",
       "2  센트럴 파크 관광 후 테크노파크역 송도 아울렛 쇼핑 위해 어플 이용 를 호출 를 탑...  \n",
       "3  카페 호출 배차 정도 것 처음 점검 당황 이 부분 개선 것 배차 다행 마음 근처 정...  \n",
       "4  후 탑승 수 안 추가 다른 승객 탑승 를 다수 이용 매번 혼자 이용 다른 승객 처음...  "
      ]
     },
     "execution_count": 28,
     "metadata": {},
     "output_type": "execute_result"
    }
   ],
   "source": [
    "#고려할 태그\n",
    "tag_list = ['NNG','NNP']\n",
    "\n",
    "comments = livinglab['get_on']\n",
    "\n",
    "# 리뷰 토큰화 후 데이터 프레임에 추가 \n",
    "tokens = []\n",
    "tokenized_sentence_list = []\n",
    "count_tokens = 0\n",
    "for text in comments:\n",
    "    pos_list = ma.parse(text)\n",
    "    word_list = [p[0] for p in pos_list if p[1] in tag_list]  \n",
    "\n",
    "    for w in range(len(word_list)) :\n",
    "        if \"IMOD\" in word_list[w]:\n",
    "            word_list[w] = \"I-MOD\" \n",
    "        elif \"지불\" in word_list[w]:\n",
    "            word_list[w] = \"결제\"\n",
    "        elif \"아이모드\" in word_list[w]:\n",
    "            word_list[w] = \"I-MOD\"\n",
    "        elif \"센트럴 파크\" in word_list[w]:\n",
    "            word_list[w] = \"센트럴파크\"\n",
    "        elif \"mod\" in word_list[w]:\n",
    "            word_list[w] = \"I-MOD\"\n",
    "            \n",
    "    noun = ' '.join(s for s in word_list)\n",
    "    tokenized_sentence_list.append(noun)\n",
    "    tokens.append(pos_list)\n",
    "\n",
    "    count_tokens += len(pos_list)\n",
    "\n",
    "print('총 토큰 개수 :', count_tokens)\n",
    "# livinglab['Tokens'] = tokens   # 새로운 열 추가\n",
    "# livinglab['Token_Content'] = tokenized_sentence_list\n",
    "livinglab['NNG_Token_Content'] = tokenized_sentence_list\n",
    "livinglab.head()"
   ]
  },
  {
   "cell_type": "code",
   "execution_count": 29,
   "metadata": {},
   "outputs": [
    {
     "name": "stdout",
     "output_type": "stream",
     "text": [
      "총 토큰 개수 : 2628\n"
     ]
    },
    {
     "data": {
      "text/html": [
       "<div>\n",
       "<style scoped>\n",
       "    .dataframe tbody tr th:only-of-type {\n",
       "        vertical-align: middle;\n",
       "    }\n",
       "\n",
       "    .dataframe tbody tr th {\n",
       "        vertical-align: top;\n",
       "    }\n",
       "\n",
       "    .dataframe thead th {\n",
       "        text-align: right;\n",
       "    }\n",
       "</style>\n",
       "<table border=\"1\" class=\"dataframe\">\n",
       "  <thead>\n",
       "    <tr style=\"text-align: right;\">\n",
       "      <th></th>\n",
       "      <th>start_point</th>\n",
       "      <th>get_on</th>\n",
       "      <th>get_off</th>\n",
       "      <th>end_point</th>\n",
       "      <th>recommend</th>\n",
       "      <th>Tokens</th>\n",
       "      <th>Token_Content</th>\n",
       "      <th>NNG_Token_Content</th>\n",
       "    </tr>\n",
       "  </thead>\n",
       "  <tbody>\n",
       "    <tr>\n",
       "      <th>0</th>\n",
       "      <td>일요일에도 여는 한의원이라 치료를 받고 집으로 돌아감</td>\n",
       "      <td>굳이 건너지 않고 버스를 탈 수 있는게 너무 좋았다마침 버스도 근처에 있어5분도 되...</td>\n",
       "      <td>마찬가지로 횡단보도를 건너지 않고 집에 바로 갈 수 있어 너무 좋았다 사소한 거지만...</td>\n",
       "      <td>버스를 탈때보다는 편하게 길도 안 건너고 도착했다</td>\n",
       "      <td>돌아가는 버스를 이용하는 사람들</td>\n",
       "      <td>[(마찬가지, NNG, (0, 4)), (로, JC, (4, 5)), (횡단보도, ...</td>\n",
       "      <td>마찬가지 횡단보도 집 바로 수 있어 좋았다 사소한 거지 때 발판 게 정말 안전하고 느낌</td>\n",
       "      <td>굳이 버스 탈 수 마침 버스 근처 바로 도착 원래 택시 이용 거나 배차 간격 버스 ...</td>\n",
       "    </tr>\n",
       "    <tr>\n",
       "      <th>1</th>\n",
       "      <td>일을 마치고 필라테스 상담을 하고 집에 가는데 버스간격이 길다 그래서 아이모드를 이...</td>\n",
       "      <td>완정역에서 아이모드를 탑승했다 나밖에 탑승하지 않았고 편하게 집으로 왔다 그런데 평...</td>\n",
       "      <td>차가 진짜 멀미가 심하다 이 점때문에 버스나 택시를 이용할 것  같다는 생각을 했다</td>\n",
       "      <td>가까운 직선거리의 버스 노선이라면 버스를 이용하는게 낫겠다 하는 생각이 들었다</td>\n",
       "      <td>돌아가는 버스를 이용하는 사람들</td>\n",
       "      <td>[(차가, VA, (0, 2)), (진짜, NNG, (3, 5)), (멀미, NNG...</td>\n",
       "      <td>차가 진짜 멀미 심하다 이 점 때문 버스 택시 이용 것 같다는 생각</td>\n",
       "      <td>완정역 I-MOD 탑승 나 탑승 집 평일 저녁 이후 배차 앞 본격 사람 이용 얼마나...</td>\n",
       "    </tr>\n",
       "    <tr>\n",
       "      <th>2</th>\n",
       "      <td>검단의 IMOD를 이용하기 전 IMOD가 먼저 도입됐고 관광하기 좋은 송도를 방문하...</td>\n",
       "      <td>센트럴파크에서 관광을 마친 후 테크노파크역에 있는 송도 현대아울렛에서 쇼핑을 하기 ...</td>\n",
       "      <td>탑승은 일반 버스카드를 태그하듯 QR코드를 기기에 태그하기만 하면 돼서 간편했다 I...</td>\n",
       "      <td>우선 IMOD 버스로 시민들이 보다 저렴한 가격에 쾌적한 환경의 이동수단을 제공받을...</td>\n",
       "      <td>비오는 날 등 기상이 안 좋은 날이나 짐이 많을 때 혹은 거동이 불편한 분이 이동할...</td>\n",
       "      <td>[(탑승, NNG, (0, 2)), (은, JC, (2, 3)), (일반, NNG,...</td>\n",
       "      <td>탑승 일반 버스 카드 태그 듯 코드 기기 태그 간편했다 내부 굉장히 쾌적했다 인형 ...</td>\n",
       "      <td>센트럴 파크 관광 후 테크노파크역 송도 아울렛 쇼핑 위해 어플 이용 를 호출 를 탑...</td>\n",
       "    </tr>\n",
       "    <tr>\n",
       "      <th>3</th>\n",
       "      <td>여자친구와 함께 송도 센트럴파크에 놀러갔다 오랜 시간동안 걸으니 피로가 많이 쌓여서...</td>\n",
       "      <td>카페에서 IMOD호출을 눌렀는데 배차가 되지 않아 20분 정도 기다렸던 것 같다 처...</td>\n",
       "      <td>탑승한 사람이 나와 여자친구밖에 없어서 그런지 최단경로로 목적지까지 이동할 수 있었...</td>\n",
       "      <td>처음이라 비교적 짧은 거리만 이동했지만 다음에는 좀 더 긴 거리를 목적지로 설정해서...</td>\n",
       "      <td>\\n추천  짐이 많거나 목적지까지 거리가 멀지만 시간여유가 있는 시민\\n이유 1 ...</td>\n",
       "      <td>[(탑승, NNG, (0, 2)), (한, JC, (2, 3)), (사람, NNG,...</td>\n",
       "      <td>탑승 사람 여자친구 없어서 그런지 최단 경로 목적지 이동 수 있었다 확실히 버스 좋...</td>\n",
       "      <td>카페 호출 배차 정도 것 처음 점검 당황 이 부분 개선 것 배차 다행 마음 근처 정...</td>\n",
       "    </tr>\n",
       "    <tr>\n",
       "      <th>4</th>\n",
       "      <td>송도에서 놀기 위해 차를 타고 송도로 향했다 송도에서 여기저기를 방문할 예정이라 차...</td>\n",
       "      <td>20분 후에 IMOD에 탑승할 수 있었고 IMOD안에는 추가로 다른 승객이 탑승해 ...</td>\n",
       "      <td>기다린 시간을 포함하여 35분 만에 목적지에 도착할 수 있었다 IMOD를 다른 승객...</td>\n",
       "      <td>하지만 여전히 서비스는 편리했고 쾌적하게 이동할 수 있었다 배차가 진행되지 않았을 ...</td>\n",
       "      <td>\\n추천  시간이 넉넉하고 쾌적하게 이동하고 싶은 사람\\n이유  배차가 빠르게 진...</td>\n",
       "      <td>[(기다린, VV, (0, 3)), (시간, NNG, (4, 6)), (을, JC,...</td>\n",
       "      <td>시간 포함 목적지 도착 수 있었다 를 다른 승객 적 처음 다른 승객 때문 약간 경로...</td>\n",
       "      <td>후 탑승 수 안 추가 다른 승객 탑승 를 다수 이용 매번 혼자 이용 다른 승객 처음...</td>\n",
       "    </tr>\n",
       "  </tbody>\n",
       "</table>\n",
       "</div>"
      ],
      "text/plain": [
       "                                         start_point  \\\n",
       "0                      일요일에도 여는 한의원이라 치료를 받고 집으로 돌아감   \n",
       "1  일을 마치고 필라테스 상담을 하고 집에 가는데 버스간격이 길다 그래서 아이모드를 이...   \n",
       "2  검단의 IMOD를 이용하기 전 IMOD가 먼저 도입됐고 관광하기 좋은 송도를 방문하...   \n",
       "3  여자친구와 함께 송도 센트럴파크에 놀러갔다 오랜 시간동안 걸으니 피로가 많이 쌓여서...   \n",
       "4  송도에서 놀기 위해 차를 타고 송도로 향했다 송도에서 여기저기를 방문할 예정이라 차...   \n",
       "\n",
       "                                              get_on  \\\n",
       "0  굳이 건너지 않고 버스를 탈 수 있는게 너무 좋았다마침 버스도 근처에 있어5분도 되...   \n",
       "1  완정역에서 아이모드를 탑승했다 나밖에 탑승하지 않았고 편하게 집으로 왔다 그런데 평...   \n",
       "2  센트럴파크에서 관광을 마친 후 테크노파크역에 있는 송도 현대아울렛에서 쇼핑을 하기 ...   \n",
       "3  카페에서 IMOD호출을 눌렀는데 배차가 되지 않아 20분 정도 기다렸던 것 같다 처...   \n",
       "4  20분 후에 IMOD에 탑승할 수 있었고 IMOD안에는 추가로 다른 승객이 탑승해 ...   \n",
       "\n",
       "                                             get_off  \\\n",
       "0  마찬가지로 횡단보도를 건너지 않고 집에 바로 갈 수 있어 너무 좋았다 사소한 거지만...   \n",
       "1     차가 진짜 멀미가 심하다 이 점때문에 버스나 택시를 이용할 것  같다는 생각을 했다   \n",
       "2  탑승은 일반 버스카드를 태그하듯 QR코드를 기기에 태그하기만 하면 돼서 간편했다 I...   \n",
       "3  탑승한 사람이 나와 여자친구밖에 없어서 그런지 최단경로로 목적지까지 이동할 수 있었...   \n",
       "4  기다린 시간을 포함하여 35분 만에 목적지에 도착할 수 있었다 IMOD를 다른 승객...   \n",
       "\n",
       "                                           end_point  \\\n",
       "0                        버스를 탈때보다는 편하게 길도 안 건너고 도착했다   \n",
       "1        가까운 직선거리의 버스 노선이라면 버스를 이용하는게 낫겠다 하는 생각이 들었다   \n",
       "2  우선 IMOD 버스로 시민들이 보다 저렴한 가격에 쾌적한 환경의 이동수단을 제공받을...   \n",
       "3  처음이라 비교적 짧은 거리만 이동했지만 다음에는 좀 더 긴 거리를 목적지로 설정해서...   \n",
       "4  하지만 여전히 서비스는 편리했고 쾌적하게 이동할 수 있었다 배차가 진행되지 않았을 ...   \n",
       "\n",
       "                                           recommend  \\\n",
       "0                                  돌아가는 버스를 이용하는 사람들   \n",
       "1                                  돌아가는 버스를 이용하는 사람들   \n",
       "2  비오는 날 등 기상이 안 좋은 날이나 짐이 많을 때 혹은 거동이 불편한 분이 이동할...   \n",
       "3  \n",
       "\\n추천  짐이 많거나 목적지까지 거리가 멀지만 시간여유가 있는 시민\\n이유 1 ...   \n",
       "4  \n",
       "\\n추천  시간이 넉넉하고 쾌적하게 이동하고 싶은 사람\\n이유  배차가 빠르게 진...   \n",
       "\n",
       "                                              Tokens  \\\n",
       "0  [(마찬가지, NNG, (0, 4)), (로, JC, (4, 5)), (횡단보도, ...   \n",
       "1  [(차가, VA, (0, 2)), (진짜, NNG, (3, 5)), (멀미, NNG...   \n",
       "2  [(탑승, NNG, (0, 2)), (은, JC, (2, 3)), (일반, NNG,...   \n",
       "3  [(탑승, NNG, (0, 2)), (한, JC, (2, 3)), (사람, NNG,...   \n",
       "4  [(기다린, VV, (0, 3)), (시간, NNG, (4, 6)), (을, JC,...   \n",
       "\n",
       "                                       Token_Content  \\\n",
       "0   마찬가지 횡단보도 집 바로 수 있어 좋았다 사소한 거지 때 발판 게 정말 안전하고 느낌   \n",
       "1              차가 진짜 멀미 심하다 이 점 때문 버스 택시 이용 것 같다는 생각   \n",
       "2  탑승 일반 버스 카드 태그 듯 코드 기기 태그 간편했다 내부 굉장히 쾌적했다 인형 ...   \n",
       "3  탑승 사람 여자친구 없어서 그런지 최단 경로 목적지 이동 수 있었다 확실히 버스 좋...   \n",
       "4  시간 포함 목적지 도착 수 있었다 를 다른 승객 적 처음 다른 승객 때문 약간 경로...   \n",
       "\n",
       "                                   NNG_Token_Content  \n",
       "0  굳이 버스 탈 수 마침 버스 근처 바로 도착 원래 택시 이용 거나 배차 간격 버스 ...  \n",
       "1  완정역 I-MOD 탑승 나 탑승 집 평일 저녁 이후 배차 앞 본격 사람 이용 얼마나...  \n",
       "2  센트럴 파크 관광 후 테크노파크역 송도 아울렛 쇼핑 위해 어플 이용 를 호출 를 탑...  \n",
       "3  카페 호출 배차 정도 것 처음 점검 당황 이 부분 개선 것 배차 다행 마음 근처 정...  \n",
       "4  후 탑승 수 안 추가 다른 승객 탑승 를 다수 이용 매번 혼자 이용 다른 승객 처음...  "
      ]
     },
     "execution_count": 29,
     "metadata": {},
     "output_type": "execute_result"
    }
   ],
   "source": [
    "from teanaps.nlp import Processing\n",
    "pro = Processing()\n",
    "\n",
    "#고려할 태그\n",
    "tag_list = ['NNG','NNP','VA']\n",
    "\n",
    "comments = livinglab['get_off']\n",
    "\n",
    "# 리뷰 토큰화 후 데이터 프레임에 추가 \n",
    "tokens = []\n",
    "tokenized_sentence_list = []\n",
    "count_tokens = 0\n",
    "for text in comments:\n",
    "    pos_list = ma.parse(text)\n",
    "    word_list = [p[0] for p in pos_list if p[1] in tag_list] \n",
    "\n",
    "    for w in range(len(word_list)) :\n",
    "        if \"IMOD\" in word_list[w]:\n",
    "            word_list[w] = \"I-MOD\" \n",
    "        elif \"지불\" in word_list[w]:\n",
    "            word_list[w] = \"결제\"\n",
    "        elif \"아이모드\" in word_list[w]:\n",
    "            word_list[w] = \"I-MOD\"\n",
    "        elif \"센트럴 파크\" in word_list[w]:\n",
    "            word_list[w] = \"센트럴파크\"\n",
    "        elif \"mod\" in word_list[w]:\n",
    "            word_list[w] = \"I-MOD\"\n",
    "\n",
    "    noun = ' '.join(s for s in word_list)\n",
    "    tokenized_sentence_list.append(noun)\n",
    "    tokens.append(pos_list)\n",
    "\n",
    "    count_tokens += len(pos_list)\n",
    "\n",
    "print('총 토큰 개수 :', count_tokens)\n",
    "livinglab['Tokens'] = tokens   # 새로운 열 추가\n",
    "livinglab['Token_Content'] = tokenized_sentence_list\n",
    "livinglab.head()"
   ]
  },
  {
   "cell_type": "code",
   "execution_count": 30,
   "metadata": {},
   "outputs": [
    {
     "name": "stdout",
     "output_type": "stream",
     "text": [
      "총 토큰 개수 : 2628\n"
     ]
    },
    {
     "data": {
      "text/html": [
       "<div>\n",
       "<style scoped>\n",
       "    .dataframe tbody tr th:only-of-type {\n",
       "        vertical-align: middle;\n",
       "    }\n",
       "\n",
       "    .dataframe tbody tr th {\n",
       "        vertical-align: top;\n",
       "    }\n",
       "\n",
       "    .dataframe thead th {\n",
       "        text-align: right;\n",
       "    }\n",
       "</style>\n",
       "<table border=\"1\" class=\"dataframe\">\n",
       "  <thead>\n",
       "    <tr style=\"text-align: right;\">\n",
       "      <th></th>\n",
       "      <th>start_point</th>\n",
       "      <th>get_on</th>\n",
       "      <th>get_off</th>\n",
       "      <th>end_point</th>\n",
       "      <th>recommend</th>\n",
       "      <th>Tokens</th>\n",
       "      <th>Token_Content</th>\n",
       "      <th>NNG_Token_Content</th>\n",
       "    </tr>\n",
       "  </thead>\n",
       "  <tbody>\n",
       "    <tr>\n",
       "      <th>0</th>\n",
       "      <td>일요일에도 여는 한의원이라 치료를 받고 집으로 돌아감</td>\n",
       "      <td>굳이 건너지 않고 버스를 탈 수 있는게 너무 좋았다마침 버스도 근처에 있어5분도 되...</td>\n",
       "      <td>마찬가지로 횡단보도를 건너지 않고 집에 바로 갈 수 있어 너무 좋았다 사소한 거지만...</td>\n",
       "      <td>버스를 탈때보다는 편하게 길도 안 건너고 도착했다</td>\n",
       "      <td>돌아가는 버스를 이용하는 사람들</td>\n",
       "      <td>[(마찬가지, NNG, (0, 4)), (로, JC, (4, 5)), (횡단보도, ...</td>\n",
       "      <td>마찬가지 횡단보도 집 바로 수 있어 좋았다 사소한 거지 때 발판 게 정말 안전하고 느낌</td>\n",
       "      <td>마찬가지 횡단보도 집 바로 수 거지 때 발판 게 정말 느낌</td>\n",
       "    </tr>\n",
       "    <tr>\n",
       "      <th>1</th>\n",
       "      <td>일을 마치고 필라테스 상담을 하고 집에 가는데 버스간격이 길다 그래서 아이모드를 이...</td>\n",
       "      <td>완정역에서 아이모드를 탑승했다 나밖에 탑승하지 않았고 편하게 집으로 왔다 그런데 평...</td>\n",
       "      <td>차가 진짜 멀미가 심하다 이 점때문에 버스나 택시를 이용할 것  같다는 생각을 했다</td>\n",
       "      <td>가까운 직선거리의 버스 노선이라면 버스를 이용하는게 낫겠다 하는 생각이 들었다</td>\n",
       "      <td>돌아가는 버스를 이용하는 사람들</td>\n",
       "      <td>[(차가, VA, (0, 2)), (진짜, NNG, (3, 5)), (멀미, NNG...</td>\n",
       "      <td>차가 진짜 멀미 심하다 이 점 때문 버스 택시 이용 것 같다는 생각</td>\n",
       "      <td>진짜 멀미 이 점 때문 버스 택시 이용 것 생각</td>\n",
       "    </tr>\n",
       "    <tr>\n",
       "      <th>2</th>\n",
       "      <td>검단의 IMOD를 이용하기 전 IMOD가 먼저 도입됐고 관광하기 좋은 송도를 방문하...</td>\n",
       "      <td>센트럴파크에서 관광을 마친 후 테크노파크역에 있는 송도 현대아울렛에서 쇼핑을 하기 ...</td>\n",
       "      <td>탑승은 일반 버스카드를 태그하듯 QR코드를 기기에 태그하기만 하면 돼서 간편했다 I...</td>\n",
       "      <td>우선 IMOD 버스로 시민들이 보다 저렴한 가격에 쾌적한 환경의 이동수단을 제공받을...</td>\n",
       "      <td>비오는 날 등 기상이 안 좋은 날이나 짐이 많을 때 혹은 거동이 불편한 분이 이동할...</td>\n",
       "      <td>[(탑승, NNG, (0, 2)), (은, JC, (2, 3)), (일반, NNG,...</td>\n",
       "      <td>탑승 일반 버스 카드 태그 듯 코드 기기 태그 간편했다 내부 굉장히 쾌적했다 인형 ...</td>\n",
       "      <td>탑승 일반 버스 카드 태그 듯 코드 기기 태그 내부 인형 안전벨트 좌석 친밀 감 택...</td>\n",
       "    </tr>\n",
       "    <tr>\n",
       "      <th>3</th>\n",
       "      <td>여자친구와 함께 송도 센트럴파크에 놀러갔다 오랜 시간동안 걸으니 피로가 많이 쌓여서...</td>\n",
       "      <td>카페에서 IMOD호출을 눌렀는데 배차가 되지 않아 20분 정도 기다렸던 것 같다 처...</td>\n",
       "      <td>탑승한 사람이 나와 여자친구밖에 없어서 그런지 최단경로로 목적지까지 이동할 수 있었...</td>\n",
       "      <td>처음이라 비교적 짧은 거리만 이동했지만 다음에는 좀 더 긴 거리를 목적지로 설정해서...</td>\n",
       "      <td>\\n추천  짐이 많거나 목적지까지 거리가 멀지만 시간여유가 있는 시민\\n이유 1 ...</td>\n",
       "      <td>[(탑승, NNG, (0, 2)), (한, JC, (2, 3)), (사람, NNG,...</td>\n",
       "      <td>탑승 사람 여자친구 없어서 그런지 최단 경로 목적지 이동 수 있었다 확실히 버스 좋...</td>\n",
       "      <td>탑승 사람 여자친구 최단 경로 목적지 이동 수 버스 점 생각 버스 버스 승 차감 정...</td>\n",
       "    </tr>\n",
       "    <tr>\n",
       "      <th>4</th>\n",
       "      <td>송도에서 놀기 위해 차를 타고 송도로 향했다 송도에서 여기저기를 방문할 예정이라 차...</td>\n",
       "      <td>20분 후에 IMOD에 탑승할 수 있었고 IMOD안에는 추가로 다른 승객이 탑승해 ...</td>\n",
       "      <td>기다린 시간을 포함하여 35분 만에 목적지에 도착할 수 있었다 IMOD를 다른 승객...</td>\n",
       "      <td>하지만 여전히 서비스는 편리했고 쾌적하게 이동할 수 있었다 배차가 진행되지 않았을 ...</td>\n",
       "      <td>\\n추천  시간이 넉넉하고 쾌적하게 이동하고 싶은 사람\\n이유  배차가 빠르게 진...</td>\n",
       "      <td>[(기다린, VV, (0, 3)), (시간, NNG, (4, 6)), (을, JC,...</td>\n",
       "      <td>시간 포함 목적지 도착 수 있었다 를 다른 승객 적 처음 다른 승객 때문 약간 경로...</td>\n",
       "      <td>시간 포함 목적지 도착 수 를 다른 승객 적 처음 다른 승객 때문 약간 경로 것 미...</td>\n",
       "    </tr>\n",
       "  </tbody>\n",
       "</table>\n",
       "</div>"
      ],
      "text/plain": [
       "                                         start_point  \\\n",
       "0                      일요일에도 여는 한의원이라 치료를 받고 집으로 돌아감   \n",
       "1  일을 마치고 필라테스 상담을 하고 집에 가는데 버스간격이 길다 그래서 아이모드를 이...   \n",
       "2  검단의 IMOD를 이용하기 전 IMOD가 먼저 도입됐고 관광하기 좋은 송도를 방문하...   \n",
       "3  여자친구와 함께 송도 센트럴파크에 놀러갔다 오랜 시간동안 걸으니 피로가 많이 쌓여서...   \n",
       "4  송도에서 놀기 위해 차를 타고 송도로 향했다 송도에서 여기저기를 방문할 예정이라 차...   \n",
       "\n",
       "                                              get_on  \\\n",
       "0  굳이 건너지 않고 버스를 탈 수 있는게 너무 좋았다마침 버스도 근처에 있어5분도 되...   \n",
       "1  완정역에서 아이모드를 탑승했다 나밖에 탑승하지 않았고 편하게 집으로 왔다 그런데 평...   \n",
       "2  센트럴파크에서 관광을 마친 후 테크노파크역에 있는 송도 현대아울렛에서 쇼핑을 하기 ...   \n",
       "3  카페에서 IMOD호출을 눌렀는데 배차가 되지 않아 20분 정도 기다렸던 것 같다 처...   \n",
       "4  20분 후에 IMOD에 탑승할 수 있었고 IMOD안에는 추가로 다른 승객이 탑승해 ...   \n",
       "\n",
       "                                             get_off  \\\n",
       "0  마찬가지로 횡단보도를 건너지 않고 집에 바로 갈 수 있어 너무 좋았다 사소한 거지만...   \n",
       "1     차가 진짜 멀미가 심하다 이 점때문에 버스나 택시를 이용할 것  같다는 생각을 했다   \n",
       "2  탑승은 일반 버스카드를 태그하듯 QR코드를 기기에 태그하기만 하면 돼서 간편했다 I...   \n",
       "3  탑승한 사람이 나와 여자친구밖에 없어서 그런지 최단경로로 목적지까지 이동할 수 있었...   \n",
       "4  기다린 시간을 포함하여 35분 만에 목적지에 도착할 수 있었다 IMOD를 다른 승객...   \n",
       "\n",
       "                                           end_point  \\\n",
       "0                        버스를 탈때보다는 편하게 길도 안 건너고 도착했다   \n",
       "1        가까운 직선거리의 버스 노선이라면 버스를 이용하는게 낫겠다 하는 생각이 들었다   \n",
       "2  우선 IMOD 버스로 시민들이 보다 저렴한 가격에 쾌적한 환경의 이동수단을 제공받을...   \n",
       "3  처음이라 비교적 짧은 거리만 이동했지만 다음에는 좀 더 긴 거리를 목적지로 설정해서...   \n",
       "4  하지만 여전히 서비스는 편리했고 쾌적하게 이동할 수 있었다 배차가 진행되지 않았을 ...   \n",
       "\n",
       "                                           recommend  \\\n",
       "0                                  돌아가는 버스를 이용하는 사람들   \n",
       "1                                  돌아가는 버스를 이용하는 사람들   \n",
       "2  비오는 날 등 기상이 안 좋은 날이나 짐이 많을 때 혹은 거동이 불편한 분이 이동할...   \n",
       "3  \n",
       "\\n추천  짐이 많거나 목적지까지 거리가 멀지만 시간여유가 있는 시민\\n이유 1 ...   \n",
       "4  \n",
       "\\n추천  시간이 넉넉하고 쾌적하게 이동하고 싶은 사람\\n이유  배차가 빠르게 진...   \n",
       "\n",
       "                                              Tokens  \\\n",
       "0  [(마찬가지, NNG, (0, 4)), (로, JC, (4, 5)), (횡단보도, ...   \n",
       "1  [(차가, VA, (0, 2)), (진짜, NNG, (3, 5)), (멀미, NNG...   \n",
       "2  [(탑승, NNG, (0, 2)), (은, JC, (2, 3)), (일반, NNG,...   \n",
       "3  [(탑승, NNG, (0, 2)), (한, JC, (2, 3)), (사람, NNG,...   \n",
       "4  [(기다린, VV, (0, 3)), (시간, NNG, (4, 6)), (을, JC,...   \n",
       "\n",
       "                                       Token_Content  \\\n",
       "0   마찬가지 횡단보도 집 바로 수 있어 좋았다 사소한 거지 때 발판 게 정말 안전하고 느낌   \n",
       "1              차가 진짜 멀미 심하다 이 점 때문 버스 택시 이용 것 같다는 생각   \n",
       "2  탑승 일반 버스 카드 태그 듯 코드 기기 태그 간편했다 내부 굉장히 쾌적했다 인형 ...   \n",
       "3  탑승 사람 여자친구 없어서 그런지 최단 경로 목적지 이동 수 있었다 확실히 버스 좋...   \n",
       "4  시간 포함 목적지 도착 수 있었다 를 다른 승객 적 처음 다른 승객 때문 약간 경로...   \n",
       "\n",
       "                                   NNG_Token_Content  \n",
       "0                   마찬가지 횡단보도 집 바로 수 거지 때 발판 게 정말 느낌  \n",
       "1                         진짜 멀미 이 점 때문 버스 택시 이용 것 생각  \n",
       "2  탑승 일반 버스 카드 태그 듯 코드 기기 태그 내부 인형 안전벨트 좌석 친밀 감 택...  \n",
       "3  탑승 사람 여자친구 최단 경로 목적지 이동 수 버스 점 생각 버스 버스 승 차감 정...  \n",
       "4  시간 포함 목적지 도착 수 를 다른 승객 적 처음 다른 승객 때문 약간 경로 것 미...  "
      ]
     },
     "execution_count": 30,
     "metadata": {},
     "output_type": "execute_result"
    }
   ],
   "source": [
    "#고려할 태그\n",
    "tag_list = ['NNG','NNP']\n",
    "\n",
    "comments = livinglab['get_off']\n",
    "\n",
    "# 리뷰 토큰화 후 데이터 프레임에 추가 \n",
    "tokens = []\n",
    "tokenized_sentence_list = []\n",
    "count_tokens = 0\n",
    "for text in comments:\n",
    "    pos_list = ma.parse(text)\n",
    "    word_list = [p[0] for p in pos_list if p[1] in tag_list]\n",
    "    for w in range(len(word_list)) :\n",
    "        if \"IMOD\" in word_list[w]:\n",
    "            word_list[w] = \"I-MOD\" \n",
    "        elif \"지불\" in word_list[w]:\n",
    "            word_list[w] = \"결제\"\n",
    "        elif \"아이모드\" in word_list[w]:\n",
    "            word_list[w] = \"I-MOD\"\n",
    "        elif \"센트럴 파크\" in word_list[w]:\n",
    "            word_list[w] = \"센트럴파크\"\n",
    "        elif \"mod\" in word_list[w]:\n",
    "            word_list[w] = \"I-MOD\"\n",
    "            \n",
    "    noun = ' '.join(s for s in word_list)\n",
    "    tokenized_sentence_list.append(noun)\n",
    "    tokens.append(pos_list)\n",
    "\n",
    "    count_tokens += len(pos_list)\n",
    "\n",
    "print('총 토큰 개수 :', count_tokens)\n",
    "# livinglab['Tokens'] = tokens   # 새로운 열 추가\n",
    "# livinglab['Token_Content'] = tokenized_sentence_list\n",
    "livinglab['NNG_Token_Content'] = tokenized_sentence_list\n",
    "livinglab.head()"
   ]
  },
  {
   "cell_type": "code",
   "execution_count": 31,
   "metadata": {},
   "outputs": [
    {
     "name": "stdout",
     "output_type": "stream",
     "text": [
      "총 토큰 개수 : 3041\n"
     ]
    },
    {
     "data": {
      "text/html": [
       "<div>\n",
       "<style scoped>\n",
       "    .dataframe tbody tr th:only-of-type {\n",
       "        vertical-align: middle;\n",
       "    }\n",
       "\n",
       "    .dataframe tbody tr th {\n",
       "        vertical-align: top;\n",
       "    }\n",
       "\n",
       "    .dataframe thead th {\n",
       "        text-align: right;\n",
       "    }\n",
       "</style>\n",
       "<table border=\"1\" class=\"dataframe\">\n",
       "  <thead>\n",
       "    <tr style=\"text-align: right;\">\n",
       "      <th></th>\n",
       "      <th>start_point</th>\n",
       "      <th>get_on</th>\n",
       "      <th>get_off</th>\n",
       "      <th>end_point</th>\n",
       "      <th>recommend</th>\n",
       "      <th>Tokens</th>\n",
       "      <th>Token_Content</th>\n",
       "      <th>NNG_Token_Content</th>\n",
       "    </tr>\n",
       "  </thead>\n",
       "  <tbody>\n",
       "    <tr>\n",
       "      <th>0</th>\n",
       "      <td>일요일에도 여는 한의원이라 치료를 받고 집으로 돌아감</td>\n",
       "      <td>굳이 건너지 않고 버스를 탈 수 있는게 너무 좋았다마침 버스도 근처에 있어5분도 되...</td>\n",
       "      <td>마찬가지로 횡단보도를 건너지 않고 집에 바로 갈 수 있어 너무 좋았다 사소한 거지만...</td>\n",
       "      <td>버스를 탈때보다는 편하게 길도 안 건너고 도착했다</td>\n",
       "      <td>돌아가는 버스를 이용하는 사람들</td>\n",
       "      <td>[(버스, NNG, (0, 2)), (를, JC, (2, 3)), (탈때, NNG,...</td>\n",
       "      <td>버스 탈때 편하게 길도 안 도착</td>\n",
       "      <td>마찬가지 횡단보도 집 바로 수 거지 때 발판 게 정말 느낌</td>\n",
       "    </tr>\n",
       "    <tr>\n",
       "      <th>1</th>\n",
       "      <td>일을 마치고 필라테스 상담을 하고 집에 가는데 버스간격이 길다 그래서 아이모드를 이...</td>\n",
       "      <td>완정역에서 아이모드를 탑승했다 나밖에 탑승하지 않았고 편하게 집으로 왔다 그런데 평...</td>\n",
       "      <td>차가 진짜 멀미가 심하다 이 점때문에 버스나 택시를 이용할 것  같다는 생각을 했다</td>\n",
       "      <td>가까운 직선거리의 버스 노선이라면 버스를 이용하는게 낫겠다 하는 생각이 들었다</td>\n",
       "      <td>돌아가는 버스를 이용하는 사람들</td>\n",
       "      <td>[(가까운, VA, (0, 3)), (직선, NNG, (4, 6)), (거리, NN...</td>\n",
       "      <td>가까운 직선 거리 버스 노선 라면 버스 이용 생각</td>\n",
       "      <td>진짜 멀미 이 점 때문 버스 택시 이용 것 생각</td>\n",
       "    </tr>\n",
       "    <tr>\n",
       "      <th>2</th>\n",
       "      <td>검단의 IMOD를 이용하기 전 IMOD가 먼저 도입됐고 관광하기 좋은 송도를 방문하...</td>\n",
       "      <td>센트럴파크에서 관광을 마친 후 테크노파크역에 있는 송도 현대아울렛에서 쇼핑을 하기 ...</td>\n",
       "      <td>탑승은 일반 버스카드를 태그하듯 QR코드를 기기에 태그하기만 하면 돼서 간편했다 I...</td>\n",
       "      <td>우선 IMOD 버스로 시민들이 보다 저렴한 가격에 쾌적한 환경의 이동수단을 제공받을...</td>\n",
       "      <td>비오는 날 등 기상이 안 좋은 날이나 짐이 많을 때 혹은 거동이 불편한 분이 이동할...</td>\n",
       "      <td>[(우선, NNG, (0, 2)), (IMOD, OL, (3, 7)), (버스, N...</td>\n",
       "      <td>우선 버스 시민 저렴한 가격 쾌적한 환경 수단 제공 수 있다는 점 매우 좋다 저렴하...</td>\n",
       "      <td>탑승 일반 버스 카드 태그 듯 코드 기기 태그 내부 인형 안전벨트 좌석 친밀 감 택...</td>\n",
       "    </tr>\n",
       "    <tr>\n",
       "      <th>3</th>\n",
       "      <td>여자친구와 함께 송도 센트럴파크에 놀러갔다 오랜 시간동안 걸으니 피로가 많이 쌓여서...</td>\n",
       "      <td>카페에서 IMOD호출을 눌렀는데 배차가 되지 않아 20분 정도 기다렸던 것 같다 처...</td>\n",
       "      <td>탑승한 사람이 나와 여자친구밖에 없어서 그런지 최단경로로 목적지까지 이동할 수 있었...</td>\n",
       "      <td>처음이라 비교적 짧은 거리만 이동했지만 다음에는 좀 더 긴 거리를 목적지로 설정해서...</td>\n",
       "      <td>\\n추천  짐이 많거나 목적지까지 거리가 멀지만 시간여유가 있는 시민\\n이유 1 ...</td>\n",
       "      <td>[(처음, NNG, (0, 2)), (이라, JC, (2, 4)), (비교, NNG...</td>\n",
       "      <td>처음 비교 짧은 거리 이동 다음 좀 더 거리 목적지 설정 이동 기존 대중교통 이동 ...</td>\n",
       "      <td>탑승 사람 여자친구 최단 경로 목적지 이동 수 버스 점 생각 버스 버스 승 차감 정...</td>\n",
       "    </tr>\n",
       "    <tr>\n",
       "      <th>4</th>\n",
       "      <td>송도에서 놀기 위해 차를 타고 송도로 향했다 송도에서 여기저기를 방문할 예정이라 차...</td>\n",
       "      <td>20분 후에 IMOD에 탑승할 수 있었고 IMOD안에는 추가로 다른 승객이 탑승해 ...</td>\n",
       "      <td>기다린 시간을 포함하여 35분 만에 목적지에 도착할 수 있었다 IMOD를 다른 승객...</td>\n",
       "      <td>하지만 여전히 서비스는 편리했고 쾌적하게 이동할 수 있었다 배차가 진행되지 않았을 ...</td>\n",
       "      <td>\\n추천  시간이 넉넉하고 쾌적하게 이동하고 싶은 사람\\n이유  배차가 빠르게 진...</td>\n",
       "      <td>[(하지만, MAJ, (0, 3)), ( , OL, (3, 4)), (여전히, VA...</td>\n",
       "      <td>여전히 서비스 편리했고 쾌적하게 이동 수 있었다 배차 진행 때 위해 현재 운행 중이...</td>\n",
       "      <td>시간 포함 목적지 도착 수 를 다른 승객 적 처음 다른 승객 때문 약간 경로 것 미...</td>\n",
       "    </tr>\n",
       "  </tbody>\n",
       "</table>\n",
       "</div>"
      ],
      "text/plain": [
       "                                         start_point  \\\n",
       "0                      일요일에도 여는 한의원이라 치료를 받고 집으로 돌아감   \n",
       "1  일을 마치고 필라테스 상담을 하고 집에 가는데 버스간격이 길다 그래서 아이모드를 이...   \n",
       "2  검단의 IMOD를 이용하기 전 IMOD가 먼저 도입됐고 관광하기 좋은 송도를 방문하...   \n",
       "3  여자친구와 함께 송도 센트럴파크에 놀러갔다 오랜 시간동안 걸으니 피로가 많이 쌓여서...   \n",
       "4  송도에서 놀기 위해 차를 타고 송도로 향했다 송도에서 여기저기를 방문할 예정이라 차...   \n",
       "\n",
       "                                              get_on  \\\n",
       "0  굳이 건너지 않고 버스를 탈 수 있는게 너무 좋았다마침 버스도 근처에 있어5분도 되...   \n",
       "1  완정역에서 아이모드를 탑승했다 나밖에 탑승하지 않았고 편하게 집으로 왔다 그런데 평...   \n",
       "2  센트럴파크에서 관광을 마친 후 테크노파크역에 있는 송도 현대아울렛에서 쇼핑을 하기 ...   \n",
       "3  카페에서 IMOD호출을 눌렀는데 배차가 되지 않아 20분 정도 기다렸던 것 같다 처...   \n",
       "4  20분 후에 IMOD에 탑승할 수 있었고 IMOD안에는 추가로 다른 승객이 탑승해 ...   \n",
       "\n",
       "                                             get_off  \\\n",
       "0  마찬가지로 횡단보도를 건너지 않고 집에 바로 갈 수 있어 너무 좋았다 사소한 거지만...   \n",
       "1     차가 진짜 멀미가 심하다 이 점때문에 버스나 택시를 이용할 것  같다는 생각을 했다   \n",
       "2  탑승은 일반 버스카드를 태그하듯 QR코드를 기기에 태그하기만 하면 돼서 간편했다 I...   \n",
       "3  탑승한 사람이 나와 여자친구밖에 없어서 그런지 최단경로로 목적지까지 이동할 수 있었...   \n",
       "4  기다린 시간을 포함하여 35분 만에 목적지에 도착할 수 있었다 IMOD를 다른 승객...   \n",
       "\n",
       "                                           end_point  \\\n",
       "0                        버스를 탈때보다는 편하게 길도 안 건너고 도착했다   \n",
       "1        가까운 직선거리의 버스 노선이라면 버스를 이용하는게 낫겠다 하는 생각이 들었다   \n",
       "2  우선 IMOD 버스로 시민들이 보다 저렴한 가격에 쾌적한 환경의 이동수단을 제공받을...   \n",
       "3  처음이라 비교적 짧은 거리만 이동했지만 다음에는 좀 더 긴 거리를 목적지로 설정해서...   \n",
       "4  하지만 여전히 서비스는 편리했고 쾌적하게 이동할 수 있었다 배차가 진행되지 않았을 ...   \n",
       "\n",
       "                                           recommend  \\\n",
       "0                                  돌아가는 버스를 이용하는 사람들   \n",
       "1                                  돌아가는 버스를 이용하는 사람들   \n",
       "2  비오는 날 등 기상이 안 좋은 날이나 짐이 많을 때 혹은 거동이 불편한 분이 이동할...   \n",
       "3  \n",
       "\\n추천  짐이 많거나 목적지까지 거리가 멀지만 시간여유가 있는 시민\\n이유 1 ...   \n",
       "4  \n",
       "\\n추천  시간이 넉넉하고 쾌적하게 이동하고 싶은 사람\\n이유  배차가 빠르게 진...   \n",
       "\n",
       "                                              Tokens  \\\n",
       "0  [(버스, NNG, (0, 2)), (를, JC, (2, 3)), (탈때, NNG,...   \n",
       "1  [(가까운, VA, (0, 3)), (직선, NNG, (4, 6)), (거리, NN...   \n",
       "2  [(우선, NNG, (0, 2)), (IMOD, OL, (3, 7)), (버스, N...   \n",
       "3  [(처음, NNG, (0, 2)), (이라, JC, (2, 4)), (비교, NNG...   \n",
       "4  [(하지만, MAJ, (0, 3)), ( , OL, (3, 4)), (여전히, VA...   \n",
       "\n",
       "                                       Token_Content  \\\n",
       "0                                  버스 탈때 편하게 길도 안 도착   \n",
       "1                        가까운 직선 거리 버스 노선 라면 버스 이용 생각   \n",
       "2  우선 버스 시민 저렴한 가격 쾌적한 환경 수단 제공 수 있다는 점 매우 좋다 저렴하...   \n",
       "3  처음 비교 짧은 거리 이동 다음 좀 더 거리 목적지 설정 이동 기존 대중교통 이동 ...   \n",
       "4  여전히 서비스 편리했고 쾌적하게 이동 수 있었다 배차 진행 때 위해 현재 운행 중이...   \n",
       "\n",
       "                                   NNG_Token_Content  \n",
       "0                   마찬가지 횡단보도 집 바로 수 거지 때 발판 게 정말 느낌  \n",
       "1                         진짜 멀미 이 점 때문 버스 택시 이용 것 생각  \n",
       "2  탑승 일반 버스 카드 태그 듯 코드 기기 태그 내부 인형 안전벨트 좌석 친밀 감 택...  \n",
       "3  탑승 사람 여자친구 최단 경로 목적지 이동 수 버스 점 생각 버스 버스 승 차감 정...  \n",
       "4  시간 포함 목적지 도착 수 를 다른 승객 적 처음 다른 승객 때문 약간 경로 것 미...  "
      ]
     },
     "execution_count": 31,
     "metadata": {},
     "output_type": "execute_result"
    }
   ],
   "source": [
    "from teanaps.nlp import Processing\n",
    "pro = Processing()\n",
    "\n",
    "#고려할 태그\n",
    "tag_list = ['NNG','NNP','VA']\n",
    "\n",
    "comments = livinglab['end_point']\n",
    "\n",
    "# 리뷰 토큰화 후 데이터 프레임에 추가 \n",
    "tokens = []\n",
    "tokenized_sentence_list = []\n",
    "count_tokens = 0\n",
    "for text in comments:\n",
    "    pos_list = ma.parse(text)\n",
    "    word_list = [p[0] for p in pos_list if p[1] in tag_list] \n",
    "\n",
    "    for w in range(len(word_list)) :\n",
    "        if \"IMOD\" in word_list[w]:\n",
    "            word_list[w] = \"I-MOD\" \n",
    "        elif \"지불\" in word_list[w]:\n",
    "            word_list[w] = \"결제\"\n",
    "        elif \"아이모드\" in word_list[w]:\n",
    "            word_list[w] = \"I-MOD\"\n",
    "        elif \"센트럴 파크\" in word_list[w]:\n",
    "            word_list[w] = \"센트럴파크\"\n",
    "        elif \"mod\" in word_list[w]:\n",
    "            word_list[w] = \"I-MOD\"\n",
    "            \n",
    "    noun = ' '.join(s for s in word_list)\n",
    "    tokenized_sentence_list.append(noun)\n",
    "    tokens.append(pos_list)\n",
    "\n",
    "    count_tokens += len(pos_list)\n",
    "\n",
    "print('총 토큰 개수 :', count_tokens)\n",
    "livinglab['Tokens'] = tokens   # 새로운 열 추가\n",
    "livinglab['Token_Content'] = tokenized_sentence_list\n",
    "livinglab.head()"
   ]
  },
  {
   "cell_type": "code",
   "execution_count": 32,
   "metadata": {},
   "outputs": [
    {
     "name": "stdout",
     "output_type": "stream",
     "text": [
      "총 토큰 개수 : 3041\n"
     ]
    },
    {
     "data": {
      "text/html": [
       "<div>\n",
       "<style scoped>\n",
       "    .dataframe tbody tr th:only-of-type {\n",
       "        vertical-align: middle;\n",
       "    }\n",
       "\n",
       "    .dataframe tbody tr th {\n",
       "        vertical-align: top;\n",
       "    }\n",
       "\n",
       "    .dataframe thead th {\n",
       "        text-align: right;\n",
       "    }\n",
       "</style>\n",
       "<table border=\"1\" class=\"dataframe\">\n",
       "  <thead>\n",
       "    <tr style=\"text-align: right;\">\n",
       "      <th></th>\n",
       "      <th>start_point</th>\n",
       "      <th>get_on</th>\n",
       "      <th>get_off</th>\n",
       "      <th>end_point</th>\n",
       "      <th>recommend</th>\n",
       "      <th>Tokens</th>\n",
       "      <th>Token_Content</th>\n",
       "      <th>NNG_Token_Content</th>\n",
       "    </tr>\n",
       "  </thead>\n",
       "  <tbody>\n",
       "    <tr>\n",
       "      <th>0</th>\n",
       "      <td>일요일에도 여는 한의원이라 치료를 받고 집으로 돌아감</td>\n",
       "      <td>굳이 건너지 않고 버스를 탈 수 있는게 너무 좋았다마침 버스도 근처에 있어5분도 되...</td>\n",
       "      <td>마찬가지로 횡단보도를 건너지 않고 집에 바로 갈 수 있어 너무 좋았다 사소한 거지만...</td>\n",
       "      <td>버스를 탈때보다는 편하게 길도 안 건너고 도착했다</td>\n",
       "      <td>돌아가는 버스를 이용하는 사람들</td>\n",
       "      <td>[(버스, NNG, (0, 2)), (를, JC, (2, 3)), (탈때, NNG,...</td>\n",
       "      <td>버스 탈때 편하게 길도 안 도착</td>\n",
       "      <td>버스 탈때 안 도착</td>\n",
       "    </tr>\n",
       "    <tr>\n",
       "      <th>1</th>\n",
       "      <td>일을 마치고 필라테스 상담을 하고 집에 가는데 버스간격이 길다 그래서 아이모드를 이...</td>\n",
       "      <td>완정역에서 아이모드를 탑승했다 나밖에 탑승하지 않았고 편하게 집으로 왔다 그런데 평...</td>\n",
       "      <td>차가 진짜 멀미가 심하다 이 점때문에 버스나 택시를 이용할 것  같다는 생각을 했다</td>\n",
       "      <td>가까운 직선거리의 버스 노선이라면 버스를 이용하는게 낫겠다 하는 생각이 들었다</td>\n",
       "      <td>돌아가는 버스를 이용하는 사람들</td>\n",
       "      <td>[(가까운, VA, (0, 3)), (직선, NNG, (4, 6)), (거리, NN...</td>\n",
       "      <td>가까운 직선 거리 버스 노선 라면 버스 이용 생각</td>\n",
       "      <td>직선 거리 버스 노선 라면 버스 이용 생각</td>\n",
       "    </tr>\n",
       "    <tr>\n",
       "      <th>2</th>\n",
       "      <td>검단의 IMOD를 이용하기 전 IMOD가 먼저 도입됐고 관광하기 좋은 송도를 방문하...</td>\n",
       "      <td>센트럴파크에서 관광을 마친 후 테크노파크역에 있는 송도 현대아울렛에서 쇼핑을 하기 ...</td>\n",
       "      <td>탑승은 일반 버스카드를 태그하듯 QR코드를 기기에 태그하기만 하면 돼서 간편했다 I...</td>\n",
       "      <td>우선 IMOD 버스로 시민들이 보다 저렴한 가격에 쾌적한 환경의 이동수단을 제공받을...</td>\n",
       "      <td>비오는 날 등 기상이 안 좋은 날이나 짐이 많을 때 혹은 거동이 불편한 분이 이동할...</td>\n",
       "      <td>[(우선, NNG, (0, 2)), (IMOD, OL, (3, 7)), (버스, N...</td>\n",
       "      <td>우선 버스 시민 저렴한 가격 쾌적한 환경 수단 제공 수 있다는 점 매우 좋다 저렴하...</td>\n",
       "      <td>우선 버스 시민 가격 환경 수단 제공 수 점 매우 콜 택시 인상 계양 신도시 먼저 ...</td>\n",
       "    </tr>\n",
       "    <tr>\n",
       "      <th>3</th>\n",
       "      <td>여자친구와 함께 송도 센트럴파크에 놀러갔다 오랜 시간동안 걸으니 피로가 많이 쌓여서...</td>\n",
       "      <td>카페에서 IMOD호출을 눌렀는데 배차가 되지 않아 20분 정도 기다렸던 것 같다 처...</td>\n",
       "      <td>탑승한 사람이 나와 여자친구밖에 없어서 그런지 최단경로로 목적지까지 이동할 수 있었...</td>\n",
       "      <td>처음이라 비교적 짧은 거리만 이동했지만 다음에는 좀 더 긴 거리를 목적지로 설정해서...</td>\n",
       "      <td>\\n추천  짐이 많거나 목적지까지 거리가 멀지만 시간여유가 있는 시민\\n이유 1 ...</td>\n",
       "      <td>[(처음, NNG, (0, 2)), (이라, JC, (2, 4)), (비교, NNG...</td>\n",
       "      <td>처음 비교 짧은 거리 이동 다음 좀 더 거리 목적지 설정 이동 기존 대중교통 이동 ...</td>\n",
       "      <td>처음 비교 거리 이동 다음 좀 더 거리 목적지 설정 이동 기존 대중교통 이동 것 것...</td>\n",
       "    </tr>\n",
       "    <tr>\n",
       "      <th>4</th>\n",
       "      <td>송도에서 놀기 위해 차를 타고 송도로 향했다 송도에서 여기저기를 방문할 예정이라 차...</td>\n",
       "      <td>20분 후에 IMOD에 탑승할 수 있었고 IMOD안에는 추가로 다른 승객이 탑승해 ...</td>\n",
       "      <td>기다린 시간을 포함하여 35분 만에 목적지에 도착할 수 있었다 IMOD를 다른 승객...</td>\n",
       "      <td>하지만 여전히 서비스는 편리했고 쾌적하게 이동할 수 있었다 배차가 진행되지 않았을 ...</td>\n",
       "      <td>\\n추천  시간이 넉넉하고 쾌적하게 이동하고 싶은 사람\\n이유  배차가 빠르게 진...</td>\n",
       "      <td>[(하지만, MAJ, (0, 3)), ( , OL, (3, 4)), (여전히, VA...</td>\n",
       "      <td>여전히 서비스 편리했고 쾌적하게 이동 수 있었다 배차 진행 때 위해 현재 운행 중이...</td>\n",
       "      <td>서비스 이동 수 배차 진행 때 위해 현재 운행 중이 의 위치 아이콘 지도 표시 거 ...</td>\n",
       "    </tr>\n",
       "  </tbody>\n",
       "</table>\n",
       "</div>"
      ],
      "text/plain": [
       "                                         start_point  \\\n",
       "0                      일요일에도 여는 한의원이라 치료를 받고 집으로 돌아감   \n",
       "1  일을 마치고 필라테스 상담을 하고 집에 가는데 버스간격이 길다 그래서 아이모드를 이...   \n",
       "2  검단의 IMOD를 이용하기 전 IMOD가 먼저 도입됐고 관광하기 좋은 송도를 방문하...   \n",
       "3  여자친구와 함께 송도 센트럴파크에 놀러갔다 오랜 시간동안 걸으니 피로가 많이 쌓여서...   \n",
       "4  송도에서 놀기 위해 차를 타고 송도로 향했다 송도에서 여기저기를 방문할 예정이라 차...   \n",
       "\n",
       "                                              get_on  \\\n",
       "0  굳이 건너지 않고 버스를 탈 수 있는게 너무 좋았다마침 버스도 근처에 있어5분도 되...   \n",
       "1  완정역에서 아이모드를 탑승했다 나밖에 탑승하지 않았고 편하게 집으로 왔다 그런데 평...   \n",
       "2  센트럴파크에서 관광을 마친 후 테크노파크역에 있는 송도 현대아울렛에서 쇼핑을 하기 ...   \n",
       "3  카페에서 IMOD호출을 눌렀는데 배차가 되지 않아 20분 정도 기다렸던 것 같다 처...   \n",
       "4  20분 후에 IMOD에 탑승할 수 있었고 IMOD안에는 추가로 다른 승객이 탑승해 ...   \n",
       "\n",
       "                                             get_off  \\\n",
       "0  마찬가지로 횡단보도를 건너지 않고 집에 바로 갈 수 있어 너무 좋았다 사소한 거지만...   \n",
       "1     차가 진짜 멀미가 심하다 이 점때문에 버스나 택시를 이용할 것  같다는 생각을 했다   \n",
       "2  탑승은 일반 버스카드를 태그하듯 QR코드를 기기에 태그하기만 하면 돼서 간편했다 I...   \n",
       "3  탑승한 사람이 나와 여자친구밖에 없어서 그런지 최단경로로 목적지까지 이동할 수 있었...   \n",
       "4  기다린 시간을 포함하여 35분 만에 목적지에 도착할 수 있었다 IMOD를 다른 승객...   \n",
       "\n",
       "                                           end_point  \\\n",
       "0                        버스를 탈때보다는 편하게 길도 안 건너고 도착했다   \n",
       "1        가까운 직선거리의 버스 노선이라면 버스를 이용하는게 낫겠다 하는 생각이 들었다   \n",
       "2  우선 IMOD 버스로 시민들이 보다 저렴한 가격에 쾌적한 환경의 이동수단을 제공받을...   \n",
       "3  처음이라 비교적 짧은 거리만 이동했지만 다음에는 좀 더 긴 거리를 목적지로 설정해서...   \n",
       "4  하지만 여전히 서비스는 편리했고 쾌적하게 이동할 수 있었다 배차가 진행되지 않았을 ...   \n",
       "\n",
       "                                           recommend  \\\n",
       "0                                  돌아가는 버스를 이용하는 사람들   \n",
       "1                                  돌아가는 버스를 이용하는 사람들   \n",
       "2  비오는 날 등 기상이 안 좋은 날이나 짐이 많을 때 혹은 거동이 불편한 분이 이동할...   \n",
       "3  \n",
       "\\n추천  짐이 많거나 목적지까지 거리가 멀지만 시간여유가 있는 시민\\n이유 1 ...   \n",
       "4  \n",
       "\\n추천  시간이 넉넉하고 쾌적하게 이동하고 싶은 사람\\n이유  배차가 빠르게 진...   \n",
       "\n",
       "                                              Tokens  \\\n",
       "0  [(버스, NNG, (0, 2)), (를, JC, (2, 3)), (탈때, NNG,...   \n",
       "1  [(가까운, VA, (0, 3)), (직선, NNG, (4, 6)), (거리, NN...   \n",
       "2  [(우선, NNG, (0, 2)), (IMOD, OL, (3, 7)), (버스, N...   \n",
       "3  [(처음, NNG, (0, 2)), (이라, JC, (2, 4)), (비교, NNG...   \n",
       "4  [(하지만, MAJ, (0, 3)), ( , OL, (3, 4)), (여전히, VA...   \n",
       "\n",
       "                                       Token_Content  \\\n",
       "0                                  버스 탈때 편하게 길도 안 도착   \n",
       "1                        가까운 직선 거리 버스 노선 라면 버스 이용 생각   \n",
       "2  우선 버스 시민 저렴한 가격 쾌적한 환경 수단 제공 수 있다는 점 매우 좋다 저렴하...   \n",
       "3  처음 비교 짧은 거리 이동 다음 좀 더 거리 목적지 설정 이동 기존 대중교통 이동 ...   \n",
       "4  여전히 서비스 편리했고 쾌적하게 이동 수 있었다 배차 진행 때 위해 현재 운행 중이...   \n",
       "\n",
       "                                   NNG_Token_Content  \n",
       "0                                         버스 탈때 안 도착  \n",
       "1                            직선 거리 버스 노선 라면 버스 이용 생각  \n",
       "2  우선 버스 시민 가격 환경 수단 제공 수 점 매우 콜 택시 인상 계양 신도시 먼저 ...  \n",
       "3  처음 비교 거리 이동 다음 좀 더 거리 목적지 설정 이동 기존 대중교통 이동 것 것...  \n",
       "4  서비스 이동 수 배차 진행 때 위해 현재 운행 중이 의 위치 아이콘 지도 표시 거 ...  "
      ]
     },
     "execution_count": 32,
     "metadata": {},
     "output_type": "execute_result"
    }
   ],
   "source": [
    "#고려할 태그\n",
    "tag_list = ['NNG','NNP']\n",
    "\n",
    "comments = livinglab['end_point']\n",
    "\n",
    "# 리뷰 토큰화 후 데이터 프레임에 추가 \n",
    "tokens = []\n",
    "tokenized_sentence_list = []\n",
    "count_tokens = 0\n",
    "for text in comments:\n",
    "    pos_list = ma.parse(text)\n",
    "    word_list = [p[0] for p in pos_list if p[1] in tag_list] \n",
    "\n",
    "    for w in range(len(word_list)) :\n",
    "        if \"IMOD\" in word_list[w]:\n",
    "            word_list[w] = \"I-MOD\" \n",
    "        elif \"지불\" in word_list[w]:\n",
    "            word_list[w] = \"결제\"\n",
    "        elif \"아이모드\" in word_list[w]:\n",
    "            word_list[w] = \"I-MOD\"\n",
    "        elif \"센트럴 파크\" in word_list[w]:\n",
    "            word_list[w] = \"센트럴파크\"\n",
    "        elif \"mod\" in word_list[w]:\n",
    "            word_list[w] = \"I-MOD\"\n",
    "    noun = ' '.join(s for s in word_list)\n",
    "    tokenized_sentence_list.append(noun)\n",
    "    tokens.append(pos_list)\n",
    "\n",
    "    count_tokens += len(pos_list)\n",
    "\n",
    "print('총 토큰 개수 :', count_tokens)\n",
    "# livinglab['Tokens'] = tokens   # 새로운 열 추가\n",
    "# livinglab['Token_Content'] = tokenized_sentence_list\n",
    "livinglab['NNG_Token_Content'] = tokenized_sentence_list\n",
    "livinglab.head()"
   ]
  },
  {
   "cell_type": "code",
   "execution_count": 33,
   "metadata": {},
   "outputs": [
    {
     "name": "stdout",
     "output_type": "stream",
     "text": [
      "총 토큰 개수 : 2873\n"
     ]
    },
    {
     "data": {
      "text/html": [
       "<div>\n",
       "<style scoped>\n",
       "    .dataframe tbody tr th:only-of-type {\n",
       "        vertical-align: middle;\n",
       "    }\n",
       "\n",
       "    .dataframe tbody tr th {\n",
       "        vertical-align: top;\n",
       "    }\n",
       "\n",
       "    .dataframe thead th {\n",
       "        text-align: right;\n",
       "    }\n",
       "</style>\n",
       "<table border=\"1\" class=\"dataframe\">\n",
       "  <thead>\n",
       "    <tr style=\"text-align: right;\">\n",
       "      <th></th>\n",
       "      <th>start_point</th>\n",
       "      <th>get_on</th>\n",
       "      <th>get_off</th>\n",
       "      <th>end_point</th>\n",
       "      <th>recommend</th>\n",
       "      <th>Tokens</th>\n",
       "      <th>Token_Content</th>\n",
       "      <th>NNG_Token_Content</th>\n",
       "    </tr>\n",
       "  </thead>\n",
       "  <tbody>\n",
       "    <tr>\n",
       "      <th>0</th>\n",
       "      <td>일요일에도 여는 한의원이라 치료를 받고 집으로 돌아감</td>\n",
       "      <td>굳이 건너지 않고 버스를 탈 수 있는게 너무 좋았다마침 버스도 근처에 있어5분도 되...</td>\n",
       "      <td>마찬가지로 횡단보도를 건너지 않고 집에 바로 갈 수 있어 너무 좋았다 사소한 거지만...</td>\n",
       "      <td>버스를 탈때보다는 편하게 길도 안 건너고 도착했다</td>\n",
       "      <td>돌아가는 버스를 이용하는 사람들</td>\n",
       "      <td>[(돌아가는, VV, (0, 4)), (버스, NNG, (5, 7)), (를, JC...</td>\n",
       "      <td>버스 이용 사람</td>\n",
       "      <td>버스 탈때 안 도착</td>\n",
       "    </tr>\n",
       "    <tr>\n",
       "      <th>1</th>\n",
       "      <td>일을 마치고 필라테스 상담을 하고 집에 가는데 버스간격이 길다 그래서 아이모드를 이...</td>\n",
       "      <td>완정역에서 아이모드를 탑승했다 나밖에 탑승하지 않았고 편하게 집으로 왔다 그런데 평...</td>\n",
       "      <td>차가 진짜 멀미가 심하다 이 점때문에 버스나 택시를 이용할 것  같다는 생각을 했다</td>\n",
       "      <td>가까운 직선거리의 버스 노선이라면 버스를 이용하는게 낫겠다 하는 생각이 들었다</td>\n",
       "      <td>돌아가는 버스를 이용하는 사람들</td>\n",
       "      <td>[(돌아가는, VV, (0, 4)), (버스, NNG, (5, 7)), (를, JC...</td>\n",
       "      <td>버스 이용 사람</td>\n",
       "      <td>직선 거리 버스 노선 라면 버스 이용 생각</td>\n",
       "    </tr>\n",
       "    <tr>\n",
       "      <th>2</th>\n",
       "      <td>검단의 IMOD를 이용하기 전 IMOD가 먼저 도입됐고 관광하기 좋은 송도를 방문하...</td>\n",
       "      <td>센트럴파크에서 관광을 마친 후 테크노파크역에 있는 송도 현대아울렛에서 쇼핑을 하기 ...</td>\n",
       "      <td>탑승은 일반 버스카드를 태그하듯 QR코드를 기기에 태그하기만 하면 돼서 간편했다 I...</td>\n",
       "      <td>우선 IMOD 버스로 시민들이 보다 저렴한 가격에 쾌적한 환경의 이동수단을 제공받을...</td>\n",
       "      <td>비오는 날 등 기상이 안 좋은 날이나 짐이 많을 때 혹은 거동이 불편한 분이 이동할...</td>\n",
       "      <td>[(비오는, VV, (0, 3)), (날, NNG, (4, 5)), (등, NNG,...</td>\n",
       "      <td>날 등 기상 안 좋은 날 짐 많을 때 거동 불편한 분 이동 생기 택시 대신 를 이용...</td>\n",
       "      <td>우선 버스 시민 가격 환경 수단 제공 수 점 매우 콜 택시 인상 계양 신도시 먼저 ...</td>\n",
       "    </tr>\n",
       "    <tr>\n",
       "      <th>3</th>\n",
       "      <td>여자친구와 함께 송도 센트럴파크에 놀러갔다 오랜 시간동안 걸으니 피로가 많이 쌓여서...</td>\n",
       "      <td>카페에서 IMOD호출을 눌렀는데 배차가 되지 않아 20분 정도 기다렸던 것 같다 처...</td>\n",
       "      <td>탑승한 사람이 나와 여자친구밖에 없어서 그런지 최단경로로 목적지까지 이동할 수 있었...</td>\n",
       "      <td>처음이라 비교적 짧은 거리만 이동했지만 다음에는 좀 더 긴 거리를 목적지로 설정해서...</td>\n",
       "      <td>\\n추천  짐이 많거나 목적지까지 거리가 멀지만 시간여유가 있는 시민\\n이유 1 ...</td>\n",
       "      <td>[(\u000b",
       "\\n, OL, (0, 2)), (추천, NNG, (2, 4)), (짐, NNG...</td>\n",
       "      <td>추천 짐 많거나 목적지 거리 멀지만 시간 여유 있는 시민 이유 탑승 때 발판 버스 ...</td>\n",
       "      <td>처음 비교 거리 이동 다음 좀 더 거리 목적지 설정 이동 기존 대중교통 이동 것 것...</td>\n",
       "    </tr>\n",
       "    <tr>\n",
       "      <th>4</th>\n",
       "      <td>송도에서 놀기 위해 차를 타고 송도로 향했다 송도에서 여기저기를 방문할 예정이라 차...</td>\n",
       "      <td>20분 후에 IMOD에 탑승할 수 있었고 IMOD안에는 추가로 다른 승객이 탑승해 ...</td>\n",
       "      <td>기다린 시간을 포함하여 35분 만에 목적지에 도착할 수 있었다 IMOD를 다른 승객...</td>\n",
       "      <td>하지만 여전히 서비스는 편리했고 쾌적하게 이동할 수 있었다 배차가 진행되지 않았을 ...</td>\n",
       "      <td>\\n추천  시간이 넉넉하고 쾌적하게 이동하고 싶은 사람\\n이유  배차가 빠르게 진...</td>\n",
       "      <td>[(\u000b",
       "\\n, OL, (0, 2)), (추천, NNG, (2, 4)), (시간, NN...</td>\n",
       "      <td>추천 시간 넉넉하고 쾌적하게 이동 사람 이유 배차 빠르게 진행 안될 수 있고 중간 ...</td>\n",
       "      <td>서비스 이동 수 배차 진행 때 위해 현재 운행 중이 의 위치 아이콘 지도 표시 거 ...</td>\n",
       "    </tr>\n",
       "  </tbody>\n",
       "</table>\n",
       "</div>"
      ],
      "text/plain": [
       "                                         start_point  \\\n",
       "0                      일요일에도 여는 한의원이라 치료를 받고 집으로 돌아감   \n",
       "1  일을 마치고 필라테스 상담을 하고 집에 가는데 버스간격이 길다 그래서 아이모드를 이...   \n",
       "2  검단의 IMOD를 이용하기 전 IMOD가 먼저 도입됐고 관광하기 좋은 송도를 방문하...   \n",
       "3  여자친구와 함께 송도 센트럴파크에 놀러갔다 오랜 시간동안 걸으니 피로가 많이 쌓여서...   \n",
       "4  송도에서 놀기 위해 차를 타고 송도로 향했다 송도에서 여기저기를 방문할 예정이라 차...   \n",
       "\n",
       "                                              get_on  \\\n",
       "0  굳이 건너지 않고 버스를 탈 수 있는게 너무 좋았다마침 버스도 근처에 있어5분도 되...   \n",
       "1  완정역에서 아이모드를 탑승했다 나밖에 탑승하지 않았고 편하게 집으로 왔다 그런데 평...   \n",
       "2  센트럴파크에서 관광을 마친 후 테크노파크역에 있는 송도 현대아울렛에서 쇼핑을 하기 ...   \n",
       "3  카페에서 IMOD호출을 눌렀는데 배차가 되지 않아 20분 정도 기다렸던 것 같다 처...   \n",
       "4  20분 후에 IMOD에 탑승할 수 있었고 IMOD안에는 추가로 다른 승객이 탑승해 ...   \n",
       "\n",
       "                                             get_off  \\\n",
       "0  마찬가지로 횡단보도를 건너지 않고 집에 바로 갈 수 있어 너무 좋았다 사소한 거지만...   \n",
       "1     차가 진짜 멀미가 심하다 이 점때문에 버스나 택시를 이용할 것  같다는 생각을 했다   \n",
       "2  탑승은 일반 버스카드를 태그하듯 QR코드를 기기에 태그하기만 하면 돼서 간편했다 I...   \n",
       "3  탑승한 사람이 나와 여자친구밖에 없어서 그런지 최단경로로 목적지까지 이동할 수 있었...   \n",
       "4  기다린 시간을 포함하여 35분 만에 목적지에 도착할 수 있었다 IMOD를 다른 승객...   \n",
       "\n",
       "                                           end_point  \\\n",
       "0                        버스를 탈때보다는 편하게 길도 안 건너고 도착했다   \n",
       "1        가까운 직선거리의 버스 노선이라면 버스를 이용하는게 낫겠다 하는 생각이 들었다   \n",
       "2  우선 IMOD 버스로 시민들이 보다 저렴한 가격에 쾌적한 환경의 이동수단을 제공받을...   \n",
       "3  처음이라 비교적 짧은 거리만 이동했지만 다음에는 좀 더 긴 거리를 목적지로 설정해서...   \n",
       "4  하지만 여전히 서비스는 편리했고 쾌적하게 이동할 수 있었다 배차가 진행되지 않았을 ...   \n",
       "\n",
       "                                           recommend  \\\n",
       "0                                  돌아가는 버스를 이용하는 사람들   \n",
       "1                                  돌아가는 버스를 이용하는 사람들   \n",
       "2  비오는 날 등 기상이 안 좋은 날이나 짐이 많을 때 혹은 거동이 불편한 분이 이동할...   \n",
       "3  \n",
       "\\n추천  짐이 많거나 목적지까지 거리가 멀지만 시간여유가 있는 시민\\n이유 1 ...   \n",
       "4  \n",
       "\\n추천  시간이 넉넉하고 쾌적하게 이동하고 싶은 사람\\n이유  배차가 빠르게 진...   \n",
       "\n",
       "                                              Tokens  \\\n",
       "0  [(돌아가는, VV, (0, 4)), (버스, NNG, (5, 7)), (를, JC...   \n",
       "1  [(돌아가는, VV, (0, 4)), (버스, NNG, (5, 7)), (를, JC...   \n",
       "2  [(비오는, VV, (0, 3)), (날, NNG, (4, 5)), (등, NNG,...   \n",
       "3  [(\n",
       "\\n, OL, (0, 2)), (추천, NNG, (2, 4)), (짐, NNG...   \n",
       "4  [(\n",
       "\\n, OL, (0, 2)), (추천, NNG, (2, 4)), (시간, NN...   \n",
       "\n",
       "                                       Token_Content  \\\n",
       "0                                           버스 이용 사람   \n",
       "1                                           버스 이용 사람   \n",
       "2  날 등 기상 안 좋은 날 짐 많을 때 거동 불편한 분 이동 생기 택시 대신 를 이용...   \n",
       "3  추천 짐 많거나 목적지 거리 멀지만 시간 여유 있는 시민 이유 탑승 때 발판 버스 ...   \n",
       "4  추천 시간 넉넉하고 쾌적하게 이동 사람 이유 배차 빠르게 진행 안될 수 있고 중간 ...   \n",
       "\n",
       "                                   NNG_Token_Content  \n",
       "0                                         버스 탈때 안 도착  \n",
       "1                            직선 거리 버스 노선 라면 버스 이용 생각  \n",
       "2  우선 버스 시민 가격 환경 수단 제공 수 점 매우 콜 택시 인상 계양 신도시 먼저 ...  \n",
       "3  처음 비교 거리 이동 다음 좀 더 거리 목적지 설정 이동 기존 대중교통 이동 것 것...  \n",
       "4  서비스 이동 수 배차 진행 때 위해 현재 운행 중이 의 위치 아이콘 지도 표시 거 ...  "
      ]
     },
     "execution_count": 33,
     "metadata": {},
     "output_type": "execute_result"
    }
   ],
   "source": [
    "from teanaps.nlp import Processing\n",
    "pro = Processing()\n",
    "\n",
    "#고려할 태그\n",
    "tag_list = ['NNG','NNP','VA']\n",
    "\n",
    "comments = livinglab['recommend']\n",
    "\n",
    "# 리뷰 토큰화 후 데이터 프레임에 추가 \n",
    "tokens = []\n",
    "tokenized_sentence_list = []\n",
    "count_tokens = 0\n",
    "for text in comments:\n",
    "    pos_list = ma.parse(text)\n",
    "    word_list = [p[0] for p in pos_list if p[1] in tag_list]\n",
    "\n",
    "    for w in range(len(word_list)) :\n",
    "        if \"IMOD\" in word_list[w]:\n",
    "            word_list[w] = \"I-MOD\" \n",
    "        elif \"지불\" in word_list[w]:\n",
    "            word_list[w] = \"결제\"\n",
    "        elif \"아이모드\" in word_list[w]:\n",
    "            word_list[w] = \"I-MOD\"\n",
    "        elif \"센트럴 파크\" in word_list[w]:\n",
    "            word_list[w] = \"센트럴파크\"\n",
    "        elif \"mod\" in word_list[w]:\n",
    "            word_list[w] = \"I-MOD\"\n",
    "            \n",
    "    noun = ' '.join(s for s in word_list)\n",
    "    tokenized_sentence_list.append(noun)\n",
    "    tokens.append(pos_list)\n",
    "\n",
    "    count_tokens += len(pos_list)\n",
    "\n",
    "print('총 토큰 개수 :', count_tokens)\n",
    "livinglab['Tokens'] = tokens   # 새로운 열 추가\n",
    "livinglab['Token_Content'] = tokenized_sentence_list\n",
    "livinglab.head()"
   ]
  },
  {
   "cell_type": "code",
   "execution_count": 34,
   "metadata": {},
   "outputs": [
    {
     "name": "stdout",
     "output_type": "stream",
     "text": [
      "총 토큰 개수 : 2873\n"
     ]
    },
    {
     "data": {
      "text/html": [
       "<div>\n",
       "<style scoped>\n",
       "    .dataframe tbody tr th:only-of-type {\n",
       "        vertical-align: middle;\n",
       "    }\n",
       "\n",
       "    .dataframe tbody tr th {\n",
       "        vertical-align: top;\n",
       "    }\n",
       "\n",
       "    .dataframe thead th {\n",
       "        text-align: right;\n",
       "    }\n",
       "</style>\n",
       "<table border=\"1\" class=\"dataframe\">\n",
       "  <thead>\n",
       "    <tr style=\"text-align: right;\">\n",
       "      <th></th>\n",
       "      <th>start_point</th>\n",
       "      <th>get_on</th>\n",
       "      <th>get_off</th>\n",
       "      <th>end_point</th>\n",
       "      <th>recommend</th>\n",
       "      <th>Tokens</th>\n",
       "      <th>Token_Content</th>\n",
       "      <th>NNG_Token_Content</th>\n",
       "    </tr>\n",
       "  </thead>\n",
       "  <tbody>\n",
       "    <tr>\n",
       "      <th>0</th>\n",
       "      <td>일요일에도 여는 한의원이라 치료를 받고 집으로 돌아감</td>\n",
       "      <td>굳이 건너지 않고 버스를 탈 수 있는게 너무 좋았다마침 버스도 근처에 있어5분도 되...</td>\n",
       "      <td>마찬가지로 횡단보도를 건너지 않고 집에 바로 갈 수 있어 너무 좋았다 사소한 거지만...</td>\n",
       "      <td>버스를 탈때보다는 편하게 길도 안 건너고 도착했다</td>\n",
       "      <td>돌아가는 버스를 이용하는 사람들</td>\n",
       "      <td>[(돌아가는, VV, (0, 4)), (버스, NNG, (5, 7)), (를, JC...</td>\n",
       "      <td>버스 이용 사람</td>\n",
       "      <td>버스 이용 사람</td>\n",
       "    </tr>\n",
       "    <tr>\n",
       "      <th>1</th>\n",
       "      <td>일을 마치고 필라테스 상담을 하고 집에 가는데 버스간격이 길다 그래서 아이모드를 이...</td>\n",
       "      <td>완정역에서 아이모드를 탑승했다 나밖에 탑승하지 않았고 편하게 집으로 왔다 그런데 평...</td>\n",
       "      <td>차가 진짜 멀미가 심하다 이 점때문에 버스나 택시를 이용할 것  같다는 생각을 했다</td>\n",
       "      <td>가까운 직선거리의 버스 노선이라면 버스를 이용하는게 낫겠다 하는 생각이 들었다</td>\n",
       "      <td>돌아가는 버스를 이용하는 사람들</td>\n",
       "      <td>[(돌아가는, VV, (0, 4)), (버스, NNG, (5, 7)), (를, JC...</td>\n",
       "      <td>버스 이용 사람</td>\n",
       "      <td>버스 이용 사람</td>\n",
       "    </tr>\n",
       "    <tr>\n",
       "      <th>2</th>\n",
       "      <td>검단의 IMOD를 이용하기 전 IMOD가 먼저 도입됐고 관광하기 좋은 송도를 방문하...</td>\n",
       "      <td>센트럴파크에서 관광을 마친 후 테크노파크역에 있는 송도 현대아울렛에서 쇼핑을 하기 ...</td>\n",
       "      <td>탑승은 일반 버스카드를 태그하듯 QR코드를 기기에 태그하기만 하면 돼서 간편했다 I...</td>\n",
       "      <td>우선 IMOD 버스로 시민들이 보다 저렴한 가격에 쾌적한 환경의 이동수단을 제공받을...</td>\n",
       "      <td>비오는 날 등 기상이 안 좋은 날이나 짐이 많을 때 혹은 거동이 불편한 분이 이동할...</td>\n",
       "      <td>[(비오는, VV, (0, 3)), (날, NNG, (4, 5)), (등, NNG,...</td>\n",
       "      <td>날 등 기상 안 좋은 날 짐 많을 때 거동 불편한 분 이동 생기 택시 대신 를 이용...</td>\n",
       "      <td>날 등 기상 안 날 짐 때 거동 분 이동 생기 택시 대신 를 이용 시 전철 이용 것...</td>\n",
       "    </tr>\n",
       "    <tr>\n",
       "      <th>3</th>\n",
       "      <td>여자친구와 함께 송도 센트럴파크에 놀러갔다 오랜 시간동안 걸으니 피로가 많이 쌓여서...</td>\n",
       "      <td>카페에서 IMOD호출을 눌렀는데 배차가 되지 않아 20분 정도 기다렸던 것 같다 처...</td>\n",
       "      <td>탑승한 사람이 나와 여자친구밖에 없어서 그런지 최단경로로 목적지까지 이동할 수 있었...</td>\n",
       "      <td>처음이라 비교적 짧은 거리만 이동했지만 다음에는 좀 더 긴 거리를 목적지로 설정해서...</td>\n",
       "      <td>\\n추천  짐이 많거나 목적지까지 거리가 멀지만 시간여유가 있는 시민\\n이유 1 ...</td>\n",
       "      <td>[(\u000b",
       "\\n, OL, (0, 2)), (추천, NNG, (2, 4)), (짐, NNG...</td>\n",
       "      <td>추천 짐 많거나 목적지 거리 멀지만 시간 여유 있는 시민 이유 탑승 때 발판 버스 ...</td>\n",
       "      <td>추천 짐 목적지 거리 시간 여유 시민 이유 탑승 때 발판 버스 지하철 탑승 때문 짐...</td>\n",
       "    </tr>\n",
       "    <tr>\n",
       "      <th>4</th>\n",
       "      <td>송도에서 놀기 위해 차를 타고 송도로 향했다 송도에서 여기저기를 방문할 예정이라 차...</td>\n",
       "      <td>20분 후에 IMOD에 탑승할 수 있었고 IMOD안에는 추가로 다른 승객이 탑승해 ...</td>\n",
       "      <td>기다린 시간을 포함하여 35분 만에 목적지에 도착할 수 있었다 IMOD를 다른 승객...</td>\n",
       "      <td>하지만 여전히 서비스는 편리했고 쾌적하게 이동할 수 있었다 배차가 진행되지 않았을 ...</td>\n",
       "      <td>\\n추천  시간이 넉넉하고 쾌적하게 이동하고 싶은 사람\\n이유  배차가 빠르게 진...</td>\n",
       "      <td>[(\u000b",
       "\\n, OL, (0, 2)), (추천, NNG, (2, 4)), (시간, NN...</td>\n",
       "      <td>추천 시간 넉넉하고 쾌적하게 이동 사람 이유 배차 빠르게 진행 안될 수 있고 중간 ...</td>\n",
       "      <td>추천 시간 이동 사람 이유 배차 진행 수 중간 경로 변경 수 시간 사람 늦 수</td>\n",
       "    </tr>\n",
       "  </tbody>\n",
       "</table>\n",
       "</div>"
      ],
      "text/plain": [
       "                                         start_point  \\\n",
       "0                      일요일에도 여는 한의원이라 치료를 받고 집으로 돌아감   \n",
       "1  일을 마치고 필라테스 상담을 하고 집에 가는데 버스간격이 길다 그래서 아이모드를 이...   \n",
       "2  검단의 IMOD를 이용하기 전 IMOD가 먼저 도입됐고 관광하기 좋은 송도를 방문하...   \n",
       "3  여자친구와 함께 송도 센트럴파크에 놀러갔다 오랜 시간동안 걸으니 피로가 많이 쌓여서...   \n",
       "4  송도에서 놀기 위해 차를 타고 송도로 향했다 송도에서 여기저기를 방문할 예정이라 차...   \n",
       "\n",
       "                                              get_on  \\\n",
       "0  굳이 건너지 않고 버스를 탈 수 있는게 너무 좋았다마침 버스도 근처에 있어5분도 되...   \n",
       "1  완정역에서 아이모드를 탑승했다 나밖에 탑승하지 않았고 편하게 집으로 왔다 그런데 평...   \n",
       "2  센트럴파크에서 관광을 마친 후 테크노파크역에 있는 송도 현대아울렛에서 쇼핑을 하기 ...   \n",
       "3  카페에서 IMOD호출을 눌렀는데 배차가 되지 않아 20분 정도 기다렸던 것 같다 처...   \n",
       "4  20분 후에 IMOD에 탑승할 수 있었고 IMOD안에는 추가로 다른 승객이 탑승해 ...   \n",
       "\n",
       "                                             get_off  \\\n",
       "0  마찬가지로 횡단보도를 건너지 않고 집에 바로 갈 수 있어 너무 좋았다 사소한 거지만...   \n",
       "1     차가 진짜 멀미가 심하다 이 점때문에 버스나 택시를 이용할 것  같다는 생각을 했다   \n",
       "2  탑승은 일반 버스카드를 태그하듯 QR코드를 기기에 태그하기만 하면 돼서 간편했다 I...   \n",
       "3  탑승한 사람이 나와 여자친구밖에 없어서 그런지 최단경로로 목적지까지 이동할 수 있었...   \n",
       "4  기다린 시간을 포함하여 35분 만에 목적지에 도착할 수 있었다 IMOD를 다른 승객...   \n",
       "\n",
       "                                           end_point  \\\n",
       "0                        버스를 탈때보다는 편하게 길도 안 건너고 도착했다   \n",
       "1        가까운 직선거리의 버스 노선이라면 버스를 이용하는게 낫겠다 하는 생각이 들었다   \n",
       "2  우선 IMOD 버스로 시민들이 보다 저렴한 가격에 쾌적한 환경의 이동수단을 제공받을...   \n",
       "3  처음이라 비교적 짧은 거리만 이동했지만 다음에는 좀 더 긴 거리를 목적지로 설정해서...   \n",
       "4  하지만 여전히 서비스는 편리했고 쾌적하게 이동할 수 있었다 배차가 진행되지 않았을 ...   \n",
       "\n",
       "                                           recommend  \\\n",
       "0                                  돌아가는 버스를 이용하는 사람들   \n",
       "1                                  돌아가는 버스를 이용하는 사람들   \n",
       "2  비오는 날 등 기상이 안 좋은 날이나 짐이 많을 때 혹은 거동이 불편한 분이 이동할...   \n",
       "3  \n",
       "\\n추천  짐이 많거나 목적지까지 거리가 멀지만 시간여유가 있는 시민\\n이유 1 ...   \n",
       "4  \n",
       "\\n추천  시간이 넉넉하고 쾌적하게 이동하고 싶은 사람\\n이유  배차가 빠르게 진...   \n",
       "\n",
       "                                              Tokens  \\\n",
       "0  [(돌아가는, VV, (0, 4)), (버스, NNG, (5, 7)), (를, JC...   \n",
       "1  [(돌아가는, VV, (0, 4)), (버스, NNG, (5, 7)), (를, JC...   \n",
       "2  [(비오는, VV, (0, 3)), (날, NNG, (4, 5)), (등, NNG,...   \n",
       "3  [(\n",
       "\\n, OL, (0, 2)), (추천, NNG, (2, 4)), (짐, NNG...   \n",
       "4  [(\n",
       "\\n, OL, (0, 2)), (추천, NNG, (2, 4)), (시간, NN...   \n",
       "\n",
       "                                       Token_Content  \\\n",
       "0                                           버스 이용 사람   \n",
       "1                                           버스 이용 사람   \n",
       "2  날 등 기상 안 좋은 날 짐 많을 때 거동 불편한 분 이동 생기 택시 대신 를 이용...   \n",
       "3  추천 짐 많거나 목적지 거리 멀지만 시간 여유 있는 시민 이유 탑승 때 발판 버스 ...   \n",
       "4  추천 시간 넉넉하고 쾌적하게 이동 사람 이유 배차 빠르게 진행 안될 수 있고 중간 ...   \n",
       "\n",
       "                                   NNG_Token_Content  \n",
       "0                                           버스 이용 사람  \n",
       "1                                           버스 이용 사람  \n",
       "2  날 등 기상 안 날 짐 때 거동 분 이동 생기 택시 대신 를 이용 시 전철 이용 것...  \n",
       "3  추천 짐 목적지 거리 시간 여유 시민 이유 탑승 때 발판 버스 지하철 탑승 때문 짐...  \n",
       "4        추천 시간 이동 사람 이유 배차 진행 수 중간 경로 변경 수 시간 사람 늦 수  "
      ]
     },
     "execution_count": 34,
     "metadata": {},
     "output_type": "execute_result"
    }
   ],
   "source": [
    "#고려할 태그\n",
    "tag_list = ['NNG','NNP']\n",
    "\n",
    "comments = livinglab['recommend']\n",
    "\n",
    "# 리뷰 토큰화 후 데이터 프레임에 추가 \n",
    "tokens = []\n",
    "tokenized_sentence_list = []\n",
    "count_tokens = 0\n",
    "for text in comments:\n",
    "    pos_list = ma.parse(text)\n",
    "    word_list = [p[0] for p in pos_list if p[1] in tag_list]\n",
    "\n",
    "    for w in range(len(word_list)) :\n",
    "        if \"IMOD\" in word_list[w]:\n",
    "            word_list[w] = \"I-MOD\" \n",
    "        elif \"지불\" in word_list[w]:\n",
    "            word_list[w] = \"결제\"\n",
    "        elif \"아이모드\" in word_list[w]:\n",
    "            word_list[w] = \"I-MOD\"\n",
    "        elif \"센트럴 파크\" in word_list[w]:\n",
    "            word_list[w] = \"센트럴파크\"\n",
    "        elif \"mod\" in word_list[w]:\n",
    "            word_list[w] = \"I-MOD\"\n",
    "            \n",
    "    noun = ' '.join(s for s in word_list)\n",
    "    tokenized_sentence_list.append(noun)\n",
    "    tokens.append(pos_list)\n",
    "\n",
    "    count_tokens += len(pos_list)\n",
    "\n",
    "print('총 토큰 개수 :', count_tokens)\n",
    "# livinglab['Tokens'] = tokens   # 새로운 열 추가\n",
    "# livinglab['Token_Content'] = tokenized_sentence_list\n",
    "livinglab['NNG_Token_Content'] = tokenized_sentence_list\n",
    "livinglab.head()"
   ]
  },
  {
   "cell_type": "markdown",
   "metadata": {},
   "source": [
    "### TF-IDF 워드클라우드(명사)"
   ]
  },
  {
   "cell_type": "code",
   "execution_count": 11,
   "metadata": {},
   "outputs": [],
   "source": [
    "from teanaps.text_analysis import TfidfCalculator\n",
    "\n",
    "tfidf = TfidfCalculator()"
   ]
  },
  {
   "cell_type": "code",
   "execution_count": 37,
   "metadata": {},
   "outputs": [],
   "source": [
    "# TF/TF-IDF 값을 계산합니다.(명사)\n",
    "fa = tfidf.calculation_tfidf(livinglab[\"NNG_Token_Content\"], tfidf_count=100, tfidf_state=True)"
   ]
  },
  {
   "cell_type": "code",
   "execution_count": 38,
   "metadata": {},
   "outputs": [
    {
     "name": "stdout",
     "output_type": "stream",
     "text": [
      "[['버스', 52], ['이용', 51], ['추천', 42], ['이유', 25], ['사람', 24], ['시간', 20], ['배차', 20], ['탑승', 17], ['택시', 13], ['목적지', 13], ['때문', 12], ['정류장', 12], ['i-mod', 12], ['이동', 11], ['호출', 11], ['지역', 10], ['대중교통', 9], ['아이', 9], ['시민', 8], ['경우', 8], ['서비스', 8], ['생각', 8], ['간격', 8], ['기능', 8], ['신도시', 7], ['추가', 7], ['도착', 7], ['홍보', 7], ['노선', 7], ['가기', 6], ['환승', 6], ['배달', 6], ['가지', 6], ['계양역', 6], ['이상', 6], ['결제', 6], ['부모님', 6], ['계양', 6], ['교통', 5], ['송도', 5], ['기사', 5], ['어플', 5], ['일반', 5], ['사용', 5], ['거리', 4], ['발판', 4], ['지하철', 4], ['바로', 4], ['경로', 4], ['인원', 4], ['타고', 4], ['실제', 4], ['수단', 4], ['부분', 4], ['모임', 4], ['인천대학교', 4], ['비교', 4], ['요금', 4], ['알림', 4], ['자주', 4], ['인천', 4], ['운행', 4], ['처음', 4], ['진행', 3], ['거의', 3], ['음식', 3], ['평소', 3], ['오늘', 3], ['안쪽', 3], ['방법', 3], ['시설', 3], ['마트', 3], ['문제', 3], ['운영', 3], ['개선', 3], ['확장', 3], ['먼저', 3], ['활용', 3], ['혜택', 3], ['표시', 3], ['네이버', 3], ['길찾기', 3], ['사시', 3], ['아이트립', 3], ['장점', 3], ['체험', 3], ['조금', 3], ['또한', 3], ['버스정류장', 3], ['한정', 3], ['학교', 3], ['생기', 2], ['대신', 2], ['여유', 2], ['정차', 2], ['중간', 2], ['동승', 2], ['검색', 2], ['공간', 2], ['마을', 2], ['다만', 2], ['그냥', 2], ['포장', 2], ['아내', 2], ['통해', 2], ['모두', 2], ['비용', 2], ['무척', 2], ['날씨', 2], ['주요', 2], ['단점', 2], ['내부', 2], ['중심부', 2], ['정역', 2], ['지구', 2], ['위해', 2], ['편향', 2], ['대한', 2], ['아이디어', 2], ['까페', 2], ['학우', 2], ['캠퍼스', 2], ['기본', 2], ['아울렛', 2], ['굳이', 2], ['지점', 2], ['검단', 2], ['차량', 2], ['승객', 2], ['코스', 2], ['예정', 2], ['하차', 2], ['노인', 2], ['주민', 2], ['갈수', 2], ['용인', 2], ['근처', 2], ['솔밭', 2], ['단축', 2], ['려고', 2], ['기다림', 2], ['필수', 2], ['맛집', 2], ['카페', 2], ['동네', 2], ['골목', 2], ['이제', 2], ['거주', 2], ['모든', 2], ['매우', 2], ['승하', 2], ['생활', 2], ['설정', 2], ['어르신', 2], ['카드', 2], ['등록', 2], ['광고', 2], ['기존', 2], ['이용자', 2], ['학원', 2], ['중학교', 2], ['학생', 2], ['기상', 1], ['거동', 1], ['전철', 1], ['얼마나', 1], ['변경', 1], ['끼리', 1], ['무엇', 1], ['정해진', 1], ['특이', 1], ['사항', 1], ['캐리어', 1], ['계단', 1], ['혼자', 1], ['로만', 1], ['동시', 1], ['가성', 1], ['느낌', 1], ['가격', 1], ['차별', 1], ['주변', 1], ['식당가', 1], ['선호', 1], ['상황', 1], ['풍무동', 1], ['시가', 1], ['달라', 1], ['동쪽', 1], ['주로', 1], ['다소', 1], ['양보', 1], ['만족', 1], ['용이', 1], ['권장', 1], ['승강장', 1], ['언제', 1], ['직접', 1], ['수요', 1], ['불편', 1], ['조율', 1], ['야간', 1], ['대기', 1], ['대형', 1], ['병원', 1], ['사거리', 1], ['오류', 1], ['금곡동', 1], ['마전', 1], ['도움', 1], ['정체', 1], ['누구', 1], ['존재', 1], ['소외', 1], ['중요', 1], ['활성화', 1], ['방안', 1], ['정립', 1], ['상태', 1], ['의견', 1], ['지금', 1], ['이야기', 1], ['다른', 1], ['주재', 1], ['친목', 1], ['도모', 1], ['산행', 1], ['브런치', 1], ['키즈', 1], ['운동', 1], ['문화', 1], ['내용', 1], ['확정', 1], ['만약', 1], ['미적', 1], ['저상버스', 1], ['대체', 1], ['확인', 1], ['보완', 1], ['방식', 1], ['도입', 1], ['표지판', 1], ['설치', 1], ['티머니', 1], ['동표', 1], ['시점', 1], ['약자', 1], ['횟수', 1], ['베니', 1], ['반려견', 1], ['구독', 1], ['출발', 1], ['지연', 1], ['착시', 1], ['화면', 1], ['통과', 1], ['유아', 1], ['포함', 1], ['자녀', 1], ['보조', 1], ['스탭', 1], ['하교', 1], ['안심', 1], ['대중', 1], ['상세', 1], ['수만', 1], ['개인', 1], ['가능', 1], ['일정', 1], ['달리', 1], ['주시', 1], ['배치', 1], ['제한', 1], ['극적', 1], ['구역', 1], ['다리', 1], ['사이', 1], ['어디', 1], ['운전', 1], ['조심', 1], ['동안', 1], ['편안함', 1], ['컨디션', 1], ['권유', 1], ['베차', 1], ['손님', 1], ['출퇴근시간', 1], ['정말', 1], ['섕각', 1], ['쿠폰', 1], ['부담', 1], ['자차', 1], ['특성', 1], ['위치', 1], ['작동', 1], ['마냥', 1], ['오지', 1], ['탑승권', 1], ['클릭', 1], ['연락', 1], ['간다', 1], ['지인', 1], ['아라마루', 1], ['여행', 1], ['기분', 1], ['아주', 1], ['마음', 1], ['힐링', 1], ['계양구', 1], ['전체', 1], ['출근', 1], ['한번', 1], ['해결', 1], ['타지', 1], ['점도', 1], ['범위', 1], ['아쉬움', 1], ['여러', 1], ['다방면', 1], ['휴대폰', 1], ['목상동', 1], ['이주', 1], ['단지', 1], ['입구', 1], ['군데', 1], ['현수막', 1], ['버스승강장', 1], ['유리', 1], ['노선도', 1], ['용법', 1], ['전단지', 1], ['남동', 1], ['크게', 1], ['친구', 1], ['현재', 1], ['이내', 1], ['탑승객', 1], ['정시', 1], ['혼란', 1], ['영종도', 1], ['아예', 1], ['발달', 1], ['처럼', 1], ['인프라', 1], ['정도', 1], ['구축', 1], ['핵심', 1], ['목표', 1], ['축일', 1], ['리기', 1], ['스스로', 1], ['환경', 1], ['입력', 1], ['등굣길', 1], ['직장인', 1], ['다음', 1], ['아침', 1], ['등교', 1], ['마다', 1], ['플래카드', 1], ['장기동', 1], ['하나', 1]]\n"
     ]
    }
   ],
   "source": [
    "print(tfidf.get_tf_list())"
   ]
  },
  {
   "cell_type": "code",
   "execution_count": 39,
   "metadata": {},
   "outputs": [
    {
     "data": {
      "text/html": [
       "\n",
       "                <script src=\"/static/components/requirejs/require.js\"></script>\n",
       "                <script>\n",
       "                  requirejs.config({\n",
       "                    paths: {\n",
       "                      base: '/static/base',\n",
       "                      plotly: 'https://cdn.plot.ly/plotly-latest.min.js?noext',\n",
       "                    },\n",
       "                  });\n",
       "                </script>\n",
       "                "
      ],
      "text/plain": [
       "<IPython.core.display.HTML object>"
      ]
     },
     "metadata": {},
     "output_type": "display_data"
    },
    {
     "data": {
      "text/html": [
       "\n",
       "                <script src=\"/static/components/requirejs/require.js\"></script>\n",
       "                <script>\n",
       "                  requirejs.config({\n",
       "                    paths: {\n",
       "                      base: '/static/base',\n",
       "                      plotly: 'https://cdn.plot.ly/plotly-latest.min.js?noext',\n",
       "                    },\n",
       "                  });\n",
       "                </script>\n",
       "                "
      ],
      "text/plain": [
       "<IPython.core.display.HTML object>"
      ]
     },
     "metadata": {},
     "output_type": "display_data"
    },
    {
     "data": {
      "application/vnd.plotly.v1+json": {
       "data": [
        {
         "histfunc": "sum",
         "name": "TF",
         "type": "histogram",
         "x": [
          "버스",
          "이용",
          "추천",
          "이유",
          "사람",
          "시간",
          "배차",
          "탑승",
          "택시",
          "목적지",
          "때문",
          "정류장",
          "i-mod",
          "이동",
          "호출",
          "지역",
          "대중교통",
          "아이",
          "시민",
          "경우",
          "서비스",
          "생각",
          "간격",
          "기능",
          "신도시",
          "추가",
          "도착",
          "홍보",
          "노선",
          "가기",
          "환승",
          "배달",
          "가지",
          "계양역",
          "이상",
          "결제",
          "부모님",
          "계양",
          "교통",
          "송도",
          "기사",
          "어플",
          "일반",
          "사용",
          "거리",
          "발판",
          "지하철",
          "바로",
          "경로",
          "인원",
          "타고",
          "실제",
          "수단",
          "부분",
          "모임",
          "인천대학교",
          "비교",
          "요금",
          "알림",
          "자주",
          "인천",
          "운행",
          "처음",
          "진행",
          "거의",
          "음식",
          "평소",
          "오늘",
          "안쪽",
          "방법",
          "시설",
          "마트",
          "문제",
          "운영",
          "개선",
          "확장",
          "먼저",
          "활용",
          "혜택",
          "표시",
          "네이버",
          "길찾기",
          "사시",
          "아이트립",
          "장점",
          "체험",
          "조금",
          "또한",
          "버스정류장",
          "한정",
          "학교",
          "생기",
          "대신",
          "여유",
          "정차",
          "중간",
          "동승",
          "검색",
          "공간",
          "마을"
         ],
         "y": [
          52,
          51,
          42,
          25,
          24,
          20,
          20,
          17,
          13,
          13,
          12,
          12,
          12,
          11,
          11,
          10,
          9,
          9,
          8,
          8,
          8,
          8,
          8,
          8,
          7,
          7,
          7,
          7,
          7,
          6,
          6,
          6,
          6,
          6,
          6,
          6,
          6,
          6,
          5,
          5,
          5,
          5,
          5,
          5,
          4,
          4,
          4,
          4,
          4,
          4,
          4,
          4,
          4,
          4,
          4,
          4,
          4,
          4,
          4,
          4,
          4,
          4,
          4,
          3,
          3,
          3,
          3,
          3,
          3,
          3,
          3,
          3,
          3,
          3,
          3,
          3,
          3,
          3,
          3,
          3,
          3,
          3,
          3,
          3,
          3,
          3,
          3,
          3,
          3,
          3,
          3,
          2,
          2,
          2,
          2,
          2,
          2,
          2,
          2,
          2
         ],
         "yaxis": "y1"
        },
        {
         "name": "TF-IDF",
         "type": "scatter",
         "x": [
          "버스",
          "이용",
          "추천",
          "이유",
          "사람",
          "시간",
          "배차",
          "탑승",
          "택시",
          "목적지",
          "때문",
          "정류장",
          "i-mod",
          "이동",
          "호출",
          "지역",
          "대중교통",
          "아이",
          "시민",
          "경우",
          "서비스",
          "생각",
          "간격",
          "기능",
          "신도시",
          "추가",
          "도착",
          "홍보",
          "노선",
          "가기",
          "환승",
          "배달",
          "가지",
          "계양역",
          "이상",
          "결제",
          "부모님",
          "계양",
          "교통",
          "송도",
          "기사",
          "어플",
          "일반",
          "사용",
          "거리",
          "발판",
          "지하철",
          "바로",
          "경로",
          "인원",
          "타고",
          "실제",
          "수단",
          "부분",
          "모임",
          "인천대학교",
          "비교",
          "요금",
          "알림",
          "자주",
          "인천",
          "운행",
          "처음",
          "진행",
          "거의",
          "음식",
          "평소",
          "오늘",
          "안쪽",
          "방법",
          "시설",
          "마트",
          "문제",
          "운영",
          "개선",
          "확장",
          "먼저",
          "활용",
          "혜택",
          "표시",
          "네이버",
          "길찾기",
          "사시",
          "아이트립",
          "장점",
          "체험",
          "조금",
          "또한",
          "버스정류장",
          "한정",
          "학교",
          "생기",
          "대신",
          "여유",
          "정차",
          "중간",
          "동승",
          "검색",
          "공간",
          "마을"
         ],
         "y": [
          4.823746907503217,
          4.8005227300914886,
          4.097491283140932,
          3.8964471393232314,
          2.76413535846954,
          2.4592035647728427,
          2.3993871189685994,
          2.1026420928765006,
          1.820574123342047,
          1.6171320086702061,
          1.5685189746910164,
          1.5659554983591306,
          1.5128181466936046,
          1.4866343949240144,
          1.4421932434913944,
          1.3782104004183349,
          1.3546635713741682,
          1.3223484286114544,
          1.317657882102851,
          1.2987020218102718,
          1.2946182189644904,
          1.2185440067206958,
          1.2069248013112095,
          1.2067595610787316,
          1.1679424879921825,
          1.091984406381485,
          1.0409638396077774,
          1.0149881443277264,
          0.9639773006494905,
          0.9556318944377158,
          0.9529807455073523,
          0.9199191885837481,
          0.8858921370300973,
          0.8577334104365396,
          0.8352156643156028,
          0.8294934936565155,
          0.8075178921342036,
          0.7658245972784241,
          0.7656283049745983,
          0.751255278252998,
          0.7485954608203399,
          0.7433171974620072,
          0.7433171974620072,
          0.7433171974620072,
          0.7433171974620072,
          0.7430871235654608,
          0.7311202915992489,
          0.7288238577818889,
          0.7280732848542684,
          0.6988618181172666,
          0.6815589889548292,
          0.6541742099833033,
          0.631283685263273,
          0.62956493816608,
          0.6225193629591466,
          0.6139732760432837,
          0.6138563009943622,
          0.6000709782668481,
          0.5986709739398823,
          0.598270169427572,
          0.573044618521804,
          0.572626997229431,
          0.5686092425998928,
          0.5644010723508133,
          0.5518679433638285,
          0.551579490836165,
          0.5403959313686497,
          0.5401378052677919,
          0.5352462408616899,
          0.5235866341738046,
          0.519402698680216,
          0.5165027006092086,
          0.5143588498228902,
          0.49267116957431856,
          0.4724566291868034,
          0.47082228135643145,
          0.4636125946023929,
          0.4603623396057698,
          0.45118895996333647,
          0.4441135721592542,
          0.4364009542747639,
          0.4325687252570107,
          0.42691272717599343,
          0.41323455060516046,
          0.38708266654014944,
          0.37867059814226134,
          0.36763830818579285,
          0.3666103868012236,
          0.3455561667916084,
          0.3442112452054456,
          0.33733568575193834,
          0.33733568575193834,
          0.3350160598422818,
          0.30504619856562165,
          0.30040051563142767,
          0.2996112994493078,
          0.29933548696994117,
          0.27138277508735786,
          0.25300176431395377,
          0.22470847458698087
         ],
         "yaxis": "y2"
        }
       ],
       "layout": {
        "images": [
         {
          "layer": "above",
          "opacity": 0.1,
          "sizex": 0.7,
          "sizey": 0.7,
          "source": "https://raw.githubusercontent.com/fingeredman/teanaps-documents/main/data/logo/teanaps_logo_nbg_1600x400.png",
          "x": 0.5,
          "xanchor": "center",
          "xref": "paper",
          "y": 0.6,
          "yanchor": "center",
          "yref": "paper"
         }
        ],
        "title": "단어빈도 및 TF-IDF (TF & TF-IDF)",
        "xaxis": {
         "exponentformat": "e",
         "showexponent": "all",
         "showticklabels": true,
         "tickangle": -45,
         "tickfont": {
          "color": "black",
          "size": 10
         },
         "title": "단어 (WORD)",
         "titlefont": {
          "color": "black",
          "size": 10
         }
        },
        "yaxis1": {
         "showticklabels": true,
         "side": "left",
         "tickangle": 0,
         "tickfont": {
          "color": "black",
          "size": 10
         },
         "title": "빈도 (TF)",
         "titlefont": {
          "color": "black",
          "size": 10
         }
        },
        "yaxis2": {
         "overlaying": "y1",
         "showticklabels": true,
         "side": "right",
         "tickangle": 0,
         "tickfont": {
          "color": "black",
          "size": 10
         },
         "title": "TF-IDF",
         "titlefont": {
          "color": "black",
          "size": 10
         }
        }
       }
      },
      "text/html": [
       "<div id=\"83428c10-338a-4b46-bdbc-aa73e9eb2db0\" style=\"height: 525px; width: 100%;\" class=\"plotly-graph-div\"></div><script type=\"text/javascript\">require([\"plotly\"], function(Plotly) { window.PLOTLYENV=window.PLOTLYENV || {};window.PLOTLYENV.BASE_URL=\"https://plot.ly\";Plotly.newPlot(\"83428c10-338a-4b46-bdbc-aa73e9eb2db0\", [{\"type\": \"histogram\", \"name\": \"TF\", \"x\": [\"\\ubc84\\uc2a4\", \"\\uc774\\uc6a9\", \"\\ucd94\\ucc9c\", \"\\uc774\\uc720\", \"\\uc0ac\\ub78c\", \"\\uc2dc\\uac04\", \"\\ubc30\\ucc28\", \"\\ud0d1\\uc2b9\", \"\\ud0dd\\uc2dc\", \"\\ubaa9\\uc801\\uc9c0\", \"\\ub54c\\ubb38\", \"\\uc815\\ub958\\uc7a5\", \"i-mod\", \"\\uc774\\ub3d9\", \"\\ud638\\ucd9c\", \"\\uc9c0\\uc5ed\", \"\\ub300\\uc911\\uad50\\ud1b5\", \"\\uc544\\uc774\", \"\\uc2dc\\ubbfc\", \"\\uacbd\\uc6b0\", \"\\uc11c\\ube44\\uc2a4\", \"\\uc0dd\\uac01\", \"\\uac04\\uaca9\", \"\\uae30\\ub2a5\", \"\\uc2e0\\ub3c4\\uc2dc\", \"\\ucd94\\uac00\", \"\\ub3c4\\ucc29\", \"\\ud64d\\ubcf4\", \"\\ub178\\uc120\", \"\\uac00\\uae30\", \"\\ud658\\uc2b9\", \"\\ubc30\\ub2ec\", \"\\uac00\\uc9c0\", \"\\uacc4\\uc591\\uc5ed\", \"\\uc774\\uc0c1\", \"\\uacb0\\uc81c\", \"\\ubd80\\ubaa8\\ub2d8\", \"\\uacc4\\uc591\", \"\\uad50\\ud1b5\", \"\\uc1a1\\ub3c4\", \"\\uae30\\uc0ac\", \"\\uc5b4\\ud50c\", \"\\uc77c\\ubc18\", \"\\uc0ac\\uc6a9\", \"\\uac70\\ub9ac\", \"\\ubc1c\\ud310\", \"\\uc9c0\\ud558\\ucca0\", \"\\ubc14\\ub85c\", \"\\uacbd\\ub85c\", \"\\uc778\\uc6d0\", \"\\ud0c0\\uace0\", \"\\uc2e4\\uc81c\", \"\\uc218\\ub2e8\", \"\\ubd80\\ubd84\", \"\\ubaa8\\uc784\", \"\\uc778\\ucc9c\\ub300\\ud559\\uad50\", \"\\ube44\\uad50\", \"\\uc694\\uae08\", \"\\uc54c\\ub9bc\", \"\\uc790\\uc8fc\", \"\\uc778\\ucc9c\", \"\\uc6b4\\ud589\", \"\\ucc98\\uc74c\", \"\\uc9c4\\ud589\", \"\\uac70\\uc758\", \"\\uc74c\\uc2dd\", \"\\ud3c9\\uc18c\", \"\\uc624\\ub298\", \"\\uc548\\ucabd\", \"\\ubc29\\ubc95\", \"\\uc2dc\\uc124\", \"\\ub9c8\\ud2b8\", \"\\ubb38\\uc81c\", \"\\uc6b4\\uc601\", \"\\uac1c\\uc120\", \"\\ud655\\uc7a5\", \"\\uba3c\\uc800\", \"\\ud65c\\uc6a9\", \"\\ud61c\\ud0dd\", \"\\ud45c\\uc2dc\", \"\\ub124\\uc774\\ubc84\", \"\\uae38\\ucc3e\\uae30\", \"\\uc0ac\\uc2dc\", \"\\uc544\\uc774\\ud2b8\\ub9bd\", \"\\uc7a5\\uc810\", \"\\uccb4\\ud5d8\", \"\\uc870\\uae08\", \"\\ub610\\ud55c\", \"\\ubc84\\uc2a4\\uc815\\ub958\\uc7a5\", \"\\ud55c\\uc815\", \"\\ud559\\uad50\", \"\\uc0dd\\uae30\", \"\\ub300\\uc2e0\", \"\\uc5ec\\uc720\", \"\\uc815\\ucc28\", \"\\uc911\\uac04\", \"\\ub3d9\\uc2b9\", \"\\uac80\\uc0c9\", \"\\uacf5\\uac04\", \"\\ub9c8\\uc744\"], \"y\": [52, 51, 42, 25, 24, 20, 20, 17, 13, 13, 12, 12, 12, 11, 11, 10, 9, 9, 8, 8, 8, 8, 8, 8, 7, 7, 7, 7, 7, 6, 6, 6, 6, 6, 6, 6, 6, 6, 5, 5, 5, 5, 5, 5, 4, 4, 4, 4, 4, 4, 4, 4, 4, 4, 4, 4, 4, 4, 4, 4, 4, 4, 4, 3, 3, 3, 3, 3, 3, 3, 3, 3, 3, 3, 3, 3, 3, 3, 3, 3, 3, 3, 3, 3, 3, 3, 3, 3, 3, 3, 3, 2, 2, 2, 2, 2, 2, 2, 2, 2], \"yaxis\": \"y1\", \"histfunc\": \"sum\"}, {\"type\": \"scatter\", \"name\": \"TF-IDF\", \"x\": [\"\\ubc84\\uc2a4\", \"\\uc774\\uc6a9\", \"\\ucd94\\ucc9c\", \"\\uc774\\uc720\", \"\\uc0ac\\ub78c\", \"\\uc2dc\\uac04\", \"\\ubc30\\ucc28\", \"\\ud0d1\\uc2b9\", \"\\ud0dd\\uc2dc\", \"\\ubaa9\\uc801\\uc9c0\", \"\\ub54c\\ubb38\", \"\\uc815\\ub958\\uc7a5\", \"i-mod\", \"\\uc774\\ub3d9\", \"\\ud638\\ucd9c\", \"\\uc9c0\\uc5ed\", \"\\ub300\\uc911\\uad50\\ud1b5\", \"\\uc544\\uc774\", \"\\uc2dc\\ubbfc\", \"\\uacbd\\uc6b0\", \"\\uc11c\\ube44\\uc2a4\", \"\\uc0dd\\uac01\", \"\\uac04\\uaca9\", \"\\uae30\\ub2a5\", \"\\uc2e0\\ub3c4\\uc2dc\", \"\\ucd94\\uac00\", \"\\ub3c4\\ucc29\", \"\\ud64d\\ubcf4\", \"\\ub178\\uc120\", \"\\uac00\\uae30\", \"\\ud658\\uc2b9\", \"\\ubc30\\ub2ec\", \"\\uac00\\uc9c0\", \"\\uacc4\\uc591\\uc5ed\", \"\\uc774\\uc0c1\", \"\\uacb0\\uc81c\", \"\\ubd80\\ubaa8\\ub2d8\", \"\\uacc4\\uc591\", \"\\uad50\\ud1b5\", \"\\uc1a1\\ub3c4\", \"\\uae30\\uc0ac\", \"\\uc5b4\\ud50c\", \"\\uc77c\\ubc18\", \"\\uc0ac\\uc6a9\", \"\\uac70\\ub9ac\", \"\\ubc1c\\ud310\", \"\\uc9c0\\ud558\\ucca0\", \"\\ubc14\\ub85c\", \"\\uacbd\\ub85c\", \"\\uc778\\uc6d0\", \"\\ud0c0\\uace0\", \"\\uc2e4\\uc81c\", \"\\uc218\\ub2e8\", \"\\ubd80\\ubd84\", \"\\ubaa8\\uc784\", \"\\uc778\\ucc9c\\ub300\\ud559\\uad50\", \"\\ube44\\uad50\", \"\\uc694\\uae08\", \"\\uc54c\\ub9bc\", \"\\uc790\\uc8fc\", \"\\uc778\\ucc9c\", \"\\uc6b4\\ud589\", \"\\ucc98\\uc74c\", \"\\uc9c4\\ud589\", \"\\uac70\\uc758\", \"\\uc74c\\uc2dd\", \"\\ud3c9\\uc18c\", \"\\uc624\\ub298\", \"\\uc548\\ucabd\", \"\\ubc29\\ubc95\", \"\\uc2dc\\uc124\", \"\\ub9c8\\ud2b8\", \"\\ubb38\\uc81c\", \"\\uc6b4\\uc601\", \"\\uac1c\\uc120\", \"\\ud655\\uc7a5\", \"\\uba3c\\uc800\", \"\\ud65c\\uc6a9\", \"\\ud61c\\ud0dd\", \"\\ud45c\\uc2dc\", \"\\ub124\\uc774\\ubc84\", \"\\uae38\\ucc3e\\uae30\", \"\\uc0ac\\uc2dc\", \"\\uc544\\uc774\\ud2b8\\ub9bd\", \"\\uc7a5\\uc810\", \"\\uccb4\\ud5d8\", \"\\uc870\\uae08\", \"\\ub610\\ud55c\", \"\\ubc84\\uc2a4\\uc815\\ub958\\uc7a5\", \"\\ud55c\\uc815\", \"\\ud559\\uad50\", \"\\uc0dd\\uae30\", \"\\ub300\\uc2e0\", \"\\uc5ec\\uc720\", \"\\uc815\\ucc28\", \"\\uc911\\uac04\", \"\\ub3d9\\uc2b9\", \"\\uac80\\uc0c9\", \"\\uacf5\\uac04\", \"\\ub9c8\\uc744\"], \"y\": [4.823746907503217, 4.8005227300914886, 4.097491283140932, 3.8964471393232314, 2.76413535846954, 2.4592035647728427, 2.3993871189685994, 2.1026420928765006, 1.820574123342047, 1.6171320086702061, 1.5685189746910164, 1.5659554983591306, 1.5128181466936046, 1.4866343949240144, 1.4421932434913944, 1.3782104004183349, 1.3546635713741682, 1.3223484286114544, 1.317657882102851, 1.2987020218102718, 1.2946182189644904, 1.2185440067206958, 1.2069248013112095, 1.2067595610787316, 1.1679424879921825, 1.091984406381485, 1.0409638396077774, 1.0149881443277264, 0.9639773006494905, 0.9556318944377158, 0.9529807455073523, 0.9199191885837481, 0.8858921370300973, 0.8577334104365396, 0.8352156643156028, 0.8294934936565155, 0.8075178921342036, 0.7658245972784241, 0.7656283049745983, 0.751255278252998, 0.7485954608203399, 0.7433171974620072, 0.7433171974620072, 0.7433171974620072, 0.7433171974620072, 0.7430871235654608, 0.7311202915992489, 0.7288238577818889, 0.7280732848542684, 0.6988618181172666, 0.6815589889548292, 0.6541742099833033, 0.631283685263273, 0.62956493816608, 0.6225193629591466, 0.6139732760432837, 0.6138563009943622, 0.6000709782668481, 0.5986709739398823, 0.598270169427572, 0.573044618521804, 0.572626997229431, 0.5686092425998928, 0.5644010723508133, 0.5518679433638285, 0.551579490836165, 0.5403959313686497, 0.5401378052677919, 0.5352462408616899, 0.5235866341738046, 0.519402698680216, 0.5165027006092086, 0.5143588498228902, 0.49267116957431856, 0.4724566291868034, 0.47082228135643145, 0.4636125946023929, 0.4603623396057698, 0.45118895996333647, 0.4441135721592542, 0.4364009542747639, 0.4325687252570107, 0.42691272717599343, 0.41323455060516046, 0.38708266654014944, 0.37867059814226134, 0.36763830818579285, 0.3666103868012236, 0.3455561667916084, 0.3442112452054456, 0.33733568575193834, 0.33733568575193834, 0.3350160598422818, 0.30504619856562165, 0.30040051563142767, 0.2996112994493078, 0.29933548696994117, 0.27138277508735786, 0.25300176431395377, 0.22470847458698087], \"yaxis\": \"y2\"}], {\"title\": \"\\ub2e8\\uc5b4\\ube48\\ub3c4 \\ubc0f TF-IDF (TF & TF-IDF)\", \"xaxis\": {\"exponentformat\": \"e\", \"showexponent\": \"all\", \"showticklabels\": true, \"tickangle\": -45, \"tickfont\": {\"color\": \"black\", \"size\": 10}, \"title\": \"\\ub2e8\\uc5b4 (WORD)\", \"titlefont\": {\"color\": \"black\", \"size\": 10}}, \"yaxis1\": {\"showticklabels\": true, \"side\": \"left\", \"tickangle\": 0, \"tickfont\": {\"color\": \"black\", \"size\": 10}, \"title\": \"\\ube48\\ub3c4 (TF)\", \"titlefont\": {\"color\": \"black\", \"size\": 10}}, \"yaxis2\": {\"overlaying\": \"y1\", \"showticklabels\": true, \"side\": \"right\", \"tickangle\": 0, \"tickfont\": {\"color\": \"black\", \"size\": 10}, \"title\": \"TF-IDF\", \"titlefont\": {\"color\": \"black\", \"size\": 10}}, \"images\": [{\"source\": \"https://raw.githubusercontent.com/fingeredman/teanaps-documents/main/data/logo/teanaps_logo_nbg_1600x400.png\", \"xref\": \"paper\", \"yref\": \"paper\", \"x\": 0.5, \"y\": 0.6, \"sizex\": 0.7, \"sizey\": 0.7, \"xanchor\": \"center\", \"yanchor\": \"center\", \"opacity\": 0.1, \"layer\": \"above\"}]}, {\"showLink\": true, \"linkText\": \"Export to plot.ly\"})});</script>"
      ],
      "text/vnd.plotly.v1+html": [
       "<div id=\"83428c10-338a-4b46-bdbc-aa73e9eb2db0\" style=\"height: 525px; width: 100%;\" class=\"plotly-graph-div\"></div><script type=\"text/javascript\">require([\"plotly\"], function(Plotly) { window.PLOTLYENV=window.PLOTLYENV || {};window.PLOTLYENV.BASE_URL=\"https://plot.ly\";Plotly.newPlot(\"83428c10-338a-4b46-bdbc-aa73e9eb2db0\", [{\"type\": \"histogram\", \"name\": \"TF\", \"x\": [\"\\ubc84\\uc2a4\", \"\\uc774\\uc6a9\", \"\\ucd94\\ucc9c\", \"\\uc774\\uc720\", \"\\uc0ac\\ub78c\", \"\\uc2dc\\uac04\", \"\\ubc30\\ucc28\", \"\\ud0d1\\uc2b9\", \"\\ud0dd\\uc2dc\", \"\\ubaa9\\uc801\\uc9c0\", \"\\ub54c\\ubb38\", \"\\uc815\\ub958\\uc7a5\", \"i-mod\", \"\\uc774\\ub3d9\", \"\\ud638\\ucd9c\", \"\\uc9c0\\uc5ed\", \"\\ub300\\uc911\\uad50\\ud1b5\", \"\\uc544\\uc774\", \"\\uc2dc\\ubbfc\", \"\\uacbd\\uc6b0\", \"\\uc11c\\ube44\\uc2a4\", \"\\uc0dd\\uac01\", \"\\uac04\\uaca9\", \"\\uae30\\ub2a5\", \"\\uc2e0\\ub3c4\\uc2dc\", \"\\ucd94\\uac00\", \"\\ub3c4\\ucc29\", \"\\ud64d\\ubcf4\", \"\\ub178\\uc120\", \"\\uac00\\uae30\", \"\\ud658\\uc2b9\", \"\\ubc30\\ub2ec\", \"\\uac00\\uc9c0\", \"\\uacc4\\uc591\\uc5ed\", \"\\uc774\\uc0c1\", \"\\uacb0\\uc81c\", \"\\ubd80\\ubaa8\\ub2d8\", \"\\uacc4\\uc591\", \"\\uad50\\ud1b5\", \"\\uc1a1\\ub3c4\", \"\\uae30\\uc0ac\", \"\\uc5b4\\ud50c\", \"\\uc77c\\ubc18\", \"\\uc0ac\\uc6a9\", \"\\uac70\\ub9ac\", \"\\ubc1c\\ud310\", \"\\uc9c0\\ud558\\ucca0\", \"\\ubc14\\ub85c\", \"\\uacbd\\ub85c\", \"\\uc778\\uc6d0\", \"\\ud0c0\\uace0\", \"\\uc2e4\\uc81c\", \"\\uc218\\ub2e8\", \"\\ubd80\\ubd84\", \"\\ubaa8\\uc784\", \"\\uc778\\ucc9c\\ub300\\ud559\\uad50\", \"\\ube44\\uad50\", \"\\uc694\\uae08\", \"\\uc54c\\ub9bc\", \"\\uc790\\uc8fc\", \"\\uc778\\ucc9c\", \"\\uc6b4\\ud589\", \"\\ucc98\\uc74c\", \"\\uc9c4\\ud589\", \"\\uac70\\uc758\", \"\\uc74c\\uc2dd\", \"\\ud3c9\\uc18c\", \"\\uc624\\ub298\", \"\\uc548\\ucabd\", \"\\ubc29\\ubc95\", \"\\uc2dc\\uc124\", \"\\ub9c8\\ud2b8\", \"\\ubb38\\uc81c\", \"\\uc6b4\\uc601\", \"\\uac1c\\uc120\", \"\\ud655\\uc7a5\", \"\\uba3c\\uc800\", \"\\ud65c\\uc6a9\", \"\\ud61c\\ud0dd\", \"\\ud45c\\uc2dc\", \"\\ub124\\uc774\\ubc84\", \"\\uae38\\ucc3e\\uae30\", \"\\uc0ac\\uc2dc\", \"\\uc544\\uc774\\ud2b8\\ub9bd\", \"\\uc7a5\\uc810\", \"\\uccb4\\ud5d8\", \"\\uc870\\uae08\", \"\\ub610\\ud55c\", \"\\ubc84\\uc2a4\\uc815\\ub958\\uc7a5\", \"\\ud55c\\uc815\", \"\\ud559\\uad50\", \"\\uc0dd\\uae30\", \"\\ub300\\uc2e0\", \"\\uc5ec\\uc720\", \"\\uc815\\ucc28\", \"\\uc911\\uac04\", \"\\ub3d9\\uc2b9\", \"\\uac80\\uc0c9\", \"\\uacf5\\uac04\", \"\\ub9c8\\uc744\"], \"y\": [52, 51, 42, 25, 24, 20, 20, 17, 13, 13, 12, 12, 12, 11, 11, 10, 9, 9, 8, 8, 8, 8, 8, 8, 7, 7, 7, 7, 7, 6, 6, 6, 6, 6, 6, 6, 6, 6, 5, 5, 5, 5, 5, 5, 4, 4, 4, 4, 4, 4, 4, 4, 4, 4, 4, 4, 4, 4, 4, 4, 4, 4, 4, 3, 3, 3, 3, 3, 3, 3, 3, 3, 3, 3, 3, 3, 3, 3, 3, 3, 3, 3, 3, 3, 3, 3, 3, 3, 3, 3, 3, 2, 2, 2, 2, 2, 2, 2, 2, 2], \"yaxis\": \"y1\", \"histfunc\": \"sum\"}, {\"type\": \"scatter\", \"name\": \"TF-IDF\", \"x\": [\"\\ubc84\\uc2a4\", \"\\uc774\\uc6a9\", \"\\ucd94\\ucc9c\", \"\\uc774\\uc720\", \"\\uc0ac\\ub78c\", \"\\uc2dc\\uac04\", \"\\ubc30\\ucc28\", \"\\ud0d1\\uc2b9\", \"\\ud0dd\\uc2dc\", \"\\ubaa9\\uc801\\uc9c0\", \"\\ub54c\\ubb38\", \"\\uc815\\ub958\\uc7a5\", \"i-mod\", \"\\uc774\\ub3d9\", \"\\ud638\\ucd9c\", \"\\uc9c0\\uc5ed\", \"\\ub300\\uc911\\uad50\\ud1b5\", \"\\uc544\\uc774\", \"\\uc2dc\\ubbfc\", \"\\uacbd\\uc6b0\", \"\\uc11c\\ube44\\uc2a4\", \"\\uc0dd\\uac01\", \"\\uac04\\uaca9\", \"\\uae30\\ub2a5\", \"\\uc2e0\\ub3c4\\uc2dc\", \"\\ucd94\\uac00\", \"\\ub3c4\\ucc29\", \"\\ud64d\\ubcf4\", \"\\ub178\\uc120\", \"\\uac00\\uae30\", \"\\ud658\\uc2b9\", \"\\ubc30\\ub2ec\", \"\\uac00\\uc9c0\", \"\\uacc4\\uc591\\uc5ed\", \"\\uc774\\uc0c1\", \"\\uacb0\\uc81c\", \"\\ubd80\\ubaa8\\ub2d8\", \"\\uacc4\\uc591\", \"\\uad50\\ud1b5\", \"\\uc1a1\\ub3c4\", \"\\uae30\\uc0ac\", \"\\uc5b4\\ud50c\", \"\\uc77c\\ubc18\", \"\\uc0ac\\uc6a9\", \"\\uac70\\ub9ac\", \"\\ubc1c\\ud310\", \"\\uc9c0\\ud558\\ucca0\", \"\\ubc14\\ub85c\", \"\\uacbd\\ub85c\", \"\\uc778\\uc6d0\", \"\\ud0c0\\uace0\", \"\\uc2e4\\uc81c\", \"\\uc218\\ub2e8\", \"\\ubd80\\ubd84\", \"\\ubaa8\\uc784\", \"\\uc778\\ucc9c\\ub300\\ud559\\uad50\", \"\\ube44\\uad50\", \"\\uc694\\uae08\", \"\\uc54c\\ub9bc\", \"\\uc790\\uc8fc\", \"\\uc778\\ucc9c\", \"\\uc6b4\\ud589\", \"\\ucc98\\uc74c\", \"\\uc9c4\\ud589\", \"\\uac70\\uc758\", \"\\uc74c\\uc2dd\", \"\\ud3c9\\uc18c\", \"\\uc624\\ub298\", \"\\uc548\\ucabd\", \"\\ubc29\\ubc95\", \"\\uc2dc\\uc124\", \"\\ub9c8\\ud2b8\", \"\\ubb38\\uc81c\", \"\\uc6b4\\uc601\", \"\\uac1c\\uc120\", \"\\ud655\\uc7a5\", \"\\uba3c\\uc800\", \"\\ud65c\\uc6a9\", \"\\ud61c\\ud0dd\", \"\\ud45c\\uc2dc\", \"\\ub124\\uc774\\ubc84\", \"\\uae38\\ucc3e\\uae30\", \"\\uc0ac\\uc2dc\", \"\\uc544\\uc774\\ud2b8\\ub9bd\", \"\\uc7a5\\uc810\", \"\\uccb4\\ud5d8\", \"\\uc870\\uae08\", \"\\ub610\\ud55c\", \"\\ubc84\\uc2a4\\uc815\\ub958\\uc7a5\", \"\\ud55c\\uc815\", \"\\ud559\\uad50\", \"\\uc0dd\\uae30\", \"\\ub300\\uc2e0\", \"\\uc5ec\\uc720\", \"\\uc815\\ucc28\", \"\\uc911\\uac04\", \"\\ub3d9\\uc2b9\", \"\\uac80\\uc0c9\", \"\\uacf5\\uac04\", \"\\ub9c8\\uc744\"], \"y\": [4.823746907503217, 4.8005227300914886, 4.097491283140932, 3.8964471393232314, 2.76413535846954, 2.4592035647728427, 2.3993871189685994, 2.1026420928765006, 1.820574123342047, 1.6171320086702061, 1.5685189746910164, 1.5659554983591306, 1.5128181466936046, 1.4866343949240144, 1.4421932434913944, 1.3782104004183349, 1.3546635713741682, 1.3223484286114544, 1.317657882102851, 1.2987020218102718, 1.2946182189644904, 1.2185440067206958, 1.2069248013112095, 1.2067595610787316, 1.1679424879921825, 1.091984406381485, 1.0409638396077774, 1.0149881443277264, 0.9639773006494905, 0.9556318944377158, 0.9529807455073523, 0.9199191885837481, 0.8858921370300973, 0.8577334104365396, 0.8352156643156028, 0.8294934936565155, 0.8075178921342036, 0.7658245972784241, 0.7656283049745983, 0.751255278252998, 0.7485954608203399, 0.7433171974620072, 0.7433171974620072, 0.7433171974620072, 0.7433171974620072, 0.7430871235654608, 0.7311202915992489, 0.7288238577818889, 0.7280732848542684, 0.6988618181172666, 0.6815589889548292, 0.6541742099833033, 0.631283685263273, 0.62956493816608, 0.6225193629591466, 0.6139732760432837, 0.6138563009943622, 0.6000709782668481, 0.5986709739398823, 0.598270169427572, 0.573044618521804, 0.572626997229431, 0.5686092425998928, 0.5644010723508133, 0.5518679433638285, 0.551579490836165, 0.5403959313686497, 0.5401378052677919, 0.5352462408616899, 0.5235866341738046, 0.519402698680216, 0.5165027006092086, 0.5143588498228902, 0.49267116957431856, 0.4724566291868034, 0.47082228135643145, 0.4636125946023929, 0.4603623396057698, 0.45118895996333647, 0.4441135721592542, 0.4364009542747639, 0.4325687252570107, 0.42691272717599343, 0.41323455060516046, 0.38708266654014944, 0.37867059814226134, 0.36763830818579285, 0.3666103868012236, 0.3455561667916084, 0.3442112452054456, 0.33733568575193834, 0.33733568575193834, 0.3350160598422818, 0.30504619856562165, 0.30040051563142767, 0.2996112994493078, 0.29933548696994117, 0.27138277508735786, 0.25300176431395377, 0.22470847458698087], \"yaxis\": \"y2\"}], {\"title\": \"\\ub2e8\\uc5b4\\ube48\\ub3c4 \\ubc0f TF-IDF (TF & TF-IDF)\", \"xaxis\": {\"exponentformat\": \"e\", \"showexponent\": \"all\", \"showticklabels\": true, \"tickangle\": -45, \"tickfont\": {\"color\": \"black\", \"size\": 10}, \"title\": \"\\ub2e8\\uc5b4 (WORD)\", \"titlefont\": {\"color\": \"black\", \"size\": 10}}, \"yaxis1\": {\"showticklabels\": true, \"side\": \"left\", \"tickangle\": 0, \"tickfont\": {\"color\": \"black\", \"size\": 10}, \"title\": \"\\ube48\\ub3c4 (TF)\", \"titlefont\": {\"color\": \"black\", \"size\": 10}}, \"yaxis2\": {\"overlaying\": \"y1\", \"showticklabels\": true, \"side\": \"right\", \"tickangle\": 0, \"tickfont\": {\"color\": \"black\", \"size\": 10}, \"title\": \"TF-IDF\", \"titlefont\": {\"color\": \"black\", \"size\": 10}}, \"images\": [{\"source\": \"https://raw.githubusercontent.com/fingeredman/teanaps-documents/main/data/logo/teanaps_logo_nbg_1600x400.png\", \"xref\": \"paper\", \"yref\": \"paper\", \"x\": 0.5, \"y\": 0.6, \"sizex\": 0.7, \"sizey\": 0.7, \"xanchor\": \"center\", \"yanchor\": \"center\", \"opacity\": 0.1, \"layer\": \"above\"}]}, {\"showLink\": true, \"linkText\": \"Export to plot.ly\"})});</script>"
      ]
     },
     "metadata": {},
     "output_type": "display_data"
    }
   ],
   "source": [
    "# TF/TF-IDF 계산결과를 그래프로 표현합니다.\n",
    "# 그래프에 표현할 빈도기준 Top N 개를 숫자로 입력합니다.\n",
    "tfidf.draw_tfidf(100)"
   ]
  },
  {
   "cell_type": "code",
   "execution_count": 40,
   "metadata": {},
   "outputs": [
    {
     "data": {
      "text/html": [
       "\n",
       "                <script src=\"/static/components/requirejs/require.js\"></script>\n",
       "                <script>\n",
       "                  requirejs.config({\n",
       "                    paths: {\n",
       "                      base: '/static/base',\n",
       "                      plotly: 'https://cdn.plot.ly/plotly-latest.min.js?noext',\n",
       "                    },\n",
       "                  });\n",
       "                </script>\n",
       "                "
      ],
      "text/plain": [
       "<IPython.core.display.HTML object>"
      ]
     },
     "metadata": {},
     "output_type": "display_data"
    },
    {
     "data": {
      "image/png": "[encoded data removed]",
      "text/plain": [
       "<Figure size 1440x1440 with 1 Axes>"
      ]
     },
     "metadata": {
      "needs_background": "light"
     },
     "output_type": "display_data"
    }
   ],
   "source": [
    "# TF-IDF 기준 워드클라우드를 출력합니다.\n",
    "count_dict = tfidf.get_tfidf_dict()\n",
    "tfidf.get_wordcloud(count_dict)"
   ]
  },
  {
   "cell_type": "markdown",
   "metadata": {},
   "source": [
    "### TF-IDF 워드클라우드(명사+형용사)"
   ]
  },
  {
   "cell_type": "code",
   "execution_count": 41,
   "metadata": {},
   "outputs": [],
   "source": [
    "# TF/TF-IDF 값을 계산합니다.(명사, 형용사)\n",
    "tfidf.calculation_tfidf(livinglab[\"Token_Content\"], tfidf_count=100, tfidf_state=True)"
   ]
  },
  {
   "cell_type": "code",
   "execution_count": 42,
   "metadata": {},
   "outputs": [
    {
     "data": {
      "text/html": [
       "\n",
       "                <script src=\"/static/components/requirejs/require.js\"></script>\n",
       "                <script>\n",
       "                  requirejs.config({\n",
       "                    paths: {\n",
       "                      base: '/static/base',\n",
       "                      plotly: 'https://cdn.plot.ly/plotly-latest.min.js?noext',\n",
       "                    },\n",
       "                  });\n",
       "                </script>\n",
       "                "
      ],
      "text/plain": [
       "<IPython.core.display.HTML object>"
      ]
     },
     "metadata": {},
     "output_type": "display_data"
    },
    {
     "data": {
      "text/html": [
       "\n",
       "                <script src=\"/static/components/requirejs/require.js\"></script>\n",
       "                <script>\n",
       "                  requirejs.config({\n",
       "                    paths: {\n",
       "                      base: '/static/base',\n",
       "                      plotly: 'https://cdn.plot.ly/plotly-latest.min.js?noext',\n",
       "                    },\n",
       "                  });\n",
       "                </script>\n",
       "                "
      ],
      "text/plain": [
       "<IPython.core.display.HTML object>"
      ]
     },
     "metadata": {},
     "output_type": "display_data"
    },
    {
     "data": {
      "application/vnd.plotly.v1+json": {
       "data": [
        {
         "histfunc": "sum",
         "name": "TF",
         "type": "histogram",
         "x": [
          "버스",
          "이용",
          "추천",
          "이유",
          "사람",
          "시간",
          "배차",
          "같다",
          "탑승",
          "택시",
          "목적지",
          "때문",
          "정류장",
          "검단",
          "i-mod",
          "이동",
          "호출",
          "있는",
          "지역",
          "있을",
          "대중교통",
          "아이",
          "시민",
          "많은",
          "경우",
          "서비스",
          "생각",
          "간격",
          "기능",
          "좋을",
          "신도시",
          "추가",
          "있어서",
          "도착",
          "홍보",
          "노선",
          "가기",
          "있다",
          "환승",
          "배달",
          "가지",
          "계양역",
          "이상",
          "결제",
          "부모님",
          "계양",
          "편리하고",
          "교통",
          "송도",
          "기사",
          "어플",
          "일반",
          "사용",
          "불편한",
          "거리",
          "발판",
          "지하철",
          "바로",
          "빠르게",
          "경로",
          "편리하게",
          "인원",
          "타고",
          "실제",
          "수단",
          "부분",
          "모임",
          "인천대학교",
          "빠른",
          "안전하게",
          "있다는",
          "비교",
          "요금",
          "알림",
          "자주",
          "인천",
          "원하는",
          "운행",
          "처음",
          "좋았다",
          "있어",
          "많거나",
          "쾌적하게",
          "진행",
          "있고",
          "좋다",
          "빠르고",
          "거의",
          "무거운",
          "같은",
          "음식",
          "입니다",
          "평소",
          "오늘",
          "안쪽",
          "방법",
          "시설",
          "마트",
          "길어",
          "문제"
         ],
         "y": [
          52,
          51,
          42,
          25,
          24,
          20,
          20,
          17,
          17,
          13,
          13,
          12,
          12,
          12,
          12,
          11,
          11,
          10,
          10,
          9,
          9,
          9,
          8,
          8,
          8,
          8,
          8,
          8,
          8,
          7,
          7,
          7,
          7,
          7,
          7,
          7,
          6,
          6,
          6,
          6,
          6,
          6,
          6,
          6,
          6,
          6,
          5,
          5,
          5,
          5,
          5,
          5,
          5,
          4,
          4,
          4,
          4,
          4,
          4,
          4,
          4,
          4,
          4,
          4,
          4,
          4,
          4,
          4,
          4,
          4,
          4,
          4,
          4,
          4,
          4,
          4,
          4,
          4,
          4,
          4,
          3,
          3,
          3,
          3,
          3,
          3,
          3,
          3,
          3,
          3,
          3,
          3,
          3,
          3,
          3,
          3,
          3,
          3,
          3,
          3
         ],
         "yaxis": "y1"
        },
        {
         "name": "TF-IDF",
         "type": "scatter",
         "x": [
          "버스",
          "이용",
          "추천",
          "이유",
          "사람",
          "시간",
          "배차",
          "같다",
          "탑승",
          "택시",
          "목적지",
          "때문",
          "정류장",
          "검단",
          "i-mod",
          "이동",
          "호출",
          "있는",
          "지역",
          "있을",
          "대중교통",
          "아이",
          "시민",
          "많은",
          "경우",
          "서비스",
          "생각",
          "간격",
          "기능",
          "좋을",
          "신도시",
          "추가",
          "있어서",
          "도착",
          "홍보",
          "노선",
          "가기",
          "있다",
          "환승",
          "배달",
          "가지",
          "계양역",
          "이상",
          "결제",
          "부모님",
          "계양",
          "편리하고",
          "교통",
          "송도",
          "기사",
          "어플",
          "일반",
          "사용",
          "불편한",
          "거리",
          "발판",
          "지하철",
          "바로",
          "빠르게",
          "경로",
          "편리하게",
          "인원",
          "타고",
          "실제",
          "수단",
          "부분",
          "모임",
          "인천대학교",
          "빠른",
          "안전하게",
          "있다는",
          "비교",
          "요금",
          "알림",
          "자주",
          "인천",
          "원하는",
          "운행",
          "처음",
          "좋았다",
          "있어",
          "많거나",
          "쾌적하게",
          "진행",
          "있고",
          "좋다",
          "빠르고",
          "거의",
          "무거운",
          "같은",
          "음식",
          "입니다",
          "평소",
          "오늘",
          "안쪽",
          "방법",
          "시설",
          "마트",
          "길어",
          "문제"
         ],
         "y": [
          4.348812579243054,
          4.347649706864549,
          3.5418627504589786,
          3.45588471411265,
          2.3353852983120134,
          2.1119791265921966,
          2.0888446485373486,
          1.7413885362776376,
          1.6282652856997726,
          1.5024023738665748,
          1.4278805629685996,
          1.4276844705382512,
          1.4165519715443213,
          1.4049893997760967,
          1.3997666460019809,
          1.3994362249000603,
          1.2751144699281896,
          1.2273827988801567,
          1.1759113305836648,
          1.175899767666207,
          1.168466374919372,
          1.1577899435275478,
          1.10676604379426,
          1.0856752105936787,
          1.0838328207252823,
          1.0704612601034973,
          1.0681039859479478,
          1.0619093727075763,
          1.041991268031817,
          1.0415127873525107,
          1.025998685233601,
          0.9802210130388824,
          0.9495286030387188,
          0.8751328522804765,
          0.8684361266312276,
          0.8667441072740008,
          0.8631836543644523,
          0.8523582639127054,
          0.8308486598238277,
          0.8244514792951388,
          0.8227605520361319,
          0.8102215116804452,
          0.7752788963292628,
          0.7300097063541425,
          0.7091222386553228,
          0.6749475993156138,
          0.6737167380376478,
          0.6737145814998915,
          0.6733108594515622,
          0.663305901846727,
          0.6532075920481586,
          0.6450036358693113,
          0.6409662232877538,
          0.6397625019242464,
          0.6347335595251882,
          0.6328310868663406,
          0.6328109051821069,
          0.61984549613418,
          0.6100172378322544,
          0.6024541944425794,
          0.5928480959774832,
          0.5926361503451403,
          0.5885911933558176,
          0.5839719869074803,
          0.5775924615225718,
          0.57642280668028,
          0.5675294290197174,
          0.5669031507224866,
          0.5615739410173683,
          0.5597864786198814,
          0.5570609731615408,
          0.553458310452803,
          0.5480730494532241,
          0.5452410615377238,
          0.5445461818016173,
          0.5267788882653341,
          0.5138236962182328,
          0.49691170380786,
          0.49681925906418734,
          0.49614687982544653,
          0.49454428328057237,
          0.4883223295734252,
          0.4876787681000044,
          0.4816067423094959,
          0.4796298724072545,
          0.478335412088982,
          0.46188398829529914,
          0.45695013554451924,
          0.44837544586070893,
          0.4270764464327936,
          0.4245928446643177,
          0.40340286280101423,
          0.3718736977519115,
          0.33843414194391663,
          0.3257012367119036,
          0.3257012367119036,
          0.31974830581921665,
          0.31847506767949335,
          0.2987743449785848,
          0.28821140334014
         ],
         "yaxis": "y2"
        }
       ],
       "layout": {
        "images": [
         {
          "layer": "above",
          "opacity": 0.1,
          "sizex": 0.7,
          "sizey": 0.7,
          "source": "https://raw.githubusercontent.com/fingeredman/teanaps-documents/main/data/logo/teanaps_logo_nbg_1600x400.png",
          "x": 0.5,
          "xanchor": "center",
          "xref": "paper",
          "y": 0.6,
          "yanchor": "center",
          "yref": "paper"
         }
        ],
        "title": "단어빈도 및 TF-IDF (TF & TF-IDF)",
        "xaxis": {
         "exponentformat": "e",
         "showexponent": "all",
         "showticklabels": true,
         "tickangle": -45,
         "tickfont": {
          "color": "black",
          "size": 10
         },
         "title": "단어 (WORD)",
         "titlefont": {
          "color": "black",
          "size": 10
         }
        },
        "yaxis1": {
         "showticklabels": true,
         "side": "left",
         "tickangle": 0,
         "tickfont": {
          "color": "black",
          "size": 10
         },
         "title": "빈도 (TF)",
         "titlefont": {
          "color": "black",
          "size": 10
         }
        },
        "yaxis2": {
         "overlaying": "y1",
         "showticklabels": true,
         "side": "right",
         "tickangle": 0,
         "tickfont": {
          "color": "black",
          "size": 10
         },
         "title": "TF-IDF",
         "titlefont": {
          "color": "black",
          "size": 10
         }
        }
       }
      },
      "text/html": [
       "<div id=\"281defa0-dcd8-4f2f-aa7c-0f98feca4352\" style=\"height: 525px; width: 100%;\" class=\"plotly-graph-div\"></div><script type=\"text/javascript\">require([\"plotly\"], function(Plotly) { window.PLOTLYENV=window.PLOTLYENV || {};window.PLOTLYENV.BASE_URL=\"https://plot.ly\";Plotly.newPlot(\"281defa0-dcd8-4f2f-aa7c-0f98feca4352\", [{\"type\": \"histogram\", \"name\": \"TF\", \"x\": [\"\\ubc84\\uc2a4\", \"\\uc774\\uc6a9\", \"\\ucd94\\ucc9c\", \"\\uc774\\uc720\", \"\\uc0ac\\ub78c\", \"\\uc2dc\\uac04\", \"\\ubc30\\ucc28\", \"\\uac19\\ub2e4\", \"\\ud0d1\\uc2b9\", \"\\ud0dd\\uc2dc\", \"\\ubaa9\\uc801\\uc9c0\", \"\\ub54c\\ubb38\", \"\\uc815\\ub958\\uc7a5\", \"\\uac80\\ub2e8\", \"i-mod\", \"\\uc774\\ub3d9\", \"\\ud638\\ucd9c\", \"\\uc788\\ub294\", \"\\uc9c0\\uc5ed\", \"\\uc788\\uc744\", \"\\ub300\\uc911\\uad50\\ud1b5\", \"\\uc544\\uc774\", \"\\uc2dc\\ubbfc\", \"\\ub9ce\\uc740\", \"\\uacbd\\uc6b0\", \"\\uc11c\\ube44\\uc2a4\", \"\\uc0dd\\uac01\", \"\\uac04\\uaca9\", \"\\uae30\\ub2a5\", \"\\uc88b\\uc744\", \"\\uc2e0\\ub3c4\\uc2dc\", \"\\ucd94\\uac00\", \"\\uc788\\uc5b4\\uc11c\", \"\\ub3c4\\ucc29\", \"\\ud64d\\ubcf4\", \"\\ub178\\uc120\", \"\\uac00\\uae30\", \"\\uc788\\ub2e4\", \"\\ud658\\uc2b9\", \"\\ubc30\\ub2ec\", \"\\uac00\\uc9c0\", \"\\uacc4\\uc591\\uc5ed\", \"\\uc774\\uc0c1\", \"\\uacb0\\uc81c\", \"\\ubd80\\ubaa8\\ub2d8\", \"\\uacc4\\uc591\", \"\\ud3b8\\ub9ac\\ud558\\uace0\", \"\\uad50\\ud1b5\", \"\\uc1a1\\ub3c4\", \"\\uae30\\uc0ac\", \"\\uc5b4\\ud50c\", \"\\uc77c\\ubc18\", \"\\uc0ac\\uc6a9\", \"\\ubd88\\ud3b8\\ud55c\", \"\\uac70\\ub9ac\", \"\\ubc1c\\ud310\", \"\\uc9c0\\ud558\\ucca0\", \"\\ubc14\\ub85c\", \"\\ube60\\ub974\\uac8c\", \"\\uacbd\\ub85c\", \"\\ud3b8\\ub9ac\\ud558\\uac8c\", \"\\uc778\\uc6d0\", \"\\ud0c0\\uace0\", \"\\uc2e4\\uc81c\", \"\\uc218\\ub2e8\", \"\\ubd80\\ubd84\", \"\\ubaa8\\uc784\", \"\\uc778\\ucc9c\\ub300\\ud559\\uad50\", \"\\ube60\\ub978\", \"\\uc548\\uc804\\ud558\\uac8c\", \"\\uc788\\ub2e4\\ub294\", \"\\ube44\\uad50\", \"\\uc694\\uae08\", \"\\uc54c\\ub9bc\", \"\\uc790\\uc8fc\", \"\\uc778\\ucc9c\", \"\\uc6d0\\ud558\\ub294\", \"\\uc6b4\\ud589\", \"\\ucc98\\uc74c\", \"\\uc88b\\uc558\\ub2e4\", \"\\uc788\\uc5b4\", \"\\ub9ce\\uac70\\ub098\", \"\\ucf8c\\uc801\\ud558\\uac8c\", \"\\uc9c4\\ud589\", \"\\uc788\\uace0\", \"\\uc88b\\ub2e4\", \"\\ube60\\ub974\\uace0\", \"\\uac70\\uc758\", \"\\ubb34\\uac70\\uc6b4\", \"\\uac19\\uc740\", \"\\uc74c\\uc2dd\", \"\\uc785\\ub2c8\\ub2e4\", \"\\ud3c9\\uc18c\", \"\\uc624\\ub298\", \"\\uc548\\ucabd\", \"\\ubc29\\ubc95\", \"\\uc2dc\\uc124\", \"\\ub9c8\\ud2b8\", \"\\uae38\\uc5b4\", \"\\ubb38\\uc81c\"], \"y\": [52, 51, 42, 25, 24, 20, 20, 17, 17, 13, 13, 12, 12, 12, 12, 11, 11, 10, 10, 9, 9, 9, 8, 8, 8, 8, 8, 8, 8, 7, 7, 7, 7, 7, 7, 7, 6, 6, 6, 6, 6, 6, 6, 6, 6, 6, 5, 5, 5, 5, 5, 5, 5, 4, 4, 4, 4, 4, 4, 4, 4, 4, 4, 4, 4, 4, 4, 4, 4, 4, 4, 4, 4, 4, 4, 4, 4, 4, 4, 4, 3, 3, 3, 3, 3, 3, 3, 3, 3, 3, 3, 3, 3, 3, 3, 3, 3, 3, 3, 3], \"yaxis\": \"y1\", \"histfunc\": \"sum\"}, {\"type\": \"scatter\", \"name\": \"TF-IDF\", \"x\": [\"\\ubc84\\uc2a4\", \"\\uc774\\uc6a9\", \"\\ucd94\\ucc9c\", \"\\uc774\\uc720\", \"\\uc0ac\\ub78c\", \"\\uc2dc\\uac04\", \"\\ubc30\\ucc28\", \"\\uac19\\ub2e4\", \"\\ud0d1\\uc2b9\", \"\\ud0dd\\uc2dc\", \"\\ubaa9\\uc801\\uc9c0\", \"\\ub54c\\ubb38\", \"\\uc815\\ub958\\uc7a5\", \"\\uac80\\ub2e8\", \"i-mod\", \"\\uc774\\ub3d9\", \"\\ud638\\ucd9c\", \"\\uc788\\ub294\", \"\\uc9c0\\uc5ed\", \"\\uc788\\uc744\", \"\\ub300\\uc911\\uad50\\ud1b5\", \"\\uc544\\uc774\", \"\\uc2dc\\ubbfc\", \"\\ub9ce\\uc740\", \"\\uacbd\\uc6b0\", \"\\uc11c\\ube44\\uc2a4\", \"\\uc0dd\\uac01\", \"\\uac04\\uaca9\", \"\\uae30\\ub2a5\", \"\\uc88b\\uc744\", \"\\uc2e0\\ub3c4\\uc2dc\", \"\\ucd94\\uac00\", \"\\uc788\\uc5b4\\uc11c\", \"\\ub3c4\\ucc29\", \"\\ud64d\\ubcf4\", \"\\ub178\\uc120\", \"\\uac00\\uae30\", \"\\uc788\\ub2e4\", \"\\ud658\\uc2b9\", \"\\ubc30\\ub2ec\", \"\\uac00\\uc9c0\", \"\\uacc4\\uc591\\uc5ed\", \"\\uc774\\uc0c1\", \"\\uacb0\\uc81c\", \"\\ubd80\\ubaa8\\ub2d8\", \"\\uacc4\\uc591\", \"\\ud3b8\\ub9ac\\ud558\\uace0\", \"\\uad50\\ud1b5\", \"\\uc1a1\\ub3c4\", \"\\uae30\\uc0ac\", \"\\uc5b4\\ud50c\", \"\\uc77c\\ubc18\", \"\\uc0ac\\uc6a9\", \"\\ubd88\\ud3b8\\ud55c\", \"\\uac70\\ub9ac\", \"\\ubc1c\\ud310\", \"\\uc9c0\\ud558\\ucca0\", \"\\ubc14\\ub85c\", \"\\ube60\\ub974\\uac8c\", \"\\uacbd\\ub85c\", \"\\ud3b8\\ub9ac\\ud558\\uac8c\", \"\\uc778\\uc6d0\", \"\\ud0c0\\uace0\", \"\\uc2e4\\uc81c\", \"\\uc218\\ub2e8\", \"\\ubd80\\ubd84\", \"\\ubaa8\\uc784\", \"\\uc778\\ucc9c\\ub300\\ud559\\uad50\", \"\\ube60\\ub978\", \"\\uc548\\uc804\\ud558\\uac8c\", \"\\uc788\\ub2e4\\ub294\", \"\\ube44\\uad50\", \"\\uc694\\uae08\", \"\\uc54c\\ub9bc\", \"\\uc790\\uc8fc\", \"\\uc778\\ucc9c\", \"\\uc6d0\\ud558\\ub294\", \"\\uc6b4\\ud589\", \"\\ucc98\\uc74c\", \"\\uc88b\\uc558\\ub2e4\", \"\\uc788\\uc5b4\", \"\\ub9ce\\uac70\\ub098\", \"\\ucf8c\\uc801\\ud558\\uac8c\", \"\\uc9c4\\ud589\", \"\\uc788\\uace0\", \"\\uc88b\\ub2e4\", \"\\ube60\\ub974\\uace0\", \"\\uac70\\uc758\", \"\\ubb34\\uac70\\uc6b4\", \"\\uac19\\uc740\", \"\\uc74c\\uc2dd\", \"\\uc785\\ub2c8\\ub2e4\", \"\\ud3c9\\uc18c\", \"\\uc624\\ub298\", \"\\uc548\\ucabd\", \"\\ubc29\\ubc95\", \"\\uc2dc\\uc124\", \"\\ub9c8\\ud2b8\", \"\\uae38\\uc5b4\", \"\\ubb38\\uc81c\"], \"y\": [4.348812579243054, 4.347649706864549, 3.5418627504589786, 3.45588471411265, 2.3353852983120134, 2.1119791265921966, 2.0888446485373486, 1.7413885362776376, 1.6282652856997726, 1.5024023738665748, 1.4278805629685996, 1.4276844705382512, 1.4165519715443213, 1.4049893997760967, 1.3997666460019809, 1.3994362249000603, 1.2751144699281896, 1.2273827988801567, 1.1759113305836648, 1.175899767666207, 1.168466374919372, 1.1577899435275478, 1.10676604379426, 1.0856752105936787, 1.0838328207252823, 1.0704612601034973, 1.0681039859479478, 1.0619093727075763, 1.041991268031817, 1.0415127873525107, 1.025998685233601, 0.9802210130388824, 0.9495286030387188, 0.8751328522804765, 0.8684361266312276, 0.8667441072740008, 0.8631836543644523, 0.8523582639127054, 0.8308486598238277, 0.8244514792951388, 0.8227605520361319, 0.8102215116804452, 0.7752788963292628, 0.7300097063541425, 0.7091222386553228, 0.6749475993156138, 0.6737167380376478, 0.6737145814998915, 0.6733108594515622, 0.663305901846727, 0.6532075920481586, 0.6450036358693113, 0.6409662232877538, 0.6397625019242464, 0.6347335595251882, 0.6328310868663406, 0.6328109051821069, 0.61984549613418, 0.6100172378322544, 0.6024541944425794, 0.5928480959774832, 0.5926361503451403, 0.5885911933558176, 0.5839719869074803, 0.5775924615225718, 0.57642280668028, 0.5675294290197174, 0.5669031507224866, 0.5615739410173683, 0.5597864786198814, 0.5570609731615408, 0.553458310452803, 0.5480730494532241, 0.5452410615377238, 0.5445461818016173, 0.5267788882653341, 0.5138236962182328, 0.49691170380786, 0.49681925906418734, 0.49614687982544653, 0.49454428328057237, 0.4883223295734252, 0.4876787681000044, 0.4816067423094959, 0.4796298724072545, 0.478335412088982, 0.46188398829529914, 0.45695013554451924, 0.44837544586070893, 0.4270764464327936, 0.4245928446643177, 0.40340286280101423, 0.3718736977519115, 0.33843414194391663, 0.3257012367119036, 0.3257012367119036, 0.31974830581921665, 0.31847506767949335, 0.2987743449785848, 0.28821140334014], \"yaxis\": \"y2\"}], {\"title\": \"\\ub2e8\\uc5b4\\ube48\\ub3c4 \\ubc0f TF-IDF (TF & TF-IDF)\", \"xaxis\": {\"exponentformat\": \"e\", \"showexponent\": \"all\", \"showticklabels\": true, \"tickangle\": -45, \"tickfont\": {\"color\": \"black\", \"size\": 10}, \"title\": \"\\ub2e8\\uc5b4 (WORD)\", \"titlefont\": {\"color\": \"black\", \"size\": 10}}, \"yaxis1\": {\"showticklabels\": true, \"side\": \"left\", \"tickangle\": 0, \"tickfont\": {\"color\": \"black\", \"size\": 10}, \"title\": \"\\ube48\\ub3c4 (TF)\", \"titlefont\": {\"color\": \"black\", \"size\": 10}}, \"yaxis2\": {\"overlaying\": \"y1\", \"showticklabels\": true, \"side\": \"right\", \"tickangle\": 0, \"tickfont\": {\"color\": \"black\", \"size\": 10}, \"title\": \"TF-IDF\", \"titlefont\": {\"color\": \"black\", \"size\": 10}}, \"images\": [{\"source\": \"https://raw.githubusercontent.com/fingeredman/teanaps-documents/main/data/logo/teanaps_logo_nbg_1600x400.png\", \"xref\": \"paper\", \"yref\": \"paper\", \"x\": 0.5, \"y\": 0.6, \"sizex\": 0.7, \"sizey\": 0.7, \"xanchor\": \"center\", \"yanchor\": \"center\", \"opacity\": 0.1, \"layer\": \"above\"}]}, {\"showLink\": true, \"linkText\": \"Export to plot.ly\"})});</script>"
      ],
      "text/vnd.plotly.v1+html": [
       "<div id=\"281defa0-dcd8-4f2f-aa7c-0f98feca4352\" style=\"height: 525px; width: 100%;\" class=\"plotly-graph-div\"></div><script type=\"text/javascript\">require([\"plotly\"], function(Plotly) { window.PLOTLYENV=window.PLOTLYENV || {};window.PLOTLYENV.BASE_URL=\"https://plot.ly\";Plotly.newPlot(\"281defa0-dcd8-4f2f-aa7c-0f98feca4352\", [{\"type\": \"histogram\", \"name\": \"TF\", \"x\": [\"\\ubc84\\uc2a4\", \"\\uc774\\uc6a9\", \"\\ucd94\\ucc9c\", \"\\uc774\\uc720\", \"\\uc0ac\\ub78c\", \"\\uc2dc\\uac04\", \"\\ubc30\\ucc28\", \"\\uac19\\ub2e4\", \"\\ud0d1\\uc2b9\", \"\\ud0dd\\uc2dc\", \"\\ubaa9\\uc801\\uc9c0\", \"\\ub54c\\ubb38\", \"\\uc815\\ub958\\uc7a5\", \"\\uac80\\ub2e8\", \"i-mod\", \"\\uc774\\ub3d9\", \"\\ud638\\ucd9c\", \"\\uc788\\ub294\", \"\\uc9c0\\uc5ed\", \"\\uc788\\uc744\", \"\\ub300\\uc911\\uad50\\ud1b5\", \"\\uc544\\uc774\", \"\\uc2dc\\ubbfc\", \"\\ub9ce\\uc740\", \"\\uacbd\\uc6b0\", \"\\uc11c\\ube44\\uc2a4\", \"\\uc0dd\\uac01\", \"\\uac04\\uaca9\", \"\\uae30\\ub2a5\", \"\\uc88b\\uc744\", \"\\uc2e0\\ub3c4\\uc2dc\", \"\\ucd94\\uac00\", \"\\uc788\\uc5b4\\uc11c\", \"\\ub3c4\\ucc29\", \"\\ud64d\\ubcf4\", \"\\ub178\\uc120\", \"\\uac00\\uae30\", \"\\uc788\\ub2e4\", \"\\ud658\\uc2b9\", \"\\ubc30\\ub2ec\", \"\\uac00\\uc9c0\", \"\\uacc4\\uc591\\uc5ed\", \"\\uc774\\uc0c1\", \"\\uacb0\\uc81c\", \"\\ubd80\\ubaa8\\ub2d8\", \"\\uacc4\\uc591\", \"\\ud3b8\\ub9ac\\ud558\\uace0\", \"\\uad50\\ud1b5\", \"\\uc1a1\\ub3c4\", \"\\uae30\\uc0ac\", \"\\uc5b4\\ud50c\", \"\\uc77c\\ubc18\", \"\\uc0ac\\uc6a9\", \"\\ubd88\\ud3b8\\ud55c\", \"\\uac70\\ub9ac\", \"\\ubc1c\\ud310\", \"\\uc9c0\\ud558\\ucca0\", \"\\ubc14\\ub85c\", \"\\ube60\\ub974\\uac8c\", \"\\uacbd\\ub85c\", \"\\ud3b8\\ub9ac\\ud558\\uac8c\", \"\\uc778\\uc6d0\", \"\\ud0c0\\uace0\", \"\\uc2e4\\uc81c\", \"\\uc218\\ub2e8\", \"\\ubd80\\ubd84\", \"\\ubaa8\\uc784\", \"\\uc778\\ucc9c\\ub300\\ud559\\uad50\", \"\\ube60\\ub978\", \"\\uc548\\uc804\\ud558\\uac8c\", \"\\uc788\\ub2e4\\ub294\", \"\\ube44\\uad50\", \"\\uc694\\uae08\", \"\\uc54c\\ub9bc\", \"\\uc790\\uc8fc\", \"\\uc778\\ucc9c\", \"\\uc6d0\\ud558\\ub294\", \"\\uc6b4\\ud589\", \"\\ucc98\\uc74c\", \"\\uc88b\\uc558\\ub2e4\", \"\\uc788\\uc5b4\", \"\\ub9ce\\uac70\\ub098\", \"\\ucf8c\\uc801\\ud558\\uac8c\", \"\\uc9c4\\ud589\", \"\\uc788\\uace0\", \"\\uc88b\\ub2e4\", \"\\ube60\\ub974\\uace0\", \"\\uac70\\uc758\", \"\\ubb34\\uac70\\uc6b4\", \"\\uac19\\uc740\", \"\\uc74c\\uc2dd\", \"\\uc785\\ub2c8\\ub2e4\", \"\\ud3c9\\uc18c\", \"\\uc624\\ub298\", \"\\uc548\\ucabd\", \"\\ubc29\\ubc95\", \"\\uc2dc\\uc124\", \"\\ub9c8\\ud2b8\", \"\\uae38\\uc5b4\", \"\\ubb38\\uc81c\"], \"y\": [52, 51, 42, 25, 24, 20, 20, 17, 17, 13, 13, 12, 12, 12, 12, 11, 11, 10, 10, 9, 9, 9, 8, 8, 8, 8, 8, 8, 8, 7, 7, 7, 7, 7, 7, 7, 6, 6, 6, 6, 6, 6, 6, 6, 6, 6, 5, 5, 5, 5, 5, 5, 5, 4, 4, 4, 4, 4, 4, 4, 4, 4, 4, 4, 4, 4, 4, 4, 4, 4, 4, 4, 4, 4, 4, 4, 4, 4, 4, 4, 3, 3, 3, 3, 3, 3, 3, 3, 3, 3, 3, 3, 3, 3, 3, 3, 3, 3, 3, 3], \"yaxis\": \"y1\", \"histfunc\": \"sum\"}, {\"type\": \"scatter\", \"name\": \"TF-IDF\", \"x\": [\"\\ubc84\\uc2a4\", \"\\uc774\\uc6a9\", \"\\ucd94\\ucc9c\", \"\\uc774\\uc720\", \"\\uc0ac\\ub78c\", \"\\uc2dc\\uac04\", \"\\ubc30\\ucc28\", \"\\uac19\\ub2e4\", \"\\ud0d1\\uc2b9\", \"\\ud0dd\\uc2dc\", \"\\ubaa9\\uc801\\uc9c0\", \"\\ub54c\\ubb38\", \"\\uc815\\ub958\\uc7a5\", \"\\uac80\\ub2e8\", \"i-mod\", \"\\uc774\\ub3d9\", \"\\ud638\\ucd9c\", \"\\uc788\\ub294\", \"\\uc9c0\\uc5ed\", \"\\uc788\\uc744\", \"\\ub300\\uc911\\uad50\\ud1b5\", \"\\uc544\\uc774\", \"\\uc2dc\\ubbfc\", \"\\ub9ce\\uc740\", \"\\uacbd\\uc6b0\", \"\\uc11c\\ube44\\uc2a4\", \"\\uc0dd\\uac01\", \"\\uac04\\uaca9\", \"\\uae30\\ub2a5\", \"\\uc88b\\uc744\", \"\\uc2e0\\ub3c4\\uc2dc\", \"\\ucd94\\uac00\", \"\\uc788\\uc5b4\\uc11c\", \"\\ub3c4\\ucc29\", \"\\ud64d\\ubcf4\", \"\\ub178\\uc120\", \"\\uac00\\uae30\", \"\\uc788\\ub2e4\", \"\\ud658\\uc2b9\", \"\\ubc30\\ub2ec\", \"\\uac00\\uc9c0\", \"\\uacc4\\uc591\\uc5ed\", \"\\uc774\\uc0c1\", \"\\uacb0\\uc81c\", \"\\ubd80\\ubaa8\\ub2d8\", \"\\uacc4\\uc591\", \"\\ud3b8\\ub9ac\\ud558\\uace0\", \"\\uad50\\ud1b5\", \"\\uc1a1\\ub3c4\", \"\\uae30\\uc0ac\", \"\\uc5b4\\ud50c\", \"\\uc77c\\ubc18\", \"\\uc0ac\\uc6a9\", \"\\ubd88\\ud3b8\\ud55c\", \"\\uac70\\ub9ac\", \"\\ubc1c\\ud310\", \"\\uc9c0\\ud558\\ucca0\", \"\\ubc14\\ub85c\", \"\\ube60\\ub974\\uac8c\", \"\\uacbd\\ub85c\", \"\\ud3b8\\ub9ac\\ud558\\uac8c\", \"\\uc778\\uc6d0\", \"\\ud0c0\\uace0\", \"\\uc2e4\\uc81c\", \"\\uc218\\ub2e8\", \"\\ubd80\\ubd84\", \"\\ubaa8\\uc784\", \"\\uc778\\ucc9c\\ub300\\ud559\\uad50\", \"\\ube60\\ub978\", \"\\uc548\\uc804\\ud558\\uac8c\", \"\\uc788\\ub2e4\\ub294\", \"\\ube44\\uad50\", \"\\uc694\\uae08\", \"\\uc54c\\ub9bc\", \"\\uc790\\uc8fc\", \"\\uc778\\ucc9c\", \"\\uc6d0\\ud558\\ub294\", \"\\uc6b4\\ud589\", \"\\ucc98\\uc74c\", \"\\uc88b\\uc558\\ub2e4\", \"\\uc788\\uc5b4\", \"\\ub9ce\\uac70\\ub098\", \"\\ucf8c\\uc801\\ud558\\uac8c\", \"\\uc9c4\\ud589\", \"\\uc788\\uace0\", \"\\uc88b\\ub2e4\", \"\\ube60\\ub974\\uace0\", \"\\uac70\\uc758\", \"\\ubb34\\uac70\\uc6b4\", \"\\uac19\\uc740\", \"\\uc74c\\uc2dd\", \"\\uc785\\ub2c8\\ub2e4\", \"\\ud3c9\\uc18c\", \"\\uc624\\ub298\", \"\\uc548\\ucabd\", \"\\ubc29\\ubc95\", \"\\uc2dc\\uc124\", \"\\ub9c8\\ud2b8\", \"\\uae38\\uc5b4\", \"\\ubb38\\uc81c\"], \"y\": [4.348812579243054, 4.347649706864549, 3.5418627504589786, 3.45588471411265, 2.3353852983120134, 2.1119791265921966, 2.0888446485373486, 1.7413885362776376, 1.6282652856997726, 1.5024023738665748, 1.4278805629685996, 1.4276844705382512, 1.4165519715443213, 1.4049893997760967, 1.3997666460019809, 1.3994362249000603, 1.2751144699281896, 1.2273827988801567, 1.1759113305836648, 1.175899767666207, 1.168466374919372, 1.1577899435275478, 1.10676604379426, 1.0856752105936787, 1.0838328207252823, 1.0704612601034973, 1.0681039859479478, 1.0619093727075763, 1.041991268031817, 1.0415127873525107, 1.025998685233601, 0.9802210130388824, 0.9495286030387188, 0.8751328522804765, 0.8684361266312276, 0.8667441072740008, 0.8631836543644523, 0.8523582639127054, 0.8308486598238277, 0.8244514792951388, 0.8227605520361319, 0.8102215116804452, 0.7752788963292628, 0.7300097063541425, 0.7091222386553228, 0.6749475993156138, 0.6737167380376478, 0.6737145814998915, 0.6733108594515622, 0.663305901846727, 0.6532075920481586, 0.6450036358693113, 0.6409662232877538, 0.6397625019242464, 0.6347335595251882, 0.6328310868663406, 0.6328109051821069, 0.61984549613418, 0.6100172378322544, 0.6024541944425794, 0.5928480959774832, 0.5926361503451403, 0.5885911933558176, 0.5839719869074803, 0.5775924615225718, 0.57642280668028, 0.5675294290197174, 0.5669031507224866, 0.5615739410173683, 0.5597864786198814, 0.5570609731615408, 0.553458310452803, 0.5480730494532241, 0.5452410615377238, 0.5445461818016173, 0.5267788882653341, 0.5138236962182328, 0.49691170380786, 0.49681925906418734, 0.49614687982544653, 0.49454428328057237, 0.4883223295734252, 0.4876787681000044, 0.4816067423094959, 0.4796298724072545, 0.478335412088982, 0.46188398829529914, 0.45695013554451924, 0.44837544586070893, 0.4270764464327936, 0.4245928446643177, 0.40340286280101423, 0.3718736977519115, 0.33843414194391663, 0.3257012367119036, 0.3257012367119036, 0.31974830581921665, 0.31847506767949335, 0.2987743449785848, 0.28821140334014], \"yaxis\": \"y2\"}], {\"title\": \"\\ub2e8\\uc5b4\\ube48\\ub3c4 \\ubc0f TF-IDF (TF & TF-IDF)\", \"xaxis\": {\"exponentformat\": \"e\", \"showexponent\": \"all\", \"showticklabels\": true, \"tickangle\": -45, \"tickfont\": {\"color\": \"black\", \"size\": 10}, \"title\": \"\\ub2e8\\uc5b4 (WORD)\", \"titlefont\": {\"color\": \"black\", \"size\": 10}}, \"yaxis1\": {\"showticklabels\": true, \"side\": \"left\", \"tickangle\": 0, \"tickfont\": {\"color\": \"black\", \"size\": 10}, \"title\": \"\\ube48\\ub3c4 (TF)\", \"titlefont\": {\"color\": \"black\", \"size\": 10}}, \"yaxis2\": {\"overlaying\": \"y1\", \"showticklabels\": true, \"side\": \"right\", \"tickangle\": 0, \"tickfont\": {\"color\": \"black\", \"size\": 10}, \"title\": \"TF-IDF\", \"titlefont\": {\"color\": \"black\", \"size\": 10}}, \"images\": [{\"source\": \"https://raw.githubusercontent.com/fingeredman/teanaps-documents/main/data/logo/teanaps_logo_nbg_1600x400.png\", \"xref\": \"paper\", \"yref\": \"paper\", \"x\": 0.5, \"y\": 0.6, \"sizex\": 0.7, \"sizey\": 0.7, \"xanchor\": \"center\", \"yanchor\": \"center\", \"opacity\": 0.1, \"layer\": \"above\"}]}, {\"showLink\": true, \"linkText\": \"Export to plot.ly\"})});</script>"
      ]
     },
     "metadata": {},
     "output_type": "display_data"
    }
   ],
   "source": [
    "# TF/TF-IDF 계산결과를 그래프로 표현합니다.\n",
    "# 그래프에 표현할 빈도기준 Top N 개를 숫자로 입력합니다.\n",
    "tfidf.draw_tfidf(100)"
   ]
  },
  {
   "cell_type": "code",
   "execution_count": 43,
   "metadata": {},
   "outputs": [
    {
     "data": {
      "text/html": [
       "\n",
       "                <script src=\"/static/components/requirejs/require.js\"></script>\n",
       "                <script>\n",
       "                  requirejs.config({\n",
       "                    paths: {\n",
       "                      base: '/static/base',\n",
       "                      plotly: 'https://cdn.plot.ly/plotly-latest.min.js?noext',\n",
       "                    },\n",
       "                  });\n",
       "                </script>\n",
       "                "
      ],
      "text/plain": [
       "<IPython.core.display.HTML object>"
      ]
     },
     "metadata": {},
     "output_type": "display_data"
    },
    {
     "data": {
      "image/png": "[encoded data removed]",
      "text/plain": [
       "<Figure size 1440x1440 with 1 Axes>"
      ]
     },
     "metadata": {
      "needs_background": "light"
     },
     "output_type": "display_data"
    }
   ],
   "source": [
    "# TF-IDF 기준 워드클라우드를 출력합니다.\n",
    "count_dict = tfidf.get_tfidf_dict()\n",
    "tfidf.get_wordcloud(count_dict)"
   ]
  },
  {
   "cell_type": "markdown",
   "metadata": {},
   "source": [
    "## 토픽모델링"
   ]
  },
  {
   "cell_type": "code",
   "execution_count": 44,
   "metadata": {},
   "outputs": [],
   "source": [
    "from teanaps.text_analysis import TopicClustering\n",
    "\n",
    "tc = TopicClustering()"
   ]
  },
  {
   "cell_type": "code",
   "execution_count": 45,
   "metadata": {},
   "outputs": [
    {
     "data": {
      "text/plain": [
       "start_point          0\n",
       "get_on               0\n",
       "get_off              0\n",
       "end_point            0\n",
       "recommend            0\n",
       "Tokens               0\n",
       "Token_Content        0\n",
       "NNG_Token_Content    0\n",
       "dtype: int64"
      ]
     },
     "execution_count": 45,
     "metadata": {},
     "output_type": "execute_result"
    }
   ],
   "source": [
    "# 토큰화 문장이 안나오는 것들 삭제\n",
    "livinglab.isna().sum()"
   ]
  },
  {
   "cell_type": "code",
   "execution_count": 46,
   "metadata": {},
   "outputs": [
    {
     "data": {
      "text/plain": [
       "start_point          0\n",
       "get_on               0\n",
       "get_off              0\n",
       "end_point            0\n",
       "recommend            0\n",
       "Tokens               0\n",
       "Token_Content        0\n",
       "NNG_Token_Content    0\n",
       "dtype: int64"
      ]
     },
     "execution_count": 46,
     "metadata": {},
     "output_type": "execute_result"
    }
   ],
   "source": [
    "livinglab = livinglab.dropna(axis = 0)\n",
    "livinglab = livinglab.reset_index(drop=True)\n",
    "livinglab.isna().sum()"
   ]
  },
  {
   "cell_type": "code",
   "execution_count": 47,
   "metadata": {},
   "outputs": [
    {
     "data": {
      "text/html": [
       "\n",
       "<link rel=\"stylesheet\" type=\"text/css\" href=\"https://cdn.rawgit.com/bmabey/pyLDAvis/files/ldavis.v1.0.0.css\">\n",
       "\n",
       "\n",
       "<div id=\"ldavis_el912947961146402113481096\"></div>\n",
       "<script type=\"text/javascript\">\n",
       "\n",
       "var ldavis_el912947961146402113481096_data = {\"mdsDat\": {\"x\": [0.07333398397271708, -0.09321211175594932, 0.019878127783232263], \"y\": [-0.059662494277445924, -0.028201458649277412, 0.08786395292672332], \"topics\": [1, 2, 3], \"cluster\": [1, 1, 1], \"Freq\": [44.62619901404424, 43.77925925431647, 11.594541731639294]}, \"tinfo\": {\"Term\": [\"\\uac19\\ub2e4\", \"\\ud64d\\ubcf4\", \"\\uac80\\ub2e8\", \"\\uc0ac\\ub78c\", \"\\uc88b\\uc744\", \"\\uc544\\uc774\", \"\\ubaa9\\uc801\\uc9c0\", \"\\uc6b4\\ud589\", \"\\ubc84\\uc2a4\", \"\\ucd94\\ucc9c\", \"\\uc88b\\uaca0\\ub2e4\", \"\\ud655\\uc2e4\\ud788\", \"\\uccb4\\ud5d8\", \"\\ubd88\\ud3b8\\ud55c\", \"\\ud0c0\\uace0\", \"\\uae30\\uc0ac\", \"\\uc5c6\\uc5b4\\uc11c\", \"\\ub824\\uace0\", \"\\uc6a9\\uc778\", \"\\uc2dc\\uac04\", \"\\uace8\\ubaa9\", \"\\ub9db\\uc9d1\", \"\\uce74\\ud398\", \"\\uacc4\\uc591\\uc5ed\", \"\\ud638\\ucd9c\", \"\\uacc4\\uc591\", \"\\ubc30\\ub2ec\", \"\\ud0d1\\uc2b9\", \"\\uc788\\uc744\", \"\\uc774\\uc720\", \"\\uac80\\ub2e8\", \"\\uc218\\ub2e8\", \"\\ubd80\\ubd84\", \"\\ubaa8\\uc784\", \"\\uc2dc\\uc124\", \"\\ud55c\\uc815\", \"\\uac19\\uc740\", \"\\uc6b4\\uc601\", \"\\ube60\\ub974\\uace0\", \"\\ub300\\uc911\\uad50\\ud1b5\", \"\\uc124\\uc815\", \"\\ub9e4\\uc6b0\", \"\\uc548\\uc804\\ud558\\uba70\", \"\\uac70\\uc8fc\", \"\\uc0dd\\ud65c\", \"\\ubaa8\\ub4e0\", \"\\uc2b9\\ud558\", \"\\uac00\\uae4c\\uc6b4\", \"\\ub9cc\\uc871\\uc2a4\\ub7ec\\uc6b4\", \"\\ub2e4\\ub974\\uac8c\", \"\\ud3b8\\ub9ac\\ud558\\uba70\", \"\\uc8fc\\uc694\", \"\\ub300\\uc2e0\", \"\\ub2e4\\ub9cc\", \"\\uc194\\ubc2d\", \"\\uc788\\uc9c0\\ub9cc\", \"\\uc815\\uc5ed\", \"\\uad11\\uace0\", \"\\uc911\\uc2ec\\ubd80\", \"\\ud798\\ub4e0\", \"\\uacbd\\uc6b0\", \"I-MOD\", \"\\uc2e0\\ub3c4\\uc2dc\", \"\\ubc84\\uc2a4\", \"\\ubc30\\ucc28\", \"\\uc2dc\\ubbfc\", \"\\ub178\\uc120\", \"\\uc774\\uc6a9\", \"\\ud638\\ucd9c\", \"\\ud0dd\\uc2dc\", \"\\uc9c0\\uc5ed\", \"\\uad50\\ud1b5\", \"\\uc788\\ub294\", \"\\ub9ce\\uc740\", \"\\uac00\\uc9c0\", \"\\uc0ac\\ub78c\", \"\\uc774\\ub3d9\", \"\\uac70\\ub9ac\", \"\\ud3b8\\ub9ac\\ud558\\uac8c\", \"\\uc2e4\\uc81c\", \"\\uc815\\ub958\\uc7a5\", \"\\ucd94\\ucc9c\", \"\\uac19\\ub2e4\", \"\\uc774\\uc720\", \"\\uac04\\uaca9\", \"\\uc11c\\ube44\\uc2a4\", \"\\uc2dc\\uac04\", \"\\ud0d1\\uc2b9\", \"\\ubc30\\ub2ec\", \"\\ubd80\\ubaa8\\ub2d8\", \"\\uc778\\ucc9c\\ub300\\ud559\\uad50\", \"\\uc778\\uc6d0\", \"\\ube60\\ub978\", \"\\uc54c\\ub9bc\", \"\\uc544\\uc774\", \"\\ud559\\uad50\", \"\\uc74c\\uc2dd\", \"\\ud61c\\ud0dd\", \"\\ud45c\\uc2dc\", \"\\ubaa9\\uc801\\uc9c0\", \"\\uae38\\ucc3e\\uae30\", \"\\uc544\\uc774\\ud2b8\\ub9bd\", \"\\uc0ac\\uc2dc\", \"\\ub124\\uc774\\ubc84\", \"\\uae30\\ub2a5\", \"\\uacc4\\uc591\", \"\\uc778\\ucc9c\", \"\\ud559\\uc6d0\", \"\\uc9c0\\uc810\", \"\\uc5c6\\uc74c\", \"\\ucea0\\ud37c\\uc2a4\", \"\\uc911\\ud559\\uad50\", \"\\ub9ce\\ub2e4\\ub294\", \"\\uc544\\uc6b8\\ub81b\", \"\\uae30\\ubcf8\", \"\\ud559\\uc6b0\", \"\\uad73\\uc774\", \"\\ud3b8\\uc548\\ud558\\ub2e4\\ub294\", \"\\ud0d1\\uc2b9\", \"\\uc2dc\\uac04\", \"\\uc774\\uc0c1\", \"\\ub54c\\ubb38\", \"\\ucd94\\ucc9c\", \"\\uc774\\uc720\", \"\\uc1a1\\ub3c4\", \"\\ub3c4\\ucc29\", \"\\ucd94\\uac00\", \"\\uc5b4\\ud50c\", \"\\ubc14\\ub85c\", \"\\uc774\\uc6a9\", \"\\ubc84\\uc2a4\", \"\\uc815\\ub958\\uc7a5\", \"\\uc0ac\\ub78c\", \"\\ud658\\uc2b9\", \"\\uc0dd\\uac01\", \"\\uc774\\ub3d9\", \"\\uc788\\uc5b4\\uc11c\", \"\\ubc30\\ucc28\", \"\\uc11c\\ube44\\uc2a4\", \"\\uc788\\uc744\", \"\\ud0dd\\uc2dc\", \"\\ud64d\\ubcf4\", \"\\uc5c6\\uc5b4\\uc11c\", \"\\ub824\\uace0\", \"\\uc6a9\\uc778\", \"\\uace8\\ubaa9\", \"\\ub9db\\uc9d1\", \"\\uce74\\ud398\", \"\\uc7a5\\uae30\\ub3d9\", \"\\ud558\\ub098\", \"\\ub9c8\\ub2e4\", \"\\ud50c\\ub798\\uce74\\ub4dc\", \"\\uc81c\\ud55c\", \"\\uc788\\uac8c\", \"\\ud3b8\\ud588\\uace0\", \"\\uad6c\\uc5ed\", \"\\ubc30\\uce58\", \"\\uc544\\uc26c\\uc6e0\\ub2e4\", \"\\ub2ec\\ub9ac\", \"\\uc8fc\\uc2dc\", \"\\uadf9\\uc801\", \"\\ub2e4\\ub9ac\", \"\\uacc4\\uc591\\uad6c\", \"\\ud074\\ub9ad\", \"\\uae30\\ubd84\", \"\\uc791\\ub3d9\", \"\\uc544\\ub77c\\ub9c8\\ub8e8\", \"\\uc9c0\\uc778\", \"\\ub9c8\\uc74c\", \"\\uc5ec\\ud589\", \"\\uc5f0\\ub77d\", \"\\uac19\\ub2e4\", \"\\uc88b\\uaca0\\ub2e4\", \"\\ud655\\uc2e4\\ud788\", \"\\uccb4\\ud5d8\", \"\\uc88b\\uc744\", \"\\ubd88\\ud3b8\\ud55c\", \"\\ud0c0\\uace0\", \"\\uc6b4\\ud589\", \"\\uc0ac\\ub78c\", \"\\uae30\\uc0ac\", \"\\uacc4\\uc591\\uc5ed\", \"\\uc774\\uc6a9\", \"\\uc788\\uc744\", \"\\ud638\\ucd9c\", \"\\ubc84\\uc2a4\", \"\\ucd94\\ucc9c\", \"\\ub9ce\\uc744\", \"\\ubaa9\\uc801\\uc9c0\", \"\\uc788\\ub2e4\", \"\\ub3d9\\ub124\", \"\\ubc29\\ubc95\", \"\\ub9ce\\uc558\\ub2e4\", \"\\uacc4\\uc591\", \"\\ud3b8\\ud558\\uace0\"], \"Freq\": [11.0, 4.0, 9.0, 17.0, 5.0, 7.0, 10.0, 3.0, 39.0, 32.0, 2.0, 2.0, 2.0, 3.0, 3.0, 3.0, 1.0, 1.0, 1.0, 16.0, 1.0, 1.0, 1.0, 4.0, 8.0, 5.0, 5.0, 13.0, 7.0, 19.0, 9.496657959755325, 3.3425042323269025, 3.3395723790484766, 3.3365164392621143, 2.5711860757673026, 2.5711681919025224, 2.5676123293114586, 2.566509582695474, 2.564455964745946, 6.424235853338825, 1.8007268949899142, 1.8007204292849552, 1.8007211171259083, 1.8007156143982836, 1.800713000602662, 1.8007106619434214, 1.800702545420175, 1.8006980056698847, 1.8006977305335035, 1.8006863123736823, 1.8006816350552013, 1.800487113633669, 1.799182416913859, 1.7985684500791361, 1.7986051807860308, 1.7985808312162916, 1.7978287459181894, 1.7979385253343017, 1.7976272085189358, 1.798313948926495, 5.523989063669511, 7.97233747553485, 4.88007748575864, 27.40549191681326, 11.13002599731395, 4.888430076020132, 4.154642447815473, 20.37292237102089, 5.662052499772564, 6.421757424816672, 5.181374384392765, 3.147170883333681, 4.890380792963079, 4.117734002818501, 3.35052363243072, 8.72949353714321, 4.914078839751497, 2.5753001900758896, 2.566942922495917, 2.5650321003282492, 4.892944513763414, 8.956980149056541, 4.872537098094551, 5.0620515877610615, 3.3929713981910687, 3.3482174392832196, 4.105591408905516, 3.352055591801429, 4.882110684509031, 4.744651766834766, 3.348109348164251, 3.3459006362025168, 3.3413018296029775, 3.3359858596547487, 6.441253495177127, 2.577169814825347, 2.566215866695924, 2.5642527771080355, 2.560857250225643, 8.748203070032414, 2.501782909998213, 2.501729196973603, 2.501429861575147, 2.5011947658744664, 5.6555226364681825, 4.109920096551693, 3.0585899374773433, 1.804276503955584, 1.8037025303534053, 1.8032649986303244, 1.8032774147063648, 1.8033535306507873, 1.8031748471216822, 1.8031582473678454, 1.803094277584767, 1.8030726844090441, 1.8030539253376352, 1.8030317923325194, 10.302536000808281, 11.863629754902924, 4.119922325461138, 7.224014752394809, 22.48232655669007, 14.002827885691982, 3.359537536415483, 4.117982718451848, 4.117209142931582, 3.1674638091299157, 2.5691873575900623, 16.45112045070465, 10.943840363866643, 4.892885139365258, 6.358762165622533, 3.3302121143811987, 3.765098133606716, 4.0857818951553915, 3.3496664860485534, 4.82942063659871, 3.344039844284614, 3.346203750406724, 3.3584603068616175, 3.605671598441237, 1.1468671956010297, 1.1468236615578515, 1.1457313073479927, 1.1448184506462127, 1.144664401610008, 1.1446207245978868, 0.6557940385400471, 0.6557930377574454, 0.6557876049376071, 0.6557867471239484, 0.6550991379920439, 0.6550304414148779, 0.6550276535204871, 0.6550033488001579, 0.6549433018440501, 0.6549094896890038, 0.6549018408505473, 0.6548966224841236, 0.6548462974161476, 0.6546710174918904, 0.6545597876541481, 0.654531265349997, 0.6545166110333278, 0.6545023856234881, 0.6544968098347066, 0.6544670722945389, 0.6544291855246139, 0.6544251823942067, 0.6543763585001334, 4.137186094502857, 1.1510340254480733, 1.1499158653439825, 1.1478464613768857, 1.6722948603940628, 1.1676896213829133, 1.1600907505719578, 1.1498069944938016, 2.6904664888017744, 1.1565877970122616, 1.1575709229495816, 2.1332807752525755, 1.151488738171646, 1.1531317372659067, 1.646092513282817, 1.1453613752076863, 0.6634787622013425, 0.6735248324115723, 0.6677934934200372, 0.6600112649395385, 0.6609377036909142, 0.6606019411280121, 0.6605659129543474, 0.6601029080320743], \"Total\": [11.0, 4.0, 9.0, 17.0, 5.0, 7.0, 10.0, 3.0, 39.0, 32.0, 2.0, 2.0, 2.0, 3.0, 3.0, 3.0, 1.0, 1.0, 1.0, 16.0, 1.0, 1.0, 1.0, 4.0, 8.0, 5.0, 5.0, 13.0, 7.0, 19.0, 9.937357926129815, 3.7659747529783414, 3.7649629075547857, 3.764001314829939, 2.9941799430137364, 2.994627184456781, 2.9939015174760506, 2.9927144599395556, 2.9936363322715525, 7.625598997380278, 2.222741622765417, 2.222736353602314, 2.222738593596025, 2.222736596456884, 2.2227354661190177, 2.222733294320252, 2.2227330482305567, 2.222732729903197, 2.222733496215556, 2.222729307691915, 2.222729766144381, 2.2226602021901924, 2.2226320549359833, 2.2219522795456963, 2.222218528710141, 2.222222464007311, 2.221756295394063, 2.2219702173858464, 2.221707609848477, 2.2227284252713124, 6.8517049740965605, 9.940788924894399, 6.078744575738074, 39.99542479396272, 16.125093829045273, 6.854336924484646, 5.802084101116221, 38.957323596978114, 8.60987499046136, 10.438469620803874, 8.120394441919071, 4.539475901422156, 8.120764986329956, 6.575705956213186, 5.031680509102288, 17.778722191567518, 9.172536533478615, 3.76767139136341, 3.765676387897683, 3.765320039020211, 9.950573516865342, 32.584668080954295, 11.54437172578964, 19.72281096917711, 6.858726471228199, 6.8588330977282075, 16.137656289074005, 13.820353770514824, 5.314389318143566, 5.319097469125969, 3.772141313261112, 3.771751247898609, 3.772467714049931, 3.7726526549313566, 7.358670912878556, 2.9992592166664505, 2.9954392569713697, 2.999262467487925, 2.999187701365893, 10.440613843621733, 2.9990203982350883, 2.9990056976510093, 2.9989835751809752, 2.998963468623711, 6.864689477314829, 5.035465782814536, 3.7719761672627774, 2.2258194986087156, 2.225737932961904, 2.2255746489567474, 2.225697909253849, 2.225796903476375, 2.22561318581847, 2.2256277212496234, 2.2256012855608445, 2.22562309658283, 2.225604823378119, 2.2255832988258977, 13.820353770514824, 16.137656289074005, 5.317674502385315, 9.67613265730769, 32.584668080954295, 19.72281096917711, 4.544262018954837, 6.089470757479798, 6.0890388982850725, 4.544016826777764, 3.490358992652274, 38.957323596978114, 39.99542479396272, 9.950573516865342, 17.778722191567518, 5.3123092492623725, 6.86059436931937, 9.172536533478615, 5.8075398276241055, 16.125093829045273, 6.8588330977282075, 7.070140339790011, 10.438469620803874, 4.123498921111869, 1.6634376273358082, 1.6634621136208108, 1.6640900790172686, 1.6646031378181931, 1.6646909242207244, 1.664715465400163, 1.1710331882577618, 1.171033670830378, 1.171036628988455, 1.1710371649309854, 1.1714309767762654, 1.1714700749478635, 1.17146899087007, 1.1714856665586666, 1.1715198144134171, 1.1715362507605134, 1.1715436197531748, 1.1715465205208397, 1.1715754325354486, 1.1716754712983724, 1.1717392644442755, 1.1717555863649318, 1.1717639215910167, 1.1717719464435836, 1.171775393868529, 1.1717921682411245, 1.1718138120453534, 1.1718161853232965, 1.1718441514068696, 11.54437172578964, 2.4328820454568394, 2.4335210138353753, 2.4362455547010065, 5.228364363753115, 3.196758438612277, 3.2010897985145905, 3.208565760802551, 17.778722191567518, 3.9765546008330053, 4.747861082973393, 38.957323596978114, 7.070140339790011, 8.60987499046136, 39.99542479396272, 32.584668080954295, 1.9384731069399594, 10.440613843621733, 5.028158269833069, 1.9419802328379507, 2.713286862389122, 2.7134703291112476, 5.035465782814536, 2.7137591714315192], \"Category\": [\"Default\", \"Default\", \"Default\", \"Default\", \"Default\", \"Default\", \"Default\", \"Default\", \"Default\", \"Default\", \"Default\", \"Default\", \"Default\", \"Default\", \"Default\", \"Default\", \"Default\", \"Default\", \"Default\", \"Default\", \"Default\", \"Default\", \"Default\", \"Default\", \"Default\", \"Default\", \"Default\", \"Default\", \"Default\", \"Default\", \"Topic1\", \"Topic1\", \"Topic1\", \"Topic1\", \"Topic1\", \"Topic1\", \"Topic1\", \"Topic1\", \"Topic1\", \"Topic1\", \"Topic1\", \"Topic1\", \"Topic1\", \"Topic1\", \"Topic1\", \"Topic1\", \"Topic1\", \"Topic1\", \"Topic1\", \"Topic1\", \"Topic1\", \"Topic1\", \"Topic1\", \"Topic1\", \"Topic1\", \"Topic1\", \"Topic1\", \"Topic1\", \"Topic1\", \"Topic1\", \"Topic1\", \"Topic1\", \"Topic1\", \"Topic1\", \"Topic1\", \"Topic1\", \"Topic1\", \"Topic1\", \"Topic1\", \"Topic1\", \"Topic1\", \"Topic1\", \"Topic1\", \"Topic1\", \"Topic1\", \"Topic1\", \"Topic1\", \"Topic1\", \"Topic1\", \"Topic1\", \"Topic1\", \"Topic1\", \"Topic1\", \"Topic1\", \"Topic1\", \"Topic1\", \"Topic1\", \"Topic1\", \"Topic2\", \"Topic2\", \"Topic2\", \"Topic2\", \"Topic2\", \"Topic2\", \"Topic2\", \"Topic2\", \"Topic2\", \"Topic2\", \"Topic2\", \"Topic2\", \"Topic2\", \"Topic2\", \"Topic2\", \"Topic2\", \"Topic2\", \"Topic2\", \"Topic2\", \"Topic2\", \"Topic2\", \"Topic2\", \"Topic2\", \"Topic2\", \"Topic2\", \"Topic2\", \"Topic2\", \"Topic2\", \"Topic2\", \"Topic2\", \"Topic2\", \"Topic2\", \"Topic2\", \"Topic2\", \"Topic2\", \"Topic2\", \"Topic2\", \"Topic2\", \"Topic2\", \"Topic2\", \"Topic2\", \"Topic2\", \"Topic2\", \"Topic2\", \"Topic2\", \"Topic2\", \"Topic2\", \"Topic2\", \"Topic2\", \"Topic2\", \"Topic2\", \"Topic2\", \"Topic2\", \"Topic3\", \"Topic3\", \"Topic3\", \"Topic3\", \"Topic3\", \"Topic3\", \"Topic3\", \"Topic3\", \"Topic3\", \"Topic3\", \"Topic3\", \"Topic3\", \"Topic3\", \"Topic3\", \"Topic3\", \"Topic3\", \"Topic3\", \"Topic3\", \"Topic3\", \"Topic3\", \"Topic3\", \"Topic3\", \"Topic3\", \"Topic3\", \"Topic3\", \"Topic3\", \"Topic3\", \"Topic3\", \"Topic3\", \"Topic3\", \"Topic3\", \"Topic3\", \"Topic3\", \"Topic3\", \"Topic3\", \"Topic3\", \"Topic3\", \"Topic3\", \"Topic3\", \"Topic3\", \"Topic3\", \"Topic3\", \"Topic3\", \"Topic3\", \"Topic3\", \"Topic3\", \"Topic3\", \"Topic3\", \"Topic3\", \"Topic3\", \"Topic3\", \"Topic3\", \"Topic3\", \"Topic3\"], \"logprob\": [30.0, 29.0, 28.0, 27.0, 26.0, 25.0, 24.0, 23.0, 22.0, 21.0, 20.0, 19.0, 18.0, 17.0, 16.0, 15.0, 14.0, 13.0, 12.0, 11.0, 10.0, 9.0, 8.0, 7.0, 6.0, 5.0, 4.0, 3.0, 2.0, 1.0, -4.1305999755859375, -5.174799919128418, -5.1757001876831055, -5.176599979400635, -5.43720006942749, -5.43720006942749, -5.438600063323975, -5.439000129699707, -5.439799785614014, -4.521500110626221, -5.793399810791016, -5.793399810791016, -5.793399810791016, -5.793399810791016, -5.793399810791016, -5.793399810791016, -5.793399810791016, -5.793399810791016, -5.793399810791016, -5.793399810791016, -5.793399810791016, -5.793499946594238, -5.7941999435424805, -5.794600009918213, -5.794600009918213, -5.794600009918213, -5.795000076293945, -5.794899940490723, -5.795100212097168, -5.7947001457214355, -4.672500133514404, -4.305600166320801, -4.79640007019043, -3.0708000659942627, -3.97189998626709, -4.7947001457214355, -4.957300186157227, -3.3673999309539795, -4.647799968719482, -4.521900177001953, -4.736499786376953, -5.235099792480469, -4.794300079345703, -4.966300010681152, -5.172399997711182, -4.214900016784668, -4.7895002365112305, -5.4355998039245605, -5.438799858093262, -5.439599990844727, -4.793799877166748, -4.1890997886657715, -4.797900199890137, -4.759799957275391, -5.159900188446045, -5.173099994659424, -4.969200134277344, -5.171999931335449, -4.776800155639648, -4.8053998947143555, -5.1539998054504395, -5.154699802398682, -5.156000137329102, -5.157599925994873, -4.49970006942749, -5.4156999588012695, -5.420000076293945, -5.4207000732421875, -5.422100067138672, -4.193600177764893, -5.445400238037109, -5.445400238037109, -5.445499897003174, -5.4456000328063965, -4.629799842834473, -4.948999881744385, -5.2444000244140625, -5.772200107574463, -5.772600173950195, -5.772799968719482, -5.772799968719482, -5.772799968719482, -5.772900104522705, -5.772900104522705, -5.772900104522705, -5.772900104522705, -5.772900104522705, -5.772900104522705, -4.03000020980835, -3.8889000415802, -4.946599960327148, -4.385000228881836, -3.2497000694274902, -3.723099946975708, -5.150599956512451, -4.947000026702881, -4.947199821472168, -5.209499835968018, -5.418799877166748, -3.562000036239624, -3.969599962234497, -4.774600028991699, -4.512599945068359, -5.15939998626709, -5.036600112915039, -4.954899787902832, -5.153500080108643, -4.787700176239014, -5.155200004577637, -5.154600143432617, -5.150899887084961, -3.751300096511841, -4.896699905395508, -4.8968000411987305, -4.89769983291626, -4.898499965667725, -4.89870023727417, -4.89870023727417, -5.455699920654297, -5.455699920654297, -5.455699920654297, -5.455699920654297, -5.456699848175049, -5.456900119781494, -5.456900119781494, -5.456900119781494, -5.456999778747559, -5.456999778747559, -5.456999778747559, -5.457099914550781, -5.457099914550781, -5.457399845123291, -5.457600116729736, -5.457600116729736, -5.457600116729736, -5.457699775695801, -5.457699775695801, -5.457699775695801, -5.457799911499023, -5.457799911499023, -5.457799911499023, -3.613800048828125, -4.893099784851074, -4.894100189208984, -4.895899772644043, -4.519599914550781, -4.878799915313721, -4.885300159454346, -4.894199848175049, -4.044099807739258, -4.888299942016602, -4.887499809265137, -4.276100158691406, -4.8927001953125, -4.891300201416016, -4.535399913787842, -4.898099899291992, -5.443999767303467, -5.428999900817871, -5.437600135803223, -5.4492998123168945, -5.44789981842041, -5.448400020599365, -5.448400020599365, -5.449100017547607], \"loglift\": [30.0, 29.0, 28.0, 27.0, 26.0, 25.0, 24.0, 23.0, 22.0, 21.0, 20.0, 19.0, 18.0, 17.0, 16.0, 15.0, 14.0, 13.0, 12.0, 11.0, 10.0, 9.0, 8.0, 7.0, 6.0, 5.0, 4.0, 3.0, 2.0, 1.0, 0.7615, 0.6876, 0.687, 0.6863, 0.6545, 0.6544, 0.6532, 0.6532, 0.6521, 0.6354, 0.5963, 0.5963, 0.5963, 0.5963, 0.5963, 0.5963, 0.5963, 0.5963, 0.5963, 0.5963, 0.5963, 0.5962, 0.5955, 0.5955, 0.5954, 0.5953, 0.5951, 0.5951, 0.595, 0.595, 0.5915, 0.5862, 0.5872, 0.4288, 0.4361, 0.4688, 0.4729, 0.1586, 0.3877, 0.321, 0.3575, 0.4405, 0.2997, 0.3388, 0.4002, 0.0956, 0.1827, 0.4264, 0.4236, 0.423, 0.097, -0.4846, -0.0557, -0.5532, 0.103, 0.0897, -0.562, -0.6097, 0.7412, 0.7117, 0.7068, 0.7062, 0.7046, 0.703, 0.6929, 0.6743, 0.6714, 0.6693, 0.668, 0.6492, 0.6447, 0.6447, 0.6446, 0.6445, 0.6323, 0.6229, 0.6164, 0.616, 0.6158, 0.6156, 0.6155, 0.6155, 0.6155, 0.6155, 0.6155, 0.6155, 0.6155, 0.6155, 0.5323, 0.5183, 0.5708, 0.5338, 0.4549, 0.4835, 0.5239, 0.4348, 0.4347, 0.4651, 0.5196, -0.0361, -0.47, 0.1162, -0.2022, 0.359, 0.226, 0.0173, 0.2757, -0.3796, 0.1077, 0.078, -0.308, 2.0204, 1.7828, 1.7827, 1.7814, 1.7803, 1.7801, 1.7801, 1.5748, 1.5748, 1.5748, 1.5748, 1.5734, 1.5733, 1.5733, 1.5732, 1.5731, 1.5731, 1.573, 1.573, 1.5729, 1.5726, 1.5724, 1.5723, 1.5723, 1.5722, 1.5722, 1.5722, 1.5721, 1.5721, 1.572, 1.1285, 1.4062, 1.405, 1.4021, 1.0147, 1.1475, 1.1396, 1.1284, 0.2663, 0.9197, 0.7433, -0.7502, 0.3398, 0.1442, -1.0357, -1.1935, 1.0825, -0.5863, 0.1358, 1.0754, 0.7424, 0.7418, 0.1235, 0.7409]}, \"token.table\": {\"Topic\": [1, 2, 1, 1, 2, 3, 1, 2, 1, 2, 3, 1, 1, 2, 1, 1, 1, 2, 2, 3, 3, 1, 2, 3, 3, 1, 1, 2, 3, 2, 3, 1, 2, 2, 3, 1, 2, 3, 2, 2, 1, 2, 3, 1, 3, 1, 3, 1, 1, 2, 1, 2, 2, 3, 1, 2, 3, 3, 3, 3, 1, 2, 1, 2, 3, 1, 2, 3, 1, 3, 3, 1, 1, 1, 1, 2, 3, 2, 3, 1, 2, 3, 2, 1, 2, 3, 1, 2, 3, 2, 1, 1, 2, 3, 1, 2, 1, 2, 3, 2, 1, 2, 1, 1, 2, 1, 1, 1, 2, 1, 1, 1, 2, 1, 2, 1, 1, 2, 1, 2, 3, 3, 2, 2, 3, 2, 1, 2, 1, 2, 3, 2, 3, 3, 3, 1, 2, 3, 2, 1, 2, 1, 2, 1, 2, 3, 1, 2, 3, 2, 1, 2, 2, 3, 1, 2, 3, 1, 2, 3, 1, 2, 3, 1, 2, 3, 1, 3, 3, 1, 2, 1, 3, 1, 3, 1, 2, 3, 3, 1, 1, 2, 1, 2, 3, 3, 2, 2, 3, 1, 2, 1, 2, 3, 3, 2, 3, 1, 2, 3, 1, 2, 1, 2, 3, 1, 2, 1, 2, 1, 2, 3, 3, 2, 3, 3, 2, 2, 2, 1, 2, 1, 2, 3, 3, 1, 3, 1, 2, 1], \"Freq\": [0.8047651006818842, 0.20119127517047106, 0.8997932918759435, 0.5962222749582398, 0.19874075831941324, 0.19874075831941324, 0.43739898545083505, 0.43739898545083505, 0.43311148659828846, 0.2598668919589731, 0.34648918927863076, 1.002036968313203, 0.7962477850050473, 0.26541592833501576, 0.8997917266436637, 0.9056733255360485, 0.8756944472483124, 0.1459490745413854, 0.7943654415548882, 0.19859136038872205, 0.8534321843983552, 0.4212423162868702, 0.4212423162868702, 0.2106211581434351, 0.6007437912863164, 0.9001020735340931, 0.660869242429537, 0.22028974747651234, 0.8536169315136227, 0.8986321286652829, 0.8535515274811319, 0.1456730130772291, 0.8740380784633746, 0.8986335571315085, 0.8534142258298956, 0.25147397694238144, 0.5029479538847629, 0.25147397694238144, 1.000326640580867, 1.0003456298775004, 0.6894074491664933, 0.17235186229162333, 0.17235186229162333, 0.8997946772370599, 0.8534786504422311, 0.9001093400659905, 0.8535747053197078, 0.8998340483565124, 0.7868234353866835, 0.13113723923111392, 0.3284357671877095, 0.656871534375419, 0.5149383001384265, 0.5149383001384265, 0.20669414846121847, 0.7234295196142646, 0.10334707423060924, 0.6011558615082182, 0.8539442535318498, 0.8533778913687156, 0.8997929816620913, 0.8986287521766723, 0.36853176143906224, 0.36853176143906224, 0.36853176143906224, 0.6082997060141536, 0.3041498530070768, 0.1520749265035384, 0.5158699372304334, 0.5158699372304334, 0.6007121114498298, 0.8997918249542585, 0.8997930633920848, 0.7970241636686417, 0.09577980902060745, 0.8620182811854671, 0.09577980902060745, 0.8595104418529577, 0.2865034806176526, 0.3685566807777461, 0.3685566807777461, 0.3685566807777461, 0.9408418730125347, 0.6821665732069283, 0.3100757150940583, 0.8535920499993442, 0.6750772154337921, 0.2750314581396931, 0.05000571966176238, 0.9400090953440635, 0.7968205992096737, 0.31281687972460726, 0.31281687972460726, 0.31281687972460726, 1.0021257317262777, 0.7952354340441397, 0.506223107770294, 0.33748207184686263, 0.16874103592343132, 1.0003389231029594, 0.43727989712028786, 0.5830398628270504, 0.8997921842188794, 0.4373921857048343, 0.4373921857048343, 0.8997896919353614, 0.9000014958748792, 0.22005773342928767, 0.660173200287863, 0.7966065087471534, 0.8997931630125953, 0.2478674677628497, 0.7436024032885491, 0.7294651627262885, 0.2917860650905154, 1.001943789984915, 0.8225382622517753, 0.16450765245035506, 0.7967450227101126, 0.2655816742367042, 0.8534058704702568, 0.8535800743262029, 0.8986228832902297, 0.8153646318792815, 0.13589410531321358, 1.0003315440013234, 0.8997909181773506, 0.7951964504547225, 0.2200696076007087, 0.6602088228021261, 0.601164710697099, 0.8986443123520989, 0.853376163023475, 0.853355797184668, 0.6009290077557291, 1.0024344253880444, 0.623331466175013, 0.3116657330875065, 1.0015225623480817, 0.5451054876424447, 0.4360843901139558, 0.1880521268369165, 0.752208507347666, 0.5133822899874821, 0.4107058319899857, 0.051338228998748216, 0.25351355888438115, 0.7098379648762673, 0.05070271177687623, 0.7953864936536889, 0.26511302183695223, 0.7953390655108566, 0.7953042452183277, 0.8536282926770495, 0.6157055410933233, 0.36942332465599403, 0.12314110821866467, 0.397759953579663, 0.5966399303694945, 0.1988799767898315, 0.3443799025685219, 0.5165698538527829, 0.17218995128426096, 0.4243197243364907, 0.4243197243364907, 0.14143990811216356, 0.8999999020770496, 0.8534083812426774, 0.8539467625915698, 0.5024835997166839, 0.5024835997166839, 0.9001887399379548, 0.8536567837329715, 0.4110351350027013, 0.4110351350027013, 0.1912644051613424, 0.5737932154840273, 0.3825288103226848, 0.853572591855273, 0.899822653066454, 0.9002084662870657, 0.8985545792054466, 0.6157336365569901, 0.24629345462279606, 0.12314672731139803, 0.8533936538430814, 0.8985783862426684, 0.41046765506473226, 0.41046765506473226, 0.3284590611768441, 0.6569181223536882, 0.2762035193251053, 0.6751641583502573, 0.030689279925011696, 0.6007032557720732, 0.8985945449670154, 0.8534202965502737, 0.3123936105960015, 0.3123936105960015, 0.3123936105960015, 0.21707114375034167, 0.7235704791678056, 0.5747969020326502, 0.2873984510163251, 0.09579948367210837, 0.7966696261106102, 0.26555654203687007, 0.8997944916485573, 0.8986408197145873, 0.36849253630435297, 0.36849253630435297, 0.36849253630435297, 0.8536290826249553, 1.0002708395455666, 0.8539438627115943, 0.8539464106876634, 1.000246988766237, 0.8986247505567109, 0.8985454576393693, 1.00179415172984, 1.0002459046249101, 0.6968742294919766, 0.23229140983065888, 0.11614570491532944, 0.9700499688554378, 0.4109272097157443, 0.4109272097157443, 0.3764841062815959, 0.5647261594223939, 0.8997950344545013], \"Term\": [\"I-MOD\", \"I-MOD\", \"\\uac00\\uae4c\\uc6b4\", \"\\uac00\\uc9c0\", \"\\uac00\\uc9c0\", \"\\uac00\\uc9c0\", \"\\uac04\\uaca9\", \"\\uac04\\uaca9\", \"\\uac19\\ub2e4\", \"\\uac19\\ub2e4\", \"\\uac19\\ub2e4\", \"\\uac19\\uc740\", \"\\uac70\\ub9ac\", \"\\uac70\\ub9ac\", \"\\uac70\\uc8fc\", \"\\uac80\\ub2e8\", \"\\uacbd\\uc6b0\", \"\\uacbd\\uc6b0\", \"\\uacc4\\uc591\", \"\\uacc4\\uc591\", \"\\uacc4\\uc591\\uad6c\", \"\\uacc4\\uc591\\uc5ed\", \"\\uacc4\\uc591\\uc5ed\", \"\\uacc4\\uc591\\uc5ed\", \"\\uace8\\ubaa9\", \"\\uad11\\uace0\", \"\\uad50\\ud1b5\", \"\\uad50\\ud1b5\", \"\\uad6c\\uc5ed\", \"\\uad73\\uc774\", \"\\uadf9\\uc801\", \"\\uae30\\ub2a5\", \"\\uae30\\ub2a5\", \"\\uae30\\ubcf8\", \"\\uae30\\ubd84\", \"\\uae30\\uc0ac\", \"\\uae30\\uc0ac\", \"\\uae30\\uc0ac\", \"\\uae38\\ucc3e\\uae30\", \"\\ub124\\uc774\\ubc84\", \"\\ub178\\uc120\", \"\\ub178\\uc120\", \"\\ub178\\uc120\", \"\\ub2e4\\ub974\\uac8c\", \"\\ub2e4\\ub9ac\", \"\\ub2e4\\ub9cc\", \"\\ub2ec\\ub9ac\", \"\\ub300\\uc2e0\", \"\\ub300\\uc911\\uad50\\ud1b5\", \"\\ub300\\uc911\\uad50\\ud1b5\", \"\\ub3c4\\ucc29\", \"\\ub3c4\\ucc29\", \"\\ub3d9\\ub124\", \"\\ub3d9\\ub124\", \"\\ub54c\\ubb38\", \"\\ub54c\\ubb38\", \"\\ub54c\\ubb38\", \"\\ub824\\uace0\", \"\\ub9c8\\ub2e4\", \"\\ub9c8\\uc74c\", \"\\ub9cc\\uc871\\uc2a4\\ub7ec\\uc6b4\", \"\\ub9ce\\ub2e4\\ub294\", \"\\ub9ce\\uc558\\ub2e4\", \"\\ub9ce\\uc558\\ub2e4\", \"\\ub9ce\\uc558\\ub2e4\", \"\\ub9ce\\uc740\", \"\\ub9ce\\uc740\", \"\\ub9ce\\uc740\", \"\\ub9ce\\uc744\", \"\\ub9ce\\uc744\", \"\\ub9db\\uc9d1\", \"\\ub9e4\\uc6b0\", \"\\ubaa8\\ub4e0\", \"\\ubaa8\\uc784\", \"\\ubaa9\\uc801\\uc9c0\", \"\\ubaa9\\uc801\\uc9c0\", \"\\ubaa9\\uc801\\uc9c0\", \"\\ubc14\\ub85c\", \"\\ubc14\\ub85c\", \"\\ubc29\\ubc95\", \"\\ubc29\\ubc95\", \"\\ubc29\\ubc95\", \"\\ubc30\\ub2ec\", \"\\ubc30\\ucc28\", \"\\ubc30\\ucc28\", \"\\ubc30\\uce58\", \"\\ubc84\\uc2a4\", \"\\ubc84\\uc2a4\", \"\\ubc84\\uc2a4\", \"\\ubd80\\ubaa8\\ub2d8\", \"\\ubd80\\ubd84\", \"\\ubd88\\ud3b8\\ud55c\", \"\\ubd88\\ud3b8\\ud55c\", \"\\ubd88\\ud3b8\\ud55c\", \"\\ube60\\ub974\\uace0\", \"\\ube60\\ub978\", \"\\uc0ac\\ub78c\", \"\\uc0ac\\ub78c\", \"\\uc0ac\\ub78c\", \"\\uc0ac\\uc2dc\", \"\\uc0dd\\uac01\", \"\\uc0dd\\uac01\", \"\\uc0dd\\ud65c\", \"\\uc11c\\ube44\\uc2a4\", \"\\uc11c\\ube44\\uc2a4\", \"\\uc124\\uc815\", \"\\uc194\\ubc2d\", \"\\uc1a1\\ub3c4\", \"\\uc1a1\\ub3c4\", \"\\uc218\\ub2e8\", \"\\uc2b9\\ud558\", \"\\uc2dc\\uac04\", \"\\uc2dc\\uac04\", \"\\uc2dc\\ubbfc\", \"\\uc2dc\\ubbfc\", \"\\uc2dc\\uc124\", \"\\uc2e0\\ub3c4\\uc2dc\", \"\\uc2e0\\ub3c4\\uc2dc\", \"\\uc2e4\\uc81c\", \"\\uc2e4\\uc81c\", \"\\uc544\\ub77c\\ub9c8\\ub8e8\", \"\\uc544\\uc26c\\uc6e0\\ub2e4\", \"\\uc544\\uc6b8\\ub81b\", \"\\uc544\\uc774\", \"\\uc544\\uc774\", \"\\uc544\\uc774\\ud2b8\\ub9bd\", \"\\uc548\\uc804\\ud558\\uba70\", \"\\uc54c\\ub9bc\", \"\\uc5b4\\ud50c\", \"\\uc5b4\\ud50c\", \"\\uc5c6\\uc5b4\\uc11c\", \"\\uc5c6\\uc74c\", \"\\uc5ec\\ud589\", \"\\uc5f0\\ub77d\", \"\\uc6a9\\uc778\", \"\\uc6b4\\uc601\", \"\\uc6b4\\ud589\", \"\\uc6b4\\ud589\", \"\\uc74c\\uc2dd\", \"\\uc774\\ub3d9\", \"\\uc774\\ub3d9\", \"\\uc774\\uc0c1\", \"\\uc774\\uc0c1\", \"\\uc774\\uc6a9\", \"\\uc774\\uc6a9\", \"\\uc774\\uc6a9\", \"\\uc774\\uc720\", \"\\uc774\\uc720\", \"\\uc774\\uc720\", \"\\uc778\\uc6d0\", \"\\uc778\\ucc9c\", \"\\uc778\\ucc9c\", \"\\uc778\\ucc9c\\ub300\\ud559\\uad50\", \"\\uc788\\uac8c\", \"\\uc788\\ub294\", \"\\uc788\\ub294\", \"\\uc788\\ub294\", \"\\uc788\\ub2e4\", \"\\uc788\\ub2e4\", \"\\uc788\\ub2e4\", \"\\uc788\\uc5b4\\uc11c\", \"\\uc788\\uc5b4\\uc11c\", \"\\uc788\\uc5b4\\uc11c\", \"\\uc788\\uc744\", \"\\uc788\\uc744\", \"\\uc788\\uc744\", \"\\uc788\\uc9c0\\ub9cc\", \"\\uc791\\ub3d9\", \"\\uc7a5\\uae30\\ub3d9\", \"\\uc815\\ub958\\uc7a5\", \"\\uc815\\ub958\\uc7a5\", \"\\uc815\\uc5ed\", \"\\uc81c\\ud55c\", \"\\uc88b\\uaca0\\ub2e4\", \"\\uc88b\\uaca0\\ub2e4\", \"\\uc88b\\uc744\", \"\\uc88b\\uc744\", \"\\uc88b\\uc744\", \"\\uc8fc\\uc2dc\", \"\\uc8fc\\uc694\", \"\\uc911\\uc2ec\\ubd80\", \"\\uc911\\ud559\\uad50\", \"\\uc9c0\\uc5ed\", \"\\uc9c0\\uc5ed\", \"\\uc9c0\\uc5ed\", \"\\uc9c0\\uc778\", \"\\uc9c0\\uc810\", \"\\uccb4\\ud5d8\", \"\\uccb4\\ud5d8\", \"\\ucd94\\uac00\", \"\\ucd94\\uac00\", \"\\ucd94\\ucc9c\", \"\\ucd94\\ucc9c\", \"\\ucd94\\ucc9c\", \"\\uce74\\ud398\", \"\\ucea0\\ud37c\\uc2a4\", \"\\ud074\\ub9ad\", \"\\ud0c0\\uace0\", \"\\ud0c0\\uace0\", \"\\ud0c0\\uace0\", \"\\ud0d1\\uc2b9\", \"\\ud0d1\\uc2b9\", \"\\ud0dd\\uc2dc\", \"\\ud0dd\\uc2dc\", \"\\ud0dd\\uc2dc\", \"\\ud3b8\\ub9ac\\ud558\\uac8c\", \"\\ud3b8\\ub9ac\\ud558\\uac8c\", \"\\ud3b8\\ub9ac\\ud558\\uba70\", \"\\ud3b8\\uc548\\ud558\\ub2e4\\ub294\", \"\\ud3b8\\ud558\\uace0\", \"\\ud3b8\\ud558\\uace0\", \"\\ud3b8\\ud558\\uace0\", \"\\ud3b8\\ud588\\uace0\", \"\\ud45c\\uc2dc\", \"\\ud50c\\ub798\\uce74\\ub4dc\", \"\\ud558\\ub098\", \"\\ud559\\uad50\", \"\\ud559\\uc6b0\", \"\\ud559\\uc6d0\", \"\\ud55c\\uc815\", \"\\ud61c\\ud0dd\", \"\\ud638\\ucd9c\", \"\\ud638\\ucd9c\", \"\\ud638\\ucd9c\", \"\\ud64d\\ubcf4\", \"\\ud655\\uc2e4\\ud788\", \"\\ud655\\uc2e4\\ud788\", \"\\ud658\\uc2b9\", \"\\ud658\\uc2b9\", \"\\ud798\\ub4e0\"]}, \"R\": 30, \"lambda.step\": 0.01, \"plot.opts\": {\"xlab\": \"PC1\", \"ylab\": \"PC2\"}, \"topic.order\": [1, 2, 3]};\n",
       "\n",
       "function LDAvis_load_lib(url, callback){\n",
       "  var s = document.createElement('script');\n",
       "  s.src = url;\n",
       "  s.async = true;\n",
       "  s.onreadystatechange = s.onload = callback;\n",
       "  s.onerror = function(){console.warn(\"failed to load library \" + url);};\n",
       "  document.getElementsByTagName(\"head\")[0].appendChild(s);\n",
       "}\n",
       "\n",
       "if(typeof(LDAvis) !== \"undefined\"){\n",
       "   // already loaded: just create the visualization\n",
       "   !function(LDAvis){\n",
       "       new LDAvis(\"#\" + \"ldavis_el912947961146402113481096\", ldavis_el912947961146402113481096_data);\n",
       "   }(LDAvis);\n",
       "}else if(typeof define === \"function\" && define.amd){\n",
       "   // require.js is available: use it to load d3/LDAvis\n",
       "   require.config({paths: {d3: \"https://cdnjs.cloudflare.com/ajax/libs/d3/3.5.5/d3.min\"}});\n",
       "   require([\"d3\"], function(d3){\n",
       "      window.d3 = d3;\n",
       "      LDAvis_load_lib(\"https://cdn.rawgit.com/bmabey/pyLDAvis/files/ldavis.v1.0.0.js\", function(){\n",
       "        new LDAvis(\"#\" + \"ldavis_el912947961146402113481096\", ldavis_el912947961146402113481096_data);\n",
       "      });\n",
       "    });\n",
       "}else{\n",
       "    // require.js not available: dynamically load d3 & LDAvis\n",
       "    LDAvis_load_lib(\"https://cdnjs.cloudflare.com/ajax/libs/d3/3.5.5/d3.min.js\", function(){\n",
       "         LDAvis_load_lib(\"https://cdn.rawgit.com/bmabey/pyLDAvis/files/ldavis.v1.0.0.js\", function(){\n",
       "                 new LDAvis(\"#\" + \"ldavis_el912947961146402113481096\", ldavis_el912947961146402113481096_data);\n",
       "            })\n",
       "         });\n",
       "}\n",
       "</script>"
      ],
      "text/plain": [
       "<IPython.core.display.HTML object>"
      ]
     },
     "execution_count": 47,
     "metadata": {},
     "output_type": "execute_result"
    }
   ],
   "source": [
    "result = tc.topic_modeling(\"lda\", livinglab[\"Token_Content\"], 3, 10)  \n",
    "model = tc.get_model()\n",
    "tc.display_model_result(model)"
   ]
  },
  {
   "cell_type": "code",
   "execution_count": 48,
   "metadata": {},
   "outputs": [
    {
     "name": "stdout",
     "output_type": "stream",
     "text": [
      "[(0, [('버스', 0.046383094), ('이용', 0.03448065), ('배차', 0.018837284), ('검단', 0.01607285), ('추천', 0.01515946), ('사람', 0.0147744445), ('I-MOD', 0.013492977), ('대중교통', 0.010872855), ('택시', 0.01086866), ('호출', 0.009582879)]), (1, [('추천', 0.03878688), ('이용', 0.028381744), ('이유', 0.02415791), ('시간', 0.02046733), ('버스', 0.018880494), ('탑승', 0.017774105), ('목적지', 0.015092544), ('때문', 0.012462989), ('아이', 0.011112557), ('사람', 0.010970241)]), (2, [('같다', 0.026950292), ('홍보', 0.023487922), ('사람', 0.01752613), ('이용', 0.013896532), ('좋을', 0.010893596), ('버스', 0.01072291), ('불편한', 0.007606517), ('타고', 0.007557017), ('계양역', 0.0075406022), ('기사', 0.007534198)])]\n"
     ]
    }
   ],
   "source": [
    "# 토픽별 키워드 결과\n",
    "print(result)"
   ]
  },
  {
   "cell_type": "code",
   "execution_count": 49,
   "metadata": {},
   "outputs": [
    {
     "data": {
      "text/html": [
       "<div>\n",
       "<style scoped>\n",
       "    .dataframe tbody tr th:only-of-type {\n",
       "        vertical-align: middle;\n",
       "    }\n",
       "\n",
       "    .dataframe tbody tr th {\n",
       "        vertical-align: top;\n",
       "    }\n",
       "\n",
       "    .dataframe thead th {\n",
       "        text-align: right;\n",
       "    }\n",
       "</style>\n",
       "<table border=\"1\" class=\"dataframe\">\n",
       "  <thead>\n",
       "    <tr style=\"text-align: right;\">\n",
       "      <th></th>\n",
       "      <th>Dominant_Topic</th>\n",
       "      <th>Perc_Contribution</th>\n",
       "      <th>Topic_Keywords</th>\n",
       "      <th>Token_Content</th>\n",
       "    </tr>\n",
       "  </thead>\n",
       "  <tbody>\n",
       "    <tr>\n",
       "      <th>0</th>\n",
       "      <td>0.0</td>\n",
       "      <td>0.8131</td>\n",
       "      <td>버스, 이용, 배차, 검단, 추천, 사람, I-MOD, 대중교통, 택시, 호출</td>\n",
       "      <td>버스 이용 사람</td>\n",
       "    </tr>\n",
       "    <tr>\n",
       "      <th>1</th>\n",
       "      <td>0.0</td>\n",
       "      <td>0.8130</td>\n",
       "      <td>버스, 이용, 배차, 검단, 추천, 사람, I-MOD, 대중교통, 택시, 호출</td>\n",
       "      <td>버스 이용 사람</td>\n",
       "    </tr>\n",
       "    <tr>\n",
       "      <th>2</th>\n",
       "      <td>0.0</td>\n",
       "      <td>0.9573</td>\n",
       "      <td>버스, 이용, 배차, 검단, 추천, 사람, I-MOD, 대중교통, 택시, 호출</td>\n",
       "      <td>날 등 기상 안 좋은 날 짐 많을 때 거동 불편한 분 이동 생기 택시 대신 를 이용...</td>\n",
       "    </tr>\n",
       "    <tr>\n",
       "      <th>3</th>\n",
       "      <td>1.0</td>\n",
       "      <td>0.9785</td>\n",
       "      <td>추천, 이용, 이유, 시간, 버스, 탑승, 목적지, 때문, 아이, 사람</td>\n",
       "      <td>추천 짐 많거나 목적지 거리 멀지만 시간 여유 있는 시민 이유 탑승 때 발판 버스 ...</td>\n",
       "    </tr>\n",
       "    <tr>\n",
       "      <th>4</th>\n",
       "      <td>1.0</td>\n",
       "      <td>0.9646</td>\n",
       "      <td>추천, 이용, 이유, 시간, 버스, 탑승, 목적지, 때문, 아이, 사람</td>\n",
       "      <td>추천 시간 넉넉하고 쾌적하게 이동 사람 이유 배차 빠르게 진행 안될 수 있고 중간 ...</td>\n",
       "    </tr>\n",
       "    <tr>\n",
       "      <th>5</th>\n",
       "      <td>1.0</td>\n",
       "      <td>0.9692</td>\n",
       "      <td>추천, 이용, 이유, 시간, 버스, 탑승, 목적지, 때문, 아이, 사람</td>\n",
       "      <td>목적지 편리하게 쾌적하게 시민 이유 목적지 비슷한 사람 끼리 동승 때문 정차 목적지...</td>\n",
       "    </tr>\n",
       "    <tr>\n",
       "      <th>6</th>\n",
       "      <td>0.0</td>\n",
       "      <td>0.9734</td>\n",
       "      <td>버스, 이용, 배차, 검단, 추천, 사람, I-MOD, 대중교통, 택시, 호출</td>\n",
       "      <td>추천 검단 빠르고 편리하게 이동 시민 이유 검단 신도시 밖 대중교통 타고 검단 신도...</td>\n",
       "    </tr>\n",
       "    <tr>\n",
       "      <th>7</th>\n",
       "      <td>1.0</td>\n",
       "      <td>0.9031</td>\n",
       "      <td>추천, 이용, 이유, 시간, 버스, 탑승, 목적지, 때문, 아이, 사람</td>\n",
       "      <td>추천 없음 이유 특이 사항 없음</td>\n",
       "    </tr>\n",
       "    <tr>\n",
       "      <th>8</th>\n",
       "      <td>0.0</td>\n",
       "      <td>0.9743</td>\n",
       "      <td>버스, 이용, 배차, 검단, 추천, 사람, I-MOD, 대중교통, 택시, 호출</td>\n",
       "      <td>추천 짐 많은 사람 캐리어 대중교통 이용 사람 이유 대중교통 이용 무거운 짐 버스 ...</td>\n",
       "    </tr>\n",
       "    <tr>\n",
       "      <th>9</th>\n",
       "      <td>0.0</td>\n",
       "      <td>0.9778</td>\n",
       "      <td>버스, 이용, 배차, 검단, 추천, 사람, I-MOD, 대중교통, 택시, 호출</td>\n",
       "      <td>혼자 마을 마을 로만 동시 굉장히 가성 비 좋고 편리한 교통 수단 것 같다 버스 비...</td>\n",
       "    </tr>\n",
       "    <tr>\n",
       "      <th>10</th>\n",
       "      <td>1.0</td>\n",
       "      <td>0.9876</td>\n",
       "      <td>추천, 이용, 이유, 시간, 버스, 탑승, 목적지, 때문, 아이, 사람</td>\n",
       "      <td>추천 이유 신도시 이유 배달 비 음식 가격 차별 있어서 많은 분 주변 식당가 배달 ...</td>\n",
       "    </tr>\n",
       "    <tr>\n",
       "      <th>11</th>\n",
       "      <td>0.0</td>\n",
       "      <td>0.9772</td>\n",
       "      <td>버스, 이용, 배차, 검단, 추천, 사람, I-MOD, 대중교통, 택시, 호출</td>\n",
       "      <td>추천 이유 버스 승강장 날씨 언제 버스 것 직접 호출 탈 수 있는 를 이용 것 좋다...</td>\n",
       "    </tr>\n",
       "    <tr>\n",
       "      <th>12</th>\n",
       "      <td>1.0</td>\n",
       "      <td>0.9422</td>\n",
       "      <td>추천, 이용, 이유, 시간, 버스, 탑승, 목적지, 때문, 아이, 사람</td>\n",
       "      <td>야간 날씨 대기 시간 없는 점 무척 편리하고 내부 쾌적하여 이용 용이합니다</td>\n",
       "    </tr>\n",
       "    <tr>\n",
       "      <th>13</th>\n",
       "      <td>0.0</td>\n",
       "      <td>0.9929</td>\n",
       "      <td>버스, 이용, 배차, 검단, 추천, 사람, I-MOD, 대중교통, 택시, 호출</td>\n",
       "      <td>추천 대형 마트 병원 중심부 검단 사거리 완 정역 독 정역 가기 위 버스 배차 간격...</td>\n",
       "    </tr>\n",
       "    <tr>\n",
       "      <th>14</th>\n",
       "      <td>1.0</td>\n",
       "      <td>0.9815</td>\n",
       "      <td>추천, 이용, 이유, 시간, 버스, 탑승, 목적지, 때문, 아이, 사람</td>\n",
       "      <td>추천 인천대학교 학우 이유 먼저 인천대학교 송도 캠퍼스 버스 기본 이상 때 있는데 ...</td>\n",
       "    </tr>\n",
       "    <tr>\n",
       "      <th>15</th>\n",
       "      <td>1.0</td>\n",
       "      <td>0.9815</td>\n",
       "      <td>추천, 이용, 이유, 시간, 버스, 탑승, 목적지, 때문, 아이, 사람</td>\n",
       "      <td>추천 인천대학교 학우 이유 먼저 인천대학교 송도 캠퍼스 버스 기본 이상 때 있는데 ...</td>\n",
       "    </tr>\n",
       "    <tr>\n",
       "      <th>16</th>\n",
       "      <td>0.0</td>\n",
       "      <td>0.9703</td>\n",
       "      <td>버스, 이용, 배차, 검단, 추천, 사람, I-MOD, 대중교통, 택시, 호출</td>\n",
       "      <td>추천 검단 시민 이유 검단 교통 수단 확정 곳 많아서 대중교통 이용 불편할 수 있지...</td>\n",
       "    </tr>\n",
       "    <tr>\n",
       "      <th>17</th>\n",
       "      <td>1.0</td>\n",
       "      <td>0.9918</td>\n",
       "      <td>추천, 이용, 이유, 시간, 버스, 탑승, 목적지, 때문, 아이, 사람</td>\n",
       "      <td>를 이용 개선 점 버스 환승 요금 미적 용 저상버스 대체 탑승 기능 추가 호출 결제...</td>\n",
       "    </tr>\n",
       "    <tr>\n",
       "      <th>18</th>\n",
       "      <td>1.0</td>\n",
       "      <td>0.9562</td>\n",
       "      <td>추천, 이용, 이유, 시간, 버스, 탑승, 목적지, 때문, 아이, 사람</td>\n",
       "      <td>추천 부모님 이유 부모님 네이버 어플 길찾기 자주 인천 지역 사시 아이트립 추천 좋...</td>\n",
       "    </tr>\n",
       "    <tr>\n",
       "      <th>19</th>\n",
       "      <td>1.0</td>\n",
       "      <td>0.9671</td>\n",
       "      <td>추천, 이용, 이유, 시간, 버스, 탑승, 목적지, 때문, 아이, 사람</td>\n",
       "      <td>추천 자녀 이유 하차 보조 스탭 있어서 아이 등 하교 때 이용 버스 안전하여 안심 ...</td>\n",
       "    </tr>\n",
       "    <tr>\n",
       "      <th>20</th>\n",
       "      <td>1.0</td>\n",
       "      <td>0.9562</td>\n",
       "      <td>추천, 이용, 이유, 시간, 버스, 탑승, 목적지, 때문, 아이, 사람</td>\n",
       "      <td>추천 부모님 이유 부모님 네이버 어플 길찾기 자주 인천 지역 사시 아이트립 추천 좋...</td>\n",
       "    </tr>\n",
       "    <tr>\n",
       "      <th>21</th>\n",
       "      <td>1.0</td>\n",
       "      <td>0.6355</td>\n",
       "      <td>추천, 이용, 이유, 시간, 버스, 탑승, 목적지, 때문, 아이, 사람</td>\n",
       "      <td>추천 부모님 이유 부모님 평소 대중 교통 이용 검단 입주 후 집 경우 이용 좋으실 ...</td>\n",
       "    </tr>\n",
       "    <tr>\n",
       "      <th>22</th>\n",
       "      <td>1.0</td>\n",
       "      <td>0.7730</td>\n",
       "      <td>추천, 이용, 이유, 시간, 버스, 탑승, 목적지, 때문, 아이, 사람</td>\n",
       "      <td>계양 주민</td>\n",
       "    </tr>\n",
       "    <tr>\n",
       "      <th>23</th>\n",
       "      <td>0.0</td>\n",
       "      <td>0.9760</td>\n",
       "      <td>버스, 이용, 배차, 검단, 추천, 사람, I-MOD, 대중교통, 택시, 호출</td>\n",
       "      <td>I-MOD 버스 지하철 편하고 쾌적하기 때문 사람 몇 번 배차 문제 이용 수만 있다...</td>\n",
       "    </tr>\n",
       "    <tr>\n",
       "      <th>24</th>\n",
       "      <td>2.0</td>\n",
       "      <td>0.9792</td>\n",
       "      <td>같다, 홍보, 사람, 이용, 좋을, 버스, 불편한, 타고, 계양역, 기사</td>\n",
       "      <td>승 하차 버스 달리 기사 타고 수 있게 주시 원하는 목적지 택시 수 있다 또 거의 ...</td>\n",
       "    </tr>\n",
       "    <tr>\n",
       "      <th>25</th>\n",
       "      <td>0.0</td>\n",
       "      <td>0.9749</td>\n",
       "      <td>버스, 이용, 배차, 검단, 추천, 사람, I-MOD, 대중교통, 택시, 호출</td>\n",
       "      <td>짐 많거나 버스 배차 정류장 근처 시민 추천 거의 수 있어서 짐 많다면 꼭 추천 또...</td>\n",
       "    </tr>\n",
       "    <tr>\n",
       "      <th>26</th>\n",
       "      <td>0.0</td>\n",
       "      <td>0.9575</td>\n",
       "      <td>버스, 이용, 배차, 검단, 추천, 사람, I-MOD, 대중교통, 택시, 호출</td>\n",
       "      <td>버스 기사 운전 조심 이동 동안 택시 것 같은 편안함 컨디션 좋지 날 일반 버스 시...</td>\n",
       "    </tr>\n",
       "    <tr>\n",
       "      <th>27</th>\n",
       "      <td>1.0</td>\n",
       "      <td>0.9845</td>\n",
       "      <td>추천, 이용, 이유, 시간, 버스, 탑승, 목적지, 때문, 아이, 사람</td>\n",
       "      <td>처음 앱 이용 때 더 버스 일반 버스 베차 시간 것 시간 수 있었고 손님 없으면 바...</td>\n",
       "    </tr>\n",
       "    <tr>\n",
       "      <th>28</th>\n",
       "      <td>1.0</td>\n",
       "      <td>0.9546</td>\n",
       "      <td>추천, 이용, 이유, 시간, 버스, 탑승, 목적지, 때문, 아이, 사람</td>\n",
       "      <td>추천 짐 많거나 바쁜 사람 환승 필요없이 목적지 사람 이유 이동 시간 줄 버스 편하...</td>\n",
       "    </tr>\n",
       "    <tr>\n",
       "      <th>29</th>\n",
       "      <td>2.0</td>\n",
       "      <td>0.9690</td>\n",
       "      <td>같다, 홍보, 사람, 이용, 좋을, 버스, 불편한, 타고, 계양역, 기사</td>\n",
       "      <td>버스 확실히 바로 편했고 무거운 짐 있을 때 자주 이용 것 같다 지하철 려고 때 돈...</td>\n",
       "    </tr>\n",
       "    <tr>\n",
       "      <th>30</th>\n",
       "      <td>1.0</td>\n",
       "      <td>0.9704</td>\n",
       "      <td>추천, 이용, 이유, 시간, 버스, 탑승, 목적지, 때문, 아이, 사람</td>\n",
       "      <td>집 버스정류장 멀고 빠른 이동 원하는 사람 추천 배차 간격 길어 분 추천 계양 버스...</td>\n",
       "    </tr>\n",
       "    <tr>\n",
       "      <th>31</th>\n",
       "      <td>1.0</td>\n",
       "      <td>0.9704</td>\n",
       "      <td>추천, 이용, 이유, 시간, 버스, 탑승, 목적지, 때문, 아이, 사람</td>\n",
       "      <td>집 버스정류장 멀고 빠른 이동 원하는 사람 추천 배차 간격 길어 분 추천 계양 버스...</td>\n",
       "    </tr>\n",
       "    <tr>\n",
       "      <th>32</th>\n",
       "      <td>2.0</td>\n",
       "      <td>0.9690</td>\n",
       "      <td>같다, 홍보, 사람, 이용, 좋을, 버스, 불편한, 타고, 계양역, 기사</td>\n",
       "      <td>추천 자차 가지 있지 근처 맛집 카페 사람 이유 동네 특성 차가 없으면 가기 불편한...</td>\n",
       "    </tr>\n",
       "    <tr>\n",
       "      <th>33</th>\n",
       "      <td>2.0</td>\n",
       "      <td>0.9813</td>\n",
       "      <td>같다, 홍보, 사람, 이용, 좋을, 버스, 불편한, 타고, 계양역, 기사</td>\n",
       "      <td>를 처음 체험 때 작동 방법 호출 줄 알 마냥 오지 차 체험 호출 탑승권 클릭 기사...</td>\n",
       "    </tr>\n",
       "    <tr>\n",
       "      <th>34</th>\n",
       "      <td>0.0</td>\n",
       "      <td>0.9761</td>\n",
       "      <td>버스, 이용, 배차, 검단, 추천, 사람, I-MOD, 대중교통, 택시, 호출</td>\n",
       "      <td>추천 검단 신도시 거주 모든 시민 이유 버스 수 있는 정류장 한정 이용 시 버스 다...</td>\n",
       "    </tr>\n",
       "    <tr>\n",
       "      <th>35</th>\n",
       "      <td>0.0</td>\n",
       "      <td>0.9761</td>\n",
       "      <td>버스, 이용, 배차, 검단, 추천, 사람, I-MOD, 대중교통, 택시, 호출</td>\n",
       "      <td>추천 검단 신도시 거주 모든 시민 이유 버스 수 있는 정류장 한정 이용 시 버스 다...</td>\n",
       "    </tr>\n",
       "    <tr>\n",
       "      <th>36</th>\n",
       "      <td>1.0</td>\n",
       "      <td>0.9607</td>\n",
       "      <td>추천, 이용, 이유, 시간, 버스, 탑승, 목적지, 때문, 아이, 사람</td>\n",
       "      <td>추천 계양역 출근 시 추천 이유 호출 시간 짧으니 시간 단축 장점 환승 비용 문제 ...</td>\n",
       "    </tr>\n",
       "    <tr>\n",
       "      <th>37</th>\n",
       "      <td>0.0</td>\n",
       "      <td>0.9799</td>\n",
       "      <td>버스, 이용, 배차, 검단, 추천, 사람, I-MOD, 대중교통, 택시, 호출</td>\n",
       "      <td>버스 주 사용 처음 사용 앱 결제 수단 설정 호출 결제 한번 해결 편리함이 있고 차...</td>\n",
       "    </tr>\n",
       "    <tr>\n",
       "      <th>38</th>\n",
       "      <td>0.0</td>\n",
       "      <td>0.9638</td>\n",
       "      <td>버스, 이용, 배차, 검단, 추천, 사람, I-MOD, 대중교통, 택시, 호출</td>\n",
       "      <td>여러 다방면 어르신 이용 듯 어르신 카드 등록 휴대폰 요금 결제 것 같습니다 제 탑...</td>\n",
       "    </tr>\n",
       "    <tr>\n",
       "      <th>39</th>\n",
       "      <td>0.0</td>\n",
       "      <td>0.9722</td>\n",
       "      <td>버스, 이용, 배차, 검단, 추천, 사람, I-MOD, 대중교통, 택시, 호출</td>\n",
       "      <td>계양역 목상동 솔밭 이주 단지 입구 두 군데 모두 현수막 있지만 버스승강장 유리 벽...</td>\n",
       "    </tr>\n",
       "    <tr>\n",
       "      <th>40</th>\n",
       "      <td>1.0</td>\n",
       "      <td>0.9279</td>\n",
       "      <td>추천, 이용, 이유, 시간, 버스, 탑승, 목적지, 때문, 아이, 사람</td>\n",
       "      <td>추천 남동 주민 이유 일반 노선 동네 안쪽 버스 이용 수 있다</td>\n",
       "    </tr>\n",
       "    <tr>\n",
       "      <th>41</th>\n",
       "      <td>0.0</td>\n",
       "      <td>0.9786</td>\n",
       "      <td>버스, 이용, 배차, 검단, 추천, 사람, I-MOD, 대중교통, 택시, 호출</td>\n",
       "      <td>I-MOD 어플 검색 기능 있으면 좋겠다 차 가기 힘든 곳 편리하게 갈수 있다는 점...</td>\n",
       "    </tr>\n",
       "    <tr>\n",
       "      <th>42</th>\n",
       "      <td>0.0</td>\n",
       "      <td>0.9909</td>\n",
       "      <td>버스, 이용, 배차, 검단, 추천, 사람, I-MOD, 대중교통, 택시, 호출</td>\n",
       "      <td>오늘 를 실제 이용 사람 처음 친구 만족하면서 사용 중 현재 이용자 많지 배차 빠르...</td>\n",
       "    </tr>\n",
       "    <tr>\n",
       "      <th>43</th>\n",
       "      <td>1.0</td>\n",
       "      <td>0.9764</td>\n",
       "      <td>추천, 이용, 이유, 시간, 버스, 탑승, 목적지, 때문, 아이, 사람</td>\n",
       "      <td>추천 아이 동승 사람 이유 대중교통 아이 타고 리기 편리하고 안전하다 발판 아이 스...</td>\n",
       "    </tr>\n",
       "    <tr>\n",
       "      <th>44</th>\n",
       "      <td>1.0</td>\n",
       "      <td>0.9429</td>\n",
       "      <td>추천, 이용, 이유, 시간, 버스, 탑승, 목적지, 때문, 아이, 사람</td>\n",
       "      <td>추천 추천 함 이유 쾌적하 환경 및 어플 목적지 입력 편히 이동 있음</td>\n",
       "    </tr>\n",
       "    <tr>\n",
       "      <th>45</th>\n",
       "      <td>1.0</td>\n",
       "      <td>0.9701</td>\n",
       "      <td>추천, 이용, 이유, 시간, 버스, 탑승, 목적지, 때문, 아이, 사람</td>\n",
       "      <td>추천 계양 중학교 학생 이유 등굣길 계양역 직장인 많아 다음 정류장 계양 중학교 학...</td>\n",
       "    </tr>\n",
       "    <tr>\n",
       "      <th>46</th>\n",
       "      <td>2.0</td>\n",
       "      <td>0.9696</td>\n",
       "      <td>같다, 홍보, 사람, 이용, 좋을, 버스, 불편한, 타고, 계양역, 기사</td>\n",
       "      <td>버스 탈 때 마다 분 려고 때 많았다 홍보 더 좋겠다 계양역 쪽 홍보 플래카드 버스...</td>\n",
       "    </tr>\n",
       "  </tbody>\n",
       "</table>\n",
       "</div>"
      ],
      "text/plain": [
       "    Dominant_Topic  Perc_Contribution  \\\n",
       "0              0.0             0.8131   \n",
       "1              0.0             0.8130   \n",
       "2              0.0             0.9573   \n",
       "3              1.0             0.9785   \n",
       "4              1.0             0.9646   \n",
       "5              1.0             0.9692   \n",
       "6              0.0             0.9734   \n",
       "7              1.0             0.9031   \n",
       "8              0.0             0.9743   \n",
       "9              0.0             0.9778   \n",
       "10             1.0             0.9876   \n",
       "11             0.0             0.9772   \n",
       "12             1.0             0.9422   \n",
       "13             0.0             0.9929   \n",
       "14             1.0             0.9815   \n",
       "15             1.0             0.9815   \n",
       "16             0.0             0.9703   \n",
       "17             1.0             0.9918   \n",
       "18             1.0             0.9562   \n",
       "19             1.0             0.9671   \n",
       "20             1.0             0.9562   \n",
       "21             1.0             0.6355   \n",
       "22             1.0             0.7730   \n",
       "23             0.0             0.9760   \n",
       "24             2.0             0.9792   \n",
       "25             0.0             0.9749   \n",
       "26             0.0             0.9575   \n",
       "27             1.0             0.9845   \n",
       "28             1.0             0.9546   \n",
       "29             2.0             0.9690   \n",
       "30             1.0             0.9704   \n",
       "31             1.0             0.9704   \n",
       "32             2.0             0.9690   \n",
       "33             2.0             0.9813   \n",
       "34             0.0             0.9761   \n",
       "35             0.0             0.9761   \n",
       "36             1.0             0.9607   \n",
       "37             0.0             0.9799   \n",
       "38             0.0             0.9638   \n",
       "39             0.0             0.9722   \n",
       "40             1.0             0.9279   \n",
       "41             0.0             0.9786   \n",
       "42             0.0             0.9909   \n",
       "43             1.0             0.9764   \n",
       "44             1.0             0.9429   \n",
       "45             1.0             0.9701   \n",
       "46             2.0             0.9696   \n",
       "\n",
       "                                 Topic_Keywords  \\\n",
       "0   버스, 이용, 배차, 검단, 추천, 사람, I-MOD, 대중교통, 택시, 호출   \n",
       "1   버스, 이용, 배차, 검단, 추천, 사람, I-MOD, 대중교통, 택시, 호출   \n",
       "2   버스, 이용, 배차, 검단, 추천, 사람, I-MOD, 대중교통, 택시, 호출   \n",
       "3       추천, 이용, 이유, 시간, 버스, 탑승, 목적지, 때문, 아이, 사람   \n",
       "4       추천, 이용, 이유, 시간, 버스, 탑승, 목적지, 때문, 아이, 사람   \n",
       "5       추천, 이용, 이유, 시간, 버스, 탑승, 목적지, 때문, 아이, 사람   \n",
       "6   버스, 이용, 배차, 검단, 추천, 사람, I-MOD, 대중교통, 택시, 호출   \n",
       "7       추천, 이용, 이유, 시간, 버스, 탑승, 목적지, 때문, 아이, 사람   \n",
       "8   버스, 이용, 배차, 검단, 추천, 사람, I-MOD, 대중교통, 택시, 호출   \n",
       "9   버스, 이용, 배차, 검단, 추천, 사람, I-MOD, 대중교통, 택시, 호출   \n",
       "10      추천, 이용, 이유, 시간, 버스, 탑승, 목적지, 때문, 아이, 사람   \n",
       "11  버스, 이용, 배차, 검단, 추천, 사람, I-MOD, 대중교통, 택시, 호출   \n",
       "12      추천, 이용, 이유, 시간, 버스, 탑승, 목적지, 때문, 아이, 사람   \n",
       "13  버스, 이용, 배차, 검단, 추천, 사람, I-MOD, 대중교통, 택시, 호출   \n",
       "14      추천, 이용, 이유, 시간, 버스, 탑승, 목적지, 때문, 아이, 사람   \n",
       "15      추천, 이용, 이유, 시간, 버스, 탑승, 목적지, 때문, 아이, 사람   \n",
       "16  버스, 이용, 배차, 검단, 추천, 사람, I-MOD, 대중교통, 택시, 호출   \n",
       "17      추천, 이용, 이유, 시간, 버스, 탑승, 목적지, 때문, 아이, 사람   \n",
       "18      추천, 이용, 이유, 시간, 버스, 탑승, 목적지, 때문, 아이, 사람   \n",
       "19      추천, 이용, 이유, 시간, 버스, 탑승, 목적지, 때문, 아이, 사람   \n",
       "20      추천, 이용, 이유, 시간, 버스, 탑승, 목적지, 때문, 아이, 사람   \n",
       "21      추천, 이용, 이유, 시간, 버스, 탑승, 목적지, 때문, 아이, 사람   \n",
       "22      추천, 이용, 이유, 시간, 버스, 탑승, 목적지, 때문, 아이, 사람   \n",
       "23  버스, 이용, 배차, 검단, 추천, 사람, I-MOD, 대중교통, 택시, 호출   \n",
       "24     같다, 홍보, 사람, 이용, 좋을, 버스, 불편한, 타고, 계양역, 기사   \n",
       "25  버스, 이용, 배차, 검단, 추천, 사람, I-MOD, 대중교통, 택시, 호출   \n",
       "26  버스, 이용, 배차, 검단, 추천, 사람, I-MOD, 대중교통, 택시, 호출   \n",
       "27      추천, 이용, 이유, 시간, 버스, 탑승, 목적지, 때문, 아이, 사람   \n",
       "28      추천, 이용, 이유, 시간, 버스, 탑승, 목적지, 때문, 아이, 사람   \n",
       "29     같다, 홍보, 사람, 이용, 좋을, 버스, 불편한, 타고, 계양역, 기사   \n",
       "30      추천, 이용, 이유, 시간, 버스, 탑승, 목적지, 때문, 아이, 사람   \n",
       "31      추천, 이용, 이유, 시간, 버스, 탑승, 목적지, 때문, 아이, 사람   \n",
       "32     같다, 홍보, 사람, 이용, 좋을, 버스, 불편한, 타고, 계양역, 기사   \n",
       "33     같다, 홍보, 사람, 이용, 좋을, 버스, 불편한, 타고, 계양역, 기사   \n",
       "34  버스, 이용, 배차, 검단, 추천, 사람, I-MOD, 대중교통, 택시, 호출   \n",
       "35  버스, 이용, 배차, 검단, 추천, 사람, I-MOD, 대중교통, 택시, 호출   \n",
       "36      추천, 이용, 이유, 시간, 버스, 탑승, 목적지, 때문, 아이, 사람   \n",
       "37  버스, 이용, 배차, 검단, 추천, 사람, I-MOD, 대중교통, 택시, 호출   \n",
       "38  버스, 이용, 배차, 검단, 추천, 사람, I-MOD, 대중교통, 택시, 호출   \n",
       "39  버스, 이용, 배차, 검단, 추천, 사람, I-MOD, 대중교통, 택시, 호출   \n",
       "40      추천, 이용, 이유, 시간, 버스, 탑승, 목적지, 때문, 아이, 사람   \n",
       "41  버스, 이용, 배차, 검단, 추천, 사람, I-MOD, 대중교통, 택시, 호출   \n",
       "42  버스, 이용, 배차, 검단, 추천, 사람, I-MOD, 대중교통, 택시, 호출   \n",
       "43      추천, 이용, 이유, 시간, 버스, 탑승, 목적지, 때문, 아이, 사람   \n",
       "44      추천, 이용, 이유, 시간, 버스, 탑승, 목적지, 때문, 아이, 사람   \n",
       "45      추천, 이용, 이유, 시간, 버스, 탑승, 목적지, 때문, 아이, 사람   \n",
       "46     같다, 홍보, 사람, 이용, 좋을, 버스, 불편한, 타고, 계양역, 기사   \n",
       "\n",
       "                                        Token_Content  \n",
       "0                                            버스 이용 사람  \n",
       "1                                            버스 이용 사람  \n",
       "2   날 등 기상 안 좋은 날 짐 많을 때 거동 불편한 분 이동 생기 택시 대신 를 이용...  \n",
       "3   추천 짐 많거나 목적지 거리 멀지만 시간 여유 있는 시민 이유 탑승 때 발판 버스 ...  \n",
       "4   추천 시간 넉넉하고 쾌적하게 이동 사람 이유 배차 빠르게 진행 안될 수 있고 중간 ...  \n",
       "5   목적지 편리하게 쾌적하게 시민 이유 목적지 비슷한 사람 끼리 동승 때문 정차 목적지...  \n",
       "6   추천 검단 빠르고 편리하게 이동 시민 이유 검단 신도시 밖 대중교통 타고 검단 신도...  \n",
       "7                                   추천 없음 이유 특이 사항 없음  \n",
       "8   추천 짐 많은 사람 캐리어 대중교통 이용 사람 이유 대중교통 이용 무거운 짐 버스 ...  \n",
       "9   혼자 마을 마을 로만 동시 굉장히 가성 비 좋고 편리한 교통 수단 것 같다 버스 비...  \n",
       "10  추천 이유 신도시 이유 배달 비 음식 가격 차별 있어서 많은 분 주변 식당가 배달 ...  \n",
       "11  추천 이유 버스 승강장 날씨 언제 버스 것 직접 호출 탈 수 있는 를 이용 것 좋다...  \n",
       "12          야간 날씨 대기 시간 없는 점 무척 편리하고 내부 쾌적하여 이용 용이합니다  \n",
       "13  추천 대형 마트 병원 중심부 검단 사거리 완 정역 독 정역 가기 위 버스 배차 간격...  \n",
       "14  추천 인천대학교 학우 이유 먼저 인천대학교 송도 캠퍼스 버스 기본 이상 때 있는데 ...  \n",
       "15  추천 인천대학교 학우 이유 먼저 인천대학교 송도 캠퍼스 버스 기본 이상 때 있는데 ...  \n",
       "16  추천 검단 시민 이유 검단 교통 수단 확정 곳 많아서 대중교통 이용 불편할 수 있지...  \n",
       "17  를 이용 개선 점 버스 환승 요금 미적 용 저상버스 대체 탑승 기능 추가 호출 결제...  \n",
       "18  추천 부모님 이유 부모님 네이버 어플 길찾기 자주 인천 지역 사시 아이트립 추천 좋...  \n",
       "19  추천 자녀 이유 하차 보조 스탭 있어서 아이 등 하교 때 이용 버스 안전하여 안심 ...  \n",
       "20  추천 부모님 이유 부모님 네이버 어플 길찾기 자주 인천 지역 사시 아이트립 추천 좋...  \n",
       "21  추천 부모님 이유 부모님 평소 대중 교통 이용 검단 입주 후 집 경우 이용 좋으실 ...  \n",
       "22                                              계양 주민  \n",
       "23  I-MOD 버스 지하철 편하고 쾌적하기 때문 사람 몇 번 배차 문제 이용 수만 있다...  \n",
       "24  승 하차 버스 달리 기사 타고 수 있게 주시 원하는 목적지 택시 수 있다 또 거의 ...  \n",
       "25  짐 많거나 버스 배차 정류장 근처 시민 추천 거의 수 있어서 짐 많다면 꼭 추천 또...  \n",
       "26  버스 기사 운전 조심 이동 동안 택시 것 같은 편안함 컨디션 좋지 날 일반 버스 시...  \n",
       "27  처음 앱 이용 때 더 버스 일반 버스 베차 시간 것 시간 수 있었고 손님 없으면 바...  \n",
       "28  추천 짐 많거나 바쁜 사람 환승 필요없이 목적지 사람 이유 이동 시간 줄 버스 편하...  \n",
       "29  버스 확실히 바로 편했고 무거운 짐 있을 때 자주 이용 것 같다 지하철 려고 때 돈...  \n",
       "30  집 버스정류장 멀고 빠른 이동 원하는 사람 추천 배차 간격 길어 분 추천 계양 버스...  \n",
       "31  집 버스정류장 멀고 빠른 이동 원하는 사람 추천 배차 간격 길어 분 추천 계양 버스...  \n",
       "32  추천 자차 가지 있지 근처 맛집 카페 사람 이유 동네 특성 차가 없으면 가기 불편한...  \n",
       "33  를 처음 체험 때 작동 방법 호출 줄 알 마냥 오지 차 체험 호출 탑승권 클릭 기사...  \n",
       "34  추천 검단 신도시 거주 모든 시민 이유 버스 수 있는 정류장 한정 이용 시 버스 다...  \n",
       "35  추천 검단 신도시 거주 모든 시민 이유 버스 수 있는 정류장 한정 이용 시 버스 다...  \n",
       "36  추천 계양역 출근 시 추천 이유 호출 시간 짧으니 시간 단축 장점 환승 비용 문제 ...  \n",
       "37  버스 주 사용 처음 사용 앱 결제 수단 설정 호출 결제 한번 해결 편리함이 있고 차...  \n",
       "38  여러 다방면 어르신 이용 듯 어르신 카드 등록 휴대폰 요금 결제 것 같습니다 제 탑...  \n",
       "39  계양역 목상동 솔밭 이주 단지 입구 두 군데 모두 현수막 있지만 버스승강장 유리 벽...  \n",
       "40                 추천 남동 주민 이유 일반 노선 동네 안쪽 버스 이용 수 있다  \n",
       "41  I-MOD 어플 검색 기능 있으면 좋겠다 차 가기 힘든 곳 편리하게 갈수 있다는 점...  \n",
       "42  오늘 를 실제 이용 사람 처음 친구 만족하면서 사용 중 현재 이용자 많지 배차 빠르...  \n",
       "43  추천 아이 동승 사람 이유 대중교통 아이 타고 리기 편리하고 안전하다 발판 아이 스...  \n",
       "44             추천 추천 함 이유 쾌적하 환경 및 어플 목적지 입력 편히 이동 있음  \n",
       "45  추천 계양 중학교 학생 이유 등굣길 계양역 직장인 많아 다음 정류장 계양 중학교 학...  \n",
       "46  버스 탈 때 마다 분 려고 때 많았다 홍보 더 좋겠다 계양역 쪽 홍보 플래카드 버스...  "
      ]
     },
     "execution_count": 49,
     "metadata": {},
     "output_type": "execute_result"
    }
   ],
   "source": [
    "# 문서 토픽\n",
    "lda_result = tc.get_topics_sentences(livinglab[\"Token_Content\"])\n",
    "lda_result"
   ]
  },
  {
   "cell_type": "code",
   "execution_count": 50,
   "metadata": {},
   "outputs": [
    {
     "data": {
      "text/html": [
       "<div>\n",
       "<style scoped>\n",
       "    .dataframe tbody tr th:only-of-type {\n",
       "        vertical-align: middle;\n",
       "    }\n",
       "\n",
       "    .dataframe tbody tr th {\n",
       "        vertical-align: top;\n",
       "    }\n",
       "\n",
       "    .dataframe thead th {\n",
       "        text-align: right;\n",
       "    }\n",
       "</style>\n",
       "<table border=\"1\" class=\"dataframe\">\n",
       "  <thead>\n",
       "    <tr style=\"text-align: right;\">\n",
       "      <th></th>\n",
       "      <th>start_point</th>\n",
       "      <th>get_on</th>\n",
       "      <th>get_off</th>\n",
       "      <th>end_point</th>\n",
       "      <th>recommend</th>\n",
       "      <th>Tokens</th>\n",
       "      <th>Token_Content</th>\n",
       "      <th>NNG_Token_Content</th>\n",
       "      <th>TOPIC</th>\n",
       "      <th>TOPIC_Keywords</th>\n",
       "    </tr>\n",
       "  </thead>\n",
       "  <tbody>\n",
       "    <tr>\n",
       "      <th>0</th>\n",
       "      <td>일요일에도 여는 한의원이라 치료를 받고 집으로 돌아감</td>\n",
       "      <td>굳이 건너지 않고 버스를 탈 수 있는게 너무 좋았다마침 버스도 근처에 있어5분도 되...</td>\n",
       "      <td>마찬가지로 횡단보도를 건너지 않고 집에 바로 갈 수 있어 너무 좋았다 사소한 거지만...</td>\n",
       "      <td>버스를 탈때보다는 편하게 길도 안 건너고 도착했다</td>\n",
       "      <td>돌아가는 버스를 이용하는 사람들</td>\n",
       "      <td>[(돌아가는, VV, (0, 4)), (버스, NNG, (5, 7)), (를, JC...</td>\n",
       "      <td>버스 이용 사람</td>\n",
       "      <td>버스 이용 사람</td>\n",
       "      <td>0.0</td>\n",
       "      <td>버스, 이용, 배차, 검단, 추천, 사람, I-MOD, 대중교통, 택시, 호출</td>\n",
       "    </tr>\n",
       "    <tr>\n",
       "      <th>1</th>\n",
       "      <td>일을 마치고 필라테스 상담을 하고 집에 가는데 버스간격이 길다 그래서 아이모드를 이...</td>\n",
       "      <td>완정역에서 아이모드를 탑승했다 나밖에 탑승하지 않았고 편하게 집으로 왔다 그런데 평...</td>\n",
       "      <td>차가 진짜 멀미가 심하다 이 점때문에 버스나 택시를 이용할 것  같다는 생각을 했다</td>\n",
       "      <td>가까운 직선거리의 버스 노선이라면 버스를 이용하는게 낫겠다 하는 생각이 들었다</td>\n",
       "      <td>돌아가는 버스를 이용하는 사람들</td>\n",
       "      <td>[(돌아가는, VV, (0, 4)), (버스, NNG, (5, 7)), (를, JC...</td>\n",
       "      <td>버스 이용 사람</td>\n",
       "      <td>버스 이용 사람</td>\n",
       "      <td>0.0</td>\n",
       "      <td>버스, 이용, 배차, 검단, 추천, 사람, I-MOD, 대중교통, 택시, 호출</td>\n",
       "    </tr>\n",
       "    <tr>\n",
       "      <th>2</th>\n",
       "      <td>검단의 IMOD를 이용하기 전 IMOD가 먼저 도입됐고 관광하기 좋은 송도를 방문하...</td>\n",
       "      <td>센트럴파크에서 관광을 마친 후 테크노파크역에 있는 송도 현대아울렛에서 쇼핑을 하기 ...</td>\n",
       "      <td>탑승은 일반 버스카드를 태그하듯 QR코드를 기기에 태그하기만 하면 돼서 간편했다 I...</td>\n",
       "      <td>우선 IMOD 버스로 시민들이 보다 저렴한 가격에 쾌적한 환경의 이동수단을 제공받을...</td>\n",
       "      <td>비오는 날 등 기상이 안 좋은 날이나 짐이 많을 때 혹은 거동이 불편한 분이 이동할...</td>\n",
       "      <td>[(비오는, VV, (0, 3)), (날, NNG, (4, 5)), (등, NNG,...</td>\n",
       "      <td>날 등 기상 안 좋은 날 짐 많을 때 거동 불편한 분 이동 생기 택시 대신 를 이용...</td>\n",
       "      <td>날 등 기상 안 날 짐 때 거동 분 이동 생기 택시 대신 를 이용 시 전철 이용 것...</td>\n",
       "      <td>0.0</td>\n",
       "      <td>버스, 이용, 배차, 검단, 추천, 사람, I-MOD, 대중교통, 택시, 호출</td>\n",
       "    </tr>\n",
       "    <tr>\n",
       "      <th>3</th>\n",
       "      <td>여자친구와 함께 송도 센트럴파크에 놀러갔다 오랜 시간동안 걸으니 피로가 많이 쌓여서...</td>\n",
       "      <td>카페에서 IMOD호출을 눌렀는데 배차가 되지 않아 20분 정도 기다렸던 것 같다 처...</td>\n",
       "      <td>탑승한 사람이 나와 여자친구밖에 없어서 그런지 최단경로로 목적지까지 이동할 수 있었...</td>\n",
       "      <td>처음이라 비교적 짧은 거리만 이동했지만 다음에는 좀 더 긴 거리를 목적지로 설정해서...</td>\n",
       "      <td>\\n추천  짐이 많거나 목적지까지 거리가 멀지만 시간여유가 있는 시민\\n이유 1 ...</td>\n",
       "      <td>[(\u000b",
       "\\n, OL, (0, 2)), (추천, NNG, (2, 4)), (짐, NNG...</td>\n",
       "      <td>추천 짐 많거나 목적지 거리 멀지만 시간 여유 있는 시민 이유 탑승 때 발판 버스 ...</td>\n",
       "      <td>추천 짐 목적지 거리 시간 여유 시민 이유 탑승 때 발판 버스 지하철 탑승 때문 짐...</td>\n",
       "      <td>1.0</td>\n",
       "      <td>추천, 이용, 이유, 시간, 버스, 탑승, 목적지, 때문, 아이, 사람</td>\n",
       "    </tr>\n",
       "    <tr>\n",
       "      <th>4</th>\n",
       "      <td>송도에서 놀기 위해 차를 타고 송도로 향했다 송도에서 여기저기를 방문할 예정이라 차...</td>\n",
       "      <td>20분 후에 IMOD에 탑승할 수 있었고 IMOD안에는 추가로 다른 승객이 탑승해 ...</td>\n",
       "      <td>기다린 시간을 포함하여 35분 만에 목적지에 도착할 수 있었다 IMOD를 다른 승객...</td>\n",
       "      <td>하지만 여전히 서비스는 편리했고 쾌적하게 이동할 수 있었다 배차가 진행되지 않았을 ...</td>\n",
       "      <td>\\n추천  시간이 넉넉하고 쾌적하게 이동하고 싶은 사람\\n이유  배차가 빠르게 진...</td>\n",
       "      <td>[(\u000b",
       "\\n, OL, (0, 2)), (추천, NNG, (2, 4)), (시간, NN...</td>\n",
       "      <td>추천 시간 넉넉하고 쾌적하게 이동 사람 이유 배차 빠르게 진행 안될 수 있고 중간 ...</td>\n",
       "      <td>추천 시간 이동 사람 이유 배차 진행 수 중간 경로 변경 수 시간 사람 늦 수</td>\n",
       "      <td>1.0</td>\n",
       "      <td>추천, 이용, 이유, 시간, 버스, 탑승, 목적지, 때문, 아이, 사람</td>\n",
       "    </tr>\n",
       "    <tr>\n",
       "      <th>5</th>\n",
       "      <td>검암역에서 볼일이 있어 나왔다가 검단 신도시에 있는 투썸플레이스에 가기 위해 네이버...</td>\n",
       "      <td>완정역에서 버스를 탈 생각을 하고 4번 출구로 나왔더니 4번 출구 앞 버스정류장에 ...</td>\n",
       "      <td>완정역에서 버스를 탈 생각으로 경로 검색을 하면서 역을 나오고 있었는데 출구 바로 ...</td>\n",
       "      <td>앱에서 현재 나의 위치를 확인할 수 있고 하차시점에 핸드폰으로 푸시 알림이 와서 너...</td>\n",
       "      <td>목적지까지 편리하게 쾌적하게 가고 싶은 시민\\n이유  목적지가 비슷한 사람들끼리 동...</td>\n",
       "      <td>[(목적지, NNG, (0, 3)), (까지, JC, (3, 5)), (편리하게, ...</td>\n",
       "      <td>목적지 편리하게 쾌적하게 시민 이유 목적지 비슷한 사람 끼리 동승 때문 정차 목적지...</td>\n",
       "      <td>목적지 시민 이유 목적지 사람 끼리 동승 때문 정차 목적지 수 무엇 정해진 인원 때문</td>\n",
       "      <td>1.0</td>\n",
       "      <td>추천, 이용, 이유, 시간, 버스, 탑승, 목적지, 때문, 아이, 사람</td>\n",
       "    </tr>\n",
       "    <tr>\n",
       "      <th>6</th>\n",
       "      <td>마곡나루역에서 선약이 있어 어떻게 갈지 고민 중이었다 이제 봄이 오면서 날씨가 좋아...</td>\n",
       "      <td>유현사거리에서 호출을 하려고 정류장에 도착해 앱을 실행하니 10분이 지나도 배차가 ...</td>\n",
       "      <td>IMOD가 아직 대중화되지 않아서인지 나 혼자 탑승하였고 정차 없이 완정역으로 바로...</td>\n",
       "      <td>itrip으로 경로 검색 후 IMOD 호출 시 IMOD 앱 서버가 불안정한 지 IM...</td>\n",
       "      <td>추천  검단신도시내에서 빠르고 편리하게 이동하고 싶은 시민\\n이유  검단신도시 밖에...</td>\n",
       "      <td>[(추천, NNG, (0, 2)), (검단, VA, (4, 6)), (신도시내에서,...</td>\n",
       "      <td>추천 검단 빠르고 편리하게 이동 시민 이유 검단 신도시 밖 대중교통 타고 검단 신도...</td>\n",
       "      <td>추천 이동 시민 이유 신도시 밖 대중교통 타고 신도시 경우 대중교통 추가 를 호출 ...</td>\n",
       "      <td>0.0</td>\n",
       "      <td>버스, 이용, 배차, 검단, 추천, 사람, I-MOD, 대중교통, 택시, 호출</td>\n",
       "    </tr>\n",
       "    <tr>\n",
       "      <th>7</th>\n",
       "      <td>신도시 특성상 퇴근시간 이후는 배차 자채가 어려움 수번을 호출을 해도 응답하지 않음...</td>\n",
       "      <td>다행이 해당 버스는 정확한 정류장에 도착하였으며  기사님의 응대 혹은 승차 고객의 ...</td>\n",
       "      <td>신도시의 특성상  거주하는 아파트 인접한 곳에 많은 상권이 형성되지 않은 탓에  기...</td>\n",
       "      <td>신도시를 고려하지 않은 노선과  운영 방침    기존 여타 다른 신도시  송도  영...</td>\n",
       "      <td>\\n추천   없음\\n이유   특이사항 없음</td>\n",
       "      <td>[(\u000b",
       "\\n, OL, (0, 2)), (추천, NNG, (2, 4)), (없음, VA...</td>\n",
       "      <td>추천 없음 이유 특이 사항 없음</td>\n",
       "      <td>추천 이유 특이 사항</td>\n",
       "      <td>1.0</td>\n",
       "      <td>추천, 이용, 이유, 시간, 버스, 탑승, 목적지, 때문, 아이, 사람</td>\n",
       "    </tr>\n",
       "    <tr>\n",
       "      <th>8</th>\n",
       "      <td>드디어 격리가 끝났다 격리가 끝나고 주민센터에서 격리 지원금 신청서를 쓰고 엄마와 ...</td>\n",
       "      <td>다른 분들의 후기도 들어보고 제대로 사용법을 알게 되니 얼른 버스를 타보고 싶다는 ...</td>\n",
       "      <td>계양역까지 굉장히 편하게 이동하였고 이용하는 사람들도 없어서 택시같은 느낌이었다 안...</td>\n",
       "      <td>계양역에 도착하였다  계양역까지 편하고 빠르게 이동할 수 있었다 버스 이용범위가 더...</td>\n",
       "      <td>\\n추천   짐이 많은 사람  캐리어를 들고 대중교통을 이용해야하는 사람\\n이유 ...</td>\n",
       "      <td>[(\u000b",
       "\\n, OL, (0, 2)), (추천, NNG, (2, 4)), (짐, NNG...</td>\n",
       "      <td>추천 짐 많은 사람 캐리어 대중교통 이용 사람 이유 대중교통 이용 무거운 짐 버스 ...</td>\n",
       "      <td>추천 짐 사람 캐리어 대중교통 이용 사람 이유 대중교통 이용 짐 버스 계단 버스 수...</td>\n",
       "      <td>0.0</td>\n",
       "      <td>버스, 이용, 배차, 검단, 추천, 사람, I-MOD, 대중교통, 택시, 호출</td>\n",
       "    </tr>\n",
       "    <tr>\n",
       "      <th>9</th>\n",
       "      <td>생일을 맞이해 쉐라톤 호텔에서 호캉스를 즐기고 귀가하기 위해 아이모드를 타고 가까운...</td>\n",
       "      <td>월요일 늦은 10시가 다 되어가는 시간이라 바로 배차가 됐다 15분 후 탑승 가능하...</td>\n",
       "      <td>기사님이 운전을 잘 하셔서 편안하게 목적지까지 도착할 수 있었다 13분 탑승했고 2...</td>\n",
       "      <td>송도는 확실히 imod 이용이 검단계양보다 활발해서 28일에 2번 이용하는데 모두 ...</td>\n",
       "      <td>혼자’ 마을에서 마을로만’ 이동시 굉장히 가성비 좋고 편리한 교통수단이 될 것 같다...</td>\n",
       "      <td>[(혼자, NNG, (0, 2)), (’, SW, (2, 3)), (마을, NNG,...</td>\n",
       "      <td>혼자 마을 마을 로만 동시 굉장히 가성 비 좋고 편리한 교통 수단 것 같다 버스 비...</td>\n",
       "      <td>혼자 마을 마을 로만 동시 가성 비 교통 수단 것 버스 택시 느낌 말 다만 경우 경...</td>\n",
       "      <td>0.0</td>\n",
       "      <td>버스, 이용, 배차, 검단, 추천, 사람, I-MOD, 대중교통, 택시, 호출</td>\n",
       "    </tr>\n",
       "    <tr>\n",
       "      <th>10</th>\n",
       "      <td>단지 바로 옆에 IMoD 정류장이 있다보니  \\nI trip 앱을 켜자마자 차량이 ...</td>\n",
       "      <td>실제 이용 기록은 6분으로 지하주차장에가서 승용차를 타고 주행을 한다고 했을때 단지...</td>\n",
       "      <td>늦은시간이라 시내버스들이 붐비지 않아 정류장 한가운데서 내리고 주변에 기다리는 사람...</td>\n",
       "      <td>삼정프라자 정류장에서 1분 거리에 있는 곳이고 비조리 식품 픽업이라 결제까지 5분내...</td>\n",
       "      <td>추천 이유  신도시라는 이유만으로 배달비나 음식가격에 차별을 받고 있어서 많은 분...</td>\n",
       "      <td>[(\u000b",
       ", OL, (0, 1)), (추천, NNG, (1, 3)), (이유, NNG,...</td>\n",
       "      <td>추천 이유 신도시 이유 배달 비 음식 가격 차별 있어서 많은 분 주변 식당가 배달 ...</td>\n",
       "      <td>추천 이유 신도시 이유 배달 비 음식 가격 차별 분 주변 식당가 배달 포장 선호 상...</td>\n",
       "      <td>1.0</td>\n",
       "      <td>추천, 이용, 이유, 시간, 버스, 탑승, 목적지, 때문, 아이, 사람</td>\n",
       "    </tr>\n",
       "    <tr>\n",
       "      <th>11</th>\n",
       "      <td>단지 바로 옆에 IMoD 정류장이 있다보니  접근이 쉬워서 관리실에서 정류장까지 대...</td>\n",
       "      <td>대표님들이 모두 모인 후 버스를 부르고 결제하기까지 5분이내 모든 행위가 이루어져서...</td>\n",
       "      <td>하차를 원하는 지점까지 갈 수 없는 점이 아쉬웠습니다</td>\n",
       "      <td>IMoD는 호출에 어려움이 없고 결제도 편하고 대기시간이 소요되지 않는 점이 무척 ...</td>\n",
       "      <td>\\n추천  \\n이유  버스 승강장에서 추운날씨에 언제 올지 모르는 버스를 기다리는...</td>\n",
       "      <td>[(\u000b",
       "\\n, OL, (0, 2)), (추천, NNG, (2, 4)), (이유, NN...</td>\n",
       "      <td>추천 이유 버스 승강장 날씨 언제 버스 것 직접 호출 탈 수 있는 를 이용 것 좋다...</td>\n",
       "      <td>추천 이유 버스 승강장 날씨 언제 버스 것 직접 호출 탈 수 를 이용 것 생각 다만...</td>\n",
       "      <td>0.0</td>\n",
       "      <td>버스, 이용, 배차, 검단, 추천, 사람, I-MOD, 대중교통, 택시, 호출</td>\n",
       "    </tr>\n",
       "    <tr>\n",
       "      <th>12</th>\n",
       "      <td>식당에서 정류장까지 걸어가는데 소요되는 시간은 옥계공원을 통해 식당에서 호반아파트까...</td>\n",
       "      <td>역시 대기와 결제등에는 크게 문제가 없었습니다</td>\n",
       "      <td>아라동 행정복지센터는 특정 동대표님들께만 가까울 수 있고 다른 정류장을 이용해보기 ...</td>\n",
       "      <td>IMoD는 호출에 어려움이 없고 결제도 편하고 대기시간이 소요되지 않는 점이 무척 ...</td>\n",
       "      <td>야간에 추운날씨에도 대기 시간이 없는 점은 무척 편리하고 내부가 쾌적하여 이용이 ...</td>\n",
       "      <td>[(야간, NNG, (1, 3)), (에, JC, (3, 4)), (추운, VV, ...</td>\n",
       "      <td>야간 날씨 대기 시간 없는 점 무척 편리하고 내부 쾌적하여 이용 용이합니다</td>\n",
       "      <td>야간 날씨 대기 시간 점 무척 내부 이용</td>\n",
       "      <td>1.0</td>\n",
       "      <td>추천, 이용, 이유, 시간, 버스, 탑승, 목적지, 때문, 아이, 사람</td>\n",
       "    </tr>\n",
       "    <tr>\n",
       "      <th>13</th>\n",
       "      <td>오류지구에서 일반 버스 배차간격이 길어 완정역까지 지하철을 타고 이동했다 \\n지하철...</td>\n",
       "      <td>지하철 하차 전 itrip앱으로 호출 하였다 호출 대기시간은 13분 주말이라 대기시...</td>\n",
       "      <td>저번과 같은 종착지를 선택한 이유는 시간을 비교해 보고 싶어서이다\\n완정역서구영어마...</td>\n",
       "      <td>평일보다 빠르게 도착하여 만족스러웠다\\n\\n개선점 \\n결제 방법 itrip앱에서 결...</td>\n",
       "      <td>\\n추천  대형마트병원  중심부 검단사거리완정역 독정역 가기위한 버스  배차 간격...</td>\n",
       "      <td>[(\u000b",
       "\\n, OL, (0, 2)), (추천, NNG, (2, 4)), (대형, NN...</td>\n",
       "      <td>추천 대형 마트 병원 중심부 검단 사거리 완 정역 독 정역 가기 위 버스 배차 간격...</td>\n",
       "      <td>추천 대형 마트 병원 중심부 사거리 완 정역 독 정역 가기 위 버스 배차 간격 지역...</td>\n",
       "      <td>0.0</td>\n",
       "      <td>버스, 이용, 배차, 검단, 추천, 사람, I-MOD, 대중교통, 택시, 호출</td>\n",
       "    </tr>\n",
       "    <tr>\n",
       "      <th>14</th>\n",
       "      <td>학교를 가기 위해서 인천1호선을 탔지만 학교와 가까운 역인 인천대 입구 역에는 내리...</td>\n",
       "      <td>테크노 파크역 정류장에 도착했을 때 처음에는 여기가 IMOD 탑승장이 맞는지 정류장...</td>\n",
       "      <td>학교와 가까운 지점인 인천대학교 공과대학 정류장에 도착하였다 만약 일반 버스였다면 ...</td>\n",
       "      <td>일단 지하철 내린 직후라서 1800원을 내고 탑승하려고 하니 환승이 안된다는 점이 ...</td>\n",
       "      <td>\\n추천  인천대학교 학우\\n이유  먼저 인천대학교 송도 캠퍼스는 버스 기다리는데...</td>\n",
       "      <td>[(\u000b",
       "\\n, OL, (0, 2)), (추천, NNG, (2, 4)), (인천대학교,...</td>\n",
       "      <td>추천 인천대학교 학우 이유 먼저 인천대학교 송도 캠퍼스 버스 기본 이상 때 있는데 ...</td>\n",
       "      <td>추천 인천대학교 학우 이유 먼저 인천대학교 송도 캠퍼스 버스 기본 이상 때 송도 내...</td>\n",
       "      <td>1.0</td>\n",
       "      <td>추천, 이용, 이유, 시간, 버스, 탑승, 목적지, 때문, 아이, 사람</td>\n",
       "    </tr>\n",
       "    <tr>\n",
       "      <th>15</th>\n",
       "      <td>지금은 서울에서 거주하면서 인천 송도에 위치한 인천대학교를 다니고 있어 학교에 등교...</td>\n",
       "      <td>테크노파크역 정류장에 도착했을 때 처음에는 여기가 IMOD 탑승장이 맞는지 정류장에...</td>\n",
       "      <td>기사님과 소통 없이 편안하게 학교와 가까운 지점인 인천대학교 공과대학 정류장에 도착...</td>\n",
       "      <td>일단 지하철을 내린 직후라서 1800원을 내고 탑승하려고 하니 환승이 안된다는 점이...</td>\n",
       "      <td>\\n추천  인천대학교 학우\\n이유  먼저 인천대학교 송도 캠퍼스는 버스 기다리는데...</td>\n",
       "      <td>[(\u000b",
       "\\n, OL, (0, 2)), (추천, NNG, (2, 4)), (인천대학교,...</td>\n",
       "      <td>추천 인천대학교 학우 이유 먼저 인천대학교 송도 캠퍼스 버스 기본 이상 때 있는데 ...</td>\n",
       "      <td>추천 인천대학교 학우 이유 먼저 인천대학교 송도 캠퍼스 버스 기본 이상 때 송도 내...</td>\n",
       "      <td>1.0</td>\n",
       "      <td>추천, 이용, 이유, 시간, 버스, 탑승, 목적지, 때문, 아이, 사람</td>\n",
       "    </tr>\n",
       "    <tr>\n",
       "      <th>16</th>\n",
       "      <td>친구네 집에 가기 위해서 인천 2호선을 타고 완정역에 내렸다 itrip으로 경로 확...</td>\n",
       "      <td>IMOD 앱을 활용해서 호출했을 때 탑승까지 대기시간은 7분 정도 걸린다고 나와있...</td>\n",
       "      <td>탑승했을 때는 기사님도 친절하셨고 똑같이 QR코드와 온도측정기가 있었다 송도에서 ...</td>\n",
       "      <td>송도와 크게 다르지 않았고 안정감이 있었고 빠르게 타고 갈 수 있었다 굳이 차이점을...</td>\n",
       "      <td>추천  검단 시민 \\n이유  검단은 아직 교통수단이 확정되지 않은 곳들도 많아서 대...</td>\n",
       "      <td>[(추천, NNG, (0, 2)), (검단, VA, (4, 6)), (시민, NNG...</td>\n",
       "      <td>추천 검단 시민 이유 검단 교통 수단 확정 곳 많아서 대중교통 이용 불편할 수 있지...</td>\n",
       "      <td>추천 시민 이유 검단 교통 수단 확정 곳 대중교통 이용 수 앱 활용 호출 지하철 역...</td>\n",
       "      <td>0.0</td>\n",
       "      <td>버스, 이용, 배차, 검단, 추천, 사람, I-MOD, 대중교통, 택시, 호출</td>\n",
       "    </tr>\n",
       "    <tr>\n",
       "      <th>17</th>\n",
       "      <td>주말에 김포공항역근처에서 결혼식에 참석하고 17시에 검단 유현사거리 근방에서 지인과...</td>\n",
       "      <td>정확한 시간에 도착하였다 도착한 차량에서 발판이 내려와 쉽게 탑승하였다 탑승권QR을...</td>\n",
       "      <td>12분후에 유현사거리정류소에 도착하고 미팅장소가 걸어서 5분거리 정도되고 늦지않아 ...</td>\n",
       "      <td>아주 편하게 목적지까지 도착하여 IMOD 진가를 느꼈다 이와같은 좋은 서비스를 제공...</td>\n",
       "      <td>IMOD를 이용하면서 느낀 개선할 점을 적어 본다\\n IMOD 버스 환승요금 미적용...</td>\n",
       "      <td>[(IMOD, OL, (0, 4)), (를, NNG, (4, 5)), (이용, NN...</td>\n",
       "      <td>를 이용 개선 점 버스 환승 요금 미적 용 저상버스 대체 탑승 기능 추가 호출 결제...</td>\n",
       "      <td>를 이용 개선 점 버스 환승 요금 미적 용 저상버스 대체 탑승 기능 추가 호출 결제...</td>\n",
       "      <td>1.0</td>\n",
       "      <td>추천, 이용, 이유, 시간, 버스, 탑승, 목적지, 때문, 아이, 사람</td>\n",
       "    </tr>\n",
       "    <tr>\n",
       "      <th>18</th>\n",
       "      <td>해든초등학교 100m 내 정류장이 없어서구 주소인식 그런지 아이트립이 인식 불가하여...</td>\n",
       "      <td>마을버스가 먼저 왔지만 아이모드 기다리느라 보내고 돈이 조금 아까웠지만 숙제 하려고...</td>\n",
       "      <td>하차 시 보조 스탭이 있어서 편리했음</td>\n",
       "      <td>처음 인식 불가할 때를 제외 하고는 크게 불편함이 없었음</td>\n",
       "      <td>추천  부모님\\n이유  부모님께서 네이버 어플로 길찾기를 자주 하시는데 인천지역 사...</td>\n",
       "      <td>[(추천, NNG, (0, 2)), (부모님, NNG, (4, 7)), (\\n, O...</td>\n",
       "      <td>추천 부모님 이유 부모님 네이버 어플 길찾기 자주 인천 지역 사시 아이트립 추천 좋...</td>\n",
       "      <td>추천 부모님 이유 부모님 네이버 어플 길찾기 자주 인천 지역 사시 아이트립 추천 것</td>\n",
       "      <td>1.0</td>\n",
       "      <td>추천, 이용, 이유, 시간, 버스, 탑승, 목적지, 때문, 아이, 사람</td>\n",
       "    </tr>\n",
       "    <tr>\n",
       "      <th>19</th>\n",
       "      <td>아침에 아이의 등교를 위해 자동차를 이용하여 해든 초등학교로 이동하였다 평소 대중교...</td>\n",
       "      <td>호출하고 기다리는데 평소에는 배차 간격이 넓은 마을 버스가 딱 시간이 맞아 아이모드...</td>\n",
       "      <td>아이모드를 타고 이동하면서 할머니가 아이의 유치원 등원을 위해 사용하는 것을 보았다...</td>\n",
       "      <td>처음에 정류장과 내가 멀리 있을 때 인식을 못했던 거를 제외하고는 크게 불편함은 없...</td>\n",
       "      <td>추천  자녀\\n이유  하차 보조 스탭이 있어서 아이가 등 하교 할 때 이용해도 버스...</td>\n",
       "      <td>[(추천, NNG, (0, 2)), (자녀, NNG, (4, 6)), (\\n, OL...</td>\n",
       "      <td>추천 자녀 이유 하차 보조 스탭 있어서 아이 등 하교 때 이용 버스 안전하여 안심 ...</td>\n",
       "      <td>추천 자녀 이유 하차 보조 스탭 아이 등 하교 때 이용 버스 안심 이용 추천 아이 ...</td>\n",
       "      <td>1.0</td>\n",
       "      <td>추천, 이용, 이유, 시간, 버스, 탑승, 목적지, 때문, 아이, 사람</td>\n",
       "    </tr>\n",
       "    <tr>\n",
       "      <th>20</th>\n",
       "      <td>아라동 행정복지센터에서 출발하여 아이트립으로 호출함\\n지도는 볼 생각 안하고 바로 ...</td>\n",
       "      <td>노쇼가 되어서 그랬는지 버스를 호출하는데 10분 이상 소요함</td>\n",
       "      <td>경로가 변경되어서 놀람\\n버스에 경로 추가에 대한 안내 멘트가 있었으면 좋겠음화면 ...</td>\n",
       "      <td>편해서 좋긴 했지만 비싼 요금이였으며 거리제로 요금이 책정되면 좋겠음\\n호출이 아닌...</td>\n",
       "      <td>추천  부모님\\n이유  부모님께서 네이버 어플로 길찾기를 자주 하시는데 인천지역 사...</td>\n",
       "      <td>[(추천, NNG, (0, 2)), (부모님, NNG, (4, 7)), (\\n, O...</td>\n",
       "      <td>추천 부모님 이유 부모님 네이버 어플 길찾기 자주 인천 지역 사시 아이트립 추천 좋...</td>\n",
       "      <td>추천 부모님 이유 부모님 네이버 어플 길찾기 자주 인천 지역 사시 아이트립 추천 것</td>\n",
       "      <td>1.0</td>\n",
       "      <td>추천, 이용, 이유, 시간, 버스, 탑승, 목적지, 때문, 아이, 사람</td>\n",
       "    </tr>\n",
       "    <tr>\n",
       "      <th>21</th>\n",
       "      <td>다시 차가 주차되어 있는 해든 초등학교로 돌아가기 위해 아라동 행정복지 센터에서 출...</td>\n",
       "      <td>건너편에 있는 버스 정류장에서 아이모드 기사님께서 조금 기다려 주시는 것 같아 바리...</td>\n",
       "      <td>아이모드를 타고 가면서 갑자기 경로가 변경되어서 놀랐다 다른 손님이 추가로 생겨서 ...</td>\n",
       "      <td>돌아올 때는 버스정류장을 잘못 인식하는 바람에 노쇼를 경험하였다 물론 확인을 안하고...</td>\n",
       "      <td>추천  부모님\\n이유  부모님께서 평소 대중 교통을 이용하시는데 검단에 입주 후에 ...</td>\n",
       "      <td>[(추천, NNG, (0, 2)), (부모님, NNG, (4, 7)), (\\n, O...</td>\n",
       "      <td>추천 부모님 이유 부모님 평소 대중 교통 이용 검단 입주 후 집 경우 이용 좋으실 ...</td>\n",
       "      <td>추천 부모님 이유 부모님 평소 대중 교통 이용 검단 후 집 경우 이용 듯 평소 네이...</td>\n",
       "      <td>1.0</td>\n",
       "      <td>추천, 이용, 이유, 시간, 버스, 탑승, 목적지, 때문, 아이, 사람</td>\n",
       "    </tr>\n",
       "    <tr>\n",
       "      <th>22</th>\n",
       "      <td>박촌역에서 IMOD를 체험하기 위해 친구와 계양역에서 만나기로 하여 출발하였다</td>\n",
       "      <td>버스를 부른지 10분정도 지났을까 IMOD 버스가 도착했다 둘이 같이 타려했으나 배...</td>\n",
       "      <td>친구를 만나기 위해 솔밭길 도착했다 친구가 미리 IMOD 버스를 불러 도착하자 마자...</td>\n",
       "      <td>잘 이용하면 편리할수도 있지만 계양1동 특성상 환승을 많이 하시는데 택시비 보다는 ...</td>\n",
       "      <td>계양 1동 주민</td>\n",
       "      <td>[(계양, NNG, (0, 2)), (1, SN, (3, 4)), (동, MM, (...</td>\n",
       "      <td>계양 주민</td>\n",
       "      <td>계양 주민</td>\n",
       "      <td>1.0</td>\n",
       "      <td>추천, 이용, 이유, 시간, 버스, 탑승, 목적지, 때문, 아이, 사람</td>\n",
       "    </tr>\n",
       "    <tr>\n",
       "      <th>23</th>\n",
       "      <td>여자친구 생일을 맞아 호캉스를 다녀오기로 했다 송내역에서 부평역 부평역에서 인천대입...</td>\n",
       "      <td>그동안 배차가 잡히지 않았던 건 차량이 모두 운행중이어서가 아니라 운행이 불가능한 ...</td>\n",
       "      <td>답답한 지하철에서 벗어나 쾌적한 아이모드로 이동하니 확실히 기분전환이 된 느낌이다 ...</td>\n",
       "      <td>아이모드를 타고 쉐라톤호텔 근처 정류장에 하차한 후 목적지에 도착하였다 아이모드 체...</td>\n",
       "      <td>아이모드는 버스 지하철보다 훨씬 편하고 쾌적하기 때문에 사람들이 몇 번 배차문제 없...</td>\n",
       "      <td>[(아이모드, NNG, (0, 4)), (는, JC, (4, 5)), (버스, NN...</td>\n",
       "      <td>I-MOD 버스 지하철 편하고 쾌적하기 때문 사람 몇 번 배차 문제 이용 수만 있다...</td>\n",
       "      <td>I-MOD 버스 지하철 때문 사람 몇 번 배차 문제 이용 수만 대중교통 비교 지역 ...</td>\n",
       "      <td>0.0</td>\n",
       "      <td>버스, 이용, 배차, 검단, 추천, 사람, I-MOD, 대중교통, 택시, 호출</td>\n",
       "    </tr>\n",
       "    <tr>\n",
       "      <th>24</th>\n",
       "      <td>따뜻해진 봄 분씨를 맞아 오늘은 아라마루 전망대에 가기로 했다 전에 다녀온 사람이 ...</td>\n",
       "      <td>처음에 호출을 눌렀는데 잠시 후 이용하라고 하여 당황스러웠다\\n다행히 5분 정도 후...</td>\n",
       "      <td>아라마루 전망대 바로 맞은 편에 내려 주셔서 편하게 도착했다\\n이번에는 계양 2호차...</td>\n",
       "      <td>비가 많이 내리고 개인 쾌청한 날씨가 좋았다 사람들도 주말을 맞아 사들이 나온 모습...</td>\n",
       "      <td>빨리 승하차를 해야 하고 돌아가는 버스와 달리 IMOD는 기사님께서 천천히 타고 내...</td>\n",
       "      <td>[(빨리, MAG, (0, 2)), (승, NNG, (3, 4)), (하차, NNG...</td>\n",
       "      <td>승 하차 버스 달리 기사 타고 수 있게 주시 원하는 목적지 택시 수 있다 또 거의 ...</td>\n",
       "      <td>승 하차 버스 달리 기사 타고 수 주시 목적지 택시 수 또 거의 갈수 것 장점 용인...</td>\n",
       "      <td>2.0</td>\n",
       "      <td>같다, 홍보, 사람, 이용, 좋을, 버스, 불편한, 타고, 계양역, 기사</td>\n",
       "    </tr>\n",
       "    <tr>\n",
       "      <th>25</th>\n",
       "      <td>따뜻한 봄 날씨를 맞아 솔밭길을 가기로 했다 솔밭길로 가는 버스가 있긴 하나 배차가...</td>\n",
       "      <td>호출 후 버스가 오는데 약 10분이 걸렸다 발판이 내려와 나이든 사람이나 아이도 타...</td>\n",
       "      <td>목상동 솔밭 정류장에서 내려서 솔밭길로 걸어갔다 아직 IMOD 버스에 사람이 별로 ...</td>\n",
       "      <td>처음 타면서 걱정이 많았는데 앱 작동도 잘 되고 QR코드 인증도 잘 되어서 좋았다 ...</td>\n",
       "      <td>짐이 많거나 버스 배차가 긴 정류장 근처에 사는 시민에게 추천 거의 앉아갈 수 있어...</td>\n",
       "      <td>[(짐, NNG, (0, 1)), (이, JC, (1, 2)), (많거나, VA, ...</td>\n",
       "      <td>짐 많거나 버스 배차 정류장 근처 시민 추천 거의 수 있어서 짐 많다면 꼭 추천 또...</td>\n",
       "      <td>짐 버스 배차 정류장 근처 시민 추천 거의 수 짐 꼭 추천 또 내 간 솔밭 번 버스...</td>\n",
       "      <td>0.0</td>\n",
       "      <td>버스, 이용, 배차, 검단, 추천, 사람, I-MOD, 대중교통, 택시, 호출</td>\n",
       "    </tr>\n",
       "    <tr>\n",
       "      <th>26</th>\n",
       "      <td>코로나로 여행도 못가고 매일 집에만 있어서오랜만에 코에 바람 넣으러 이라마루 전망대...</td>\n",
       "      <td>IMOD 앱을 켜고 호출하기까지 큰 어려움은 없다고 생각한다 쉽게 2명을 예약할수 ...</td>\n",
       "      <td>아라마루 전망대에 도착 하차하고 길을 건너려고기다리고 있는데 버스가 유턴하는게 보였...</td>\n",
       "      <td>IIMOD 버스가 내부 외부 모후 깨끗하고 손소독제가 있어서 승 하차시 손 소독을 ...</td>\n",
       "      <td>버스 기사님이 운전을 조심스럽게 잘 해주셔서 이동하는 동안 택시를 탄 것 같은 편안...</td>\n",
       "      <td>[(버스, NNG, (0, 2)), (기사, NNG, (3, 5)), (님, XPN...</td>\n",
       "      <td>버스 기사 운전 조심 이동 동안 택시 것 같은 편안함 컨디션 좋지 날 일반 버스 시...</td>\n",
       "      <td>버스 기사 운전 조심 이동 동안 택시 것 편안함 컨디션 날 일반 버스 시간 를 것 권유</td>\n",
       "      <td>0.0</td>\n",
       "      <td>버스, 이용, 배차, 검단, 추천, 사람, I-MOD, 대중교통, 택시, 호출</td>\n",
       "    </tr>\n",
       "    <tr>\n",
       "      <th>27</th>\n",
       "      <td>언니를 계양역에서 만나기로 해서  버스를 타고 계양역으로 이동했다 저녁시간쯤엔  퇴...</td>\n",
       "      <td>앱을  통해 부르니  23분 정도 후에  도착해서 빠르게 탈 수 있었다 역시나 내부...</td>\n",
       "      <td>버스를 기다렸다 탔으면 사람이 많아서 불편했을텐데 앱을 통해 앉아서 편하게 올 수 있었다</td>\n",
       "      <td>요즘 버스 배차시간이 길어져서  정류장에 서있는 시간이  긴데  이런 앱을 알아서 ...</td>\n",
       "      <td>처음 앱을 이용했을 때보다 더 빨리 버스가 와서 일반 버스 베차시간을 기다리는 것보...</td>\n",
       "      <td>[(처음, NNG, (0, 2)), (앱, NNG, (3, 4)), (을, JC, ...</td>\n",
       "      <td>처음 앱 이용 때 더 버스 일반 버스 베차 시간 것 시간 수 있었고 손님 없으면 바...</td>\n",
       "      <td>처음 앱 이용 때 더 버스 일반 버스 베차 시간 것 시간 수 손님 바로 목적지 가기...</td>\n",
       "      <td>1.0</td>\n",
       "      <td>추천, 이용, 이유, 시간, 버스, 탑승, 목적지, 때문, 아이, 사람</td>\n",
       "    </tr>\n",
       "    <tr>\n",
       "      <th>28</th>\n",
       "      <td>언니 짐도 들어주고 마중도 하기 위해  준비하고 나가게 되었다 언니가 역에 도착할 ...</td>\n",
       "      <td>IMOD앱을 이용해서 출발지와 도착지를 입력하여 배차를 누르니  쉽게 휴대폰으로 결...</td>\n",
       "      <td>계양역에서 내려서 언니를 만나고  같은 방식으로  다시 앱을 이용해서  장기동에서 ...</td>\n",
       "      <td>버스가 너무 늦게 오거나 빨리가야하는 경우에는 이용하면 좋겠다는 생각이 들었다\\n하...</td>\n",
       "      <td>\\n\\n\\n추천  짐이 많거나 바쁜 사람 또는  환승 필요없이 목적지까지 가는 사...</td>\n",
       "      <td>[(\u000b",
       "\\n\\n\\n, OL, (0, 4)), (추천, NNG, (4, 6)), (짐,...</td>\n",
       "      <td>추천 짐 많거나 바쁜 사람 환승 필요없이 목적지 사람 이유 이동 시간 줄 버스 편하...</td>\n",
       "      <td>추천 짐 사람 환승 목적지 사람 이유 이동 시간 줄 버스 목적지 수</td>\n",
       "      <td>1.0</td>\n",
       "      <td>추천, 이용, 이유, 시간, 버스, 탑승, 목적지, 때문, 아이, 사람</td>\n",
       "    </tr>\n",
       "    <tr>\n",
       "      <th>29</th>\n",
       "      <td>친구랑 약속이 있어서 계양역을 가야했다 그래서 imod를 이용하여 계양역을 가기로 하였다</td>\n",
       "      <td>imod버스를 불렀는데 6분후에 도착한다고 해서 기다렸다 원래는 장기동 농협앞에서 ...</td>\n",
       "      <td>버스가 다른 지점으로 가서 조금 불편했지만 그래도 계양역까지는 일반 버스보단 빨리 ...</td>\n",
       "      <td>imod를 이용하여 계양역 까지 간 뒤 계양역에서 지하철1호선을 타고 부평까지 갔다</td>\n",
       "      <td>imod 버스는 확실히 부르면 바로 와서 편했고 무거운 짐이 있을 때마다 자주 이용...</td>\n",
       "      <td>[(imod, OL, (0, 4)), (버스, NNG, (5, 7)), (는, JC...</td>\n",
       "      <td>버스 확실히 바로 편했고 무거운 짐 있을 때 자주 이용 것 같다 지하철 려고 때 돈...</td>\n",
       "      <td>버스 바로 짐 때 자주 이용 것 지하철 려고 때 돈 번 이용 것 또한 노선 더 것 ...</td>\n",
       "      <td>2.0</td>\n",
       "      <td>같다, 홍보, 사람, 이용, 좋을, 버스, 불편한, 타고, 계양역, 기사</td>\n",
       "    </tr>\n",
       "    <tr>\n",
       "      <th>30</th>\n",
       "      <td>딸 아이와 함께 박촌역 부근에서 81번 버스를 타고 계양역으로 갔다 처음 타보는거라...</td>\n",
       "      <td>설렘 반 기대 반으로 버스에 타니 첫째 발판이 내려와서 신기했다 버스 실내가 생각만...</td>\n",
       "      <td>목적지인 목삼동 솔밭 2단지에서 내려 애견카페 위치와 상세정보 확인 후 바로 기사님...</td>\n",
       "      <td>처음 이용하는지라 뭔가 어설프고 얼떨떨했지만 기사님의 친절함과 쾌적한 실내 환경이 ...</td>\n",
       "      <td>집으로부터 버스정류장이 멀고 빠른 이동을 원하는 사람에게 추천 배차 간격이 길어 오...</td>\n",
       "      <td>[(집, NNG, (0, 1)), (으로부터, JC, (1, 5)), (버스정류장,...</td>\n",
       "      <td>집 버스정류장 멀고 빠른 이동 원하는 사람 추천 배차 간격 길어 분 추천 계양 버스...</td>\n",
       "      <td>집 버스정류장 이동 사람 추천 배차 간격 분 추천 계양 버스 배차 간격 또한 버스 ...</td>\n",
       "      <td>1.0</td>\n",
       "      <td>추천, 이용, 이유, 시간, 버스, 탑승, 목적지, 때문, 아이, 사람</td>\n",
       "    </tr>\n",
       "    <tr>\n",
       "      <th>31</th>\n",
       "      <td>혼자 풍림아이원 정류장에서 583번 마을 버스를 타고 계양역으로 갔다 두번째 승차라...</td>\n",
       "      <td>계양역 버스정류장 조금 아래쪽에서 IMOD 앱으로 버스 호출 후 5분 정도 기다렸다...</td>\n",
       "      <td>목상동 솔밭에서 하차했다 바로 옆에 위치한 개떼 놀이터에 들어가 관계자와 면담 후 ...</td>\n",
       "      <td>이틀 연달아 탑승해보니 역시나 기사님이 친절했다 쾌적한 실내가 만족 스러웠다 개인적...</td>\n",
       "      <td>집으로부터 버스정류장이 멀고 빠른 이동을 원하는 사람에게 추천 배차 간격이 길어 오...</td>\n",
       "      <td>[(집, NNG, (0, 1)), (으로부터, JC, (1, 5)), (버스정류장,...</td>\n",
       "      <td>집 버스정류장 멀고 빠른 이동 원하는 사람 추천 배차 간격 길어 분 추천 계양 버스...</td>\n",
       "      <td>집 버스정류장 이동 사람 추천 배차 간격 분 추천 계양 버스 배차 간격 또한 버스 ...</td>\n",
       "      <td>1.0</td>\n",
       "      <td>추천, 이용, 이유, 시간, 버스, 탑승, 목적지, 때문, 아이, 사람</td>\n",
       "    </tr>\n",
       "    <tr>\n",
       "      <th>32</th>\n",
       "      <td>집인 박촌역에서부터 계양 1동의 IMOD 시작지점인 계양중학교까지 반려견 산책을 하...</td>\n",
       "      <td>정류장 근처에 가서 흐물을 하는데 11분정도 후 도착한다고 해서 배차신청을 했는데 ...</td>\n",
       "      <td>목적지인 식당 바로 앞에서 버스를 하차할 수 있어서 편리했다 앱을 등해 이동하는 과...</td>\n",
       "      <td>이 활동을 하기 전에는 1MOD의 존재 자체를 몰랐다 근데 막상 이용해보니 너무 편...</td>\n",
       "      <td>추천  자차를 가지고 있지 않은데 근처 맛집카페를 찾아가고 싶은 사람들 이유  동네...</td>\n",
       "      <td>[(추천, NNG, (0, 2)), (자차, NNG, (4, 6)), (를, JC,...</td>\n",
       "      <td>추천 자차 가지 있지 근처 맛집 카페 사람 이유 동네 특성 차가 없으면 가기 불편한...</td>\n",
       "      <td>추천 자차 가지 근처 맛집 카페 사람 이유 동네 특성 가기 골목 골목 위치 맛집 카...</td>\n",
       "      <td>2.0</td>\n",
       "      <td>같다, 홍보, 사람, 이용, 좋을, 버스, 불편한, 타고, 계양역, 기사</td>\n",
       "    </tr>\n",
       "    <tr>\n",
       "      <th>33</th>\n",
       "      <td>22년 3월 11일 오후 2시 30분에 IMOD 시범 탑승을 위해 집을 나섰다\\n계...</td>\n",
       "      <td>설레는 마음으로 기다렸으나 30분이 지나고 버스는 오지 않았다 팀장님한테 전화해봤으...</td>\n",
       "      <td>집에서 계양역까지는 버스가 가장 빠르고 편리한 것 같다 IMOD는 결제부터 도착지 ...</td>\n",
       "      <td>\\n아이모드가 활성화 되려면 버스보다 편리하고 편하고 택시보다 저렴하고 빨라야 될 ...</td>\n",
       "      <td>IMOD를 처음 체험 할 때는 작동 방법을 잘 몰라 호출하면 오는 줄 알고 마냥 기...</td>\n",
       "      <td>[(IMOD, OL, (0, 4)), (를, NNG, (4, 5)), (처음, NN...</td>\n",
       "      <td>를 처음 체험 때 작동 방법 호출 줄 알 마냥 오지 차 체험 호출 탑승권 클릭 기사...</td>\n",
       "      <td>를 처음 체험 때 작동 방법 호출 줄 알 마냥 오지 차 체험 호출 탑승권 클릭 기사...</td>\n",
       "      <td>2.0</td>\n",
       "      <td>같다, 홍보, 사람, 이용, 좋을, 버스, 불편한, 타고, 계양역, 기사</td>\n",
       "    </tr>\n",
       "    <tr>\n",
       "      <th>34</th>\n",
       "      <td>올해 6월에 검단신도시에 입주 예정으로 아직은 검단에 갈 일이 없었다 스마트 모빌리...</td>\n",
       "      <td>단거리를 측정하기 위해 가고자하는 목적지의 바로 전 정류장인 C검단LH행복주택아라센...</td>\n",
       "      <td>목적지인 호반써밋프라임뷰아파트에서 가까운 인천영어마을 파라곤센트럴 정류장에서 내렸다...</td>\n",
       "      <td>처음 이용해 보았는데 현재 대중교통노선이 없는 정류장에 IMOD가 유일한 대중교통역...</td>\n",
       "      <td>추천  검단 신도시에 거주하는 모든 시민\\n이유  일반버스로는 다닐 수 있는 정류장...</td>\n",
       "      <td>[(추천, NNG, (0, 2)), (검단, VA, (4, 6)), (신도시, NN...</td>\n",
       "      <td>추천 검단 신도시 거주 모든 시민 이유 버스 수 있는 정류장 한정 이용 시 버스 다...</td>\n",
       "      <td>추천 신도시 거주 모든 시민 이유 버스 수 정류장 한정 이용 시 버스 발판 짐 가지...</td>\n",
       "      <td>0.0</td>\n",
       "      <td>버스, 이용, 배차, 검단, 추천, 사람, I-MOD, 대중교통, 택시, 호출</td>\n",
       "    </tr>\n",
       "    <tr>\n",
       "      <th>35</th>\n",
       "      <td>올해 6월에 검단신도시에 입주 예정으로 아직 검단에 거주하지 않고 있지만 스마트 모...</td>\n",
       "      <td>장거리를 측정하기 위해 Itrip에 소속된 IMOD앱을 사용했다 이동경로에서 목적지...</td>\n",
       "      <td>목적지인 완정역당하동탑스빌아파트 방면에서 내렸다 같은 목적지에 가려는 분이 계셔서 ...</td>\n",
       "      <td>이용해보았을 때 장거리를 마을버스보다는 이용시간이 빠르고 시간이 비슷한 택시보단 비...</td>\n",
       "      <td>추천  검단 신도시에 거주하는 모든 시민\\n이유  일반버스로는 다닐 수 있는 정류장...</td>\n",
       "      <td>[(추천, NNG, (0, 2)), (검단, VA, (4, 6)), (신도시, NN...</td>\n",
       "      <td>추천 검단 신도시 거주 모든 시민 이유 버스 수 있는 정류장 한정 이용 시 버스 다...</td>\n",
       "      <td>추천 신도시 거주 모든 시민 이유 버스 수 정류장 한정 이용 시 버스 발판 짐 가지...</td>\n",
       "      <td>0.0</td>\n",
       "      <td>버스, 이용, 배차, 검단, 추천, 사람, I-MOD, 대중교통, 택시, 호출</td>\n",
       "    </tr>\n",
       "    <tr>\n",
       "      <th>36</th>\n",
       "      <td>계양1동 다남식당 앞에서 계양산 솔밭 들레길을 가기위해 IMOD 앱을 이용해서 계양...</td>\n",
       "      <td>IMOD앱으로 정류장 검색하여 비교적 쉽게 호출했고 호출시간은 2분정도 소요 되었고...</td>\n",
       "      <td>IMOD 하자지점까지 가는 과정중에 도착 알림을 핸드폰으로 알려주니 미리 내릴 준...</td>\n",
       "      <td>IMOD 탑승해보니 차가 깔끔하고 호출시간도 생각보다 빨리온거 같았지만 돌아오는 길...</td>\n",
       "      <td>추천  계양역까지 출근하시분들에게 추천\\n이유  호출시간이 짧으니 기다리는 시간이 ...</td>\n",
       "      <td>[(추천, NNG, (0, 2)), (계양역, NNG, (4, 7)), (까지, J...</td>\n",
       "      <td>추천 계양역 출근 시 추천 이유 호출 시간 짧으니 시간 단축 장점 환승 비용 문제 ...</td>\n",
       "      <td>추천 계양역 출근 시 추천 이유 호출 시간 시간 단축 장점 환승 비용 문제 때문 사...</td>\n",
       "      <td>1.0</td>\n",
       "      <td>추천, 이용, 이유, 시간, 버스, 탑승, 목적지, 때문, 아이, 사람</td>\n",
       "    </tr>\n",
       "    <tr>\n",
       "      <th>37</th>\n",
       "      <td>계양1동주민센터에 용무가 있어서 운동할겸해서  집박촌에서 출발하여 계양중학교까지 도...</td>\n",
       "      <td>계양중학교에서 5분 정도 대기하고 탑승했다기사님께서 친절하게 인사해주시고 앉고 난뒤...</td>\n",
       "      <td>탑승시간이 10분정도 소요되었다 호출할 때 하차정류장 방향을 어디로 하는지에따라 소...</td>\n",
       "      <td>IMOD버스에 혼자타고 오니 택시를 탄듯한 생각이 들었다 깔끔한 차를 타고 오니 기...</td>\n",
       "      <td>IMOD버스를 3주에 걸쳐  사용해보니 처음 사용하기전에 앱깔고 결제수단 설정해 놓...</td>\n",
       "      <td>[(IMOD, OL, (0, 4)), (버스, NNG, (4, 6)), (를, JC...</td>\n",
       "      <td>버스 주 사용 처음 사용 앱 결제 수단 설정 호출 결제 한번 해결 편리함이 있고 차...</td>\n",
       "      <td>버스 주 사용 처음 사용 앱 결제 수단 설정 호출 결제 한번 해결 일반 버스 사람 ...</td>\n",
       "      <td>0.0</td>\n",
       "      <td>버스, 이용, 배차, 검단, 추천, 사람, I-MOD, 대중교통, 택시, 호출</td>\n",
       "    </tr>\n",
       "    <tr>\n",
       "      <th>38</th>\n",
       "      <td>3월 11일 오후 4시경 금요일 아들과 함께 체험삼아 탑승해버려 여러 파례 오류 발...</td>\n",
       "      <td>하루 일과를 마친 후 회원님과 계양역에서 IMOD를 탑승하기로 했다 회원님과 함께 ...</td>\n",
       "      <td>여러차례 시도 끝에 간신히 탑승하려는데 두 사람이 배정된 차가 1호차 2호차가 따로...</td>\n",
       "      <td>처음 혼자 타보았지만 내부시설과 차량청결 정돈은 매우 양호했으며 계양역에서 목삼동 ...</td>\n",
       "      <td>여러 다방면에서 보면은 어르신들께서는 이용이 어려울 듯 합니다 어르신들은 카드 등록...</td>\n",
       "      <td>[(여러, NNG, (0, 2)), (다방면, NNG, (3, 6)), (에서, J...</td>\n",
       "      <td>여러 다방면 어르신 이용 듯 어르신 카드 등록 휴대폰 요금 결제 것 같습니다 제 탑...</td>\n",
       "      <td>여러 다방면 어르신 이용 듯 어르신 카드 등록 휴대폰 요금 결제 것 제 탑승 예정 ...</td>\n",
       "      <td>0.0</td>\n",
       "      <td>버스, 이용, 배차, 검단, 추천, 사람, I-MOD, 대중교통, 택시, 호출</td>\n",
       "    </tr>\n",
       "    <tr>\n",
       "      <th>39</th>\n",
       "      <td>일을 대충 마치고 서울역으로 향했다 공항철도를 30분 타고 계양역에 도착했다</td>\n",
       "      <td>IMOD 앱을 이용하여 호출하려는데 바로 앞으로 IMOD 버스가 오고있었다 호출을 ...</td>\n",
       "      <td>귤현역 방향에서 탔는데 아라뱃길 방향으로 돌아 가는 길이었는데 창 밖으로 봄꽃들이 ...</td>\n",
       "      <td>복상동 솔밭 이주단지 입구에서 일단 내렸다 버스 승강장에 버스를 기다리는 아주머니 ...</td>\n",
       "      <td>계양역이나 목상동 솔밭 이주단지 입구 두 군데 모두 현수막은 걸려 있지만 버스승강장...</td>\n",
       "      <td>[(계양역, NNG, (0, 3)), (이나, JC, (3, 5)), (목상동, N...</td>\n",
       "      <td>계양역 목상동 솔밭 이주 단지 입구 두 군데 모두 현수막 있지만 버스승강장 유리 벽...</td>\n",
       "      <td>계양역 목상동 솔밭 이주 단지 입구 두 군데 모두 현수막 버스승강장 유리 벽 버스 ...</td>\n",
       "      <td>0.0</td>\n",
       "      <td>버스, 이용, 배차, 검단, 추천, 사람, I-MOD, 대중교통, 택시, 호출</td>\n",
       "    </tr>\n",
       "    <tr>\n",
       "      <th>40</th>\n",
       "      <td>운동을 마치고 아라마루로 바람을 쐬러 가기위해 아이모드 탑승가능한 곳까지 버스를 타...</td>\n",
       "      <td>아이모드 어플을 통하여 계양역아라마루까지 호출을 하였고 차가 도착하기 까지는 4분정...</td>\n",
       "      <td>탑승할 때 나 이외에 다른사람도 탑승을 했는데 그 경유지를 거쳐가니 돌아간다는 느낌...</td>\n",
       "      <td>우선 차없이 가기 힘든곳을 갈수 있다는점이 너무 좋았으나 환승이 안되는 점과 탑승객...</td>\n",
       "      <td>추천  다남동 주민들\\n이유  일반 노선으로 다니지 않는 동네 안쪽까지 버스를 이용...</td>\n",
       "      <td>[(추천, NNG, (0, 2)), (다, MAG, (4, 5)), (남동, NNG...</td>\n",
       "      <td>추천 남동 주민 이유 일반 노선 동네 안쪽 버스 이용 수 있다</td>\n",
       "      <td>추천 남동 주민 이유 일반 노선 동네 안쪽 버스 이용 수</td>\n",
       "      <td>1.0</td>\n",
       "      <td>추천, 이용, 이유, 시간, 버스, 탑승, 목적지, 때문, 아이, 사람</td>\n",
       "    </tr>\n",
       "    <tr>\n",
       "      <th>41</th>\n",
       "      <td>운동 후 다남동에 새로생긴 카페를 가기위해 아이모드 탑승가능한 계양역까지 이동 후 ...</td>\n",
       "      <td>처음엔 아이모드를 오래타보고 싶어서 검단삼정프라자로  호출을 했는데 같은 지역간 호...</td>\n",
       "      <td>어플상에 하차지점이 소촌마을대촌마을 방면이라고 되어있었는데 실질적으로 하차한 곳은 ...</td>\n",
       "      <td>아이모드를 이용 했기 때문에 일반버스 탑승했을때보다 적게 걸어서 목적지에 도착할 수...</td>\n",
       "      <td>아이모드 어플에도 검색기능이 있으면 좋겠다 차없이 가기 힘든곳을 편리하게 갈수 있다...</td>\n",
       "      <td>[(아이모드, NNG, (0, 4)), (어플, NNG, (5, 7)), (에도, ...</td>\n",
       "      <td>I-MOD 어플 검색 기능 있으면 좋겠다 차 가기 힘든 곳 편리하게 갈수 있다는 점...</td>\n",
       "      <td>I-MOD 어플 검색 기능 차 가기 곳 갈수 점 곳 한정 I-MOD 노선 기존 노선...</td>\n",
       "      <td>0.0</td>\n",
       "      <td>버스, 이용, 배차, 검단, 추천, 사람, I-MOD, 대중교통, 택시, 호출</td>\n",
       "    </tr>\n",
       "    <tr>\n",
       "      <th>42</th>\n",
       "      <td>친구를 만나기 위해 연세대학교 국제캠퍼스로 향했다 저녁을 근처에서 먹고 송도 센트럴...</td>\n",
       "      <td>연세대학교 국제캠퍼스에서 제일 가까이 있는 박문여자고등학교 정류소에서 호출을 시도하...</td>\n",
       "      <td>중간에 탑승자가 없어서 무정차로 목적지까지 도착할 수 있었다 배차만 원활하게 진행된...</td>\n",
       "      <td>전기자전거를 이용하여 송도 센트럴파크를 구경하고 카페를 갔다 다시 지하철역으로 갈 ...</td>\n",
       "      <td>오늘 IMOD를 실제로 이용하는 사람을 처음 만났다 친구도 만족하면서 사용 중이었다...</td>\n",
       "      <td>[(오늘, NNG, (0, 2)), (IMOD, OL, (3, 7)), (를, NN...</td>\n",
       "      <td>오늘 를 실제 이용 사람 처음 친구 만족하면서 사용 중 현재 이용자 많지 배차 빠르...</td>\n",
       "      <td>오늘 를 실제 이용 사람 처음 친구 사용 중 현재 이용자 배차 진행 이용 수 이내 ...</td>\n",
       "      <td>0.0</td>\n",
       "      <td>버스, 이용, 배차, 검단, 추천, 사람, I-MOD, 대중교통, 택시, 호출</td>\n",
       "    </tr>\n",
       "    <tr>\n",
       "      <th>43</th>\n",
       "      <td>저녁에 가족들과 함께 이마트에 장 보러 다녀오는 길에 아이모드를 이용해 보았다\\n앱...</td>\n",
       "      <td>탑승지점은 역이고 버스정류장에서만 승하차가 가능한 것 같았다 아이모드는 예정대로 도...</td>\n",
       "      <td>타고 가는 중에는 문제 없었다 다른 사람들도 타지는 않았다 내릴 때 아이들이 내릴 ...</td>\n",
       "      <td>단지 바로 앞에 내릴 수 있어서 편리했지만  운행기간이 너무 제한적이라고 생각되었다...</td>\n",
       "      <td>추천  아이들과 동승하는 사람들 \\n이유  대중교통에 비해 아이들이 타고 내리기도 ...</td>\n",
       "      <td>[(추천, NNG, (0, 2)), (아이, NNG, (4, 6)), (들, XPN...</td>\n",
       "      <td>추천 아이 동승 사람 이유 대중교통 아이 타고 리기 편리하고 안전하다 발판 아이 스...</td>\n",
       "      <td>추천 아이 동승 사람 이유 대중교통 아이 타고 리기 발판 아이 스스로 수 아이 조금...</td>\n",
       "      <td>1.0</td>\n",
       "      <td>추천, 이용, 이유, 시간, 버스, 탑승, 목적지, 때문, 아이, 사람</td>\n",
       "    </tr>\n",
       "    <tr>\n",
       "      <th>44</th>\n",
       "      <td>주변정류장 찾기가 어려움</td>\n",
       "      <td>기사님이 친절하며 내부가 쾌적하였음</td>\n",
       "      <td>기사님이 친절하며 내부가 쾌적하였음</td>\n",
       "      <td>\\n기사님이 친절하며 내부가 쾌적하였음 환승이 적용이 안돼 아쉬움이 매우큼</td>\n",
       "      <td>추천  추천함\\n이유  쾌적하 환경 및 어플로 목적지를 입력하기에 편히 이동할수 있음</td>\n",
       "      <td>[(추천, NNG, (0, 2)), (추천, NNG, (0, 2)), (함, NNG...</td>\n",
       "      <td>추천 추천 함 이유 쾌적하 환경 및 어플 목적지 입력 편히 이동 있음</td>\n",
       "      <td>추천 추천 함 이유 환경 및 어플 목적지 입력 이동</td>\n",
       "      <td>1.0</td>\n",
       "      <td>추천, 이용, 이유, 시간, 버스, 탑승, 목적지, 때문, 아이, 사람</td>\n",
       "    </tr>\n",
       "    <tr>\n",
       "      <th>45</th>\n",
       "      <td>원래는 농협 앞 버스정류장에서 버스 배자를 시작하려 하였으나 날씨도 좋고 운동도 할...</td>\n",
       "      <td>버스가 배자 시간에 잘 맞추어 도착하였다</td>\n",
       "      <td>기사님께서 한번에 계양역으로 가는 것이 아니고 버스 형식이라 돌아가면 시간이 오래걸...</td>\n",
       "      <td>다남식당에서 내려 역까지 걸어갔다</td>\n",
       "      <td>추천  계양중학교 학생들\\n이유  등굣길마다 계양역에 내리는 직장인들이 많아 다음정...</td>\n",
       "      <td>[(추천, NNG, (0, 2)), (계양, NNG, (4, 6)), (중학교, N...</td>\n",
       "      <td>추천 계양 중학교 학생 이유 등굣길 계양역 직장인 많아 다음 정류장 계양 중학교 학...</td>\n",
       "      <td>추천 계양 중학교 학생 이유 등굣길 계양역 직장인 다음 정류장 계양 중학교 학생 점...</td>\n",
       "      <td>1.0</td>\n",
       "      <td>추천, 이용, 이유, 시간, 버스, 탑승, 목적지, 때문, 아이, 사람</td>\n",
       "    </tr>\n",
       "    <tr>\n",
       "      <th>46</th>\n",
       "      <td>아이모드를 체험하기 위해 집을 나섰다</td>\n",
       "      <td>아이모드 배차예약을 하고 기다리고 있었는데 제 시간에 맞추어 도착했다\\n처음에는 배...</td>\n",
       "      <td>저번에는 이렇게 똑같이 하차지점을 했을 때  계양역을 가려면 오래걸려서 걸어가야된다...</td>\n",
       "      <td>imod를 이용하여 편하게 도착했다</td>\n",
       "      <td>버스를 탈 때 마다 모르시는 분이 같이 타려고 할 때가 많았다 홍보가 더 많이 이루...</td>\n",
       "      <td>[(버스, NNG, (0, 2)), (를, JC, (2, 3)), (탈, NNG, ...</td>\n",
       "      <td>버스 탈 때 마다 분 려고 때 많았다 홍보 더 좋겠다 계양역 쪽 홍보 플래카드 버스...</td>\n",
       "      <td>버스 탈 때 마다 분 려고 때 홍보 더 계양역 쪽 홍보 플래카드 버스정류장 홍보 장...</td>\n",
       "      <td>2.0</td>\n",
       "      <td>같다, 홍보, 사람, 이용, 좋을, 버스, 불편한, 타고, 계양역, 기사</td>\n",
       "    </tr>\n",
       "  </tbody>\n",
       "</table>\n",
       "</div>"
      ],
      "text/plain": [
       "                                          start_point  \\\n",
       "0                       일요일에도 여는 한의원이라 치료를 받고 집으로 돌아감   \n",
       "1   일을 마치고 필라테스 상담을 하고 집에 가는데 버스간격이 길다 그래서 아이모드를 이...   \n",
       "2   검단의 IMOD를 이용하기 전 IMOD가 먼저 도입됐고 관광하기 좋은 송도를 방문하...   \n",
       "3   여자친구와 함께 송도 센트럴파크에 놀러갔다 오랜 시간동안 걸으니 피로가 많이 쌓여서...   \n",
       "4   송도에서 놀기 위해 차를 타고 송도로 향했다 송도에서 여기저기를 방문할 예정이라 차...   \n",
       "5   검암역에서 볼일이 있어 나왔다가 검단 신도시에 있는 투썸플레이스에 가기 위해 네이버...   \n",
       "6   마곡나루역에서 선약이 있어 어떻게 갈지 고민 중이었다 이제 봄이 오면서 날씨가 좋아...   \n",
       "7   신도시 특성상 퇴근시간 이후는 배차 자채가 어려움 수번을 호출을 해도 응답하지 않음...   \n",
       "8   드디어 격리가 끝났다 격리가 끝나고 주민센터에서 격리 지원금 신청서를 쓰고 엄마와 ...   \n",
       "9   생일을 맞이해 쉐라톤 호텔에서 호캉스를 즐기고 귀가하기 위해 아이모드를 타고 가까운...   \n",
       "10  단지 바로 옆에 IMoD 정류장이 있다보니  \\nI trip 앱을 켜자마자 차량이 ...   \n",
       "11  단지 바로 옆에 IMoD 정류장이 있다보니  접근이 쉬워서 관리실에서 정류장까지 대...   \n",
       "12  식당에서 정류장까지 걸어가는데 소요되는 시간은 옥계공원을 통해 식당에서 호반아파트까...   \n",
       "13  오류지구에서 일반 버스 배차간격이 길어 완정역까지 지하철을 타고 이동했다 \\n지하철...   \n",
       "14  학교를 가기 위해서 인천1호선을 탔지만 학교와 가까운 역인 인천대 입구 역에는 내리...   \n",
       "15  지금은 서울에서 거주하면서 인천 송도에 위치한 인천대학교를 다니고 있어 학교에 등교...   \n",
       "16  친구네 집에 가기 위해서 인천 2호선을 타고 완정역에 내렸다 itrip으로 경로 확...   \n",
       "17  주말에 김포공항역근처에서 결혼식에 참석하고 17시에 검단 유현사거리 근방에서 지인과...   \n",
       "18  해든초등학교 100m 내 정류장이 없어서구 주소인식 그런지 아이트립이 인식 불가하여...   \n",
       "19  아침에 아이의 등교를 위해 자동차를 이용하여 해든 초등학교로 이동하였다 평소 대중교...   \n",
       "20  아라동 행정복지센터에서 출발하여 아이트립으로 호출함\\n지도는 볼 생각 안하고 바로 ...   \n",
       "21  다시 차가 주차되어 있는 해든 초등학교로 돌아가기 위해 아라동 행정복지 센터에서 출...   \n",
       "22       박촌역에서 IMOD를 체험하기 위해 친구와 계양역에서 만나기로 하여 출발하였다    \n",
       "23  여자친구 생일을 맞아 호캉스를 다녀오기로 했다 송내역에서 부평역 부평역에서 인천대입...   \n",
       "24  따뜻해진 봄 분씨를 맞아 오늘은 아라마루 전망대에 가기로 했다 전에 다녀온 사람이 ...   \n",
       "25  따뜻한 봄 날씨를 맞아 솔밭길을 가기로 했다 솔밭길로 가는 버스가 있긴 하나 배차가...   \n",
       "26  코로나로 여행도 못가고 매일 집에만 있어서오랜만에 코에 바람 넣으러 이라마루 전망대...   \n",
       "27  언니를 계양역에서 만나기로 해서  버스를 타고 계양역으로 이동했다 저녁시간쯤엔  퇴...   \n",
       "28  언니 짐도 들어주고 마중도 하기 위해  준비하고 나가게 되었다 언니가 역에 도착할 ...   \n",
       "29  친구랑 약속이 있어서 계양역을 가야했다 그래서 imod를 이용하여 계양역을 가기로 하였다   \n",
       "30  딸 아이와 함께 박촌역 부근에서 81번 버스를 타고 계양역으로 갔다 처음 타보는거라...   \n",
       "31  혼자 풍림아이원 정류장에서 583번 마을 버스를 타고 계양역으로 갔다 두번째 승차라...   \n",
       "32  집인 박촌역에서부터 계양 1동의 IMOD 시작지점인 계양중학교까지 반려견 산책을 하...   \n",
       "33  22년 3월 11일 오후 2시 30분에 IMOD 시범 탑승을 위해 집을 나섰다\\n계...   \n",
       "34  올해 6월에 검단신도시에 입주 예정으로 아직은 검단에 갈 일이 없었다 스마트 모빌리...   \n",
       "35  올해 6월에 검단신도시에 입주 예정으로 아직 검단에 거주하지 않고 있지만 스마트 모...   \n",
       "36  계양1동 다남식당 앞에서 계양산 솔밭 들레길을 가기위해 IMOD 앱을 이용해서 계양...   \n",
       "37  계양1동주민센터에 용무가 있어서 운동할겸해서  집박촌에서 출발하여 계양중학교까지 도...   \n",
       "38  3월 11일 오후 4시경 금요일 아들과 함께 체험삼아 탑승해버려 여러 파례 오류 발...   \n",
       "39         일을 대충 마치고 서울역으로 향했다 공항철도를 30분 타고 계양역에 도착했다   \n",
       "40  운동을 마치고 아라마루로 바람을 쐬러 가기위해 아이모드 탑승가능한 곳까지 버스를 타...   \n",
       "41  운동 후 다남동에 새로생긴 카페를 가기위해 아이모드 탑승가능한 계양역까지 이동 후 ...   \n",
       "42  친구를 만나기 위해 연세대학교 국제캠퍼스로 향했다 저녁을 근처에서 먹고 송도 센트럴...   \n",
       "43  저녁에 가족들과 함께 이마트에 장 보러 다녀오는 길에 아이모드를 이용해 보았다\\n앱...   \n",
       "44                                      주변정류장 찾기가 어려움   \n",
       "45  원래는 농협 앞 버스정류장에서 버스 배자를 시작하려 하였으나 날씨도 좋고 운동도 할...   \n",
       "46                               아이모드를 체험하기 위해 집을 나섰다   \n",
       "\n",
       "                                               get_on  \\\n",
       "0   굳이 건너지 않고 버스를 탈 수 있는게 너무 좋았다마침 버스도 근처에 있어5분도 되...   \n",
       "1   완정역에서 아이모드를 탑승했다 나밖에 탑승하지 않았고 편하게 집으로 왔다 그런데 평...   \n",
       "2   센트럴파크에서 관광을 마친 후 테크노파크역에 있는 송도 현대아울렛에서 쇼핑을 하기 ...   \n",
       "3   카페에서 IMOD호출을 눌렀는데 배차가 되지 않아 20분 정도 기다렸던 것 같다 처...   \n",
       "4   20분 후에 IMOD에 탑승할 수 있었고 IMOD안에는 추가로 다른 승객이 탑승해 ...   \n",
       "5   완정역에서 버스를 탈 생각을 하고 4번 출구로 나왔더니 4번 출구 앞 버스정류장에 ...   \n",
       "6   유현사거리에서 호출을 하려고 정류장에 도착해 앱을 실행하니 10분이 지나도 배차가 ...   \n",
       "7   다행이 해당 버스는 정확한 정류장에 도착하였으며  기사님의 응대 혹은 승차 고객의 ...   \n",
       "8   다른 분들의 후기도 들어보고 제대로 사용법을 알게 되니 얼른 버스를 타보고 싶다는 ...   \n",
       "9   월요일 늦은 10시가 다 되어가는 시간이라 바로 배차가 됐다 15분 후 탑승 가능하...   \n",
       "10  실제 이용 기록은 6분으로 지하주차장에가서 승용차를 타고 주행을 한다고 했을때 단지...   \n",
       "11  대표님들이 모두 모인 후 버스를 부르고 결제하기까지 5분이내 모든 행위가 이루어져서...   \n",
       "12                          역시 대기와 결제등에는 크게 문제가 없었습니다   \n",
       "13  지하철 하차 전 itrip앱으로 호출 하였다 호출 대기시간은 13분 주말이라 대기시...   \n",
       "14  테크노 파크역 정류장에 도착했을 때 처음에는 여기가 IMOD 탑승장이 맞는지 정류장...   \n",
       "15  테크노파크역 정류장에 도착했을 때 처음에는 여기가 IMOD 탑승장이 맞는지 정류장에...   \n",
       "16   IMOD 앱을 활용해서 호출했을 때 탑승까지 대기시간은 7분 정도 걸린다고 나와있...   \n",
       "17  정확한 시간에 도착하였다 도착한 차량에서 발판이 내려와 쉽게 탑승하였다 탑승권QR을...   \n",
       "18  마을버스가 먼저 왔지만 아이모드 기다리느라 보내고 돈이 조금 아까웠지만 숙제 하려고...   \n",
       "19  호출하고 기다리는데 평소에는 배차 간격이 넓은 마을 버스가 딱 시간이 맞아 아이모드...   \n",
       "20                  노쇼가 되어서 그랬는지 버스를 호출하는데 10분 이상 소요함   \n",
       "21  건너편에 있는 버스 정류장에서 아이모드 기사님께서 조금 기다려 주시는 것 같아 바리...   \n",
       "22  버스를 부른지 10분정도 지났을까 IMOD 버스가 도착했다 둘이 같이 타려했으나 배...   \n",
       "23  그동안 배차가 잡히지 않았던 건 차량이 모두 운행중이어서가 아니라 운행이 불가능한 ...   \n",
       "24  처음에 호출을 눌렀는데 잠시 후 이용하라고 하여 당황스러웠다\\n다행히 5분 정도 후...   \n",
       "25  호출 후 버스가 오는데 약 10분이 걸렸다 발판이 내려와 나이든 사람이나 아이도 타...   \n",
       "26  IMOD 앱을 켜고 호출하기까지 큰 어려움은 없다고 생각한다 쉽게 2명을 예약할수 ...   \n",
       "27  앱을  통해 부르니  23분 정도 후에  도착해서 빠르게 탈 수 있었다 역시나 내부...   \n",
       "28  IMOD앱을 이용해서 출발지와 도착지를 입력하여 배차를 누르니  쉽게 휴대폰으로 결...   \n",
       "29  imod버스를 불렀는데 6분후에 도착한다고 해서 기다렸다 원래는 장기동 농협앞에서 ...   \n",
       "30  설렘 반 기대 반으로 버스에 타니 첫째 발판이 내려와서 신기했다 버스 실내가 생각만...   \n",
       "31  계양역 버스정류장 조금 아래쪽에서 IMOD 앱으로 버스 호출 후 5분 정도 기다렸다...   \n",
       "32  정류장 근처에 가서 흐물을 하는데 11분정도 후 도착한다고 해서 배차신청을 했는데 ...   \n",
       "33  설레는 마음으로 기다렸으나 30분이 지나고 버스는 오지 않았다 팀장님한테 전화해봤으...   \n",
       "34  단거리를 측정하기 위해 가고자하는 목적지의 바로 전 정류장인 C검단LH행복주택아라센...   \n",
       "35  장거리를 측정하기 위해 Itrip에 소속된 IMOD앱을 사용했다 이동경로에서 목적지...   \n",
       "36  IMOD앱으로 정류장 검색하여 비교적 쉽게 호출했고 호출시간은 2분정도 소요 되었고...   \n",
       "37  계양중학교에서 5분 정도 대기하고 탑승했다기사님께서 친절하게 인사해주시고 앉고 난뒤...   \n",
       "38  하루 일과를 마친 후 회원님과 계양역에서 IMOD를 탑승하기로 했다 회원님과 함께 ...   \n",
       "39  IMOD 앱을 이용하여 호출하려는데 바로 앞으로 IMOD 버스가 오고있었다 호출을 ...   \n",
       "40  아이모드 어플을 통하여 계양역아라마루까지 호출을 하였고 차가 도착하기 까지는 4분정...   \n",
       "41  처음엔 아이모드를 오래타보고 싶어서 검단삼정프라자로  호출을 했는데 같은 지역간 호...   \n",
       "42  연세대학교 국제캠퍼스에서 제일 가까이 있는 박문여자고등학교 정류소에서 호출을 시도하...   \n",
       "43  탑승지점은 역이고 버스정류장에서만 승하차가 가능한 것 같았다 아이모드는 예정대로 도...   \n",
       "44                                기사님이 친절하며 내부가 쾌적하였음   \n",
       "45                             버스가 배자 시간에 잘 맞추어 도착하였다   \n",
       "46  아이모드 배차예약을 하고 기다리고 있었는데 제 시간에 맞추어 도착했다\\n처음에는 배...   \n",
       "\n",
       "                                              get_off  \\\n",
       "0   마찬가지로 횡단보도를 건너지 않고 집에 바로 갈 수 있어 너무 좋았다 사소한 거지만...   \n",
       "1      차가 진짜 멀미가 심하다 이 점때문에 버스나 택시를 이용할 것  같다는 생각을 했다   \n",
       "2   탑승은 일반 버스카드를 태그하듯 QR코드를 기기에 태그하기만 하면 돼서 간편했다 I...   \n",
       "3   탑승한 사람이 나와 여자친구밖에 없어서 그런지 최단경로로 목적지까지 이동할 수 있었...   \n",
       "4   기다린 시간을 포함하여 35분 만에 목적지에 도착할 수 있었다 IMOD를 다른 승객...   \n",
       "5   완정역에서 버스를 탈 생각으로 경로 검색을 하면서 역을 나오고 있었는데 출구 바로 ...   \n",
       "6   IMOD가 아직 대중화되지 않아서인지 나 혼자 탑승하였고 정차 없이 완정역으로 바로...   \n",
       "7   신도시의 특성상  거주하는 아파트 인접한 곳에 많은 상권이 형성되지 않은 탓에  기...   \n",
       "8   계양역까지 굉장히 편하게 이동하였고 이용하는 사람들도 없어서 택시같은 느낌이었다 안...   \n",
       "9   기사님이 운전을 잘 하셔서 편안하게 목적지까지 도착할 수 있었다 13분 탑승했고 2...   \n",
       "10  늦은시간이라 시내버스들이 붐비지 않아 정류장 한가운데서 내리고 주변에 기다리는 사람...   \n",
       "11                      하차를 원하는 지점까지 갈 수 없는 점이 아쉬웠습니다   \n",
       "12  아라동 행정복지센터는 특정 동대표님들께만 가까울 수 있고 다른 정류장을 이용해보기 ...   \n",
       "13  저번과 같은 종착지를 선택한 이유는 시간을 비교해 보고 싶어서이다\\n완정역서구영어마...   \n",
       "14  학교와 가까운 지점인 인천대학교 공과대학 정류장에 도착하였다 만약 일반 버스였다면 ...   \n",
       "15  기사님과 소통 없이 편안하게 학교와 가까운 지점인 인천대학교 공과대학 정류장에 도착...   \n",
       "16   탑승했을 때는 기사님도 친절하셨고 똑같이 QR코드와 온도측정기가 있었다 송도에서 ...   \n",
       "17  12분후에 유현사거리정류소에 도착하고 미팅장소가 걸어서 5분거리 정도되고 늦지않아 ...   \n",
       "18                               하차 시 보조 스탭이 있어서 편리했음   \n",
       "19  아이모드를 타고 이동하면서 할머니가 아이의 유치원 등원을 위해 사용하는 것을 보았다...   \n",
       "20  경로가 변경되어서 놀람\\n버스에 경로 추가에 대한 안내 멘트가 있었으면 좋겠음화면 ...   \n",
       "21  아이모드를 타고 가면서 갑자기 경로가 변경되어서 놀랐다 다른 손님이 추가로 생겨서 ...   \n",
       "22  친구를 만나기 위해 솔밭길 도착했다 친구가 미리 IMOD 버스를 불러 도착하자 마자...   \n",
       "23  답답한 지하철에서 벗어나 쾌적한 아이모드로 이동하니 확실히 기분전환이 된 느낌이다 ...   \n",
       "24  아라마루 전망대 바로 맞은 편에 내려 주셔서 편하게 도착했다\\n이번에는 계양 2호차...   \n",
       "25  목상동 솔밭 정류장에서 내려서 솔밭길로 걸어갔다 아직 IMOD 버스에 사람이 별로 ...   \n",
       "26  아라마루 전망대에 도착 하차하고 길을 건너려고기다리고 있는데 버스가 유턴하는게 보였...   \n",
       "27  버스를 기다렸다 탔으면 사람이 많아서 불편했을텐데 앱을 통해 앉아서 편하게 올 수 있었다   \n",
       "28  계양역에서 내려서 언니를 만나고  같은 방식으로  다시 앱을 이용해서  장기동에서 ...   \n",
       "29  버스가 다른 지점으로 가서 조금 불편했지만 그래도 계양역까지는 일반 버스보단 빨리 ...   \n",
       "30  목적지인 목삼동 솔밭 2단지에서 내려 애견카페 위치와 상세정보 확인 후 바로 기사님...   \n",
       "31  목상동 솔밭에서 하차했다 바로 옆에 위치한 개떼 놀이터에 들어가 관계자와 면담 후 ...   \n",
       "32  목적지인 식당 바로 앞에서 버스를 하차할 수 있어서 편리했다 앱을 등해 이동하는 과...   \n",
       "33  집에서 계양역까지는 버스가 가장 빠르고 편리한 것 같다 IMOD는 결제부터 도착지 ...   \n",
       "34  목적지인 호반써밋프라임뷰아파트에서 가까운 인천영어마을 파라곤센트럴 정류장에서 내렸다...   \n",
       "35  목적지인 완정역당하동탑스빌아파트 방면에서 내렸다 같은 목적지에 가려는 분이 계셔서 ...   \n",
       "36   IMOD 하자지점까지 가는 과정중에 도착 알림을 핸드폰으로 알려주니 미리 내릴 준...   \n",
       "37  탑승시간이 10분정도 소요되었다 호출할 때 하차정류장 방향을 어디로 하는지에따라 소...   \n",
       "38  여러차례 시도 끝에 간신히 탑승하려는데 두 사람이 배정된 차가 1호차 2호차가 따로...   \n",
       "39  귤현역 방향에서 탔는데 아라뱃길 방향으로 돌아 가는 길이었는데 창 밖으로 봄꽃들이 ...   \n",
       "40  탑승할 때 나 이외에 다른사람도 탑승을 했는데 그 경유지를 거쳐가니 돌아간다는 느낌...   \n",
       "41  어플상에 하차지점이 소촌마을대촌마을 방면이라고 되어있었는데 실질적으로 하차한 곳은 ...   \n",
       "42  중간에 탑승자가 없어서 무정차로 목적지까지 도착할 수 있었다 배차만 원활하게 진행된...   \n",
       "43  타고 가는 중에는 문제 없었다 다른 사람들도 타지는 않았다 내릴 때 아이들이 내릴 ...   \n",
       "44                                기사님이 친절하며 내부가 쾌적하였음   \n",
       "45  기사님께서 한번에 계양역으로 가는 것이 아니고 버스 형식이라 돌아가면 시간이 오래걸...   \n",
       "46  저번에는 이렇게 똑같이 하차지점을 했을 때  계양역을 가려면 오래걸려서 걸어가야된다...   \n",
       "\n",
       "                                            end_point  \\\n",
       "0                         버스를 탈때보다는 편하게 길도 안 건너고 도착했다   \n",
       "1         가까운 직선거리의 버스 노선이라면 버스를 이용하는게 낫겠다 하는 생각이 들었다   \n",
       "2   우선 IMOD 버스로 시민들이 보다 저렴한 가격에 쾌적한 환경의 이동수단을 제공받을...   \n",
       "3   처음이라 비교적 짧은 거리만 이동했지만 다음에는 좀 더 긴 거리를 목적지로 설정해서...   \n",
       "4   하지만 여전히 서비스는 편리했고 쾌적하게 이동할 수 있었다 배차가 진행되지 않았을 ...   \n",
       "5   앱에서 현재 나의 위치를 확인할 수 있고 하차시점에 핸드폰으로 푸시 알림이 와서 너...   \n",
       "6   itrip으로 경로 검색 후 IMOD 호출 시 IMOD 앱 서버가 불안정한 지 IM...   \n",
       "7   신도시를 고려하지 않은 노선과  운영 방침    기존 여타 다른 신도시  송도  영...   \n",
       "8   계양역에 도착하였다  계양역까지 편하고 빠르게 이동할 수 있었다 버스 이용범위가 더...   \n",
       "9   송도는 확실히 imod 이용이 검단계양보다 활발해서 28일에 2번 이용하는데 모두 ...   \n",
       "10  삼정프라자 정류장에서 1분 거리에 있는 곳이고 비조리 식품 픽업이라 결제까지 5분내...   \n",
       "11  IMoD는 호출에 어려움이 없고 결제도 편하고 대기시간이 소요되지 않는 점이 무척 ...   \n",
       "12  IMoD는 호출에 어려움이 없고 결제도 편하고 대기시간이 소요되지 않는 점이 무척 ...   \n",
       "13  평일보다 빠르게 도착하여 만족스러웠다\\n\\n개선점 \\n결제 방법 itrip앱에서 결...   \n",
       "14  일단 지하철 내린 직후라서 1800원을 내고 탑승하려고 하니 환승이 안된다는 점이 ...   \n",
       "15  일단 지하철을 내린 직후라서 1800원을 내고 탑승하려고 하니 환승이 안된다는 점이...   \n",
       "16  송도와 크게 다르지 않았고 안정감이 있었고 빠르게 타고 갈 수 있었다 굳이 차이점을...   \n",
       "17  아주 편하게 목적지까지 도착하여 IMOD 진가를 느꼈다 이와같은 좋은 서비스를 제공...   \n",
       "18                    처음 인식 불가할 때를 제외 하고는 크게 불편함이 없었음   \n",
       "19  처음에 정류장과 내가 멀리 있을 때 인식을 못했던 거를 제외하고는 크게 불편함은 없...   \n",
       "20  편해서 좋긴 했지만 비싼 요금이였으며 거리제로 요금이 책정되면 좋겠음\\n호출이 아닌...   \n",
       "21  돌아올 때는 버스정류장을 잘못 인식하는 바람에 노쇼를 경험하였다 물론 확인을 안하고...   \n",
       "22  잘 이용하면 편리할수도 있지만 계양1동 특성상 환승을 많이 하시는데 택시비 보다는 ...   \n",
       "23  아이모드를 타고 쉐라톤호텔 근처 정류장에 하차한 후 목적지에 도착하였다 아이모드 체...   \n",
       "24  비가 많이 내리고 개인 쾌청한 날씨가 좋았다 사람들도 주말을 맞아 사들이 나온 모습...   \n",
       "25  처음 타면서 걱정이 많았는데 앱 작동도 잘 되고 QR코드 인증도 잘 되어서 좋았다 ...   \n",
       "26  IIMOD 버스가 내부 외부 모후 깨끗하고 손소독제가 있어서 승 하차시 손 소독을 ...   \n",
       "27  요즘 버스 배차시간이 길어져서  정류장에 서있는 시간이  긴데  이런 앱을 알아서 ...   \n",
       "28  버스가 너무 늦게 오거나 빨리가야하는 경우에는 이용하면 좋겠다는 생각이 들었다\\n하...   \n",
       "29     imod를 이용하여 계양역 까지 간 뒤 계양역에서 지하철1호선을 타고 부평까지 갔다   \n",
       "30  처음 이용하는지라 뭔가 어설프고 얼떨떨했지만 기사님의 친절함과 쾌적한 실내 환경이 ...   \n",
       "31  이틀 연달아 탑승해보니 역시나 기사님이 친절했다 쾌적한 실내가 만족 스러웠다 개인적...   \n",
       "32  이 활동을 하기 전에는 1MOD의 존재 자체를 몰랐다 근데 막상 이용해보니 너무 편...   \n",
       "33  \\n아이모드가 활성화 되려면 버스보다 편리하고 편하고 택시보다 저렴하고 빨라야 될 ...   \n",
       "34  처음 이용해 보았는데 현재 대중교통노선이 없는 정류장에 IMOD가 유일한 대중교통역...   \n",
       "35  이용해보았을 때 장거리를 마을버스보다는 이용시간이 빠르고 시간이 비슷한 택시보단 비...   \n",
       "36  IMOD 탑승해보니 차가 깔끔하고 호출시간도 생각보다 빨리온거 같았지만 돌아오는 길...   \n",
       "37  IMOD버스에 혼자타고 오니 택시를 탄듯한 생각이 들었다 깔끔한 차를 타고 오니 기...   \n",
       "38  처음 혼자 타보았지만 내부시설과 차량청결 정돈은 매우 양호했으며 계양역에서 목삼동 ...   \n",
       "39  복상동 솔밭 이주단지 입구에서 일단 내렸다 버스 승강장에 버스를 기다리는 아주머니 ...   \n",
       "40  우선 차없이 가기 힘든곳을 갈수 있다는점이 너무 좋았으나 환승이 안되는 점과 탑승객...   \n",
       "41  아이모드를 이용 했기 때문에 일반버스 탑승했을때보다 적게 걸어서 목적지에 도착할 수...   \n",
       "42  전기자전거를 이용하여 송도 센트럴파크를 구경하고 카페를 갔다 다시 지하철역으로 갈 ...   \n",
       "43  단지 바로 앞에 내릴 수 있어서 편리했지만  운행기간이 너무 제한적이라고 생각되었다...   \n",
       "44          \\n기사님이 친절하며 내부가 쾌적하였음 환승이 적용이 안돼 아쉬움이 매우큼   \n",
       "45                                 다남식당에서 내려 역까지 걸어갔다   \n",
       "46                                imod를 이용하여 편하게 도착했다   \n",
       "\n",
       "                                            recommend  \\\n",
       "0                                   돌아가는 버스를 이용하는 사람들   \n",
       "1                                   돌아가는 버스를 이용하는 사람들   \n",
       "2   비오는 날 등 기상이 안 좋은 날이나 짐이 많을 때 혹은 거동이 불편한 분이 이동할...   \n",
       "3   \n",
       "\\n추천  짐이 많거나 목적지까지 거리가 멀지만 시간여유가 있는 시민\\n이유 1 ...   \n",
       "4   \n",
       "\\n추천  시간이 넉넉하고 쾌적하게 이동하고 싶은 사람\\n이유  배차가 빠르게 진...   \n",
       "5   목적지까지 편리하게 쾌적하게 가고 싶은 시민\\n이유  목적지가 비슷한 사람들끼리 동...   \n",
       "6   추천  검단신도시내에서 빠르고 편리하게 이동하고 싶은 시민\\n이유  검단신도시 밖에...   \n",
       "7                            \n",
       "\\n추천   없음\\n이유   특이사항 없음   \n",
       "8   \n",
       "\\n추천   짐이 많은 사람  캐리어를 들고 대중교통을 이용해야하는 사람\\n이유 ...   \n",
       "9   혼자’ 마을에서 마을로만’ 이동시 굉장히 가성비 좋고 편리한 교통수단이 될 것 같다...   \n",
       "10  \n",
       "추천 이유  신도시라는 이유만으로 배달비나 음식가격에 차별을 받고 있어서 많은 분...   \n",
       "11  \n",
       "\\n추천  \\n이유  버스 승강장에서 추운날씨에 언제 올지 모르는 버스를 기다리는...   \n",
       "12   야간에 추운날씨에도 대기 시간이 없는 점은 무척 편리하고 내부가 쾌적하여 이용이 ...   \n",
       "13  \n",
       "\\n추천  대형마트병원  중심부 검단사거리완정역 독정역 가기위한 버스  배차 간격...   \n",
       "14  \n",
       "\\n추천  인천대학교 학우\\n이유  먼저 인천대학교 송도 캠퍼스는 버스 기다리는데...   \n",
       "15  \n",
       "\\n추천  인천대학교 학우\\n이유  먼저 인천대학교 송도 캠퍼스는 버스 기다리는데...   \n",
       "16  추천  검단 시민 \\n이유  검단은 아직 교통수단이 확정되지 않은 곳들도 많아서 대...   \n",
       "17  IMOD를 이용하면서 느낀 개선할 점을 적어 본다\\n IMOD 버스 환승요금 미적용...   \n",
       "18  추천  부모님\\n이유  부모님께서 네이버 어플로 길찾기를 자주 하시는데 인천지역 사...   \n",
       "19  추천  자녀\\n이유  하차 보조 스탭이 있어서 아이가 등 하교 할 때 이용해도 버스...   \n",
       "20  추천  부모님\\n이유  부모님께서 네이버 어플로 길찾기를 자주 하시는데 인천지역 사...   \n",
       "21  추천  부모님\\n이유  부모님께서 평소 대중 교통을 이용하시는데 검단에 입주 후에 ...   \n",
       "22                                           계양 1동 주민   \n",
       "23  아이모드는 버스 지하철보다 훨씬 편하고 쾌적하기 때문에 사람들이 몇 번 배차문제 없...   \n",
       "24  빨리 승하차를 해야 하고 돌아가는 버스와 달리 IMOD는 기사님께서 천천히 타고 내...   \n",
       "25  짐이 많거나 버스 배차가 긴 정류장 근처에 사는 시민에게 추천 거의 앉아갈 수 있어...   \n",
       "26  버스 기사님이 운전을 조심스럽게 잘 해주셔서 이동하는 동안 택시를 탄 것 같은 편안...   \n",
       "27  처음 앱을 이용했을 때보다 더 빨리 버스가 와서 일반 버스 베차시간을 기다리는 것보...   \n",
       "28  \n",
       "\\n\\n\\n추천  짐이 많거나 바쁜 사람 또는  환승 필요없이 목적지까지 가는 사...   \n",
       "29  imod 버스는 확실히 부르면 바로 와서 편했고 무거운 짐이 있을 때마다 자주 이용...   \n",
       "30  집으로부터 버스정류장이 멀고 빠른 이동을 원하는 사람에게 추천 배차 간격이 길어 오...   \n",
       "31  집으로부터 버스정류장이 멀고 빠른 이동을 원하는 사람에게 추천 배차 간격이 길어 오...   \n",
       "32  추천  자차를 가지고 있지 않은데 근처 맛집카페를 찾아가고 싶은 사람들 이유  동네...   \n",
       "33  IMOD를 처음 체험 할 때는 작동 방법을 잘 몰라 호출하면 오는 줄 알고 마냥 기...   \n",
       "34  추천  검단 신도시에 거주하는 모든 시민\\n이유  일반버스로는 다닐 수 있는 정류장...   \n",
       "35  추천  검단 신도시에 거주하는 모든 시민\\n이유  일반버스로는 다닐 수 있는 정류장...   \n",
       "36  추천  계양역까지 출근하시분들에게 추천\\n이유  호출시간이 짧으니 기다리는 시간이 ...   \n",
       "37  IMOD버스를 3주에 걸쳐  사용해보니 처음 사용하기전에 앱깔고 결제수단 설정해 놓...   \n",
       "38  여러 다방면에서 보면은 어르신들께서는 이용이 어려울 듯 합니다 어르신들은 카드 등록...   \n",
       "39  계양역이나 목상동 솔밭 이주단지 입구 두 군데 모두 현수막은 걸려 있지만 버스승강장...   \n",
       "40  추천  다남동 주민들\\n이유  일반 노선으로 다니지 않는 동네 안쪽까지 버스를 이용...   \n",
       "41  아이모드 어플에도 검색기능이 있으면 좋겠다 차없이 가기 힘든곳을 편리하게 갈수 있다...   \n",
       "42  오늘 IMOD를 실제로 이용하는 사람을 처음 만났다 친구도 만족하면서 사용 중이었다...   \n",
       "43  추천  아이들과 동승하는 사람들 \\n이유  대중교통에 비해 아이들이 타고 내리기도 ...   \n",
       "44    추천  추천함\\n이유  쾌적하 환경 및 어플로 목적지를 입력하기에 편히 이동할수 있음   \n",
       "45  추천  계양중학교 학생들\\n이유  등굣길마다 계양역에 내리는 직장인들이 많아 다음정...   \n",
       "46  버스를 탈 때 마다 모르시는 분이 같이 타려고 할 때가 많았다 홍보가 더 많이 이루...   \n",
       "\n",
       "                                               Tokens  \\\n",
       "0   [(돌아가는, VV, (0, 4)), (버스, NNG, (5, 7)), (를, JC...   \n",
       "1   [(돌아가는, VV, (0, 4)), (버스, NNG, (5, 7)), (를, JC...   \n",
       "2   [(비오는, VV, (0, 3)), (날, NNG, (4, 5)), (등, NNG,...   \n",
       "3   [(\n",
       "\\n, OL, (0, 2)), (추천, NNG, (2, 4)), (짐, NNG...   \n",
       "4   [(\n",
       "\\n, OL, (0, 2)), (추천, NNG, (2, 4)), (시간, NN...   \n",
       "5   [(목적지, NNG, (0, 3)), (까지, JC, (3, 5)), (편리하게, ...   \n",
       "6   [(추천, NNG, (0, 2)), (검단, VA, (4, 6)), (신도시내에서,...   \n",
       "7   [(\n",
       "\\n, OL, (0, 2)), (추천, NNG, (2, 4)), (없음, VA...   \n",
       "8   [(\n",
       "\\n, OL, (0, 2)), (추천, NNG, (2, 4)), (짐, NNG...   \n",
       "9   [(혼자, NNG, (0, 2)), (’, SW, (2, 3)), (마을, NNG,...   \n",
       "10  [(\n",
       ", OL, (0, 1)), (추천, NNG, (1, 3)), (이유, NNG,...   \n",
       "11  [(\n",
       "\\n, OL, (0, 2)), (추천, NNG, (2, 4)), (이유, NN...   \n",
       "12  [(야간, NNG, (1, 3)), (에, JC, (3, 4)), (추운, VV, ...   \n",
       "13  [(\n",
       "\\n, OL, (0, 2)), (추천, NNG, (2, 4)), (대형, NN...   \n",
       "14  [(\n",
       "\\n, OL, (0, 2)), (추천, NNG, (2, 4)), (인천대학교,...   \n",
       "15  [(\n",
       "\\n, OL, (0, 2)), (추천, NNG, (2, 4)), (인천대학교,...   \n",
       "16  [(추천, NNG, (0, 2)), (검단, VA, (4, 6)), (시민, NNG...   \n",
       "17  [(IMOD, OL, (0, 4)), (를, NNG, (4, 5)), (이용, NN...   \n",
       "18  [(추천, NNG, (0, 2)), (부모님, NNG, (4, 7)), (\\n, O...   \n",
       "19  [(추천, NNG, (0, 2)), (자녀, NNG, (4, 6)), (\\n, OL...   \n",
       "20  [(추천, NNG, (0, 2)), (부모님, NNG, (4, 7)), (\\n, O...   \n",
       "21  [(추천, NNG, (0, 2)), (부모님, NNG, (4, 7)), (\\n, O...   \n",
       "22  [(계양, NNG, (0, 2)), (1, SN, (3, 4)), (동, MM, (...   \n",
       "23  [(아이모드, NNG, (0, 4)), (는, JC, (4, 5)), (버스, NN...   \n",
       "24  [(빨리, MAG, (0, 2)), (승, NNG, (3, 4)), (하차, NNG...   \n",
       "25  [(짐, NNG, (0, 1)), (이, JC, (1, 2)), (많거나, VA, ...   \n",
       "26  [(버스, NNG, (0, 2)), (기사, NNG, (3, 5)), (님, XPN...   \n",
       "27  [(처음, NNG, (0, 2)), (앱, NNG, (3, 4)), (을, JC, ...   \n",
       "28  [(\n",
       "\\n\\n\\n, OL, (0, 4)), (추천, NNG, (4, 6)), (짐,...   \n",
       "29  [(imod, OL, (0, 4)), (버스, NNG, (5, 7)), (는, JC...   \n",
       "30  [(집, NNG, (0, 1)), (으로부터, JC, (1, 5)), (버스정류장,...   \n",
       "31  [(집, NNG, (0, 1)), (으로부터, JC, (1, 5)), (버스정류장,...   \n",
       "32  [(추천, NNG, (0, 2)), (자차, NNG, (4, 6)), (를, JC,...   \n",
       "33  [(IMOD, OL, (0, 4)), (를, NNG, (4, 5)), (처음, NN...   \n",
       "34  [(추천, NNG, (0, 2)), (검단, VA, (4, 6)), (신도시, NN...   \n",
       "35  [(추천, NNG, (0, 2)), (검단, VA, (4, 6)), (신도시, NN...   \n",
       "36  [(추천, NNG, (0, 2)), (계양역, NNG, (4, 7)), (까지, J...   \n",
       "37  [(IMOD, OL, (0, 4)), (버스, NNG, (4, 6)), (를, JC...   \n",
       "38  [(여러, NNG, (0, 2)), (다방면, NNG, (3, 6)), (에서, J...   \n",
       "39  [(계양역, NNG, (0, 3)), (이나, JC, (3, 5)), (목상동, N...   \n",
       "40  [(추천, NNG, (0, 2)), (다, MAG, (4, 5)), (남동, NNG...   \n",
       "41  [(아이모드, NNG, (0, 4)), (어플, NNG, (5, 7)), (에도, ...   \n",
       "42  [(오늘, NNG, (0, 2)), (IMOD, OL, (3, 7)), (를, NN...   \n",
       "43  [(추천, NNG, (0, 2)), (아이, NNG, (4, 6)), (들, XPN...   \n",
       "44  [(추천, NNG, (0, 2)), (추천, NNG, (0, 2)), (함, NNG...   \n",
       "45  [(추천, NNG, (0, 2)), (계양, NNG, (4, 6)), (중학교, N...   \n",
       "46  [(버스, NNG, (0, 2)), (를, JC, (2, 3)), (탈, NNG, ...   \n",
       "\n",
       "                                        Token_Content  \\\n",
       "0                                            버스 이용 사람   \n",
       "1                                            버스 이용 사람   \n",
       "2   날 등 기상 안 좋은 날 짐 많을 때 거동 불편한 분 이동 생기 택시 대신 를 이용...   \n",
       "3   추천 짐 많거나 목적지 거리 멀지만 시간 여유 있는 시민 이유 탑승 때 발판 버스 ...   \n",
       "4   추천 시간 넉넉하고 쾌적하게 이동 사람 이유 배차 빠르게 진행 안될 수 있고 중간 ...   \n",
       "5   목적지 편리하게 쾌적하게 시민 이유 목적지 비슷한 사람 끼리 동승 때문 정차 목적지...   \n",
       "6   추천 검단 빠르고 편리하게 이동 시민 이유 검단 신도시 밖 대중교통 타고 검단 신도...   \n",
       "7                                   추천 없음 이유 특이 사항 없음   \n",
       "8   추천 짐 많은 사람 캐리어 대중교통 이용 사람 이유 대중교통 이용 무거운 짐 버스 ...   \n",
       "9   혼자 마을 마을 로만 동시 굉장히 가성 비 좋고 편리한 교통 수단 것 같다 버스 비...   \n",
       "10  추천 이유 신도시 이유 배달 비 음식 가격 차별 있어서 많은 분 주변 식당가 배달 ...   \n",
       "11  추천 이유 버스 승강장 날씨 언제 버스 것 직접 호출 탈 수 있는 를 이용 것 좋다...   \n",
       "12          야간 날씨 대기 시간 없는 점 무척 편리하고 내부 쾌적하여 이용 용이합니다   \n",
       "13  추천 대형 마트 병원 중심부 검단 사거리 완 정역 독 정역 가기 위 버스 배차 간격...   \n",
       "14  추천 인천대학교 학우 이유 먼저 인천대학교 송도 캠퍼스 버스 기본 이상 때 있는데 ...   \n",
       "15  추천 인천대학교 학우 이유 먼저 인천대학교 송도 캠퍼스 버스 기본 이상 때 있는데 ...   \n",
       "16  추천 검단 시민 이유 검단 교통 수단 확정 곳 많아서 대중교통 이용 불편할 수 있지...   \n",
       "17  를 이용 개선 점 버스 환승 요금 미적 용 저상버스 대체 탑승 기능 추가 호출 결제...   \n",
       "18  추천 부모님 이유 부모님 네이버 어플 길찾기 자주 인천 지역 사시 아이트립 추천 좋...   \n",
       "19  추천 자녀 이유 하차 보조 스탭 있어서 아이 등 하교 때 이용 버스 안전하여 안심 ...   \n",
       "20  추천 부모님 이유 부모님 네이버 어플 길찾기 자주 인천 지역 사시 아이트립 추천 좋...   \n",
       "21  추천 부모님 이유 부모님 평소 대중 교통 이용 검단 입주 후 집 경우 이용 좋으실 ...   \n",
       "22                                              계양 주민   \n",
       "23  I-MOD 버스 지하철 편하고 쾌적하기 때문 사람 몇 번 배차 문제 이용 수만 있다...   \n",
       "24  승 하차 버스 달리 기사 타고 수 있게 주시 원하는 목적지 택시 수 있다 또 거의 ...   \n",
       "25  짐 많거나 버스 배차 정류장 근처 시민 추천 거의 수 있어서 짐 많다면 꼭 추천 또...   \n",
       "26  버스 기사 운전 조심 이동 동안 택시 것 같은 편안함 컨디션 좋지 날 일반 버스 시...   \n",
       "27  처음 앱 이용 때 더 버스 일반 버스 베차 시간 것 시간 수 있었고 손님 없으면 바...   \n",
       "28  추천 짐 많거나 바쁜 사람 환승 필요없이 목적지 사람 이유 이동 시간 줄 버스 편하...   \n",
       "29  버스 확실히 바로 편했고 무거운 짐 있을 때 자주 이용 것 같다 지하철 려고 때 돈...   \n",
       "30  집 버스정류장 멀고 빠른 이동 원하는 사람 추천 배차 간격 길어 분 추천 계양 버스...   \n",
       "31  집 버스정류장 멀고 빠른 이동 원하는 사람 추천 배차 간격 길어 분 추천 계양 버스...   \n",
       "32  추천 자차 가지 있지 근처 맛집 카페 사람 이유 동네 특성 차가 없으면 가기 불편한...   \n",
       "33  를 처음 체험 때 작동 방법 호출 줄 알 마냥 오지 차 체험 호출 탑승권 클릭 기사...   \n",
       "34  추천 검단 신도시 거주 모든 시민 이유 버스 수 있는 정류장 한정 이용 시 버스 다...   \n",
       "35  추천 검단 신도시 거주 모든 시민 이유 버스 수 있는 정류장 한정 이용 시 버스 다...   \n",
       "36  추천 계양역 출근 시 추천 이유 호출 시간 짧으니 시간 단축 장점 환승 비용 문제 ...   \n",
       "37  버스 주 사용 처음 사용 앱 결제 수단 설정 호출 결제 한번 해결 편리함이 있고 차...   \n",
       "38  여러 다방면 어르신 이용 듯 어르신 카드 등록 휴대폰 요금 결제 것 같습니다 제 탑...   \n",
       "39  계양역 목상동 솔밭 이주 단지 입구 두 군데 모두 현수막 있지만 버스승강장 유리 벽...   \n",
       "40                 추천 남동 주민 이유 일반 노선 동네 안쪽 버스 이용 수 있다   \n",
       "41  I-MOD 어플 검색 기능 있으면 좋겠다 차 가기 힘든 곳 편리하게 갈수 있다는 점...   \n",
       "42  오늘 를 실제 이용 사람 처음 친구 만족하면서 사용 중 현재 이용자 많지 배차 빠르...   \n",
       "43  추천 아이 동승 사람 이유 대중교통 아이 타고 리기 편리하고 안전하다 발판 아이 스...   \n",
       "44             추천 추천 함 이유 쾌적하 환경 및 어플 목적지 입력 편히 이동 있음   \n",
       "45  추천 계양 중학교 학생 이유 등굣길 계양역 직장인 많아 다음 정류장 계양 중학교 학...   \n",
       "46  버스 탈 때 마다 분 려고 때 많았다 홍보 더 좋겠다 계양역 쪽 홍보 플래카드 버스...   \n",
       "\n",
       "                                    NNG_Token_Content  TOPIC  \\\n",
       "0                                            버스 이용 사람    0.0   \n",
       "1                                            버스 이용 사람    0.0   \n",
       "2   날 등 기상 안 날 짐 때 거동 분 이동 생기 택시 대신 를 이용 시 전철 이용 것...    0.0   \n",
       "3   추천 짐 목적지 거리 시간 여유 시민 이유 탑승 때 발판 버스 지하철 탑승 때문 짐...    1.0   \n",
       "4         추천 시간 이동 사람 이유 배차 진행 수 중간 경로 변경 수 시간 사람 늦 수    1.0   \n",
       "5     목적지 시민 이유 목적지 사람 끼리 동승 때문 정차 목적지 수 무엇 정해진 인원 때문    1.0   \n",
       "6   추천 이동 시민 이유 신도시 밖 대중교통 타고 신도시 경우 대중교통 추가 를 호출 ...    0.0   \n",
       "7                                         추천 이유 특이 사항    1.0   \n",
       "8   추천 짐 사람 캐리어 대중교통 이용 사람 이유 대중교통 이용 짐 버스 계단 버스 수...    0.0   \n",
       "9   혼자 마을 마을 로만 동시 가성 비 교통 수단 것 버스 택시 느낌 말 다만 경우 경...    0.0   \n",
       "10  추천 이유 신도시 이유 배달 비 음식 가격 차별 분 주변 식당가 배달 포장 선호 상...    1.0   \n",
       "11  추천 이유 버스 승강장 날씨 언제 버스 것 직접 호출 탈 수 를 이용 것 생각 다만...    0.0   \n",
       "12                             야간 날씨 대기 시간 점 무척 내부 이용    1.0   \n",
       "13  추천 대형 마트 병원 중심부 사거리 완 정역 독 정역 가기 위 버스 배차 간격 지역...    0.0   \n",
       "14  추천 인천대학교 학우 이유 먼저 인천대학교 송도 캠퍼스 버스 기본 이상 때 송도 내...    1.0   \n",
       "15  추천 인천대학교 학우 이유 먼저 인천대학교 송도 캠퍼스 버스 기본 이상 때 송도 내...    1.0   \n",
       "16  추천 시민 이유 검단 교통 수단 확정 곳 대중교통 이용 수 앱 활용 호출 지하철 역...    0.0   \n",
       "17  를 이용 개선 점 버스 환승 요금 미적 용 저상버스 대체 탑승 기능 추가 호출 결제...    1.0   \n",
       "18     추천 부모님 이유 부모님 네이버 어플 길찾기 자주 인천 지역 사시 아이트립 추천 것    1.0   \n",
       "19  추천 자녀 이유 하차 보조 스탭 아이 등 하교 때 이용 버스 안심 이용 추천 아이 ...    1.0   \n",
       "20     추천 부모님 이유 부모님 네이버 어플 길찾기 자주 인천 지역 사시 아이트립 추천 것    1.0   \n",
       "21  추천 부모님 이유 부모님 평소 대중 교통 이용 검단 후 집 경우 이용 듯 평소 네이...    1.0   \n",
       "22                                              계양 주민    1.0   \n",
       "23  I-MOD 버스 지하철 때문 사람 몇 번 배차 문제 이용 수만 대중교통 비교 지역 ...    0.0   \n",
       "24  승 하차 버스 달리 기사 타고 수 주시 목적지 택시 수 또 거의 갈수 것 장점 용인...    2.0   \n",
       "25  짐 버스 배차 정류장 근처 시민 추천 거의 수 짐 꼭 추천 또 내 간 솔밭 번 버스...    0.0   \n",
       "26   버스 기사 운전 조심 이동 동안 택시 것 편안함 컨디션 날 일반 버스 시간 를 것 권유    0.0   \n",
       "27  처음 앱 이용 때 더 버스 일반 버스 베차 시간 것 시간 수 손님 바로 목적지 가기...    1.0   \n",
       "28              추천 짐 사람 환승 목적지 사람 이유 이동 시간 줄 버스 목적지 수    1.0   \n",
       "29  버스 바로 짐 때 자주 이용 것 지하철 려고 때 돈 번 이용 것 또한 노선 더 것 ...    2.0   \n",
       "30  집 버스정류장 이동 사람 추천 배차 간격 분 추천 계양 버스 배차 간격 또한 버스 ...    1.0   \n",
       "31  집 버스정류장 이동 사람 추천 배차 간격 분 추천 계양 버스 배차 간격 또한 버스 ...    1.0   \n",
       "32  추천 자차 가지 근처 맛집 카페 사람 이유 동네 특성 가기 골목 골목 위치 맛집 카...    2.0   \n",
       "33  를 처음 체험 때 작동 방법 호출 줄 알 마냥 오지 차 체험 호출 탑승권 클릭 기사...    2.0   \n",
       "34  추천 신도시 거주 모든 시민 이유 버스 수 정류장 한정 이용 시 버스 발판 짐 가지...    0.0   \n",
       "35  추천 신도시 거주 모든 시민 이유 버스 수 정류장 한정 이용 시 버스 발판 짐 가지...    0.0   \n",
       "36  추천 계양역 출근 시 추천 이유 호출 시간 시간 단축 장점 환승 비용 문제 때문 사...    1.0   \n",
       "37  버스 주 사용 처음 사용 앱 결제 수단 설정 호출 결제 한번 해결 일반 버스 사람 ...    0.0   \n",
       "38  여러 다방면 어르신 이용 듯 어르신 카드 등록 휴대폰 요금 결제 것 제 탑승 예정 ...    0.0   \n",
       "39  계양역 목상동 솔밭 이주 단지 입구 두 군데 모두 현수막 버스승강장 유리 벽 버스 ...    0.0   \n",
       "40                    추천 남동 주민 이유 일반 노선 동네 안쪽 버스 이용 수    1.0   \n",
       "41  I-MOD 어플 검색 기능 차 가기 곳 갈수 점 곳 한정 I-MOD 노선 기존 노선...    0.0   \n",
       "42  오늘 를 실제 이용 사람 처음 친구 사용 중 현재 이용자 배차 진행 이용 수 이내 ...    0.0   \n",
       "43  추천 아이 동승 사람 이유 대중교통 아이 타고 리기 발판 아이 스스로 수 아이 조금...    1.0   \n",
       "44                       추천 추천 함 이유 환경 및 어플 목적지 입력 이동    1.0   \n",
       "45  추천 계양 중학교 학생 이유 등굣길 계양역 직장인 다음 정류장 계양 중학교 학생 점...    1.0   \n",
       "46  버스 탈 때 마다 분 려고 때 홍보 더 계양역 쪽 홍보 플래카드 버스정류장 홍보 장...    2.0   \n",
       "\n",
       "                                 TOPIC_Keywords  \n",
       "0   버스, 이용, 배차, 검단, 추천, 사람, I-MOD, 대중교통, 택시, 호출  \n",
       "1   버스, 이용, 배차, 검단, 추천, 사람, I-MOD, 대중교통, 택시, 호출  \n",
       "2   버스, 이용, 배차, 검단, 추천, 사람, I-MOD, 대중교통, 택시, 호출  \n",
       "3       추천, 이용, 이유, 시간, 버스, 탑승, 목적지, 때문, 아이, 사람  \n",
       "4       추천, 이용, 이유, 시간, 버스, 탑승, 목적지, 때문, 아이, 사람  \n",
       "5       추천, 이용, 이유, 시간, 버스, 탑승, 목적지, 때문, 아이, 사람  \n",
       "6   버스, 이용, 배차, 검단, 추천, 사람, I-MOD, 대중교통, 택시, 호출  \n",
       "7       추천, 이용, 이유, 시간, 버스, 탑승, 목적지, 때문, 아이, 사람  \n",
       "8   버스, 이용, 배차, 검단, 추천, 사람, I-MOD, 대중교통, 택시, 호출  \n",
       "9   버스, 이용, 배차, 검단, 추천, 사람, I-MOD, 대중교통, 택시, 호출  \n",
       "10      추천, 이용, 이유, 시간, 버스, 탑승, 목적지, 때문, 아이, 사람  \n",
       "11  버스, 이용, 배차, 검단, 추천, 사람, I-MOD, 대중교통, 택시, 호출  \n",
       "12      추천, 이용, 이유, 시간, 버스, 탑승, 목적지, 때문, 아이, 사람  \n",
       "13  버스, 이용, 배차, 검단, 추천, 사람, I-MOD, 대중교통, 택시, 호출  \n",
       "14      추천, 이용, 이유, 시간, 버스, 탑승, 목적지, 때문, 아이, 사람  \n",
       "15      추천, 이용, 이유, 시간, 버스, 탑승, 목적지, 때문, 아이, 사람  \n",
       "16  버스, 이용, 배차, 검단, 추천, 사람, I-MOD, 대중교통, 택시, 호출  \n",
       "17      추천, 이용, 이유, 시간, 버스, 탑승, 목적지, 때문, 아이, 사람  \n",
       "18      추천, 이용, 이유, 시간, 버스, 탑승, 목적지, 때문, 아이, 사람  \n",
       "19      추천, 이용, 이유, 시간, 버스, 탑승, 목적지, 때문, 아이, 사람  \n",
       "20      추천, 이용, 이유, 시간, 버스, 탑승, 목적지, 때문, 아이, 사람  \n",
       "21      추천, 이용, 이유, 시간, 버스, 탑승, 목적지, 때문, 아이, 사람  \n",
       "22      추천, 이용, 이유, 시간, 버스, 탑승, 목적지, 때문, 아이, 사람  \n",
       "23  버스, 이용, 배차, 검단, 추천, 사람, I-MOD, 대중교통, 택시, 호출  \n",
       "24     같다, 홍보, 사람, 이용, 좋을, 버스, 불편한, 타고, 계양역, 기사  \n",
       "25  버스, 이용, 배차, 검단, 추천, 사람, I-MOD, 대중교통, 택시, 호출  \n",
       "26  버스, 이용, 배차, 검단, 추천, 사람, I-MOD, 대중교통, 택시, 호출  \n",
       "27      추천, 이용, 이유, 시간, 버스, 탑승, 목적지, 때문, 아이, 사람  \n",
       "28      추천, 이용, 이유, 시간, 버스, 탑승, 목적지, 때문, 아이, 사람  \n",
       "29     같다, 홍보, 사람, 이용, 좋을, 버스, 불편한, 타고, 계양역, 기사  \n",
       "30      추천, 이용, 이유, 시간, 버스, 탑승, 목적지, 때문, 아이, 사람  \n",
       "31      추천, 이용, 이유, 시간, 버스, 탑승, 목적지, 때문, 아이, 사람  \n",
       "32     같다, 홍보, 사람, 이용, 좋을, 버스, 불편한, 타고, 계양역, 기사  \n",
       "33     같다, 홍보, 사람, 이용, 좋을, 버스, 불편한, 타고, 계양역, 기사  \n",
       "34  버스, 이용, 배차, 검단, 추천, 사람, I-MOD, 대중교통, 택시, 호출  \n",
       "35  버스, 이용, 배차, 검단, 추천, 사람, I-MOD, 대중교통, 택시, 호출  \n",
       "36      추천, 이용, 이유, 시간, 버스, 탑승, 목적지, 때문, 아이, 사람  \n",
       "37  버스, 이용, 배차, 검단, 추천, 사람, I-MOD, 대중교통, 택시, 호출  \n",
       "38  버스, 이용, 배차, 검단, 추천, 사람, I-MOD, 대중교통, 택시, 호출  \n",
       "39  버스, 이용, 배차, 검단, 추천, 사람, I-MOD, 대중교통, 택시, 호출  \n",
       "40      추천, 이용, 이유, 시간, 버스, 탑승, 목적지, 때문, 아이, 사람  \n",
       "41  버스, 이용, 배차, 검단, 추천, 사람, I-MOD, 대중교통, 택시, 호출  \n",
       "42  버스, 이용, 배차, 검단, 추천, 사람, I-MOD, 대중교통, 택시, 호출  \n",
       "43      추천, 이용, 이유, 시간, 버스, 탑승, 목적지, 때문, 아이, 사람  \n",
       "44      추천, 이용, 이유, 시간, 버스, 탑승, 목적지, 때문, 아이, 사람  \n",
       "45      추천, 이용, 이유, 시간, 버스, 탑승, 목적지, 때문, 아이, 사람  \n",
       "46     같다, 홍보, 사람, 이용, 좋을, 버스, 불편한, 타고, 계양역, 기사  "
      ]
     },
     "execution_count": 50,
     "metadata": {},
     "output_type": "execute_result"
    }
   ],
   "source": [
    "livinglab[\"TOPIC\"] = lda_result[\"Dominant_Topic\"]\n",
    "livinglab[\"TOPIC_Keywords\"] = lda_result[\"Topic_Keywords\"]\n",
    "livinglab"
   ]
  },
  {
   "cell_type": "code",
   "execution_count": 52,
   "metadata": {},
   "outputs": [],
   "source": [
    "livinglab.to_csv(\"/home/teanaps_home/workspace/local/리빙랩_Token_Topic_DATA.csv\", encoding = \"utf-8\", index = False)"
   ]
  },
  {
   "cell_type": "markdown",
   "metadata": {},
   "source": [
    "## 동시 출현 단어"
   ]
  },
  {
   "cell_type": "code",
   "execution_count": 12,
   "metadata": {},
   "outputs": [],
   "source": [
    "from teanaps.text_analysis import CoWordCalculator\n",
    "\n",
    "co = CoWordCalculator()"
   ]
  },
  {
   "cell_type": "code",
   "execution_count": 54,
   "metadata": {},
   "outputs": [
    {
     "data": {
      "text/html": [
       "<div>\n",
       "<style scoped>\n",
       "    .dataframe tbody tr th:only-of-type {\n",
       "        vertical-align: middle;\n",
       "    }\n",
       "\n",
       "    .dataframe tbody tr th {\n",
       "        vertical-align: top;\n",
       "    }\n",
       "\n",
       "    .dataframe thead th {\n",
       "        text-align: right;\n",
       "    }\n",
       "</style>\n",
       "<table border=\"1\" class=\"dataframe\">\n",
       "  <thead>\n",
       "    <tr style=\"text-align: right;\">\n",
       "      <th></th>\n",
       "      <th>count</th>\n",
       "      <th>WORD</th>\n",
       "      <th>TAG</th>\n",
       "    </tr>\n",
       "  </thead>\n",
       "  <tbody>\n",
       "    <tr>\n",
       "      <th>0</th>\n",
       "      <td>42</td>\n",
       "      <td>버스</td>\n",
       "      <td>NNG</td>\n",
       "    </tr>\n",
       "    <tr>\n",
       "      <th>1</th>\n",
       "      <td>31</td>\n",
       "      <td>이용</td>\n",
       "      <td>NNG</td>\n",
       "    </tr>\n",
       "    <tr>\n",
       "      <th>2</th>\n",
       "      <td>28</td>\n",
       "      <td>호출</td>\n",
       "      <td>NNG</td>\n",
       "    </tr>\n",
       "    <tr>\n",
       "      <th>3</th>\n",
       "      <td>26</td>\n",
       "      <td>시간</td>\n",
       "      <td>NNG</td>\n",
       "    </tr>\n",
       "    <tr>\n",
       "      <th>4</th>\n",
       "      <td>25</td>\n",
       "      <td>정류장</td>\n",
       "      <td>NNG</td>\n",
       "    </tr>\n",
       "  </tbody>\n",
       "</table>\n",
       "</div>"
      ],
      "text/plain": [
       "   count WORD  TAG\n",
       "0     42   버스  NNG\n",
       "1     31   이용  NNG\n",
       "2     28   호출  NNG\n",
       "3     26   시간  NNG\n",
       "4     25  정류장  NNG"
      ]
     },
     "execution_count": 54,
     "metadata": {},
     "output_type": "execute_result"
    }
   ],
   "source": [
    "# 빈도수 15 이상인 모든 명사와 형용사 단어에 대해서 동시출현 빈도 계산\n",
    "stopwords_df.head()"
   ]
  },
  {
   "cell_type": "code",
   "execution_count": 55,
   "metadata": {},
   "outputs": [
    {
     "name": "stdout",
     "output_type": "stream",
     "text": [
      "[(('버스', '버스'), 78), (('이용', '이용'), 61), (('추천', '추천'), 50), (('사람', '사람'), 30), (('탑승', '탑승'), 23), (('버스', '이용'), 21), (('이용', '버스'), 21), (('이용', '사람'), 11), (('사람', '이용'), 11), (('호출', '호출'), 11), (('기능', '기능'), 10), (('결제', '결제'), 10), (('버스', '사람'), 9), (('사람', '버스'), 9), (('추천', '사람'), 8), (('사람', '추천'), 8), (('추천', '버스'), 8), (('버스', '추천'), 8), (('탑승', '기능'), 7), (('기능', '탑승'), 7), (('알림', '알림'), 6), (('버스', '호출'), 5), (('호출', '버스'), 5), (('알림', '기능'), 5), (('기능', '알림'), 5), (('탑승', '버스'), 4), (('버스', '탑승'), 4), (('이용', '추천'), 4), (('추천', '이용'), 4), (('기능', '결제'), 4), (('호출', '결제'), 4), (('결제', '기능'), 4), (('결제', '호출'), 4), (('탑승', '알림'), 4), (('알림', '탑승'), 4), (('탑승', '결제'), 3), (('결제', '탑승'), 3), (('기능', '호출'), 2), (('호출', '기능'), 2), (('탑승', '사람'), 2), (('사람', '탑승'), 2), (('탑승', '이용'), 1), (('이용', '탑승'), 1), (('호출', '이용'), 1), (('이용', '호출'), 1), (('탑승', '호출'), 1), (('호출', '탑승'), 1), (('결제', '알림'), 1), (('알림', '결제'), 1), (('추천', '호출'), 1), (('호출', '추천'), 1), (('탑승', '추천'), 1), (('추천', '탑승'), 1)]\n"
     ]
    }
   ],
   "source": [
    "tokenized_sentence_list = livinglab[\"Token_Content\"]\n",
    "\n",
    "\n",
    "# 토픽모델링 키워드 단어들\n",
    "node_list = [\"탑승\", \"버스\", \"이용\", \"기능\", \"결제\", \"호출\", \"알림\", \"사람\", \n",
    "             \"이용\", \"추천\"]\n",
    "\n",
    "co.calculation_co_matrix(tokenized_sentence_list, node_list=node_list)\n",
    "co_result = co.get_edge_list()\n",
    "print(co_result)"
   ]
  },
  {
   "cell_type": "code",
   "execution_count": 56,
   "metadata": {},
   "outputs": [
    {
     "data": {
      "text/html": [
       "\n",
       "                <script src=\"/static/components/requirejs/require.js\"></script>\n",
       "                <script>\n",
       "                  requirejs.config({\n",
       "                    paths: {\n",
       "                      base: '/static/base',\n",
       "                      plotly: 'https://cdn.plot.ly/plotly-latest.min.js?noext',\n",
       "                    },\n",
       "                  });\n",
       "                </script>\n",
       "                "
      ],
      "text/plain": [
       "<IPython.core.display.HTML object>"
      ]
     },
     "metadata": {},
     "output_type": "display_data"
    },
    {
     "data": {
      "text/html": [
       "\n",
       "                <script src=\"/static/components/requirejs/require.js\"></script>\n",
       "                <script>\n",
       "                  requirejs.config({\n",
       "                    paths: {\n",
       "                      base: '/static/base',\n",
       "                      plotly: 'https://cdn.plot.ly/plotly-latest.min.js?noext',\n",
       "                    },\n",
       "                  });\n",
       "                </script>\n",
       "                "
      ],
      "text/plain": [
       "<IPython.core.display.HTML object>"
      ]
     },
     "metadata": {},
     "output_type": "display_data"
    },
    {
     "data": {
      "application/vnd.plotly.v1+json": {
       "data": [
        {
         "colorbar": {
          "thickness": 15,
          "ticks": "outside",
          "title": "동시출현빈도 (CO-WORD FREQUENCY)",
          "titleside": "right",
          "xanchor": "left"
         },
         "type": "heatmap",
         "x": [
          "버스",
          "이용",
          "추천",
          "사람",
          "탑승",
          "호출",
          "기능",
          "결제"
         ],
         "y": [
          "버스",
          "이용",
          "추천",
          "사람",
          "탑승",
          "호출",
          "기능",
          "결제"
         ],
         "z": [
          [
           78,
           21,
           8,
           9,
           0,
           0,
           0,
           0
          ],
          [
           21,
           61,
           0,
           11,
           0,
           0,
           0,
           0
          ],
          [
           8,
           0,
           50,
           8,
           0,
           0,
           0,
           0
          ],
          [
           9,
           11,
           8,
           30,
           0,
           0,
           0,
           0
          ],
          [
           0,
           0,
           0,
           0,
           23,
           0,
           7,
           0
          ],
          [
           0,
           0,
           0,
           0,
           0,
           11,
           0,
           0
          ],
          [
           0,
           0,
           0,
           0,
           7,
           0,
           10,
           0
          ],
          [
           0,
           0,
           0,
           0,
           0,
           0,
           0,
           10
          ]
         ]
        }
       ],
       "layout": {
        "height": 1000,
        "images": [
         {
          "layer": "above",
          "opacity": 0.1,
          "sizex": 0.7,
          "sizey": 0.7,
          "source": "https://raw.githubusercontent.com/fingeredman/teanaps-documents/main/data/logo/teanaps_logo_nbg_1600x400.png",
          "x": 0.5,
          "xanchor": "center",
          "xref": "paper",
          "y": 0.6,
          "yanchor": "center",
          "yref": "paper"
         }
        ],
        "title": "동시출현빈도 매트릭스 (CO-WORD MATRIX)",
        "width": 1000,
        "xaxis": {
         "tickangle": -45,
         "title": "X"
        },
        "yaxis": {
         "tickangle": -45,
         "title": "Y"
        }
       }
      },
      "text/html": [
       "<div id=\"33f14e62-e82d-4998-9cd2-ce876182c793\" style=\"height: 1000px; width: 1000px;\" class=\"plotly-graph-div\"></div><script type=\"text/javascript\">require([\"plotly\"], function(Plotly) { window.PLOTLYENV=window.PLOTLYENV || {};window.PLOTLYENV.BASE_URL=\"https://plot.ly\";Plotly.newPlot(\"33f14e62-e82d-4998-9cd2-ce876182c793\", [{\"type\": \"heatmap\", \"colorbar\": {\"thickness\": 15, \"ticks\": \"outside\", \"title\": \"\\ub3d9\\uc2dc\\ucd9c\\ud604\\ube48\\ub3c4 (CO-WORD FREQUENCY)\", \"titleside\": \"right\", \"xanchor\": \"left\"}, \"x\": [\"\\ubc84\\uc2a4\", \"\\uc774\\uc6a9\", \"\\ucd94\\ucc9c\", \"\\uc0ac\\ub78c\", \"\\ud0d1\\uc2b9\", \"\\ud638\\ucd9c\", \"\\uae30\\ub2a5\", \"\\uacb0\\uc81c\"], \"y\": [\"\\ubc84\\uc2a4\", \"\\uc774\\uc6a9\", \"\\ucd94\\ucc9c\", \"\\uc0ac\\ub78c\", \"\\ud0d1\\uc2b9\", \"\\ud638\\ucd9c\", \"\\uae30\\ub2a5\", \"\\uacb0\\uc81c\"], \"z\": [[78, 21, 8, 9, 0, 0, 0, 0], [21, 61, 0, 11, 0, 0, 0, 0], [8, 0, 50, 8, 0, 0, 0, 0], [9, 11, 8, 30, 0, 0, 0, 0], [0, 0, 0, 0, 23, 0, 7, 0], [0, 0, 0, 0, 0, 11, 0, 0], [0, 0, 0, 0, 7, 0, 10, 0], [0, 0, 0, 0, 0, 0, 0, 10]]}], {\"title\": \"\\ub3d9\\uc2dc\\ucd9c\\ud604\\ube48\\ub3c4 \\ub9e4\\ud2b8\\ub9ad\\uc2a4 (CO-WORD MATRIX)\", \"height\": 1000, \"width\": 1000, \"yaxis\": {\"tickangle\": -45, \"title\": \"Y\"}, \"xaxis\": {\"tickangle\": -45, \"title\": \"X\"}, \"images\": [{\"source\": \"https://raw.githubusercontent.com/fingeredman/teanaps-documents/main/data/logo/teanaps_logo_nbg_1600x400.png\", \"xref\": \"paper\", \"yref\": \"paper\", \"x\": 0.5, \"y\": 0.6, \"sizex\": 0.7, \"sizey\": 0.7, \"xanchor\": \"center\", \"yanchor\": \"center\", \"opacity\": 0.1, \"layer\": \"above\"}]}, {\"showLink\": true, \"linkText\": \"Export to plot.ly\"})});</script>"
      ],
      "text/vnd.plotly.v1+html": [
       "<div id=\"33f14e62-e82d-4998-9cd2-ce876182c793\" style=\"height: 1000px; width: 1000px;\" class=\"plotly-graph-div\"></div><script type=\"text/javascript\">require([\"plotly\"], function(Plotly) { window.PLOTLYENV=window.PLOTLYENV || {};window.PLOTLYENV.BASE_URL=\"https://plot.ly\";Plotly.newPlot(\"33f14e62-e82d-4998-9cd2-ce876182c793\", [{\"type\": \"heatmap\", \"colorbar\": {\"thickness\": 15, \"ticks\": \"outside\", \"title\": \"\\ub3d9\\uc2dc\\ucd9c\\ud604\\ube48\\ub3c4 (CO-WORD FREQUENCY)\", \"titleside\": \"right\", \"xanchor\": \"left\"}, \"x\": [\"\\ubc84\\uc2a4\", \"\\uc774\\uc6a9\", \"\\ucd94\\ucc9c\", \"\\uc0ac\\ub78c\", \"\\ud0d1\\uc2b9\", \"\\ud638\\ucd9c\", \"\\uae30\\ub2a5\", \"\\uacb0\\uc81c\"], \"y\": [\"\\ubc84\\uc2a4\", \"\\uc774\\uc6a9\", \"\\ucd94\\ucc9c\", \"\\uc0ac\\ub78c\", \"\\ud0d1\\uc2b9\", \"\\ud638\\ucd9c\", \"\\uae30\\ub2a5\", \"\\uacb0\\uc81c\"], \"z\": [[78, 21, 8, 9, 0, 0, 0, 0], [21, 61, 0, 11, 0, 0, 0, 0], [8, 0, 50, 8, 0, 0, 0, 0], [9, 11, 8, 30, 0, 0, 0, 0], [0, 0, 0, 0, 23, 0, 7, 0], [0, 0, 0, 0, 0, 11, 0, 0], [0, 0, 0, 0, 7, 0, 10, 0], [0, 0, 0, 0, 0, 0, 0, 10]]}], {\"title\": \"\\ub3d9\\uc2dc\\ucd9c\\ud604\\ube48\\ub3c4 \\ub9e4\\ud2b8\\ub9ad\\uc2a4 (CO-WORD MATRIX)\", \"height\": 1000, \"width\": 1000, \"yaxis\": {\"tickangle\": -45, \"title\": \"Y\"}, \"xaxis\": {\"tickangle\": -45, \"title\": \"X\"}, \"images\": [{\"source\": \"https://raw.githubusercontent.com/fingeredman/teanaps-documents/main/data/logo/teanaps_logo_nbg_1600x400.png\", \"xref\": \"paper\", \"yref\": \"paper\", \"x\": 0.5, \"y\": 0.6, \"sizex\": 0.7, \"sizey\": 0.7, \"xanchor\": \"center\", \"yanchor\": \"center\", \"opacity\": 0.1, \"layer\": \"above\"}]}, {\"showLink\": true, \"linkText\": \"Export to plot.ly\"})});</script>"
      ]
     },
     "metadata": {},
     "output_type": "display_data"
    }
   ],
   "source": [
    "co.get_co_matrix_graph(20)"
   ]
  },
  {
   "cell_type": "code",
   "execution_count": 57,
   "metadata": {},
   "outputs": [
    {
     "data": {
      "text/html": [
       "\n",
       "                <script src=\"/static/components/requirejs/require.js\"></script>\n",
       "                <script>\n",
       "                  requirejs.config({\n",
       "                    paths: {\n",
       "                      base: '/static/base',\n",
       "                      plotly: 'https://cdn.plot.ly/plotly-latest.min.js?noext',\n",
       "                    },\n",
       "                  });\n",
       "                </script>\n",
       "                "
      ],
      "text/plain": [
       "<IPython.core.display.HTML object>"
      ]
     },
     "metadata": {},
     "output_type": "display_data"
    },
    {
     "data": {
      "text/html": [
       "\n",
       "                <script src=\"/static/components/requirejs/require.js\"></script>\n",
       "                <script>\n",
       "                  requirejs.config({\n",
       "                    paths: {\n",
       "                      base: '/static/base',\n",
       "                      plotly: 'https://cdn.plot.ly/plotly-latest.min.js?noext',\n",
       "                    },\n",
       "                  });\n",
       "                </script>\n",
       "                "
      ],
      "text/plain": [
       "<IPython.core.display.HTML object>"
      ]
     },
     "metadata": {},
     "output_type": "display_data"
    },
    {
     "data": {
      "application/vnd.plotly.v1+json": {
       "data": [
        {
         "line": {
          "color": "#999",
          "width": 7.8
         },
         "mode": "lines",
         "type": "scatter",
         "x": [
          0.4370185106045576,
          0.4370185106045576,
          null
         ],
         "y": [
          0.11331715978255819,
          0.11331715978255819,
          null
         ]
        },
        {
         "hoverinfo": "text",
         "marker": {
          "opacity": 0
         },
         "mode": "markers",
         "text": [
          "strength: 78"
         ],
         "type": "scatter",
         "x": [
          0.4370185106045576
         ],
         "y": [
          0.11331715978255819
         ]
        },
        {
         "line": {
          "color": "#999",
          "width": 2.1
         },
         "mode": "lines",
         "type": "scatter",
         "x": [
          0.4370185106045576,
          0.6939310664746134,
          null
         ],
         "y": [
          0.11331715978255819,
          0.27697228383683753,
          null
         ]
        },
        {
         "hoverinfo": "text",
         "marker": {
          "opacity": 0
         },
         "mode": "markers",
         "text": [
          "strength: 21"
         ],
         "type": "scatter",
         "x": [
          0.5654747885395855
         ],
         "y": [
          0.19514472180969786
         ]
        },
        {
         "line": {
          "color": "#999",
          "width": 0.9
         },
         "mode": "lines",
         "type": "scatter",
         "x": [
          0.4370185106045576,
          0.8267373171637352,
          null
         ],
         "y": [
          0.11331715978255819,
          -0.008387680204250722,
          null
         ]
        },
        {
         "hoverinfo": "text",
         "marker": {
          "opacity": 0
         },
         "mode": "markers",
         "text": [
          "strength: 9"
         ],
         "type": "scatter",
         "x": [
          0.6318779138841464
         ],
         "y": [
          0.05246473978915373
         ]
        },
        {
         "line": {
          "color": "#999",
          "width": 0.8
         },
         "mode": "lines",
         "type": "scatter",
         "x": [
          0.4370185106045576,
          0.6318657571425593,
          null
         ],
         "y": [
          0.11331715978255819,
          -0.25132942809060804,
          null
         ]
        },
        {
         "hoverinfo": "text",
         "marker": {
          "opacity": 0
         },
         "mode": "markers",
         "text": [
          "strength: 8"
         ],
         "type": "scatter",
         "x": [
          0.5344421338735584
         ],
         "y": [
          -0.06900613415402493
         ]
        },
        {
         "line": {
          "color": "#999",
          "width": 0.5
         },
         "mode": "lines",
         "type": "scatter",
         "x": [
          0.4370185106045576,
          -0.08856290637811454,
          null
         ],
         "y": [
          0.11331715978255819,
          0.2976895840820984,
          null
         ]
        },
        {
         "hoverinfo": "text",
         "marker": {
          "opacity": 0
         },
         "mode": "markers",
         "text": [
          "strength: 5"
         ],
         "type": "scatter",
         "x": [
          0.17422780211322153
         ],
         "y": [
          0.2055033719323283
         ]
        },
        {
         "line": {
          "color": "#999",
          "width": 0.4
         },
         "mode": "lines",
         "type": "scatter",
         "x": [
          0.4370185106045576,
          -0.19202455822741762,
          null
         ],
         "y": [
          0.11331715978255819,
          -0.09589387193685213,
          null
         ]
        },
        {
         "hoverinfo": "text",
         "marker": {
          "opacity": 0
         },
         "mode": "markers",
         "text": [
          "strength: 4"
         ],
         "type": "scatter",
         "x": [
          0.12249697618856999
         ],
         "y": [
          0.008711643922853028
         ]
        },
        {
         "line": {
          "color": "#999",
          "width": 6.1
         },
         "mode": "lines",
         "type": "scatter",
         "x": [
          0.6939310664746134,
          0.6939310664746134,
          null
         ],
         "y": [
          0.27697228383683753,
          0.27697228383683753,
          null
         ]
        },
        {
         "hoverinfo": "text",
         "marker": {
          "opacity": 0
         },
         "mode": "markers",
         "text": [
          "strength: 61"
         ],
         "type": "scatter",
         "x": [
          0.6939310664746134
         ],
         "y": [
          0.27697228383683753
         ]
        },
        {
         "line": {
          "color": "#999",
          "width": 1.1
         },
         "mode": "lines",
         "type": "scatter",
         "x": [
          0.6939310664746134,
          0.8267373171637352,
          null
         ],
         "y": [
          0.27697228383683753,
          -0.008387680204250722,
          null
         ]
        },
        {
         "hoverinfo": "text",
         "marker": {
          "opacity": 0
         },
         "mode": "markers",
         "text": [
          "strength: 11"
         ],
         "type": "scatter",
         "x": [
          0.7603341918191744
         ],
         "y": [
          0.1342923018162934
         ]
        },
        {
         "line": {
          "color": "#999",
          "width": 0.4
         },
         "mode": "lines",
         "type": "scatter",
         "x": [
          0.6939310664746134,
          0.6318657571425593,
          null
         ],
         "y": [
          0.27697228383683753,
          -0.25132942809060804,
          null
         ]
        },
        {
         "hoverinfo": "text",
         "marker": {
          "opacity": 0
         },
         "mode": "markers",
         "text": [
          "strength: 4"
         ],
         "type": "scatter",
         "x": [
          0.6628984118085863
         ],
         "y": [
          0.012821427873114744
         ]
        },
        {
         "line": {
          "color": "#999",
          "width": 0.1
         },
         "mode": "lines",
         "type": "scatter",
         "x": [
          0.6939310664746134,
          -0.19202455822741762,
          null
         ],
         "y": [
          0.27697228383683753,
          -0.09589387193685213,
          null
         ]
        },
        {
         "hoverinfo": "text",
         "marker": {
          "opacity": 0
         },
         "mode": "markers",
         "text": [
          "strength: 1"
         ],
         "type": "scatter",
         "x": [
          0.2509532541235979
         ],
         "y": [
          0.09053920594999271
         ]
        },
        {
         "line": {
          "color": "#999",
          "width": 0.1
         },
         "mode": "lines",
         "type": "scatter",
         "x": [
          0.6939310664746134,
          -0.08856290637811454,
          null
         ],
         "y": [
          0.27697228383683753,
          0.2976895840820984,
          null
         ]
        },
        {
         "hoverinfo": "text",
         "marker": {
          "opacity": 0
         },
         "mode": "markers",
         "text": [
          "strength: 1"
         ],
         "type": "scatter",
         "x": [
          0.3026840800482494
         ],
         "y": [
          0.28733093395946796
         ]
        },
        {
         "line": {
          "color": "#999",
          "width": 5
         },
         "mode": "lines",
         "type": "scatter",
         "x": [
          0.6318657571425593,
          0.6318657571425593,
          null
         ],
         "y": [
          -0.25132942809060804,
          -0.25132942809060804,
          null
         ]
        },
        {
         "hoverinfo": "text",
         "marker": {
          "opacity": 0
         },
         "mode": "markers",
         "text": [
          "strength: 50"
         ],
         "type": "scatter",
         "x": [
          0.6318657571425593
         ],
         "y": [
          -0.25132942809060804
         ]
        },
        {
         "line": {
          "color": "#999",
          "width": 0.8
         },
         "mode": "lines",
         "type": "scatter",
         "x": [
          0.6318657571425593,
          0.8267373171637352,
          null
         ],
         "y": [
          -0.25132942809060804,
          -0.008387680204250722,
          null
         ]
        },
        {
         "hoverinfo": "text",
         "marker": {
          "opacity": 0
         },
         "mode": "markers",
         "text": [
          "strength: 8"
         ],
         "type": "scatter",
         "x": [
          0.7293015371531473
         ],
         "y": [
          -0.1298585541474294
         ]
        },
        {
         "line": {
          "color": "#999",
          "width": 0.1
         },
         "mode": "lines",
         "type": "scatter",
         "x": [
          0.6318657571425593,
          -0.08856290637811454,
          null
         ],
         "y": [
          -0.25132942809060804,
          0.2976895840820984,
          null
         ]
        },
        {
         "hoverinfo": "text",
         "marker": {
          "opacity": 0
         },
         "mode": "markers",
         "text": [
          "strength: 1"
         ],
         "type": "scatter",
         "x": [
          0.2716514253822224
         ],
         "y": [
          0.023180077995745174
         ]
        },
        {
         "line": {
          "color": "#999",
          "width": 0.1
         },
         "mode": "lines",
         "type": "scatter",
         "x": [
          0.6318657571425593,
          -0.19202455822741762,
          null
         ],
         "y": [
          -0.25132942809060804,
          -0.09589387193685213,
          null
         ]
        },
        {
         "hoverinfo": "text",
         "marker": {
          "opacity": 0
         },
         "mode": "markers",
         "text": [
          "strength: 1"
         ],
         "type": "scatter",
         "x": [
          0.21992059945757086
         ],
         "y": [
          -0.17361165001373008
         ]
        },
        {
         "line": {
          "color": "#999",
          "width": 3
         },
         "mode": "lines",
         "type": "scatter",
         "x": [
          0.8267373171637352,
          0.8267373171637352,
          null
         ],
         "y": [
          -0.008387680204250722,
          -0.008387680204250722,
          null
         ]
        },
        {
         "hoverinfo": "text",
         "marker": {
          "opacity": 0
         },
         "mode": "markers",
         "text": [
          "strength: 30"
         ],
         "type": "scatter",
         "x": [
          0.8267373171637352
         ],
         "y": [
          -0.008387680204250722
         ]
        },
        {
         "line": {
          "color": "#999",
          "width": 0.2
         },
         "mode": "lines",
         "type": "scatter",
         "x": [
          0.8267373171637352,
          -0.19202455822741762,
          null
         ],
         "y": [
          -0.008387680204250722,
          -0.09589387193685213,
          null
         ]
        },
        {
         "hoverinfo": "text",
         "marker": {
          "opacity": 0
         },
         "mode": "markers",
         "text": [
          "strength: 2"
         ],
         "type": "scatter",
         "x": [
          0.3173563794681588
         ],
         "y": [
          -0.052140776070551426
         ]
        },
        {
         "line": {
          "color": "#999",
          "width": 2.3
         },
         "mode": "lines",
         "type": "scatter",
         "x": [
          -0.19202455822741762,
          -0.19202455822741762,
          null
         ],
         "y": [
          -0.09589387193685213,
          -0.09589387193685213,
          null
         ]
        },
        {
         "hoverinfo": "text",
         "marker": {
          "opacity": 0
         },
         "mode": "markers",
         "text": [
          "strength: 23"
         ],
         "type": "scatter",
         "x": [
          -0.19202455822741762
         ],
         "y": [
          -0.09589387193685213
         ]
        },
        {
         "line": {
          "color": "#999",
          "width": 0.7
         },
         "mode": "lines",
         "type": "scatter",
         "x": [
          -0.19202455822741762,
          -0.7331880081925218,
          null
         ],
         "y": [
          -0.09589387193685213,
          0.1323005265893724,
          null
         ]
        },
        {
         "hoverinfo": "text",
         "marker": {
          "opacity": 0
         },
         "mode": "markers",
         "text": [
          "strength: 7"
         ],
         "type": "scatter",
         "x": [
          -0.4626062832099697
         ],
         "y": [
          0.018203327326260142
         ]
        },
        {
         "line": {
          "color": "#999",
          "width": 0.4
         },
         "mode": "lines",
         "type": "scatter",
         "x": [
          -0.19202455822741762,
          -1,
          null
         ],
         "y": [
          -0.09589387193685213,
          -0.2624192198782814,
          null
         ]
        },
        {
         "hoverinfo": "text",
         "marker": {
          "opacity": 0
         },
         "mode": "markers",
         "text": [
          "strength: 4"
         ],
         "type": "scatter",
         "x": [
          -0.5960122791137088
         ],
         "y": [
          -0.17915654590756674
         ]
        },
        {
         "line": {
          "color": "#999",
          "width": 0.3
         },
         "mode": "lines",
         "type": "scatter",
         "x": [
          -0.19202455822741762,
          -0.5757771785874118,
          null
         ],
         "y": [
          -0.09589387193685213,
          -0.20224935418087284,
          null
         ]
        },
        {
         "hoverinfo": "text",
         "marker": {
          "opacity": 0
         },
         "mode": "markers",
         "text": [
          "strength: 3"
         ],
         "type": "scatter",
         "x": [
          -0.3839008684074147
         ],
         "y": [
          -0.1490716130588625
         ]
        },
        {
         "line": {
          "color": "#999",
          "width": 0.1
         },
         "mode": "lines",
         "type": "scatter",
         "x": [
          -0.19202455822741762,
          -0.08856290637811454,
          null
         ],
         "y": [
          -0.09589387193685213,
          0.2976895840820984,
          null
         ]
        },
        {
         "hoverinfo": "text",
         "marker": {
          "opacity": 0
         },
         "mode": "markers",
         "text": [
          "strength: 1"
         ],
         "type": "scatter",
         "x": [
          -0.1402937323027661
         ],
         "y": [
          0.10089785607262314
         ]
        },
        {
         "line": {
          "color": "#999",
          "width": 1.1
         },
         "mode": "lines",
         "type": "scatter",
         "x": [
          -0.08856290637811454,
          -0.08856290637811454,
          null
         ],
         "y": [
          0.2976895840820984,
          0.2976895840820984,
          null
         ]
        },
        {
         "hoverinfo": "text",
         "marker": {
          "opacity": 0
         },
         "mode": "markers",
         "text": [
          "strength: 11"
         ],
         "type": "scatter",
         "x": [
          -0.08856290637811454
         ],
         "y": [
          0.2976895840820984
         ]
        },
        {
         "line": {
          "color": "#999",
          "width": 0.4
         },
         "mode": "lines",
         "type": "scatter",
         "x": [
          -0.08856290637811454,
          -0.5757771785874118,
          null
         ],
         "y": [
          0.2976895840820984,
          -0.20224935418087284,
          null
         ]
        },
        {
         "hoverinfo": "text",
         "marker": {
          "opacity": 0
         },
         "mode": "markers",
         "text": [
          "strength: 4"
         ],
         "type": "scatter",
         "x": [
          -0.33217004248276316
         ],
         "y": [
          0.04772011495061278
         ]
        },
        {
         "line": {
          "color": "#999",
          "width": 0.2
         },
         "mode": "lines",
         "type": "scatter",
         "x": [
          -0.08856290637811454,
          -0.7331880081925218,
          null
         ],
         "y": [
          0.2976895840820984,
          0.1323005265893724,
          null
         ]
        },
        {
         "hoverinfo": "text",
         "marker": {
          "opacity": 0
         },
         "mode": "markers",
         "text": [
          "strength: 2"
         ],
         "type": "scatter",
         "x": [
          -0.41087545728531816
         ],
         "y": [
          0.2149950553357354
         ]
        },
        {
         "line": {
          "color": "#999",
          "width": 1
         },
         "mode": "lines",
         "type": "scatter",
         "x": [
          -0.7331880081925218,
          -0.7331880081925218,
          null
         ],
         "y": [
          0.1323005265893724,
          0.1323005265893724,
          null
         ]
        },
        {
         "hoverinfo": "text",
         "marker": {
          "opacity": 0
         },
         "mode": "markers",
         "text": [
          "strength: 10"
         ],
         "type": "scatter",
         "x": [
          -0.7331880081925218
         ],
         "y": [
          0.1323005265893724
         ]
        },
        {
         "line": {
          "color": "#999",
          "width": 0.5
         },
         "mode": "lines",
         "type": "scatter",
         "x": [
          -0.7331880081925218,
          -1,
          null
         ],
         "y": [
          0.1323005265893724,
          -0.2624192198782814,
          null
         ]
        },
        {
         "hoverinfo": "text",
         "marker": {
          "opacity": 0
         },
         "mode": "markers",
         "text": [
          "strength: 5"
         ],
         "type": "scatter",
         "x": [
          -0.866594004096261
         ],
         "y": [
          -0.06505934664445448
         ]
        },
        {
         "line": {
          "color": "#999",
          "width": 0.4
         },
         "mode": "lines",
         "type": "scatter",
         "x": [
          -0.7331880081925218,
          -0.5757771785874118,
          null
         ],
         "y": [
          0.1323005265893724,
          -0.20224935418087284,
          null
         ]
        },
        {
         "hoverinfo": "text",
         "marker": {
          "opacity": 0
         },
         "mode": "markers",
         "text": [
          "strength: 4"
         ],
         "type": "scatter",
         "x": [
          -0.6544825933899668
         ],
         "y": [
          -0.03497441379575021
         ]
        },
        {
         "line": {
          "color": "#999",
          "width": 1
         },
         "mode": "lines",
         "type": "scatter",
         "x": [
          -0.5757771785874118,
          -0.5757771785874118,
          null
         ],
         "y": [
          -0.20224935418087284,
          -0.20224935418087284,
          null
         ]
        },
        {
         "hoverinfo": "text",
         "marker": {
          "opacity": 0
         },
         "mode": "markers",
         "text": [
          "strength: 10"
         ],
         "type": "scatter",
         "x": [
          -0.5757771785874118
         ],
         "y": [
          -0.20224935418087284
         ]
        },
        {
         "line": {
          "color": "#999",
          "width": 0.1
         },
         "mode": "lines",
         "type": "scatter",
         "x": [
          -0.5757771785874118,
          -1,
          null
         ],
         "y": [
          -0.20224935418087284,
          -0.2624192198782814,
          null
         ]
        },
        {
         "hoverinfo": "text",
         "marker": {
          "opacity": 0
         },
         "mode": "markers",
         "text": [
          "strength: 1"
         ],
         "type": "scatter",
         "x": [
          -0.787888589293706
         ],
         "y": [
          -0.2323342870295771
         ]
        },
        {
         "line": {
          "color": "#999",
          "width": 0.6
         },
         "mode": "lines",
         "type": "scatter",
         "x": [
          -1,
          -1,
          null
         ],
         "y": [
          -0.2624192198782814,
          -0.2624192198782814,
          null
         ]
        },
        {
         "hoverinfo": "text",
         "marker": {
          "opacity": 0
         },
         "mode": "markers",
         "text": [
          "strength: 6"
         ],
         "type": "scatter",
         "x": [
          -1
         ],
         "y": [
          -0.2624192198782814
         ]
        },
        {
         "hoverinfo": "hovertext",
         "hoverlabel": {
          "namelength": 0
         },
         "hovertext": [
          "Node: 버스<br>weight: 0.875",
          "Node: 이용<br>weight: 0.875",
          "Node: 추천<br>weight: 0.875",
          "Node: 사람<br>weight: 0.75",
          "Node: 탑승<br>weight: 1.25",
          "Node: 호출<br>weight: 1.0",
          "Node: 기능<br>weight: 0.75",
          "Node: 결제<br>weight: 0.75",
          "Node: 알림<br>weight: 0.625"
         ],
         "marker": {
          "color": [
           9.354143466934854,
           9.354143466934854,
           9.354143466934854,
           8.660254037844386,
           11.180339887498949,
           10,
           8.660254037844386,
           8.660254037844386,
           7.905694150420949
          ],
          "colorbar": {
           "thickness": 15,
           "title": "Word Centrality",
           "titleside": "right",
           "xanchor": "left"
          },
          "colorscale": "YlOrRd",
          "line": {
           "color": "black",
           "width": 1
          },
          "reversescale": true,
          "showscale": true,
          "size": [
           87.5,
           87.5,
           87.5,
           75,
           125,
           100,
           75,
           75,
           62.5
          ]
         },
         "mode": "markers",
         "text": [
          "버스",
          "이용",
          "추천",
          "사람",
          "탑승",
          "호출",
          "기능",
          "결제",
          "알림"
         ],
         "type": "scatter",
         "x": [
          0.4370185106045576,
          0.6939310664746134,
          0.6318657571425593,
          0.8267373171637352,
          -0.19202455822741762,
          -0.08856290637811454,
          -0.7331880081925218,
          -0.5757771785874118,
          -1
         ],
         "y": [
          0.11331715978255819,
          0.27697228383683753,
          -0.25132942809060804,
          -0.008387680204250722,
          -0.09589387193685213,
          0.2976895840820984,
          0.1323005265893724,
          -0.20224935418087284,
          -0.2624192198782814
         ]
        }
       ],
       "layout": {
        "height": 1000,
        "hovermode": "closest",
        "images": [
         {
          "layer": "above",
          "opacity": 0.1,
          "sizex": 0.7,
          "sizey": 0.7,
          "source": "https://raw.githubusercontent.com/fingeredman/teanaps-documents/main/data/logo/teanaps_logo_nbg_1600x400.png",
          "x": 0.5,
          "xanchor": "center",
          "xref": "paper",
          "y": 0.6,
          "yanchor": "center",
          "yref": "paper"
         }
        ],
        "margin": {
         "b": 20,
         "l": 5,
         "r": 5,
         "t": 40
        },
        "showlegend": false,
        "title": "Word Network Graph",
        "titlefont": {
         "size": 16
        },
        "width": 1000,
        "xaxis": {
         "showgrid": false,
         "showticklabels": false,
         "zeroline": false
        },
        "yaxis": {
         "showgrid": false,
         "showticklabels": false,
         "zeroline": false
        }
       }
      },
      "text/html": [
       "<div id=\"3010e33c-21d4-4ca8-a68c-46103c6db436\" style=\"height: 1000px; width: 1000px;\" class=\"plotly-graph-div\"></div><script type=\"text/javascript\">require([\"plotly\"], function(Plotly) { window.PLOTLYENV=window.PLOTLYENV || {};window.PLOTLYENV.BASE_URL=\"https://plot.ly\";Plotly.newPlot(\"3010e33c-21d4-4ca8-a68c-46103c6db436\", [{\"type\": \"scatter\", \"x\": [0.4370185106045576, 0.4370185106045576, null], \"y\": [0.11331715978255819, 0.11331715978255819, null], \"line\": {\"width\": 7.8, \"color\": \"#999\"}, \"mode\": \"lines\"}, {\"type\": \"scatter\", \"x\": [0.4370185106045576], \"y\": [0.11331715978255819], \"text\": [\"strength: 78\"], \"mode\": \"markers\", \"hoverinfo\": \"text\", \"marker\": {\"opacity\": 0}}, {\"type\": \"scatter\", \"x\": [0.4370185106045576, 0.6939310664746134, null], \"y\": [0.11331715978255819, 0.27697228383683753, null], \"line\": {\"width\": 2.1, \"color\": \"#999\"}, \"mode\": \"lines\"}, {\"type\": \"scatter\", \"x\": [0.5654747885395855], \"y\": [0.19514472180969786], \"text\": [\"strength: 21\"], \"mode\": \"markers\", \"hoverinfo\": \"text\", \"marker\": {\"opacity\": 0}}, {\"type\": \"scatter\", \"x\": [0.4370185106045576, 0.8267373171637352, null], \"y\": [0.11331715978255819, -0.008387680204250722, null], \"line\": {\"width\": 0.9, \"color\": \"#999\"}, \"mode\": \"lines\"}, {\"type\": \"scatter\", \"x\": [0.6318779138841464], \"y\": [0.05246473978915373], \"text\": [\"strength: 9\"], \"mode\": \"markers\", \"hoverinfo\": \"text\", \"marker\": {\"opacity\": 0}}, {\"type\": \"scatter\", \"x\": [0.4370185106045576, 0.6318657571425593, null], \"y\": [0.11331715978255819, -0.25132942809060804, null], \"line\": {\"width\": 0.8, \"color\": \"#999\"}, \"mode\": \"lines\"}, {\"type\": \"scatter\", \"x\": [0.5344421338735584], \"y\": [-0.06900613415402493], \"text\": [\"strength: 8\"], \"mode\": \"markers\", \"hoverinfo\": \"text\", \"marker\": {\"opacity\": 0}}, {\"type\": \"scatter\", \"x\": [0.4370185106045576, -0.08856290637811454, null], \"y\": [0.11331715978255819, 0.2976895840820984, null], \"line\": {\"width\": 0.5, \"color\": \"#999\"}, \"mode\": \"lines\"}, {\"type\": \"scatter\", \"x\": [0.17422780211322153], \"y\": [0.2055033719323283], \"text\": [\"strength: 5\"], \"mode\": \"markers\", \"hoverinfo\": \"text\", \"marker\": {\"opacity\": 0}}, {\"type\": \"scatter\", \"x\": [0.4370185106045576, -0.19202455822741762, null], \"y\": [0.11331715978255819, -0.09589387193685213, null], \"line\": {\"width\": 0.4, \"color\": \"#999\"}, \"mode\": \"lines\"}, {\"type\": \"scatter\", \"x\": [0.12249697618856999], \"y\": [0.008711643922853028], \"text\": [\"strength: 4\"], \"mode\": \"markers\", \"hoverinfo\": \"text\", \"marker\": {\"opacity\": 0}}, {\"type\": \"scatter\", \"x\": [0.6939310664746134, 0.6939310664746134, null], \"y\": [0.27697228383683753, 0.27697228383683753, null], \"line\": {\"width\": 6.1, \"color\": \"#999\"}, \"mode\": \"lines\"}, {\"type\": \"scatter\", \"x\": [0.6939310664746134], \"y\": [0.27697228383683753], \"text\": [\"strength: 61\"], \"mode\": \"markers\", \"hoverinfo\": \"text\", \"marker\": {\"opacity\": 0}}, {\"type\": \"scatter\", \"x\": [0.6939310664746134, 0.8267373171637352, null], \"y\": [0.27697228383683753, -0.008387680204250722, null], \"line\": {\"width\": 1.1, \"color\": \"#999\"}, \"mode\": \"lines\"}, {\"type\": \"scatter\", \"x\": [0.7603341918191744], \"y\": [0.1342923018162934], \"text\": [\"strength: 11\"], \"mode\": \"markers\", \"hoverinfo\": \"text\", \"marker\": {\"opacity\": 0}}, {\"type\": \"scatter\", \"x\": [0.6939310664746134, 0.6318657571425593, null], \"y\": [0.27697228383683753, -0.25132942809060804, null], \"line\": {\"width\": 0.4, \"color\": \"#999\"}, \"mode\": \"lines\"}, {\"type\": \"scatter\", \"x\": [0.6628984118085863], \"y\": [0.012821427873114744], \"text\": [\"strength: 4\"], \"mode\": \"markers\", \"hoverinfo\": \"text\", \"marker\": {\"opacity\": 0}}, {\"type\": \"scatter\", \"x\": [0.6939310664746134, -0.19202455822741762, null], \"y\": [0.27697228383683753, -0.09589387193685213, null], \"line\": {\"width\": 0.1, \"color\": \"#999\"}, \"mode\": \"lines\"}, {\"type\": \"scatter\", \"x\": [0.2509532541235979], \"y\": [0.09053920594999271], \"text\": [\"strength: 1\"], \"mode\": \"markers\", \"hoverinfo\": \"text\", \"marker\": {\"opacity\": 0}}, {\"type\": \"scatter\", \"x\": [0.6939310664746134, -0.08856290637811454, null], \"y\": [0.27697228383683753, 0.2976895840820984, null], \"line\": {\"width\": 0.1, \"color\": \"#999\"}, \"mode\": \"lines\"}, {\"type\": \"scatter\", \"x\": [0.3026840800482494], \"y\": [0.28733093395946796], \"text\": [\"strength: 1\"], \"mode\": \"markers\", \"hoverinfo\": \"text\", \"marker\": {\"opacity\": 0}}, {\"type\": \"scatter\", \"x\": [0.6318657571425593, 0.6318657571425593, null], \"y\": [-0.25132942809060804, -0.25132942809060804, null], \"line\": {\"width\": 5.0, \"color\": \"#999\"}, \"mode\": \"lines\"}, {\"type\": \"scatter\", \"x\": [0.6318657571425593], \"y\": [-0.25132942809060804], \"text\": [\"strength: 50\"], \"mode\": \"markers\", \"hoverinfo\": \"text\", \"marker\": {\"opacity\": 0}}, {\"type\": \"scatter\", \"x\": [0.6318657571425593, 0.8267373171637352, null], \"y\": [-0.25132942809060804, -0.008387680204250722, null], \"line\": {\"width\": 0.8, \"color\": \"#999\"}, \"mode\": \"lines\"}, {\"type\": \"scatter\", \"x\": [0.7293015371531473], \"y\": [-0.1298585541474294], \"text\": [\"strength: 8\"], \"mode\": \"markers\", \"hoverinfo\": \"text\", \"marker\": {\"opacity\": 0}}, {\"type\": \"scatter\", \"x\": [0.6318657571425593, -0.08856290637811454, null], \"y\": [-0.25132942809060804, 0.2976895840820984, null], \"line\": {\"width\": 0.1, \"color\": \"#999\"}, \"mode\": \"lines\"}, {\"type\": \"scatter\", \"x\": [0.2716514253822224], \"y\": [0.023180077995745174], \"text\": [\"strength: 1\"], \"mode\": \"markers\", \"hoverinfo\": \"text\", \"marker\": {\"opacity\": 0}}, {\"type\": \"scatter\", \"x\": [0.6318657571425593, -0.19202455822741762, null], \"y\": [-0.25132942809060804, -0.09589387193685213, null], \"line\": {\"width\": 0.1, \"color\": \"#999\"}, \"mode\": \"lines\"}, {\"type\": \"scatter\", \"x\": [0.21992059945757086], \"y\": [-0.17361165001373008], \"text\": [\"strength: 1\"], \"mode\": \"markers\", \"hoverinfo\": \"text\", \"marker\": {\"opacity\": 0}}, {\"type\": \"scatter\", \"x\": [0.8267373171637352, 0.8267373171637352, null], \"y\": [-0.008387680204250722, -0.008387680204250722, null], \"line\": {\"width\": 3.0, \"color\": \"#999\"}, \"mode\": \"lines\"}, {\"type\": \"scatter\", \"x\": [0.8267373171637352], \"y\": [-0.008387680204250722], \"text\": [\"strength: 30\"], \"mode\": \"markers\", \"hoverinfo\": \"text\", \"marker\": {\"opacity\": 0}}, {\"type\": \"scatter\", \"x\": [0.8267373171637352, -0.19202455822741762, null], \"y\": [-0.008387680204250722, -0.09589387193685213, null], \"line\": {\"width\": 0.2, \"color\": \"#999\"}, \"mode\": \"lines\"}, {\"type\": \"scatter\", \"x\": [0.3173563794681588], \"y\": [-0.052140776070551426], \"text\": [\"strength: 2\"], \"mode\": \"markers\", \"hoverinfo\": \"text\", \"marker\": {\"opacity\": 0}}, {\"type\": \"scatter\", \"x\": [-0.19202455822741762, -0.19202455822741762, null], \"y\": [-0.09589387193685213, -0.09589387193685213, null], \"line\": {\"width\": 2.3, \"color\": \"#999\"}, \"mode\": \"lines\"}, {\"type\": \"scatter\", \"x\": [-0.19202455822741762], \"y\": [-0.09589387193685213], \"text\": [\"strength: 23\"], \"mode\": \"markers\", \"hoverinfo\": \"text\", \"marker\": {\"opacity\": 0}}, {\"type\": \"scatter\", \"x\": [-0.19202455822741762, -0.7331880081925218, null], \"y\": [-0.09589387193685213, 0.1323005265893724, null], \"line\": {\"width\": 0.7, \"color\": \"#999\"}, \"mode\": \"lines\"}, {\"type\": \"scatter\", \"x\": [-0.4626062832099697], \"y\": [0.018203327326260142], \"text\": [\"strength: 7\"], \"mode\": \"markers\", \"hoverinfo\": \"text\", \"marker\": {\"opacity\": 0}}, {\"type\": \"scatter\", \"x\": [-0.19202455822741762, -1.0, null], \"y\": [-0.09589387193685213, -0.2624192198782814, null], \"line\": {\"width\": 0.4, \"color\": \"#999\"}, \"mode\": \"lines\"}, {\"type\": \"scatter\", \"x\": [-0.5960122791137088], \"y\": [-0.17915654590756674], \"text\": [\"strength: 4\"], \"mode\": \"markers\", \"hoverinfo\": \"text\", \"marker\": {\"opacity\": 0}}, {\"type\": \"scatter\", \"x\": [-0.19202455822741762, -0.5757771785874118, null], \"y\": [-0.09589387193685213, -0.20224935418087284, null], \"line\": {\"width\": 0.3, \"color\": \"#999\"}, \"mode\": \"lines\"}, {\"type\": \"scatter\", \"x\": [-0.3839008684074147], \"y\": [-0.1490716130588625], \"text\": [\"strength: 3\"], \"mode\": \"markers\", \"hoverinfo\": \"text\", \"marker\": {\"opacity\": 0}}, {\"type\": \"scatter\", \"x\": [-0.19202455822741762, -0.08856290637811454, null], \"y\": [-0.09589387193685213, 0.2976895840820984, null], \"line\": {\"width\": 0.1, \"color\": \"#999\"}, \"mode\": \"lines\"}, {\"type\": \"scatter\", \"x\": [-0.1402937323027661], \"y\": [0.10089785607262314], \"text\": [\"strength: 1\"], \"mode\": \"markers\", \"hoverinfo\": \"text\", \"marker\": {\"opacity\": 0}}, {\"type\": \"scatter\", \"x\": [-0.08856290637811454, -0.08856290637811454, null], \"y\": [0.2976895840820984, 0.2976895840820984, null], \"line\": {\"width\": 1.1, \"color\": \"#999\"}, \"mode\": \"lines\"}, {\"type\": \"scatter\", \"x\": [-0.08856290637811454], \"y\": [0.2976895840820984], \"text\": [\"strength: 11\"], \"mode\": \"markers\", \"hoverinfo\": \"text\", \"marker\": {\"opacity\": 0}}, {\"type\": \"scatter\", \"x\": [-0.08856290637811454, -0.5757771785874118, null], \"y\": [0.2976895840820984, -0.20224935418087284, null], \"line\": {\"width\": 0.4, \"color\": \"#999\"}, \"mode\": \"lines\"}, {\"type\": \"scatter\", \"x\": [-0.33217004248276316], \"y\": [0.04772011495061278], \"text\": [\"strength: 4\"], \"mode\": \"markers\", \"hoverinfo\": \"text\", \"marker\": {\"opacity\": 0}}, {\"type\": \"scatter\", \"x\": [-0.08856290637811454, -0.7331880081925218, null], \"y\": [0.2976895840820984, 0.1323005265893724, null], \"line\": {\"width\": 0.2, \"color\": \"#999\"}, \"mode\": \"lines\"}, {\"type\": \"scatter\", \"x\": [-0.41087545728531816], \"y\": [0.2149950553357354], \"text\": [\"strength: 2\"], \"mode\": \"markers\", \"hoverinfo\": \"text\", \"marker\": {\"opacity\": 0}}, {\"type\": \"scatter\", \"x\": [-0.7331880081925218, -0.7331880081925218, null], \"y\": [0.1323005265893724, 0.1323005265893724, null], \"line\": {\"width\": 1.0, \"color\": \"#999\"}, \"mode\": \"lines\"}, {\"type\": \"scatter\", \"x\": [-0.7331880081925218], \"y\": [0.1323005265893724], \"text\": [\"strength: 10\"], \"mode\": \"markers\", \"hoverinfo\": \"text\", \"marker\": {\"opacity\": 0}}, {\"type\": \"scatter\", \"x\": [-0.7331880081925218, -1.0, null], \"y\": [0.1323005265893724, -0.2624192198782814, null], \"line\": {\"width\": 0.5, \"color\": \"#999\"}, \"mode\": \"lines\"}, {\"type\": \"scatter\", \"x\": [-0.866594004096261], \"y\": [-0.06505934664445448], \"text\": [\"strength: 5\"], \"mode\": \"markers\", \"hoverinfo\": \"text\", \"marker\": {\"opacity\": 0}}, {\"type\": \"scatter\", \"x\": [-0.7331880081925218, -0.5757771785874118, null], \"y\": [0.1323005265893724, -0.20224935418087284, null], \"line\": {\"width\": 0.4, \"color\": \"#999\"}, \"mode\": \"lines\"}, {\"type\": \"scatter\", \"x\": [-0.6544825933899668], \"y\": [-0.03497441379575021], \"text\": [\"strength: 4\"], \"mode\": \"markers\", \"hoverinfo\": \"text\", \"marker\": {\"opacity\": 0}}, {\"type\": \"scatter\", \"x\": [-0.5757771785874118, -0.5757771785874118, null], \"y\": [-0.20224935418087284, -0.20224935418087284, null], \"line\": {\"width\": 1.0, \"color\": \"#999\"}, \"mode\": \"lines\"}, {\"type\": \"scatter\", \"x\": [-0.5757771785874118], \"y\": [-0.20224935418087284], \"text\": [\"strength: 10\"], \"mode\": \"markers\", \"hoverinfo\": \"text\", \"marker\": {\"opacity\": 0}}, {\"type\": \"scatter\", \"x\": [-0.5757771785874118, -1.0, null], \"y\": [-0.20224935418087284, -0.2624192198782814, null], \"line\": {\"width\": 0.1, \"color\": \"#999\"}, \"mode\": \"lines\"}, {\"type\": \"scatter\", \"x\": [-0.787888589293706], \"y\": [-0.2323342870295771], \"text\": [\"strength: 1\"], \"mode\": \"markers\", \"hoverinfo\": \"text\", \"marker\": {\"opacity\": 0}}, {\"type\": \"scatter\", \"x\": [-1.0, -1.0, null], \"y\": [-0.2624192198782814, -0.2624192198782814, null], \"line\": {\"width\": 0.6, \"color\": \"#999\"}, \"mode\": \"lines\"}, {\"type\": \"scatter\", \"x\": [-1.0], \"y\": [-0.2624192198782814], \"text\": [\"strength: 6\"], \"mode\": \"markers\", \"hoverinfo\": \"text\", \"marker\": {\"opacity\": 0}}, {\"type\": \"scatter\", \"x\": [0.4370185106045576, 0.6939310664746134, 0.6318657571425593, 0.8267373171637352, -0.19202455822741762, -0.08856290637811454, -0.7331880081925218, -0.5757771785874118, -1.0], \"y\": [0.11331715978255819, 0.27697228383683753, -0.25132942809060804, -0.008387680204250722, -0.09589387193685213, 0.2976895840820984, 0.1323005265893724, -0.20224935418087284, -0.2624192198782814], \"text\": [\"\\ubc84\\uc2a4\", \"\\uc774\\uc6a9\", \"\\ucd94\\ucc9c\", \"\\uc0ac\\ub78c\", \"\\ud0d1\\uc2b9\", \"\\ud638\\ucd9c\", \"\\uae30\\ub2a5\", \"\\uacb0\\uc81c\", \"\\uc54c\\ub9bc\"], \"mode\": \"markers\", \"hoverinfo\": \"hovertext\", \"hovertext\": [\"Node: \\ubc84\\uc2a4<br>weight: 0.875\", \"Node: \\uc774\\uc6a9<br>weight: 0.875\", \"Node: \\ucd94\\ucc9c<br>weight: 0.875\", \"Node: \\uc0ac\\ub78c<br>weight: 0.75\", \"Node: \\ud0d1\\uc2b9<br>weight: 1.25\", \"Node: \\ud638\\ucd9c<br>weight: 1.0\", \"Node: \\uae30\\ub2a5<br>weight: 0.75\", \"Node: \\uacb0\\uc81c<br>weight: 0.75\", \"Node: \\uc54c\\ub9bc<br>weight: 0.625\"], \"hoverlabel\": {\"namelength\": 0}, \"marker\": {\"showscale\": true, \"colorscale\": \"YlOrRd\", \"reversescale\": true, \"color\": [9.354143466934854, 9.354143466934854, 9.354143466934854, 8.660254037844386, 11.180339887498949, 10.0, 8.660254037844386, 8.660254037844386, 7.905694150420949], \"size\": [87.5, 87.5, 87.5, 75.0, 125.0, 100.0, 75.0, 75.0, 62.5], \"colorbar\": {\"thickness\": 15, \"title\": \"Word Centrality\", \"xanchor\": \"left\", \"titleside\": \"right\"}, \"line\": {\"width\": 1, \"color\": \"black\"}}}], {\"title\": \"Word Network Graph\", \"titlefont\": {\"size\": 16}, \"showlegend\": false, \"hovermode\": \"closest\", \"images\": [{\"source\": \"https://raw.githubusercontent.com/fingeredman/teanaps-documents/main/data/logo/teanaps_logo_nbg_1600x400.png\", \"xref\": \"paper\", \"yref\": \"paper\", \"x\": 0.5, \"y\": 0.6, \"sizex\": 0.7, \"sizey\": 0.7, \"xanchor\": \"center\", \"yanchor\": \"center\", \"opacity\": 0.1, \"layer\": \"above\"}], \"width\": 1000, \"height\": 1000, \"margin\": {\"b\": 20, \"l\": 5, \"r\": 5, \"t\": 40}, \"xaxis\": {\"showgrid\": false, \"zeroline\": false, \"showticklabels\": false}, \"yaxis\": {\"showgrid\": false, \"zeroline\": false, \"showticklabels\": false}}, {\"showLink\": true, \"linkText\": \"Export to plot.ly\"})});</script>"
      ],
      "text/vnd.plotly.v1+html": [
       "<div id=\"3010e33c-21d4-4ca8-a68c-46103c6db436\" style=\"height: 1000px; width: 1000px;\" class=\"plotly-graph-div\"></div><script type=\"text/javascript\">require([\"plotly\"], function(Plotly) { window.PLOTLYENV=window.PLOTLYENV || {};window.PLOTLYENV.BASE_URL=\"https://plot.ly\";Plotly.newPlot(\"3010e33c-21d4-4ca8-a68c-46103c6db436\", [{\"type\": \"scatter\", \"x\": [0.4370185106045576, 0.4370185106045576, null], \"y\": [0.11331715978255819, 0.11331715978255819, null], \"line\": {\"width\": 7.8, \"color\": \"#999\"}, \"mode\": \"lines\"}, {\"type\": \"scatter\", \"x\": [0.4370185106045576], \"y\": [0.11331715978255819], \"text\": [\"strength: 78\"], \"mode\": \"markers\", \"hoverinfo\": \"text\", \"marker\": {\"opacity\": 0}}, {\"type\": \"scatter\", \"x\": [0.4370185106045576, 0.6939310664746134, null], \"y\": [0.11331715978255819, 0.27697228383683753, null], \"line\": {\"width\": 2.1, \"color\": \"#999\"}, \"mode\": \"lines\"}, {\"type\": \"scatter\", \"x\": [0.5654747885395855], \"y\": [0.19514472180969786], \"text\": [\"strength: 21\"], \"mode\": \"markers\", \"hoverinfo\": \"text\", \"marker\": {\"opacity\": 0}}, {\"type\": \"scatter\", \"x\": [0.4370185106045576, 0.8267373171637352, null], \"y\": [0.11331715978255819, -0.008387680204250722, null], \"line\": {\"width\": 0.9, \"color\": \"#999\"}, \"mode\": \"lines\"}, {\"type\": \"scatter\", \"x\": [0.6318779138841464], \"y\": [0.05246473978915373], \"text\": [\"strength: 9\"], \"mode\": \"markers\", \"hoverinfo\": \"text\", \"marker\": {\"opacity\": 0}}, {\"type\": \"scatter\", \"x\": [0.4370185106045576, 0.6318657571425593, null], \"y\": [0.11331715978255819, -0.25132942809060804, null], \"line\": {\"width\": 0.8, \"color\": \"#999\"}, \"mode\": \"lines\"}, {\"type\": \"scatter\", \"x\": [0.5344421338735584], \"y\": [-0.06900613415402493], \"text\": [\"strength: 8\"], \"mode\": \"markers\", \"hoverinfo\": \"text\", \"marker\": {\"opacity\": 0}}, {\"type\": \"scatter\", \"x\": [0.4370185106045576, -0.08856290637811454, null], \"y\": [0.11331715978255819, 0.2976895840820984, null], \"line\": {\"width\": 0.5, \"color\": \"#999\"}, \"mode\": \"lines\"}, {\"type\": \"scatter\", \"x\": [0.17422780211322153], \"y\": [0.2055033719323283], \"text\": [\"strength: 5\"], \"mode\": \"markers\", \"hoverinfo\": \"text\", \"marker\": {\"opacity\": 0}}, {\"type\": \"scatter\", \"x\": [0.4370185106045576, -0.19202455822741762, null], \"y\": [0.11331715978255819, -0.09589387193685213, null], \"line\": {\"width\": 0.4, \"color\": \"#999\"}, \"mode\": \"lines\"}, {\"type\": \"scatter\", \"x\": [0.12249697618856999], \"y\": [0.008711643922853028], \"text\": [\"strength: 4\"], \"mode\": \"markers\", \"hoverinfo\": \"text\", \"marker\": {\"opacity\": 0}}, {\"type\": \"scatter\", \"x\": [0.6939310664746134, 0.6939310664746134, null], \"y\": [0.27697228383683753, 0.27697228383683753, null], \"line\": {\"width\": 6.1, \"color\": \"#999\"}, \"mode\": \"lines\"}, {\"type\": \"scatter\", \"x\": [0.6939310664746134], \"y\": [0.27697228383683753], \"text\": [\"strength: 61\"], \"mode\": \"markers\", \"hoverinfo\": \"text\", \"marker\": {\"opacity\": 0}}, {\"type\": \"scatter\", \"x\": [0.6939310664746134, 0.8267373171637352, null], \"y\": [0.27697228383683753, -0.008387680204250722, null], \"line\": {\"width\": 1.1, \"color\": \"#999\"}, \"mode\": \"lines\"}, {\"type\": \"scatter\", \"x\": [0.7603341918191744], \"y\": [0.1342923018162934], \"text\": [\"strength: 11\"], \"mode\": \"markers\", \"hoverinfo\": \"text\", \"marker\": {\"opacity\": 0}}, {\"type\": \"scatter\", \"x\": [0.6939310664746134, 0.6318657571425593, null], \"y\": [0.27697228383683753, -0.25132942809060804, null], \"line\": {\"width\": 0.4, \"color\": \"#999\"}, \"mode\": \"lines\"}, {\"type\": \"scatter\", \"x\": [0.6628984118085863], \"y\": [0.012821427873114744], \"text\": [\"strength: 4\"], \"mode\": \"markers\", \"hoverinfo\": \"text\", \"marker\": {\"opacity\": 0}}, {\"type\": \"scatter\", \"x\": [0.6939310664746134, -0.19202455822741762, null], \"y\": [0.27697228383683753, -0.09589387193685213, null], \"line\": {\"width\": 0.1, \"color\": \"#999\"}, \"mode\": \"lines\"}, {\"type\": \"scatter\", \"x\": [0.2509532541235979], \"y\": [0.09053920594999271], \"text\": [\"strength: 1\"], \"mode\": \"markers\", \"hoverinfo\": \"text\", \"marker\": {\"opacity\": 0}}, {\"type\": \"scatter\", \"x\": [0.6939310664746134, -0.08856290637811454, null], \"y\": [0.27697228383683753, 0.2976895840820984, null], \"line\": {\"width\": 0.1, \"color\": \"#999\"}, \"mode\": \"lines\"}, {\"type\": \"scatter\", \"x\": [0.3026840800482494], \"y\": [0.28733093395946796], \"text\": [\"strength: 1\"], \"mode\": \"markers\", \"hoverinfo\": \"text\", \"marker\": {\"opacity\": 0}}, {\"type\": \"scatter\", \"x\": [0.6318657571425593, 0.6318657571425593, null], \"y\": [-0.25132942809060804, -0.25132942809060804, null], \"line\": {\"width\": 5.0, \"color\": \"#999\"}, \"mode\": \"lines\"}, {\"type\": \"scatter\", \"x\": [0.6318657571425593], \"y\": [-0.25132942809060804], \"text\": [\"strength: 50\"], \"mode\": \"markers\", \"hoverinfo\": \"text\", \"marker\": {\"opacity\": 0}}, {\"type\": \"scatter\", \"x\": [0.6318657571425593, 0.8267373171637352, null], \"y\": [-0.25132942809060804, -0.008387680204250722, null], \"line\": {\"width\": 0.8, \"color\": \"#999\"}, \"mode\": \"lines\"}, {\"type\": \"scatter\", \"x\": [0.7293015371531473], \"y\": [-0.1298585541474294], \"text\": [\"strength: 8\"], \"mode\": \"markers\", \"hoverinfo\": \"text\", \"marker\": {\"opacity\": 0}}, {\"type\": \"scatter\", \"x\": [0.6318657571425593, -0.08856290637811454, null], \"y\": [-0.25132942809060804, 0.2976895840820984, null], \"line\": {\"width\": 0.1, \"color\": \"#999\"}, \"mode\": \"lines\"}, {\"type\": \"scatter\", \"x\": [0.2716514253822224], \"y\": [0.023180077995745174], \"text\": [\"strength: 1\"], \"mode\": \"markers\", \"hoverinfo\": \"text\", \"marker\": {\"opacity\": 0}}, {\"type\": \"scatter\", \"x\": [0.6318657571425593, -0.19202455822741762, null], \"y\": [-0.25132942809060804, -0.09589387193685213, null], \"line\": {\"width\": 0.1, \"color\": \"#999\"}, \"mode\": \"lines\"}, {\"type\": \"scatter\", \"x\": [0.21992059945757086], \"y\": [-0.17361165001373008], \"text\": [\"strength: 1\"], \"mode\": \"markers\", \"hoverinfo\": \"text\", \"marker\": {\"opacity\": 0}}, {\"type\": \"scatter\", \"x\": [0.8267373171637352, 0.8267373171637352, null], \"y\": [-0.008387680204250722, -0.008387680204250722, null], \"line\": {\"width\": 3.0, \"color\": \"#999\"}, \"mode\": \"lines\"}, {\"type\": \"scatter\", \"x\": [0.8267373171637352], \"y\": [-0.008387680204250722], \"text\": [\"strength: 30\"], \"mode\": \"markers\", \"hoverinfo\": \"text\", \"marker\": {\"opacity\": 0}}, {\"type\": \"scatter\", \"x\": [0.8267373171637352, -0.19202455822741762, null], \"y\": [-0.008387680204250722, -0.09589387193685213, null], \"line\": {\"width\": 0.2, \"color\": \"#999\"}, \"mode\": \"lines\"}, {\"type\": \"scatter\", \"x\": [0.3173563794681588], \"y\": [-0.052140776070551426], \"text\": [\"strength: 2\"], \"mode\": \"markers\", \"hoverinfo\": \"text\", \"marker\": {\"opacity\": 0}}, {\"type\": \"scatter\", \"x\": [-0.19202455822741762, -0.19202455822741762, null], \"y\": [-0.09589387193685213, -0.09589387193685213, null], \"line\": {\"width\": 2.3, \"color\": \"#999\"}, \"mode\": \"lines\"}, {\"type\": \"scatter\", \"x\": [-0.19202455822741762], \"y\": [-0.09589387193685213], \"text\": [\"strength: 23\"], \"mode\": \"markers\", \"hoverinfo\": \"text\", \"marker\": {\"opacity\": 0}}, {\"type\": \"scatter\", \"x\": [-0.19202455822741762, -0.7331880081925218, null], \"y\": [-0.09589387193685213, 0.1323005265893724, null], \"line\": {\"width\": 0.7, \"color\": \"#999\"}, \"mode\": \"lines\"}, {\"type\": \"scatter\", \"x\": [-0.4626062832099697], \"y\": [0.018203327326260142], \"text\": [\"strength: 7\"], \"mode\": \"markers\", \"hoverinfo\": \"text\", \"marker\": {\"opacity\": 0}}, {\"type\": \"scatter\", \"x\": [-0.19202455822741762, -1.0, null], \"y\": [-0.09589387193685213, -0.2624192198782814, null], \"line\": {\"width\": 0.4, \"color\": \"#999\"}, \"mode\": \"lines\"}, {\"type\": \"scatter\", \"x\": [-0.5960122791137088], \"y\": [-0.17915654590756674], \"text\": [\"strength: 4\"], \"mode\": \"markers\", \"hoverinfo\": \"text\", \"marker\": {\"opacity\": 0}}, {\"type\": \"scatter\", \"x\": [-0.19202455822741762, -0.5757771785874118, null], \"y\": [-0.09589387193685213, -0.20224935418087284, null], \"line\": {\"width\": 0.3, \"color\": \"#999\"}, \"mode\": \"lines\"}, {\"type\": \"scatter\", \"x\": [-0.3839008684074147], \"y\": [-0.1490716130588625], \"text\": [\"strength: 3\"], \"mode\": \"markers\", \"hoverinfo\": \"text\", \"marker\": {\"opacity\": 0}}, {\"type\": \"scatter\", \"x\": [-0.19202455822741762, -0.08856290637811454, null], \"y\": [-0.09589387193685213, 0.2976895840820984, null], \"line\": {\"width\": 0.1, \"color\": \"#999\"}, \"mode\": \"lines\"}, {\"type\": \"scatter\", \"x\": [-0.1402937323027661], \"y\": [0.10089785607262314], \"text\": [\"strength: 1\"], \"mode\": \"markers\", \"hoverinfo\": \"text\", \"marker\": {\"opacity\": 0}}, {\"type\": \"scatter\", \"x\": [-0.08856290637811454, -0.08856290637811454, null], \"y\": [0.2976895840820984, 0.2976895840820984, null], \"line\": {\"width\": 1.1, \"color\": \"#999\"}, \"mode\": \"lines\"}, {\"type\": \"scatter\", \"x\": [-0.08856290637811454], \"y\": [0.2976895840820984], \"text\": [\"strength: 11\"], \"mode\": \"markers\", \"hoverinfo\": \"text\", \"marker\": {\"opacity\": 0}}, {\"type\": \"scatter\", \"x\": [-0.08856290637811454, -0.5757771785874118, null], \"y\": [0.2976895840820984, -0.20224935418087284, null], \"line\": {\"width\": 0.4, \"color\": \"#999\"}, \"mode\": \"lines\"}, {\"type\": \"scatter\", \"x\": [-0.33217004248276316], \"y\": [0.04772011495061278], \"text\": [\"strength: 4\"], \"mode\": \"markers\", \"hoverinfo\": \"text\", \"marker\": {\"opacity\": 0}}, {\"type\": \"scatter\", \"x\": [-0.08856290637811454, -0.7331880081925218, null], \"y\": [0.2976895840820984, 0.1323005265893724, null], \"line\": {\"width\": 0.2, \"color\": \"#999\"}, \"mode\": \"lines\"}, {\"type\": \"scatter\", \"x\": [-0.41087545728531816], \"y\": [0.2149950553357354], \"text\": [\"strength: 2\"], \"mode\": \"markers\", \"hoverinfo\": \"text\", \"marker\": {\"opacity\": 0}}, {\"type\": \"scatter\", \"x\": [-0.7331880081925218, -0.7331880081925218, null], \"y\": [0.1323005265893724, 0.1323005265893724, null], \"line\": {\"width\": 1.0, \"color\": \"#999\"}, \"mode\": \"lines\"}, {\"type\": \"scatter\", \"x\": [-0.7331880081925218], \"y\": [0.1323005265893724], \"text\": [\"strength: 10\"], \"mode\": \"markers\", \"hoverinfo\": \"text\", \"marker\": {\"opacity\": 0}}, {\"type\": \"scatter\", \"x\": [-0.7331880081925218, -1.0, null], \"y\": [0.1323005265893724, -0.2624192198782814, null], \"line\": {\"width\": 0.5, \"color\": \"#999\"}, \"mode\": \"lines\"}, {\"type\": \"scatter\", \"x\": [-0.866594004096261], \"y\": [-0.06505934664445448], \"text\": [\"strength: 5\"], \"mode\": \"markers\", \"hoverinfo\": \"text\", \"marker\": {\"opacity\": 0}}, {\"type\": \"scatter\", \"x\": [-0.7331880081925218, -0.5757771785874118, null], \"y\": [0.1323005265893724, -0.20224935418087284, null], \"line\": {\"width\": 0.4, \"color\": \"#999\"}, \"mode\": \"lines\"}, {\"type\": \"scatter\", \"x\": [-0.6544825933899668], \"y\": [-0.03497441379575021], \"text\": [\"strength: 4\"], \"mode\": \"markers\", \"hoverinfo\": \"text\", \"marker\": {\"opacity\": 0}}, {\"type\": \"scatter\", \"x\": [-0.5757771785874118, -0.5757771785874118, null], \"y\": [-0.20224935418087284, -0.20224935418087284, null], \"line\": {\"width\": 1.0, \"color\": \"#999\"}, \"mode\": \"lines\"}, {\"type\": \"scatter\", \"x\": [-0.5757771785874118], \"y\": [-0.20224935418087284], \"text\": [\"strength: 10\"], \"mode\": \"markers\", \"hoverinfo\": \"text\", \"marker\": {\"opacity\": 0}}, {\"type\": \"scatter\", \"x\": [-0.5757771785874118, -1.0, null], \"y\": [-0.20224935418087284, -0.2624192198782814, null], \"line\": {\"width\": 0.1, \"color\": \"#999\"}, \"mode\": \"lines\"}, {\"type\": \"scatter\", \"x\": [-0.787888589293706], \"y\": [-0.2323342870295771], \"text\": [\"strength: 1\"], \"mode\": \"markers\", \"hoverinfo\": \"text\", \"marker\": {\"opacity\": 0}}, {\"type\": \"scatter\", \"x\": [-1.0, -1.0, null], \"y\": [-0.2624192198782814, -0.2624192198782814, null], \"line\": {\"width\": 0.6, \"color\": \"#999\"}, \"mode\": \"lines\"}, {\"type\": \"scatter\", \"x\": [-1.0], \"y\": [-0.2624192198782814], \"text\": [\"strength: 6\"], \"mode\": \"markers\", \"hoverinfo\": \"text\", \"marker\": {\"opacity\": 0}}, {\"type\": \"scatter\", \"x\": [0.4370185106045576, 0.6939310664746134, 0.6318657571425593, 0.8267373171637352, -0.19202455822741762, -0.08856290637811454, -0.7331880081925218, -0.5757771785874118, -1.0], \"y\": [0.11331715978255819, 0.27697228383683753, -0.25132942809060804, -0.008387680204250722, -0.09589387193685213, 0.2976895840820984, 0.1323005265893724, -0.20224935418087284, -0.2624192198782814], \"text\": [\"\\ubc84\\uc2a4\", \"\\uc774\\uc6a9\", \"\\ucd94\\ucc9c\", \"\\uc0ac\\ub78c\", \"\\ud0d1\\uc2b9\", \"\\ud638\\ucd9c\", \"\\uae30\\ub2a5\", \"\\uacb0\\uc81c\", \"\\uc54c\\ub9bc\"], \"mode\": \"markers\", \"hoverinfo\": \"hovertext\", \"hovertext\": [\"Node: \\ubc84\\uc2a4<br>weight: 0.875\", \"Node: \\uc774\\uc6a9<br>weight: 0.875\", \"Node: \\ucd94\\ucc9c<br>weight: 0.875\", \"Node: \\uc0ac\\ub78c<br>weight: 0.75\", \"Node: \\ud0d1\\uc2b9<br>weight: 1.25\", \"Node: \\ud638\\ucd9c<br>weight: 1.0\", \"Node: \\uae30\\ub2a5<br>weight: 0.75\", \"Node: \\uacb0\\uc81c<br>weight: 0.75\", \"Node: \\uc54c\\ub9bc<br>weight: 0.625\"], \"hoverlabel\": {\"namelength\": 0}, \"marker\": {\"showscale\": true, \"colorscale\": \"YlOrRd\", \"reversescale\": true, \"color\": [9.354143466934854, 9.354143466934854, 9.354143466934854, 8.660254037844386, 11.180339887498949, 10.0, 8.660254037844386, 8.660254037844386, 7.905694150420949], \"size\": [87.5, 87.5, 87.5, 75.0, 125.0, 100.0, 75.0, 75.0, 62.5], \"colorbar\": {\"thickness\": 15, \"title\": \"Word Centrality\", \"xanchor\": \"left\", \"titleside\": \"right\"}, \"line\": {\"width\": 1, \"color\": \"black\"}}}], {\"title\": \"Word Network Graph\", \"titlefont\": {\"size\": 16}, \"showlegend\": false, \"hovermode\": \"closest\", \"images\": [{\"source\": \"https://raw.githubusercontent.com/fingeredman/teanaps-documents/main/data/logo/teanaps_logo_nbg_1600x400.png\", \"xref\": \"paper\", \"yref\": \"paper\", \"x\": 0.5, \"y\": 0.6, \"sizex\": 0.7, \"sizey\": 0.7, \"xanchor\": \"center\", \"yanchor\": \"center\", \"opacity\": 0.1, \"layer\": \"above\"}], \"width\": 1000, \"height\": 1000, \"margin\": {\"b\": 20, \"l\": 5, \"r\": 5, \"t\": 40}, \"xaxis\": {\"showgrid\": false, \"zeroline\": false, \"showticklabels\": false}, \"yaxis\": {\"showgrid\": false, \"zeroline\": false, \"showticklabels\": false}}, {\"showLink\": true, \"linkText\": \"Export to plot.ly\"})});</script>"
      ]
     },
     "metadata": {},
     "output_type": "display_data"
    }
   ],
   "source": [
    "centrality_dict = co.get_centrality(\"d_cent\")\n",
    "co.get_word_network_graph(centrality_dict,  mode=\"markers\")"
   ]
  },
  {
   "cell_type": "code",
   "execution_count": 58,
   "metadata": {},
   "outputs": [
    {
     "data": {
      "text/html": [
       "\n",
       "                <script src=\"/static/components/requirejs/require.js\"></script>\n",
       "                <script>\n",
       "                  requirejs.config({\n",
       "                    paths: {\n",
       "                      base: '/static/base',\n",
       "                      plotly: 'https://cdn.plot.ly/plotly-latest.min.js?noext',\n",
       "                    },\n",
       "                  });\n",
       "                </script>\n",
       "                "
      ],
      "text/plain": [
       "<IPython.core.display.HTML object>"
      ]
     },
     "metadata": {},
     "output_type": "display_data"
    },
    {
     "data": {
      "text/html": [
       "\n",
       "                <script src=\"/static/components/requirejs/require.js\"></script>\n",
       "                <script>\n",
       "                  requirejs.config({\n",
       "                    paths: {\n",
       "                      base: '/static/base',\n",
       "                      plotly: 'https://cdn.plot.ly/plotly-latest.min.js?noext',\n",
       "                    },\n",
       "                  });\n",
       "                </script>\n",
       "                "
      ],
      "text/plain": [
       "<IPython.core.display.HTML object>"
      ]
     },
     "metadata": {},
     "output_type": "display_data"
    },
    {
     "data": {
      "application/vnd.plotly.v1+json": {
       "data": [
        {
         "line": {
          "color": "#999",
          "width": 7.8
         },
         "mode": "lines",
         "type": "scatter",
         "x": [
          0.012956466844664135,
          0.012956466844664135,
          null
         ],
         "y": [
          0.45626353095092054,
          0.45626353095092054,
          null
         ]
        },
        {
         "hoverinfo": "text",
         "marker": {
          "opacity": 0
         },
         "mode": "markers",
         "text": [
          "strength: 78"
         ],
         "type": "scatter",
         "x": [
          0.012956466844664135
         ],
         "y": [
          0.45626353095092054
         ]
        },
        {
         "line": {
          "color": "#999",
          "width": 2.1
         },
         "mode": "lines",
         "type": "scatter",
         "x": [
          0.012956466844664135,
          0.3034576419506891,
          null
         ],
         "y": [
          0.45626353095092054,
          0.5798476646511909,
          null
         ]
        },
        {
         "hoverinfo": "text",
         "marker": {
          "opacity": 0
         },
         "mode": "markers",
         "text": [
          "strength: 21"
         ],
         "type": "scatter",
         "x": [
          0.1582070543976766
         ],
         "y": [
          0.5180555978010557
         ]
        },
        {
         "line": {
          "color": "#999",
          "width": 0.9
         },
         "mode": "lines",
         "type": "scatter",
         "x": [
          0.012956466844664135,
          0.19157846427974423,
          null
         ],
         "y": [
          0.45626353095092054,
          0.8642454464723409,
          null
         ]
        },
        {
         "hoverinfo": "text",
         "marker": {
          "opacity": 0
         },
         "mode": "markers",
         "text": [
          "strength: 9"
         ],
         "type": "scatter",
         "x": [
          0.10226746556220419
         ],
         "y": [
          0.6602544887116307
         ]
        },
        {
         "line": {
          "color": "#999",
          "width": 0.8
         },
         "mode": "lines",
         "type": "scatter",
         "x": [
          0.012956466844664135,
          -0.1965799696658591,
          null
         ],
         "y": [
          0.45626353095092054,
          0.8315407989251681,
          null
         ]
        },
        {
         "hoverinfo": "text",
         "marker": {
          "opacity": 0
         },
         "mode": "markers",
         "text": [
          "strength: 8"
         ],
         "type": "scatter",
         "x": [
          -0.09181175141059748
         ],
         "y": [
          0.6439021649380443
         ]
        },
        {
         "line": {
          "color": "#999",
          "width": 0.5
         },
         "mode": "lines",
         "type": "scatter",
         "x": [
          0.012956466844664135,
          -0.4082901814004868,
          null
         ],
         "y": [
          0.45626353095092054,
          -0.04185117534617716,
          null
         ]
        },
        {
         "hoverinfo": "text",
         "marker": {
          "opacity": 0
         },
         "mode": "markers",
         "text": [
          "strength: 5"
         ],
         "type": "scatter",
         "x": [
          -0.19766685727791133
         ],
         "y": [
          0.2072061778023717
         ]
        },
        {
         "line": {
          "color": "#999",
          "width": 0.4
         },
         "mode": "lines",
         "type": "scatter",
         "x": [
          0.012956466844664135,
          0.13664583633508326,
          null
         ],
         "y": [
          0.45626353095092054,
          -0.23277607155461968,
          null
         ]
        },
        {
         "hoverinfo": "text",
         "marker": {
          "opacity": 0
         },
         "mode": "markers",
         "text": [
          "strength: 4"
         ],
         "type": "scatter",
         "x": [
          0.0748011515898737
         ],
         "y": [
          0.11174372969815043
         ]
        },
        {
         "line": {
          "color": "#999",
          "width": 6.1
         },
         "mode": "lines",
         "type": "scatter",
         "x": [
          0.3034576419506891,
          0.3034576419506891,
          null
         ],
         "y": [
          0.5798476646511909,
          0.5798476646511909,
          null
         ]
        },
        {
         "hoverinfo": "text",
         "marker": {
          "opacity": 0
         },
         "mode": "markers",
         "text": [
          "strength: 61"
         ],
         "type": "scatter",
         "x": [
          0.3034576419506891
         ],
         "y": [
          0.5798476646511909
         ]
        },
        {
         "line": {
          "color": "#999",
          "width": 1.1
         },
         "mode": "lines",
         "type": "scatter",
         "x": [
          0.3034576419506891,
          0.19157846427974423,
          null
         ],
         "y": [
          0.5798476646511909,
          0.8642454464723409,
          null
         ]
        },
        {
         "hoverinfo": "text",
         "marker": {
          "opacity": 0
         },
         "mode": "markers",
         "text": [
          "strength: 11"
         ],
         "type": "scatter",
         "x": [
          0.24751805311521666
         ],
         "y": [
          0.7220465555617659
         ]
        },
        {
         "line": {
          "color": "#999",
          "width": 0.4
         },
         "mode": "lines",
         "type": "scatter",
         "x": [
          0.3034576419506891,
          -0.1965799696658591,
          null
         ],
         "y": [
          0.5798476646511909,
          0.8315407989251681,
          null
         ]
        },
        {
         "hoverinfo": "text",
         "marker": {
          "opacity": 0
         },
         "mode": "markers",
         "text": [
          "strength: 4"
         ],
         "type": "scatter",
         "x": [
          0.053438836142414986
         ],
         "y": [
          0.7056942317881795
         ]
        },
        {
         "line": {
          "color": "#999",
          "width": 0.1
         },
         "mode": "lines",
         "type": "scatter",
         "x": [
          0.3034576419506891,
          0.13664583633508326,
          null
         ],
         "y": [
          0.5798476646511909,
          -0.23277607155461968,
          null
         ]
        },
        {
         "hoverinfo": "text",
         "marker": {
          "opacity": 0
         },
         "mode": "markers",
         "text": [
          "strength: 1"
         ],
         "type": "scatter",
         "x": [
          0.22005173914288617
         ],
         "y": [
          0.1735357965482856
         ]
        },
        {
         "line": {
          "color": "#999",
          "width": 0.1
         },
         "mode": "lines",
         "type": "scatter",
         "x": [
          0.3034576419506891,
          -0.4082901814004868,
          null
         ],
         "y": [
          0.5798476646511909,
          -0.04185117534617716,
          null
         ]
        },
        {
         "hoverinfo": "text",
         "marker": {
          "opacity": 0
         },
         "mode": "markers",
         "text": [
          "strength: 1"
         ],
         "type": "scatter",
         "x": [
          -0.05241626972489885
         ],
         "y": [
          0.2689982446525069
         ]
        },
        {
         "line": {
          "color": "#999",
          "width": 5
         },
         "mode": "lines",
         "type": "scatter",
         "x": [
          -0.1965799696658591,
          -0.1965799696658591,
          null
         ],
         "y": [
          0.8315407989251681,
          0.8315407989251681,
          null
         ]
        },
        {
         "hoverinfo": "text",
         "marker": {
          "opacity": 0
         },
         "mode": "markers",
         "text": [
          "strength: 50"
         ],
         "type": "scatter",
         "x": [
          -0.1965799696658591
         ],
         "y": [
          0.8315407989251681
         ]
        },
        {
         "line": {
          "color": "#999",
          "width": 0.8
         },
         "mode": "lines",
         "type": "scatter",
         "x": [
          -0.1965799696658591,
          0.19157846427974423,
          null
         ],
         "y": [
          0.8315407989251681,
          0.8642454464723409,
          null
         ]
        },
        {
         "hoverinfo": "text",
         "marker": {
          "opacity": 0
         },
         "mode": "markers",
         "text": [
          "strength: 8"
         ],
         "type": "scatter",
         "x": [
          -0.0025007526930574397
         ],
         "y": [
          0.8478931226987545
         ]
        },
        {
         "line": {
          "color": "#999",
          "width": 0.1
         },
         "mode": "lines",
         "type": "scatter",
         "x": [
          -0.1965799696658591,
          -0.4082901814004868,
          null
         ],
         "y": [
          0.8315407989251681,
          -0.04185117534617716,
          null
         ]
        },
        {
         "hoverinfo": "text",
         "marker": {
          "opacity": 0
         },
         "mode": "markers",
         "text": [
          "strength: 1"
         ],
         "type": "scatter",
         "x": [
          -0.30243507553317295
         ],
         "y": [
          0.3948448117894955
         ]
        },
        {
         "line": {
          "color": "#999",
          "width": 0.1
         },
         "mode": "lines",
         "type": "scatter",
         "x": [
          -0.1965799696658591,
          0.13664583633508326,
          null
         ],
         "y": [
          0.8315407989251681,
          -0.23277607155461968,
          null
         ]
        },
        {
         "hoverinfo": "text",
         "marker": {
          "opacity": 0
         },
         "mode": "markers",
         "text": [
          "strength: 1"
         ],
         "type": "scatter",
         "x": [
          -0.029967066665387926
         ],
         "y": [
          0.2993823636852742
         ]
        },
        {
         "line": {
          "color": "#999",
          "width": 3
         },
         "mode": "lines",
         "type": "scatter",
         "x": [
          0.19157846427974423,
          0.19157846427974423,
          null
         ],
         "y": [
          0.8642454464723409,
          0.8642454464723409,
          null
         ]
        },
        {
         "hoverinfo": "text",
         "marker": {
          "opacity": 0
         },
         "mode": "markers",
         "text": [
          "strength: 30"
         ],
         "type": "scatter",
         "x": [
          0.19157846427974423
         ],
         "y": [
          0.8642454464723409
         ]
        },
        {
         "line": {
          "color": "#999",
          "width": 0.2
         },
         "mode": "lines",
         "type": "scatter",
         "x": [
          0.19157846427974423,
          0.13664583633508326,
          null
         ],
         "y": [
          0.8642454464723409,
          -0.23277607155461968,
          null
         ]
        },
        {
         "hoverinfo": "text",
         "marker": {
          "opacity": 0
         },
         "mode": "markers",
         "text": [
          "strength: 2"
         ],
         "type": "scatter",
         "x": [
          0.16411215030741375
         ],
         "y": [
          0.31573468745886063
         ]
        },
        {
         "line": {
          "color": "#999",
          "width": 2.3
         },
         "mode": "lines",
         "type": "scatter",
         "x": [
          0.13664583633508326,
          0.13664583633508326,
          null
         ],
         "y": [
          -0.23277607155461968,
          -0.23277607155461968,
          null
         ]
        },
        {
         "hoverinfo": "text",
         "marker": {
          "opacity": 0
         },
         "mode": "markers",
         "text": [
          "strength: 23"
         ],
         "type": "scatter",
         "x": [
          0.13664583633508326
         ],
         "y": [
          -0.23277607155461968
         ]
        },
        {
         "line": {
          "color": "#999",
          "width": 0.7
         },
         "mode": "lines",
         "type": "scatter",
         "x": [
          0.13664583633508326,
          0.009524801116429999,
          null
         ],
         "y": [
          -0.23277607155461968,
          -0.7588638679130982,
          null
         ]
        },
        {
         "hoverinfo": "text",
         "marker": {
          "opacity": 0
         },
         "mode": "markers",
         "text": [
          "strength: 7"
         ],
         "type": "scatter",
         "x": [
          0.07308531872575663
         ],
         "y": [
          -0.49581996973385895
         ]
        },
        {
         "line": {
          "color": "#999",
          "width": 0.4
         },
         "mode": "lines",
         "type": "scatter",
         "x": [
          0.13664583633508326,
          0.3981203469927687,
          null
         ],
         "y": [
          -0.23277607155461968,
          -0.9999999999999999,
          null
         ]
        },
        {
         "hoverinfo": "text",
         "marker": {
          "opacity": 0
         },
         "mode": "markers",
         "text": [
          "strength: 4"
         ],
         "type": "scatter",
         "x": [
          0.267383091663926
         ],
         "y": [
          -0.6163880357773098
         ]
        },
        {
         "line": {
          "color": "#999",
          "width": 0.3
         },
         "mode": "lines",
         "type": "scatter",
         "x": [
          0.13664583633508326,
          -0.44741340645303357,
          null
         ],
         "y": [
          -0.23277607155461968,
          -0.6984063261857261,
          null
         ]
        },
        {
         "hoverinfo": "text",
         "marker": {
          "opacity": 0
         },
         "mode": "markers",
         "text": [
          "strength: 3"
         ],
         "type": "scatter",
         "x": [
          -0.15538378505897515
         ],
         "y": [
          -0.46559119887017286
         ]
        },
        {
         "line": {
          "color": "#999",
          "width": 0.1
         },
         "mode": "lines",
         "type": "scatter",
         "x": [
          0.13664583633508326,
          -0.4082901814004868,
          null
         ],
         "y": [
          -0.23277607155461968,
          -0.04185117534617716,
          null
         ]
        },
        {
         "hoverinfo": "text",
         "marker": {
          "opacity": 0
         },
         "mode": "markers",
         "text": [
          "strength: 1"
         ],
         "type": "scatter",
         "x": [
          -0.13582217253270176
         ],
         "y": [
          -0.13731362345039844
         ]
        },
        {
         "line": {
          "color": "#999",
          "width": 1.1
         },
         "mode": "lines",
         "type": "scatter",
         "x": [
          -0.4082901814004868,
          -0.4082901814004868,
          null
         ],
         "y": [
          -0.04185117534617716,
          -0.04185117534617716,
          null
         ]
        },
        {
         "hoverinfo": "text",
         "marker": {
          "opacity": 0
         },
         "mode": "markers",
         "text": [
          "strength: 11"
         ],
         "type": "scatter",
         "x": [
          -0.4082901814004868
         ],
         "y": [
          -0.04185117534617716
         ]
        },
        {
         "line": {
          "color": "#999",
          "width": 0.4
         },
         "mode": "lines",
         "type": "scatter",
         "x": [
          -0.4082901814004868,
          -0.44741340645303357,
          null
         ],
         "y": [
          -0.04185117534617716,
          -0.6984063261857261,
          null
         ]
        },
        {
         "hoverinfo": "text",
         "marker": {
          "opacity": 0
         },
         "mode": "markers",
         "text": [
          "strength: 4"
         ],
         "type": "scatter",
         "x": [
          -0.4278517939267602
         ],
         "y": [
          -0.37012875076595164
         ]
        },
        {
         "line": {
          "color": "#999",
          "width": 0.2
         },
         "mode": "lines",
         "type": "scatter",
         "x": [
          -0.4082901814004868,
          0.009524801116429999,
          null
         ],
         "y": [
          -0.04185117534617716,
          -0.7588638679130982,
          null
         ]
        },
        {
         "hoverinfo": "text",
         "marker": {
          "opacity": 0
         },
         "mode": "markers",
         "text": [
          "strength: 2"
         ],
         "type": "scatter",
         "x": [
          -0.1993826901420284
         ],
         "y": [
          -0.40035752162963767
         ]
        },
        {
         "line": {
          "color": "#999",
          "width": 1
         },
         "mode": "lines",
         "type": "scatter",
         "x": [
          0.009524801116429999,
          0.009524801116429999,
          null
         ],
         "y": [
          -0.7588638679130982,
          -0.7588638679130982,
          null
         ]
        },
        {
         "hoverinfo": "text",
         "marker": {
          "opacity": 0
         },
         "mode": "markers",
         "text": [
          "strength: 10"
         ],
         "type": "scatter",
         "x": [
          0.009524801116429999
         ],
         "y": [
          -0.7588638679130982
         ]
        },
        {
         "line": {
          "color": "#999",
          "width": 0.5
         },
         "mode": "lines",
         "type": "scatter",
         "x": [
          0.009524801116429999,
          0.3981203469927687,
          null
         ],
         "y": [
          -0.7588638679130982,
          -0.9999999999999999,
          null
         ]
        },
        {
         "hoverinfo": "text",
         "marker": {
          "opacity": 0
         },
         "mode": "markers",
         "text": [
          "strength: 5"
         ],
         "type": "scatter",
         "x": [
          0.20382257405459936
         ],
         "y": [
          -0.8794319339565491
         ]
        },
        {
         "line": {
          "color": "#999",
          "width": 0.4
         },
         "mode": "lines",
         "type": "scatter",
         "x": [
          0.009524801116429999,
          -0.44741340645303357,
          null
         ],
         "y": [
          -0.7588638679130982,
          -0.6984063261857261,
          null
         ]
        },
        {
         "hoverinfo": "text",
         "marker": {
          "opacity": 0
         },
         "mode": "markers",
         "text": [
          "strength: 4"
         ],
         "type": "scatter",
         "x": [
          -0.21894430266830178
         ],
         "y": [
          -0.7286350970494122
         ]
        },
        {
         "line": {
          "color": "#999",
          "width": 1
         },
         "mode": "lines",
         "type": "scatter",
         "x": [
          -0.44741340645303357,
          -0.44741340645303357,
          null
         ],
         "y": [
          -0.6984063261857261,
          -0.6984063261857261,
          null
         ]
        },
        {
         "hoverinfo": "text",
         "marker": {
          "opacity": 0
         },
         "mode": "markers",
         "text": [
          "strength: 10"
         ],
         "type": "scatter",
         "x": [
          -0.44741340645303357
         ],
         "y": [
          -0.6984063261857261
         ]
        },
        {
         "line": {
          "color": "#999",
          "width": 0.1
         },
         "mode": "lines",
         "type": "scatter",
         "x": [
          -0.44741340645303357,
          0.3981203469927687,
          null
         ],
         "y": [
          -0.6984063261857261,
          -0.9999999999999999,
          null
         ]
        },
        {
         "hoverinfo": "text",
         "marker": {
          "opacity": 0
         },
         "mode": "markers",
         "text": [
          "strength: 1"
         ],
         "type": "scatter",
         "x": [
          -0.024646529730132427
         ],
         "y": [
          -0.8492031630928629
         ]
        },
        {
         "line": {
          "color": "#999",
          "width": 0.6
         },
         "mode": "lines",
         "type": "scatter",
         "x": [
          0.3981203469927687,
          0.3981203469927687,
          null
         ],
         "y": [
          -0.9999999999999999,
          -0.9999999999999999,
          null
         ]
        },
        {
         "hoverinfo": "text",
         "marker": {
          "opacity": 0
         },
         "mode": "markers",
         "text": [
          "strength: 6"
         ],
         "type": "scatter",
         "x": [
          0.3981203469927687
         ],
         "y": [
          -0.9999999999999999
         ]
        },
        {
         "hoverinfo": "hovertext",
         "hoverlabel": {
          "namelength": 0
         },
         "hovertext": [
          "Node: 버스<br>weight: 0.875",
          "Node: 이용<br>weight: 0.875",
          "Node: 추천<br>weight: 0.875",
          "Node: 사람<br>weight: 0.75",
          "Node: 탑승<br>weight: 1.25",
          "Node: 호출<br>weight: 1.0",
          "Node: 기능<br>weight: 0.75",
          "Node: 결제<br>weight: 0.75",
          "Node: 알림<br>weight: 0.625"
         ],
         "marker": {
          "color": [
           9.354143466934854,
           9.354143466934854,
           9.354143466934854,
           8.660254037844386,
           11.180339887498949,
           10,
           8.660254037844386,
           8.660254037844386,
           7.905694150420949
          ],
          "colorbar": {
           "thickness": 15,
           "title": "Word Centrality",
           "titleside": "right",
           "xanchor": "left"
          },
          "colorscale": "YlOrRd",
          "line": {
           "color": "black",
           "width": 1
          },
          "reversescale": true,
          "showscale": true,
          "size": [
           87.5,
           87.5,
           87.5,
           75,
           125,
           100,
           75,
           75,
           62.5
          ]
         },
         "mode": "text",
         "text": [],
         "type": "scatter",
         "x": [
          0.012956466844664135,
          0.3034576419506891,
          -0.1965799696658591,
          0.19157846427974423,
          0.13664583633508326,
          -0.4082901814004868,
          0.009524801116429999,
          -0.44741340645303357,
          0.3981203469927687
         ],
         "y": [
          0.45626353095092054,
          0.5798476646511909,
          0.8315407989251681,
          0.8642454464723409,
          -0.23277607155461968,
          -0.04185117534617716,
          -0.7588638679130982,
          -0.6984063261857261,
          -0.9999999999999999
         ]
        },
        {
         "mode": "text",
         "text": [
          "버스",
          "이용",
          "추천",
          "사람",
          "탑승",
          "호출",
          "기능",
          "결제",
          "알림"
         ],
         "textfont": {
          "size": [
           15.3125,
           15.3125,
           15.3125,
           11.25,
           31.25,
           20,
           11.25,
           11.25,
           7.8125
          ]
         },
         "type": "scatter",
         "x": [
          0.012956466844664135,
          0.3034576419506891,
          -0.1965799696658591,
          0.19157846427974423,
          0.13664583633508326,
          -0.4082901814004868,
          0.009524801116429999,
          -0.44741340645303357,
          0.3981203469927687
         ],
         "y": [
          0.45626353095092054,
          0.5798476646511909,
          0.8315407989251681,
          0.8642454464723409,
          -0.23277607155461968,
          -0.04185117534617716,
          -0.7588638679130982,
          -0.6984063261857261,
          -0.9999999999999999
         ]
        }
       ],
       "layout": {
        "height": 1000,
        "hovermode": "closest",
        "images": [
         {
          "layer": "above",
          "opacity": 0.1,
          "sizex": 0.7,
          "sizey": 0.7,
          "source": "https://raw.githubusercontent.com/fingeredman/teanaps-documents/main/data/logo/teanaps_logo_nbg_1600x400.png",
          "x": 0.5,
          "xanchor": "center",
          "xref": "paper",
          "y": 0.6,
          "yanchor": "center",
          "yref": "paper"
         }
        ],
        "margin": {
         "b": 20,
         "l": 5,
         "r": 5,
         "t": 40
        },
        "showlegend": false,
        "title": "Word Network Graph",
        "titlefont": {
         "size": 16
        },
        "width": 1000,
        "xaxis": {
         "showgrid": false,
         "showticklabels": false,
         "zeroline": false
        },
        "yaxis": {
         "showgrid": false,
         "showticklabels": false,
         "zeroline": false
        }
       }
      },
      "text/html": [
       "<div id=\"f087d671-c3ba-4904-a92b-801360ddf81b\" style=\"height: 1000px; width: 1000px;\" class=\"plotly-graph-div\"></div><script type=\"text/javascript\">require([\"plotly\"], function(Plotly) { window.PLOTLYENV=window.PLOTLYENV || {};window.PLOTLYENV.BASE_URL=\"https://plot.ly\";Plotly.newPlot(\"f087d671-c3ba-4904-a92b-801360ddf81b\", [{\"type\": \"scatter\", \"x\": [0.012956466844664135, 0.012956466844664135, null], \"y\": [0.45626353095092054, 0.45626353095092054, null], \"line\": {\"width\": 7.8, \"color\": \"#999\"}, \"mode\": \"lines\"}, {\"type\": \"scatter\", \"x\": [0.012956466844664135], \"y\": [0.45626353095092054], \"text\": [\"strength: 78\"], \"mode\": \"markers\", \"hoverinfo\": \"text\", \"marker\": {\"opacity\": 0}}, {\"type\": \"scatter\", \"x\": [0.012956466844664135, 0.3034576419506891, null], \"y\": [0.45626353095092054, 0.5798476646511909, null], \"line\": {\"width\": 2.1, \"color\": \"#999\"}, \"mode\": \"lines\"}, {\"type\": \"scatter\", \"x\": [0.1582070543976766], \"y\": [0.5180555978010557], \"text\": [\"strength: 21\"], \"mode\": \"markers\", \"hoverinfo\": \"text\", \"marker\": {\"opacity\": 0}}, {\"type\": \"scatter\", \"x\": [0.012956466844664135, 0.19157846427974423, null], \"y\": [0.45626353095092054, 0.8642454464723409, null], \"line\": {\"width\": 0.9, \"color\": \"#999\"}, \"mode\": \"lines\"}, {\"type\": \"scatter\", \"x\": [0.10226746556220419], \"y\": [0.6602544887116307], \"text\": [\"strength: 9\"], \"mode\": \"markers\", \"hoverinfo\": \"text\", \"marker\": {\"opacity\": 0}}, {\"type\": \"scatter\", \"x\": [0.012956466844664135, -0.1965799696658591, null], \"y\": [0.45626353095092054, 0.8315407989251681, null], \"line\": {\"width\": 0.8, \"color\": \"#999\"}, \"mode\": \"lines\"}, {\"type\": \"scatter\", \"x\": [-0.09181175141059748], \"y\": [0.6439021649380443], \"text\": [\"strength: 8\"], \"mode\": \"markers\", \"hoverinfo\": \"text\", \"marker\": {\"opacity\": 0}}, {\"type\": \"scatter\", \"x\": [0.012956466844664135, -0.4082901814004868, null], \"y\": [0.45626353095092054, -0.04185117534617716, null], \"line\": {\"width\": 0.5, \"color\": \"#999\"}, \"mode\": \"lines\"}, {\"type\": \"scatter\", \"x\": [-0.19766685727791133], \"y\": [0.2072061778023717], \"text\": [\"strength: 5\"], \"mode\": \"markers\", \"hoverinfo\": \"text\", \"marker\": {\"opacity\": 0}}, {\"type\": \"scatter\", \"x\": [0.012956466844664135, 0.13664583633508326, null], \"y\": [0.45626353095092054, -0.23277607155461968, null], \"line\": {\"width\": 0.4, \"color\": \"#999\"}, \"mode\": \"lines\"}, {\"type\": \"scatter\", \"x\": [0.0748011515898737], \"y\": [0.11174372969815043], \"text\": [\"strength: 4\"], \"mode\": \"markers\", \"hoverinfo\": \"text\", \"marker\": {\"opacity\": 0}}, {\"type\": \"scatter\", \"x\": [0.3034576419506891, 0.3034576419506891, null], \"y\": [0.5798476646511909, 0.5798476646511909, null], \"line\": {\"width\": 6.1, \"color\": \"#999\"}, \"mode\": \"lines\"}, {\"type\": \"scatter\", \"x\": [0.3034576419506891], \"y\": [0.5798476646511909], \"text\": [\"strength: 61\"], \"mode\": \"markers\", \"hoverinfo\": \"text\", \"marker\": {\"opacity\": 0}}, {\"type\": \"scatter\", \"x\": [0.3034576419506891, 0.19157846427974423, null], \"y\": [0.5798476646511909, 0.8642454464723409, null], \"line\": {\"width\": 1.1, \"color\": \"#999\"}, \"mode\": \"lines\"}, {\"type\": \"scatter\", \"x\": [0.24751805311521666], \"y\": [0.7220465555617659], \"text\": [\"strength: 11\"], \"mode\": \"markers\", \"hoverinfo\": \"text\", \"marker\": {\"opacity\": 0}}, {\"type\": \"scatter\", \"x\": [0.3034576419506891, -0.1965799696658591, null], \"y\": [0.5798476646511909, 0.8315407989251681, null], \"line\": {\"width\": 0.4, \"color\": \"#999\"}, \"mode\": \"lines\"}, {\"type\": \"scatter\", \"x\": [0.053438836142414986], \"y\": [0.7056942317881795], \"text\": [\"strength: 4\"], \"mode\": \"markers\", \"hoverinfo\": \"text\", \"marker\": {\"opacity\": 0}}, {\"type\": \"scatter\", \"x\": [0.3034576419506891, 0.13664583633508326, null], \"y\": [0.5798476646511909, -0.23277607155461968, null], \"line\": {\"width\": 0.1, \"color\": \"#999\"}, \"mode\": \"lines\"}, {\"type\": \"scatter\", \"x\": [0.22005173914288617], \"y\": [0.1735357965482856], \"text\": [\"strength: 1\"], \"mode\": \"markers\", \"hoverinfo\": \"text\", \"marker\": {\"opacity\": 0}}, {\"type\": \"scatter\", \"x\": [0.3034576419506891, -0.4082901814004868, null], \"y\": [0.5798476646511909, -0.04185117534617716, null], \"line\": {\"width\": 0.1, \"color\": \"#999\"}, \"mode\": \"lines\"}, {\"type\": \"scatter\", \"x\": [-0.05241626972489885], \"y\": [0.2689982446525069], \"text\": [\"strength: 1\"], \"mode\": \"markers\", \"hoverinfo\": \"text\", \"marker\": {\"opacity\": 0}}, {\"type\": \"scatter\", \"x\": [-0.1965799696658591, -0.1965799696658591, null], \"y\": [0.8315407989251681, 0.8315407989251681, null], \"line\": {\"width\": 5.0, \"color\": \"#999\"}, \"mode\": \"lines\"}, {\"type\": \"scatter\", \"x\": [-0.1965799696658591], \"y\": [0.8315407989251681], \"text\": [\"strength: 50\"], \"mode\": \"markers\", \"hoverinfo\": \"text\", \"marker\": {\"opacity\": 0}}, {\"type\": \"scatter\", \"x\": [-0.1965799696658591, 0.19157846427974423, null], \"y\": [0.8315407989251681, 0.8642454464723409, null], \"line\": {\"width\": 0.8, \"color\": \"#999\"}, \"mode\": \"lines\"}, {\"type\": \"scatter\", \"x\": [-0.0025007526930574397], \"y\": [0.8478931226987545], \"text\": [\"strength: 8\"], \"mode\": \"markers\", \"hoverinfo\": \"text\", \"marker\": {\"opacity\": 0}}, {\"type\": \"scatter\", \"x\": [-0.1965799696658591, -0.4082901814004868, null], \"y\": [0.8315407989251681, -0.04185117534617716, null], \"line\": {\"width\": 0.1, \"color\": \"#999\"}, \"mode\": \"lines\"}, {\"type\": \"scatter\", \"x\": [-0.30243507553317295], \"y\": [0.3948448117894955], \"text\": [\"strength: 1\"], \"mode\": \"markers\", \"hoverinfo\": \"text\", \"marker\": {\"opacity\": 0}}, {\"type\": \"scatter\", \"x\": [-0.1965799696658591, 0.13664583633508326, null], \"y\": [0.8315407989251681, -0.23277607155461968, null], \"line\": {\"width\": 0.1, \"color\": \"#999\"}, \"mode\": \"lines\"}, {\"type\": \"scatter\", \"x\": [-0.029967066665387926], \"y\": [0.2993823636852742], \"text\": [\"strength: 1\"], \"mode\": \"markers\", \"hoverinfo\": \"text\", \"marker\": {\"opacity\": 0}}, {\"type\": \"scatter\", \"x\": [0.19157846427974423, 0.19157846427974423, null], \"y\": [0.8642454464723409, 0.8642454464723409, null], \"line\": {\"width\": 3.0, \"color\": \"#999\"}, \"mode\": \"lines\"}, {\"type\": \"scatter\", \"x\": [0.19157846427974423], \"y\": [0.8642454464723409], \"text\": [\"strength: 30\"], \"mode\": \"markers\", \"hoverinfo\": \"text\", \"marker\": {\"opacity\": 0}}, {\"type\": \"scatter\", \"x\": [0.19157846427974423, 0.13664583633508326, null], \"y\": [0.8642454464723409, -0.23277607155461968, null], \"line\": {\"width\": 0.2, \"color\": \"#999\"}, \"mode\": \"lines\"}, {\"type\": \"scatter\", \"x\": [0.16411215030741375], \"y\": [0.31573468745886063], \"text\": [\"strength: 2\"], \"mode\": \"markers\", \"hoverinfo\": \"text\", \"marker\": {\"opacity\": 0}}, {\"type\": \"scatter\", \"x\": [0.13664583633508326, 0.13664583633508326, null], \"y\": [-0.23277607155461968, -0.23277607155461968, null], \"line\": {\"width\": 2.3, \"color\": \"#999\"}, \"mode\": \"lines\"}, {\"type\": \"scatter\", \"x\": [0.13664583633508326], \"y\": [-0.23277607155461968], \"text\": [\"strength: 23\"], \"mode\": \"markers\", \"hoverinfo\": \"text\", \"marker\": {\"opacity\": 0}}, {\"type\": \"scatter\", \"x\": [0.13664583633508326, 0.009524801116429999, null], \"y\": [-0.23277607155461968, -0.7588638679130982, null], \"line\": {\"width\": 0.7, \"color\": \"#999\"}, \"mode\": \"lines\"}, {\"type\": \"scatter\", \"x\": [0.07308531872575663], \"y\": [-0.49581996973385895], \"text\": [\"strength: 7\"], \"mode\": \"markers\", \"hoverinfo\": \"text\", \"marker\": {\"opacity\": 0}}, {\"type\": \"scatter\", \"x\": [0.13664583633508326, 0.3981203469927687, null], \"y\": [-0.23277607155461968, -0.9999999999999999, null], \"line\": {\"width\": 0.4, \"color\": \"#999\"}, \"mode\": \"lines\"}, {\"type\": \"scatter\", \"x\": [0.267383091663926], \"y\": [-0.6163880357773098], \"text\": [\"strength: 4\"], \"mode\": \"markers\", \"hoverinfo\": \"text\", \"marker\": {\"opacity\": 0}}, {\"type\": \"scatter\", \"x\": [0.13664583633508326, -0.44741340645303357, null], \"y\": [-0.23277607155461968, -0.6984063261857261, null], \"line\": {\"width\": 0.3, \"color\": \"#999\"}, \"mode\": \"lines\"}, {\"type\": \"scatter\", \"x\": [-0.15538378505897515], \"y\": [-0.46559119887017286], \"text\": [\"strength: 3\"], \"mode\": \"markers\", \"hoverinfo\": \"text\", \"marker\": {\"opacity\": 0}}, {\"type\": \"scatter\", \"x\": [0.13664583633508326, -0.4082901814004868, null], \"y\": [-0.23277607155461968, -0.04185117534617716, null], \"line\": {\"width\": 0.1, \"color\": \"#999\"}, \"mode\": \"lines\"}, {\"type\": \"scatter\", \"x\": [-0.13582217253270176], \"y\": [-0.13731362345039844], \"text\": [\"strength: 1\"], \"mode\": \"markers\", \"hoverinfo\": \"text\", \"marker\": {\"opacity\": 0}}, {\"type\": \"scatter\", \"x\": [-0.4082901814004868, -0.4082901814004868, null], \"y\": [-0.04185117534617716, -0.04185117534617716, null], \"line\": {\"width\": 1.1, \"color\": \"#999\"}, \"mode\": \"lines\"}, {\"type\": \"scatter\", \"x\": [-0.4082901814004868], \"y\": [-0.04185117534617716], \"text\": [\"strength: 11\"], \"mode\": \"markers\", \"hoverinfo\": \"text\", \"marker\": {\"opacity\": 0}}, {\"type\": \"scatter\", \"x\": [-0.4082901814004868, -0.44741340645303357, null], \"y\": [-0.04185117534617716, -0.6984063261857261, null], \"line\": {\"width\": 0.4, \"color\": \"#999\"}, \"mode\": \"lines\"}, {\"type\": \"scatter\", \"x\": [-0.4278517939267602], \"y\": [-0.37012875076595164], \"text\": [\"strength: 4\"], \"mode\": \"markers\", \"hoverinfo\": \"text\", \"marker\": {\"opacity\": 0}}, {\"type\": \"scatter\", \"x\": [-0.4082901814004868, 0.009524801116429999, null], \"y\": [-0.04185117534617716, -0.7588638679130982, null], \"line\": {\"width\": 0.2, \"color\": \"#999\"}, \"mode\": \"lines\"}, {\"type\": \"scatter\", \"x\": [-0.1993826901420284], \"y\": [-0.40035752162963767], \"text\": [\"strength: 2\"], \"mode\": \"markers\", \"hoverinfo\": \"text\", \"marker\": {\"opacity\": 0}}, {\"type\": \"scatter\", \"x\": [0.009524801116429999, 0.009524801116429999, null], \"y\": [-0.7588638679130982, -0.7588638679130982, null], \"line\": {\"width\": 1.0, \"color\": \"#999\"}, \"mode\": \"lines\"}, {\"type\": \"scatter\", \"x\": [0.009524801116429999], \"y\": [-0.7588638679130982], \"text\": [\"strength: 10\"], \"mode\": \"markers\", \"hoverinfo\": \"text\", \"marker\": {\"opacity\": 0}}, {\"type\": \"scatter\", \"x\": [0.009524801116429999, 0.3981203469927687, null], \"y\": [-0.7588638679130982, -0.9999999999999999, null], \"line\": {\"width\": 0.5, \"color\": \"#999\"}, \"mode\": \"lines\"}, {\"type\": \"scatter\", \"x\": [0.20382257405459936], \"y\": [-0.8794319339565491], \"text\": [\"strength: 5\"], \"mode\": \"markers\", \"hoverinfo\": \"text\", \"marker\": {\"opacity\": 0}}, {\"type\": \"scatter\", \"x\": [0.009524801116429999, -0.44741340645303357, null], \"y\": [-0.7588638679130982, -0.6984063261857261, null], \"line\": {\"width\": 0.4, \"color\": \"#999\"}, \"mode\": \"lines\"}, {\"type\": \"scatter\", \"x\": [-0.21894430266830178], \"y\": [-0.7286350970494122], \"text\": [\"strength: 4\"], \"mode\": \"markers\", \"hoverinfo\": \"text\", \"marker\": {\"opacity\": 0}}, {\"type\": \"scatter\", \"x\": [-0.44741340645303357, -0.44741340645303357, null], \"y\": [-0.6984063261857261, -0.6984063261857261, null], \"line\": {\"width\": 1.0, \"color\": \"#999\"}, \"mode\": \"lines\"}, {\"type\": \"scatter\", \"x\": [-0.44741340645303357], \"y\": [-0.6984063261857261], \"text\": [\"strength: 10\"], \"mode\": \"markers\", \"hoverinfo\": \"text\", \"marker\": {\"opacity\": 0}}, {\"type\": \"scatter\", \"x\": [-0.44741340645303357, 0.3981203469927687, null], \"y\": [-0.6984063261857261, -0.9999999999999999, null], \"line\": {\"width\": 0.1, \"color\": \"#999\"}, \"mode\": \"lines\"}, {\"type\": \"scatter\", \"x\": [-0.024646529730132427], \"y\": [-0.8492031630928629], \"text\": [\"strength: 1\"], \"mode\": \"markers\", \"hoverinfo\": \"text\", \"marker\": {\"opacity\": 0}}, {\"type\": \"scatter\", \"x\": [0.3981203469927687, 0.3981203469927687, null], \"y\": [-0.9999999999999999, -0.9999999999999999, null], \"line\": {\"width\": 0.6, \"color\": \"#999\"}, \"mode\": \"lines\"}, {\"type\": \"scatter\", \"x\": [0.3981203469927687], \"y\": [-0.9999999999999999], \"text\": [\"strength: 6\"], \"mode\": \"markers\", \"hoverinfo\": \"text\", \"marker\": {\"opacity\": 0}}, {\"type\": \"scatter\", \"x\": [0.012956466844664135, 0.3034576419506891, -0.1965799696658591, 0.19157846427974423, 0.13664583633508326, -0.4082901814004868, 0.009524801116429999, -0.44741340645303357, 0.3981203469927687], \"y\": [0.45626353095092054, 0.5798476646511909, 0.8315407989251681, 0.8642454464723409, -0.23277607155461968, -0.04185117534617716, -0.7588638679130982, -0.6984063261857261, -0.9999999999999999], \"text\": [], \"mode\": \"text\", \"hoverinfo\": \"hovertext\", \"hovertext\": [\"Node: \\ubc84\\uc2a4<br>weight: 0.875\", \"Node: \\uc774\\uc6a9<br>weight: 0.875\", \"Node: \\ucd94\\ucc9c<br>weight: 0.875\", \"Node: \\uc0ac\\ub78c<br>weight: 0.75\", \"Node: \\ud0d1\\uc2b9<br>weight: 1.25\", \"Node: \\ud638\\ucd9c<br>weight: 1.0\", \"Node: \\uae30\\ub2a5<br>weight: 0.75\", \"Node: \\uacb0\\uc81c<br>weight: 0.75\", \"Node: \\uc54c\\ub9bc<br>weight: 0.625\"], \"hoverlabel\": {\"namelength\": 0}, \"marker\": {\"showscale\": true, \"colorscale\": \"YlOrRd\", \"reversescale\": true, \"color\": [9.354143466934854, 9.354143466934854, 9.354143466934854, 8.660254037844386, 11.180339887498949, 10.0, 8.660254037844386, 8.660254037844386, 7.905694150420949], \"size\": [87.5, 87.5, 87.5, 75.0, 125.0, 100.0, 75.0, 75.0, 62.5], \"colorbar\": {\"thickness\": 15, \"title\": \"Word Centrality\", \"xanchor\": \"left\", \"titleside\": \"right\"}, \"line\": {\"width\": 1, \"color\": \"black\"}}}, {\"type\": \"scatter\", \"x\": [0.012956466844664135, 0.3034576419506891, -0.1965799696658591, 0.19157846427974423, 0.13664583633508326, -0.4082901814004868, 0.009524801116429999, -0.44741340645303357, 0.3981203469927687], \"y\": [0.45626353095092054, 0.5798476646511909, 0.8315407989251681, 0.8642454464723409, -0.23277607155461968, -0.04185117534617716, -0.7588638679130982, -0.6984063261857261, -0.9999999999999999], \"mode\": \"text\", \"text\": [\"\\ubc84\\uc2a4\", \"\\uc774\\uc6a9\", \"\\ucd94\\ucc9c\", \"\\uc0ac\\ub78c\", \"\\ud0d1\\uc2b9\", \"\\ud638\\ucd9c\", \"\\uae30\\ub2a5\", \"\\uacb0\\uc81c\", \"\\uc54c\\ub9bc\"], \"textfont\": {\"size\": [15.3125, 15.3125, 15.3125, 11.25, 31.25, 20.0, 11.25, 11.25, 7.8125]}}], {\"title\": \"Word Network Graph\", \"titlefont\": {\"size\": 16}, \"showlegend\": false, \"hovermode\": \"closest\", \"images\": [{\"source\": \"https://raw.githubusercontent.com/fingeredman/teanaps-documents/main/data/logo/teanaps_logo_nbg_1600x400.png\", \"xref\": \"paper\", \"yref\": \"paper\", \"x\": 0.5, \"y\": 0.6, \"sizex\": 0.7, \"sizey\": 0.7, \"xanchor\": \"center\", \"yanchor\": \"center\", \"opacity\": 0.1, \"layer\": \"above\"}], \"width\": 1000, \"height\": 1000, \"margin\": {\"b\": 20, \"l\": 5, \"r\": 5, \"t\": 40}, \"xaxis\": {\"showgrid\": false, \"zeroline\": false, \"showticklabels\": false}, \"yaxis\": {\"showgrid\": false, \"zeroline\": false, \"showticklabels\": false}}, {\"showLink\": true, \"linkText\": \"Export to plot.ly\"})});</script>"
      ],
      "text/vnd.plotly.v1+html": [
       "<div id=\"f087d671-c3ba-4904-a92b-801360ddf81b\" style=\"height: 1000px; width: 1000px;\" class=\"plotly-graph-div\"></div><script type=\"text/javascript\">require([\"plotly\"], function(Plotly) { window.PLOTLYENV=window.PLOTLYENV || {};window.PLOTLYENV.BASE_URL=\"https://plot.ly\";Plotly.newPlot(\"f087d671-c3ba-4904-a92b-801360ddf81b\", [{\"type\": \"scatter\", \"x\": [0.012956466844664135, 0.012956466844664135, null], \"y\": [0.45626353095092054, 0.45626353095092054, null], \"line\": {\"width\": 7.8, \"color\": \"#999\"}, \"mode\": \"lines\"}, {\"type\": \"scatter\", \"x\": [0.012956466844664135], \"y\": [0.45626353095092054], \"text\": [\"strength: 78\"], \"mode\": \"markers\", \"hoverinfo\": \"text\", \"marker\": {\"opacity\": 0}}, {\"type\": \"scatter\", \"x\": [0.012956466844664135, 0.3034576419506891, null], \"y\": [0.45626353095092054, 0.5798476646511909, null], \"line\": {\"width\": 2.1, \"color\": \"#999\"}, \"mode\": \"lines\"}, {\"type\": \"scatter\", \"x\": [0.1582070543976766], \"y\": [0.5180555978010557], \"text\": [\"strength: 21\"], \"mode\": \"markers\", \"hoverinfo\": \"text\", \"marker\": {\"opacity\": 0}}, {\"type\": \"scatter\", \"x\": [0.012956466844664135, 0.19157846427974423, null], \"y\": [0.45626353095092054, 0.8642454464723409, null], \"line\": {\"width\": 0.9, \"color\": \"#999\"}, \"mode\": \"lines\"}, {\"type\": \"scatter\", \"x\": [0.10226746556220419], \"y\": [0.6602544887116307], \"text\": [\"strength: 9\"], \"mode\": \"markers\", \"hoverinfo\": \"text\", \"marker\": {\"opacity\": 0}}, {\"type\": \"scatter\", \"x\": [0.012956466844664135, -0.1965799696658591, null], \"y\": [0.45626353095092054, 0.8315407989251681, null], \"line\": {\"width\": 0.8, \"color\": \"#999\"}, \"mode\": \"lines\"}, {\"type\": \"scatter\", \"x\": [-0.09181175141059748], \"y\": [0.6439021649380443], \"text\": [\"strength: 8\"], \"mode\": \"markers\", \"hoverinfo\": \"text\", \"marker\": {\"opacity\": 0}}, {\"type\": \"scatter\", \"x\": [0.012956466844664135, -0.4082901814004868, null], \"y\": [0.45626353095092054, -0.04185117534617716, null], \"line\": {\"width\": 0.5, \"color\": \"#999\"}, \"mode\": \"lines\"}, {\"type\": \"scatter\", \"x\": [-0.19766685727791133], \"y\": [0.2072061778023717], \"text\": [\"strength: 5\"], \"mode\": \"markers\", \"hoverinfo\": \"text\", \"marker\": {\"opacity\": 0}}, {\"type\": \"scatter\", \"x\": [0.012956466844664135, 0.13664583633508326, null], \"y\": [0.45626353095092054, -0.23277607155461968, null], \"line\": {\"width\": 0.4, \"color\": \"#999\"}, \"mode\": \"lines\"}, {\"type\": \"scatter\", \"x\": [0.0748011515898737], \"y\": [0.11174372969815043], \"text\": [\"strength: 4\"], \"mode\": \"markers\", \"hoverinfo\": \"text\", \"marker\": {\"opacity\": 0}}, {\"type\": \"scatter\", \"x\": [0.3034576419506891, 0.3034576419506891, null], \"y\": [0.5798476646511909, 0.5798476646511909, null], \"line\": {\"width\": 6.1, \"color\": \"#999\"}, \"mode\": \"lines\"}, {\"type\": \"scatter\", \"x\": [0.3034576419506891], \"y\": [0.5798476646511909], \"text\": [\"strength: 61\"], \"mode\": \"markers\", \"hoverinfo\": \"text\", \"marker\": {\"opacity\": 0}}, {\"type\": \"scatter\", \"x\": [0.3034576419506891, 0.19157846427974423, null], \"y\": [0.5798476646511909, 0.8642454464723409, null], \"line\": {\"width\": 1.1, \"color\": \"#999\"}, \"mode\": \"lines\"}, {\"type\": \"scatter\", \"x\": [0.24751805311521666], \"y\": [0.7220465555617659], \"text\": [\"strength: 11\"], \"mode\": \"markers\", \"hoverinfo\": \"text\", \"marker\": {\"opacity\": 0}}, {\"type\": \"scatter\", \"x\": [0.3034576419506891, -0.1965799696658591, null], \"y\": [0.5798476646511909, 0.8315407989251681, null], \"line\": {\"width\": 0.4, \"color\": \"#999\"}, \"mode\": \"lines\"}, {\"type\": \"scatter\", \"x\": [0.053438836142414986], \"y\": [0.7056942317881795], \"text\": [\"strength: 4\"], \"mode\": \"markers\", \"hoverinfo\": \"text\", \"marker\": {\"opacity\": 0}}, {\"type\": \"scatter\", \"x\": [0.3034576419506891, 0.13664583633508326, null], \"y\": [0.5798476646511909, -0.23277607155461968, null], \"line\": {\"width\": 0.1, \"color\": \"#999\"}, \"mode\": \"lines\"}, {\"type\": \"scatter\", \"x\": [0.22005173914288617], \"y\": [0.1735357965482856], \"text\": [\"strength: 1\"], \"mode\": \"markers\", \"hoverinfo\": \"text\", \"marker\": {\"opacity\": 0}}, {\"type\": \"scatter\", \"x\": [0.3034576419506891, -0.4082901814004868, null], \"y\": [0.5798476646511909, -0.04185117534617716, null], \"line\": {\"width\": 0.1, \"color\": \"#999\"}, \"mode\": \"lines\"}, {\"type\": \"scatter\", \"x\": [-0.05241626972489885], \"y\": [0.2689982446525069], \"text\": [\"strength: 1\"], \"mode\": \"markers\", \"hoverinfo\": \"text\", \"marker\": {\"opacity\": 0}}, {\"type\": \"scatter\", \"x\": [-0.1965799696658591, -0.1965799696658591, null], \"y\": [0.8315407989251681, 0.8315407989251681, null], \"line\": {\"width\": 5.0, \"color\": \"#999\"}, \"mode\": \"lines\"}, {\"type\": \"scatter\", \"x\": [-0.1965799696658591], \"y\": [0.8315407989251681], \"text\": [\"strength: 50\"], \"mode\": \"markers\", \"hoverinfo\": \"text\", \"marker\": {\"opacity\": 0}}, {\"type\": \"scatter\", \"x\": [-0.1965799696658591, 0.19157846427974423, null], \"y\": [0.8315407989251681, 0.8642454464723409, null], \"line\": {\"width\": 0.8, \"color\": \"#999\"}, \"mode\": \"lines\"}, {\"type\": \"scatter\", \"x\": [-0.0025007526930574397], \"y\": [0.8478931226987545], \"text\": [\"strength: 8\"], \"mode\": \"markers\", \"hoverinfo\": \"text\", \"marker\": {\"opacity\": 0}}, {\"type\": \"scatter\", \"x\": [-0.1965799696658591, -0.4082901814004868, null], \"y\": [0.8315407989251681, -0.04185117534617716, null], \"line\": {\"width\": 0.1, \"color\": \"#999\"}, \"mode\": \"lines\"}, {\"type\": \"scatter\", \"x\": [-0.30243507553317295], \"y\": [0.3948448117894955], \"text\": [\"strength: 1\"], \"mode\": \"markers\", \"hoverinfo\": \"text\", \"marker\": {\"opacity\": 0}}, {\"type\": \"scatter\", \"x\": [-0.1965799696658591, 0.13664583633508326, null], \"y\": [0.8315407989251681, -0.23277607155461968, null], \"line\": {\"width\": 0.1, \"color\": \"#999\"}, \"mode\": \"lines\"}, {\"type\": \"scatter\", \"x\": [-0.029967066665387926], \"y\": [0.2993823636852742], \"text\": [\"strength: 1\"], \"mode\": \"markers\", \"hoverinfo\": \"text\", \"marker\": {\"opacity\": 0}}, {\"type\": \"scatter\", \"x\": [0.19157846427974423, 0.19157846427974423, null], \"y\": [0.8642454464723409, 0.8642454464723409, null], \"line\": {\"width\": 3.0, \"color\": \"#999\"}, \"mode\": \"lines\"}, {\"type\": \"scatter\", \"x\": [0.19157846427974423], \"y\": [0.8642454464723409], \"text\": [\"strength: 30\"], \"mode\": \"markers\", \"hoverinfo\": \"text\", \"marker\": {\"opacity\": 0}}, {\"type\": \"scatter\", \"x\": [0.19157846427974423, 0.13664583633508326, null], \"y\": [0.8642454464723409, -0.23277607155461968, null], \"line\": {\"width\": 0.2, \"color\": \"#999\"}, \"mode\": \"lines\"}, {\"type\": \"scatter\", \"x\": [0.16411215030741375], \"y\": [0.31573468745886063], \"text\": [\"strength: 2\"], \"mode\": \"markers\", \"hoverinfo\": \"text\", \"marker\": {\"opacity\": 0}}, {\"type\": \"scatter\", \"x\": [0.13664583633508326, 0.13664583633508326, null], \"y\": [-0.23277607155461968, -0.23277607155461968, null], \"line\": {\"width\": 2.3, \"color\": \"#999\"}, \"mode\": \"lines\"}, {\"type\": \"scatter\", \"x\": [0.13664583633508326], \"y\": [-0.23277607155461968], \"text\": [\"strength: 23\"], \"mode\": \"markers\", \"hoverinfo\": \"text\", \"marker\": {\"opacity\": 0}}, {\"type\": \"scatter\", \"x\": [0.13664583633508326, 0.009524801116429999, null], \"y\": [-0.23277607155461968, -0.7588638679130982, null], \"line\": {\"width\": 0.7, \"color\": \"#999\"}, \"mode\": \"lines\"}, {\"type\": \"scatter\", \"x\": [0.07308531872575663], \"y\": [-0.49581996973385895], \"text\": [\"strength: 7\"], \"mode\": \"markers\", \"hoverinfo\": \"text\", \"marker\": {\"opacity\": 0}}, {\"type\": \"scatter\", \"x\": [0.13664583633508326, 0.3981203469927687, null], \"y\": [-0.23277607155461968, -0.9999999999999999, null], \"line\": {\"width\": 0.4, \"color\": \"#999\"}, \"mode\": \"lines\"}, {\"type\": \"scatter\", \"x\": [0.267383091663926], \"y\": [-0.6163880357773098], \"text\": [\"strength: 4\"], \"mode\": \"markers\", \"hoverinfo\": \"text\", \"marker\": {\"opacity\": 0}}, {\"type\": \"scatter\", \"x\": [0.13664583633508326, -0.44741340645303357, null], \"y\": [-0.23277607155461968, -0.6984063261857261, null], \"line\": {\"width\": 0.3, \"color\": \"#999\"}, \"mode\": \"lines\"}, {\"type\": \"scatter\", \"x\": [-0.15538378505897515], \"y\": [-0.46559119887017286], \"text\": [\"strength: 3\"], \"mode\": \"markers\", \"hoverinfo\": \"text\", \"marker\": {\"opacity\": 0}}, {\"type\": \"scatter\", \"x\": [0.13664583633508326, -0.4082901814004868, null], \"y\": [-0.23277607155461968, -0.04185117534617716, null], \"line\": {\"width\": 0.1, \"color\": \"#999\"}, \"mode\": \"lines\"}, {\"type\": \"scatter\", \"x\": [-0.13582217253270176], \"y\": [-0.13731362345039844], \"text\": [\"strength: 1\"], \"mode\": \"markers\", \"hoverinfo\": \"text\", \"marker\": {\"opacity\": 0}}, {\"type\": \"scatter\", \"x\": [-0.4082901814004868, -0.4082901814004868, null], \"y\": [-0.04185117534617716, -0.04185117534617716, null], \"line\": {\"width\": 1.1, \"color\": \"#999\"}, \"mode\": \"lines\"}, {\"type\": \"scatter\", \"x\": [-0.4082901814004868], \"y\": [-0.04185117534617716], \"text\": [\"strength: 11\"], \"mode\": \"markers\", \"hoverinfo\": \"text\", \"marker\": {\"opacity\": 0}}, {\"type\": \"scatter\", \"x\": [-0.4082901814004868, -0.44741340645303357, null], \"y\": [-0.04185117534617716, -0.6984063261857261, null], \"line\": {\"width\": 0.4, \"color\": \"#999\"}, \"mode\": \"lines\"}, {\"type\": \"scatter\", \"x\": [-0.4278517939267602], \"y\": [-0.37012875076595164], \"text\": [\"strength: 4\"], \"mode\": \"markers\", \"hoverinfo\": \"text\", \"marker\": {\"opacity\": 0}}, {\"type\": \"scatter\", \"x\": [-0.4082901814004868, 0.009524801116429999, null], \"y\": [-0.04185117534617716, -0.7588638679130982, null], \"line\": {\"width\": 0.2, \"color\": \"#999\"}, \"mode\": \"lines\"}, {\"type\": \"scatter\", \"x\": [-0.1993826901420284], \"y\": [-0.40035752162963767], \"text\": [\"strength: 2\"], \"mode\": \"markers\", \"hoverinfo\": \"text\", \"marker\": {\"opacity\": 0}}, {\"type\": \"scatter\", \"x\": [0.009524801116429999, 0.009524801116429999, null], \"y\": [-0.7588638679130982, -0.7588638679130982, null], \"line\": {\"width\": 1.0, \"color\": \"#999\"}, \"mode\": \"lines\"}, {\"type\": \"scatter\", \"x\": [0.009524801116429999], \"y\": [-0.7588638679130982], \"text\": [\"strength: 10\"], \"mode\": \"markers\", \"hoverinfo\": \"text\", \"marker\": {\"opacity\": 0}}, {\"type\": \"scatter\", \"x\": [0.009524801116429999, 0.3981203469927687, null], \"y\": [-0.7588638679130982, -0.9999999999999999, null], \"line\": {\"width\": 0.5, \"color\": \"#999\"}, \"mode\": \"lines\"}, {\"type\": \"scatter\", \"x\": [0.20382257405459936], \"y\": [-0.8794319339565491], \"text\": [\"strength: 5\"], \"mode\": \"markers\", \"hoverinfo\": \"text\", \"marker\": {\"opacity\": 0}}, {\"type\": \"scatter\", \"x\": [0.009524801116429999, -0.44741340645303357, null], \"y\": [-0.7588638679130982, -0.6984063261857261, null], \"line\": {\"width\": 0.4, \"color\": \"#999\"}, \"mode\": \"lines\"}, {\"type\": \"scatter\", \"x\": [-0.21894430266830178], \"y\": [-0.7286350970494122], \"text\": [\"strength: 4\"], \"mode\": \"markers\", \"hoverinfo\": \"text\", \"marker\": {\"opacity\": 0}}, {\"type\": \"scatter\", \"x\": [-0.44741340645303357, -0.44741340645303357, null], \"y\": [-0.6984063261857261, -0.6984063261857261, null], \"line\": {\"width\": 1.0, \"color\": \"#999\"}, \"mode\": \"lines\"}, {\"type\": \"scatter\", \"x\": [-0.44741340645303357], \"y\": [-0.6984063261857261], \"text\": [\"strength: 10\"], \"mode\": \"markers\", \"hoverinfo\": \"text\", \"marker\": {\"opacity\": 0}}, {\"type\": \"scatter\", \"x\": [-0.44741340645303357, 0.3981203469927687, null], \"y\": [-0.6984063261857261, -0.9999999999999999, null], \"line\": {\"width\": 0.1, \"color\": \"#999\"}, \"mode\": \"lines\"}, {\"type\": \"scatter\", \"x\": [-0.024646529730132427], \"y\": [-0.8492031630928629], \"text\": [\"strength: 1\"], \"mode\": \"markers\", \"hoverinfo\": \"text\", \"marker\": {\"opacity\": 0}}, {\"type\": \"scatter\", \"x\": [0.3981203469927687, 0.3981203469927687, null], \"y\": [-0.9999999999999999, -0.9999999999999999, null], \"line\": {\"width\": 0.6, \"color\": \"#999\"}, \"mode\": \"lines\"}, {\"type\": \"scatter\", \"x\": [0.3981203469927687], \"y\": [-0.9999999999999999], \"text\": [\"strength: 6\"], \"mode\": \"markers\", \"hoverinfo\": \"text\", \"marker\": {\"opacity\": 0}}, {\"type\": \"scatter\", \"x\": [0.012956466844664135, 0.3034576419506891, -0.1965799696658591, 0.19157846427974423, 0.13664583633508326, -0.4082901814004868, 0.009524801116429999, -0.44741340645303357, 0.3981203469927687], \"y\": [0.45626353095092054, 0.5798476646511909, 0.8315407989251681, 0.8642454464723409, -0.23277607155461968, -0.04185117534617716, -0.7588638679130982, -0.6984063261857261, -0.9999999999999999], \"text\": [], \"mode\": \"text\", \"hoverinfo\": \"hovertext\", \"hovertext\": [\"Node: \\ubc84\\uc2a4<br>weight: 0.875\", \"Node: \\uc774\\uc6a9<br>weight: 0.875\", \"Node: \\ucd94\\ucc9c<br>weight: 0.875\", \"Node: \\uc0ac\\ub78c<br>weight: 0.75\", \"Node: \\ud0d1\\uc2b9<br>weight: 1.25\", \"Node: \\ud638\\ucd9c<br>weight: 1.0\", \"Node: \\uae30\\ub2a5<br>weight: 0.75\", \"Node: \\uacb0\\uc81c<br>weight: 0.75\", \"Node: \\uc54c\\ub9bc<br>weight: 0.625\"], \"hoverlabel\": {\"namelength\": 0}, \"marker\": {\"showscale\": true, \"colorscale\": \"YlOrRd\", \"reversescale\": true, \"color\": [9.354143466934854, 9.354143466934854, 9.354143466934854, 8.660254037844386, 11.180339887498949, 10.0, 8.660254037844386, 8.660254037844386, 7.905694150420949], \"size\": [87.5, 87.5, 87.5, 75.0, 125.0, 100.0, 75.0, 75.0, 62.5], \"colorbar\": {\"thickness\": 15, \"title\": \"Word Centrality\", \"xanchor\": \"left\", \"titleside\": \"right\"}, \"line\": {\"width\": 1, \"color\": \"black\"}}}, {\"type\": \"scatter\", \"x\": [0.012956466844664135, 0.3034576419506891, -0.1965799696658591, 0.19157846427974423, 0.13664583633508326, -0.4082901814004868, 0.009524801116429999, -0.44741340645303357, 0.3981203469927687], \"y\": [0.45626353095092054, 0.5798476646511909, 0.8315407989251681, 0.8642454464723409, -0.23277607155461968, -0.04185117534617716, -0.7588638679130982, -0.6984063261857261, -0.9999999999999999], \"mode\": \"text\", \"text\": [\"\\ubc84\\uc2a4\", \"\\uc774\\uc6a9\", \"\\ucd94\\ucc9c\", \"\\uc0ac\\ub78c\", \"\\ud0d1\\uc2b9\", \"\\ud638\\ucd9c\", \"\\uae30\\ub2a5\", \"\\uacb0\\uc81c\", \"\\uc54c\\ub9bc\"], \"textfont\": {\"size\": [15.3125, 15.3125, 15.3125, 11.25, 31.25, 20.0, 11.25, 11.25, 7.8125]}}], {\"title\": \"Word Network Graph\", \"titlefont\": {\"size\": 16}, \"showlegend\": false, \"hovermode\": \"closest\", \"images\": [{\"source\": \"https://raw.githubusercontent.com/fingeredman/teanaps-documents/main/data/logo/teanaps_logo_nbg_1600x400.png\", \"xref\": \"paper\", \"yref\": \"paper\", \"x\": 0.5, \"y\": 0.6, \"sizex\": 0.7, \"sizey\": 0.7, \"xanchor\": \"center\", \"yanchor\": \"center\", \"opacity\": 0.1, \"layer\": \"above\"}], \"width\": 1000, \"height\": 1000, \"margin\": {\"b\": 20, \"l\": 5, \"r\": 5, \"t\": 40}, \"xaxis\": {\"showgrid\": false, \"zeroline\": false, \"showticklabels\": false}, \"yaxis\": {\"showgrid\": false, \"zeroline\": false, \"showticklabels\": false}}, {\"showLink\": true, \"linkText\": \"Export to plot.ly\"})});</script>"
      ]
     },
     "metadata": {},
     "output_type": "display_data"
    }
   ],
   "source": [
    "centrality_dict = co.get_centrality(\"d_cent\")\n",
    "co.get_word_network_graph(centrality_dict,  mode=\"text\")"
   ]
  },
  {
   "cell_type": "markdown",
   "metadata": {},
   "source": [
    "## 감성분석"
   ]
  },
  {
   "cell_type": "code",
   "execution_count": 2,
   "metadata": {},
   "outputs": [
    {
     "data": {
      "text/html": [
       "<div>\n",
       "<style scoped>\n",
       "    .dataframe tbody tr th:only-of-type {\n",
       "        vertical-align: middle;\n",
       "    }\n",
       "\n",
       "    .dataframe tbody tr th {\n",
       "        vertical-align: top;\n",
       "    }\n",
       "\n",
       "    .dataframe thead th {\n",
       "        text-align: right;\n",
       "    }\n",
       "</style>\n",
       "<table border=\"1\" class=\"dataframe\">\n",
       "  <thead>\n",
       "    <tr style=\"text-align: right;\">\n",
       "      <th></th>\n",
       "      <th>start_point</th>\n",
       "      <th>get_on</th>\n",
       "      <th>get_off</th>\n",
       "      <th>end_point</th>\n",
       "      <th>recommend</th>\n",
       "    </tr>\n",
       "  </thead>\n",
       "  <tbody>\n",
       "    <tr>\n",
       "      <th>0</th>\n",
       "      <td>일요일에도 여는 한의원이라 치료를 받고 집으로 돌아감</td>\n",
       "      <td>굳이 건너지 않고 버스를 탈 수 있는게 너무 좋았다마침 버스도 근처에 있어5분도 되...</td>\n",
       "      <td>마찬가지로 횡단보도를 건너지 않고 집에 바로 갈 수 있어 너무 좋았다 사소한 거지만...</td>\n",
       "      <td>버스를 탈때보다는 편하게 길도 안 건너고 도착했다</td>\n",
       "      <td>돌아가는 버스를 이용하는 사람들</td>\n",
       "    </tr>\n",
       "    <tr>\n",
       "      <th>1</th>\n",
       "      <td>일을 마치고 필라테스 상담을 하고 집에 가는데 버스간격이 길다 그래서 아이모드를 이...</td>\n",
       "      <td>완정역에서 아이모드를 탑승했다 나밖에 탑승하지 않았고 편하게 집으로 왔다 그런데 평...</td>\n",
       "      <td>차가 진짜 멀미가 심하다 이 점때문에 버스나 택시를 이용할 것  같다는 생각을 했다</td>\n",
       "      <td>가까운 직선거리의 버스 노선이라면 버스를 이용하는게 낫겠다 하는 생각이 들었다</td>\n",
       "      <td>돌아가는 버스를 이용하는 사람들</td>\n",
       "    </tr>\n",
       "    <tr>\n",
       "      <th>2</th>\n",
       "      <td>검단의 IMOD를 이용하기 전 IMOD가 먼저 도입됐고 관광하기 좋은 송도를 방문하...</td>\n",
       "      <td>센트럴파크에서 관광을 마친 후 테크노파크역에 있는 송도 현대아울렛에서 쇼핑을 하기 ...</td>\n",
       "      <td>탑승은 일반 버스카드를 태그하듯 QR코드를 기기에 태그하기만 하면 돼서 간편했다 I...</td>\n",
       "      <td>우선 IMOD 버스로 시민들이 보다 저렴한 가격에 쾌적한 환경의 이동수단을 제공받을...</td>\n",
       "      <td>비오는 날 등 기상이 안 좋은 날이나 짐이 많을 때 혹은 거동이 불편한 분이 이동할...</td>\n",
       "    </tr>\n",
       "    <tr>\n",
       "      <th>3</th>\n",
       "      <td>여자친구와 함께 송도 센트럴파크에 놀러갔다 오랜 시간동안 걸으니 피로가 많이 쌓여서...</td>\n",
       "      <td>카페에서 IMOD호출을 눌렀는데 배차가 되지 않아 20분 정도 기다렸던 것 같다 처...</td>\n",
       "      <td>탑승한 사람이 나와 여자친구밖에 없어서 그런지 최단경로로 목적지까지 이동할 수 있었...</td>\n",
       "      <td>처음이라 비교적 짧은 거리만 이동했지만 다음에는 좀 더 긴 거리를 목적지로 설정해서...</td>\n",
       "      <td>\\n추천  짐이 많거나 목적지까지 거리가 멀지만 시간여유가 있는 시민\\n이유 1 ...</td>\n",
       "    </tr>\n",
       "    <tr>\n",
       "      <th>4</th>\n",
       "      <td>송도에서 놀기 위해 차를 타고 송도로 향했다 송도에서 여기저기를 방문할 예정이라 차...</td>\n",
       "      <td>20분 후에 IMOD에 탑승할 수 있었고 IMOD안에는 추가로 다른 승객이 탑승해 ...</td>\n",
       "      <td>기다린 시간을 포함하여 35분 만에 목적지에 도착할 수 있었다 IMOD를 다른 승객...</td>\n",
       "      <td>하지만 여전히 서비스는 편리했고 쾌적하게 이동할 수 있었다 배차가 진행되지 않았을 ...</td>\n",
       "      <td>\\n추천  시간이 넉넉하고 쾌적하게 이동하고 싶은 사람\\n이유  배차가 빠르게 진...</td>\n",
       "    </tr>\n",
       "  </tbody>\n",
       "</table>\n",
       "</div>"
      ],
      "text/plain": [
       "                                         start_point  \\\n",
       "0                      일요일에도 여는 한의원이라 치료를 받고 집으로 돌아감   \n",
       "1  일을 마치고 필라테스 상담을 하고 집에 가는데 버스간격이 길다 그래서 아이모드를 이...   \n",
       "2  검단의 IMOD를 이용하기 전 IMOD가 먼저 도입됐고 관광하기 좋은 송도를 방문하...   \n",
       "3  여자친구와 함께 송도 센트럴파크에 놀러갔다 오랜 시간동안 걸으니 피로가 많이 쌓여서...   \n",
       "4  송도에서 놀기 위해 차를 타고 송도로 향했다 송도에서 여기저기를 방문할 예정이라 차...   \n",
       "\n",
       "                                              get_on  \\\n",
       "0  굳이 건너지 않고 버스를 탈 수 있는게 너무 좋았다마침 버스도 근처에 있어5분도 되...   \n",
       "1  완정역에서 아이모드를 탑승했다 나밖에 탑승하지 않았고 편하게 집으로 왔다 그런데 평...   \n",
       "2  센트럴파크에서 관광을 마친 후 테크노파크역에 있는 송도 현대아울렛에서 쇼핑을 하기 ...   \n",
       "3  카페에서 IMOD호출을 눌렀는데 배차가 되지 않아 20분 정도 기다렸던 것 같다 처...   \n",
       "4  20분 후에 IMOD에 탑승할 수 있었고 IMOD안에는 추가로 다른 승객이 탑승해 ...   \n",
       "\n",
       "                                             get_off  \\\n",
       "0  마찬가지로 횡단보도를 건너지 않고 집에 바로 갈 수 있어 너무 좋았다 사소한 거지만...   \n",
       "1     차가 진짜 멀미가 심하다 이 점때문에 버스나 택시를 이용할 것  같다는 생각을 했다   \n",
       "2  탑승은 일반 버스카드를 태그하듯 QR코드를 기기에 태그하기만 하면 돼서 간편했다 I...   \n",
       "3  탑승한 사람이 나와 여자친구밖에 없어서 그런지 최단경로로 목적지까지 이동할 수 있었...   \n",
       "4  기다린 시간을 포함하여 35분 만에 목적지에 도착할 수 있었다 IMOD를 다른 승객...   \n",
       "\n",
       "                                           end_point  \\\n",
       "0                        버스를 탈때보다는 편하게 길도 안 건너고 도착했다   \n",
       "1        가까운 직선거리의 버스 노선이라면 버스를 이용하는게 낫겠다 하는 생각이 들었다   \n",
       "2  우선 IMOD 버스로 시민들이 보다 저렴한 가격에 쾌적한 환경의 이동수단을 제공받을...   \n",
       "3  처음이라 비교적 짧은 거리만 이동했지만 다음에는 좀 더 긴 거리를 목적지로 설정해서...   \n",
       "4  하지만 여전히 서비스는 편리했고 쾌적하게 이동할 수 있었다 배차가 진행되지 않았을 ...   \n",
       "\n",
       "                                           recommend  \n",
       "0                                  돌아가는 버스를 이용하는 사람들  \n",
       "1                                  돌아가는 버스를 이용하는 사람들  \n",
       "2  비오는 날 등 기상이 안 좋은 날이나 짐이 많을 때 혹은 거동이 불편한 분이 이동할...  \n",
       "3  \n",
       "\\n추천  짐이 많거나 목적지까지 거리가 멀지만 시간여유가 있는 시민\\n이유 1 ...  \n",
       "4  \n",
       "\\n추천  시간이 넉넉하고 쾌적하게 이동하고 싶은 사람\\n이유  배차가 빠르게 진...  "
      ]
     },
     "execution_count": 2,
     "metadata": {},
     "output_type": "execute_result"
    }
   ],
   "source": [
    "import pandas as pd\n",
    "\n",
    "data = pd.read_csv(\"/home/teanaps_home/workspace/local/livinglab_final2.csv\")\n",
    "data.head()"
   ]
  },
  {
   "cell_type": "code",
   "execution_count": 3,
   "metadata": {},
   "outputs": [
    {
     "data": {
      "text/html": [
       "<script>requirejs.config({paths: { 'plotly': ['https://cdn.plot.ly/plotly-latest.min']},});if(!window.Plotly) {{require(['plotly'],function(plotly) {window.Plotly=plotly;});}}</script>"
      ],
      "text/vnd.plotly.v1+html": [
       "<script>requirejs.config({paths: { 'plotly': ['https://cdn.plot.ly/plotly-latest.min']},});if(!window.Plotly) {{require(['plotly'],function(plotly) {window.Plotly=plotly;});}}</script>"
      ]
     },
     "metadata": {},
     "output_type": "display_data"
    },
    {
     "data": {
      "text/html": [
       "<script>requirejs.config({paths: { 'plotly': ['https://cdn.plot.ly/plotly-latest.min']},});if(!window.Plotly) {{require(['plotly'],function(plotly) {window.Plotly=plotly;});}}</script>"
      ],
      "text/vnd.plotly.v1+html": [
       "<script>requirejs.config({paths: { 'plotly': ['https://cdn.plot.ly/plotly-latest.min']},});if(!window.Plotly) {{require(['plotly'],function(plotly) {window.Plotly=plotly;});}}</script>"
      ]
     },
     "metadata": {},
     "output_type": "display_data"
    },
    {
     "data": {
      "text/html": [
       "<script>requirejs.config({paths: { 'plotly': ['https://cdn.plot.ly/plotly-latest.min']},});if(!window.Plotly) {{require(['plotly'],function(plotly) {window.Plotly=plotly;});}}</script>"
      ],
      "text/vnd.plotly.v1+html": [
       "<script>requirejs.config({paths: { 'plotly': ['https://cdn.plot.ly/plotly-latest.min']},});if(!window.Plotly) {{require(['plotly'],function(plotly) {window.Plotly=plotly;});}}</script>"
      ]
     },
     "metadata": {},
     "output_type": "display_data"
    },
    {
     "data": {
      "text/html": [
       "<script>requirejs.config({paths: { 'plotly': ['https://cdn.plot.ly/plotly-latest.min']},});if(!window.Plotly) {{require(['plotly'],function(plotly) {window.Plotly=plotly;});}}</script>"
      ],
      "text/vnd.plotly.v1+html": [
       "<script>requirejs.config({paths: { 'plotly': ['https://cdn.plot.ly/plotly-latest.min']},});if(!window.Plotly) {{require(['plotly'],function(plotly) {window.Plotly=plotly;});}}</script>"
      ]
     },
     "metadata": {},
     "output_type": "display_data"
    },
    {
     "data": {
      "text/html": [
       "<script>requirejs.config({paths: { 'plotly': ['https://cdn.plot.ly/plotly-latest.min']},});if(!window.Plotly) {{require(['plotly'],function(plotly) {window.Plotly=plotly;});}}</script>"
      ],
      "text/vnd.plotly.v1+html": [
       "<script>requirejs.config({paths: { 'plotly': ['https://cdn.plot.ly/plotly-latest.min']},});if(!window.Plotly) {{require(['plotly'],function(plotly) {window.Plotly=plotly;});}}</script>"
      ]
     },
     "metadata": {},
     "output_type": "display_data"
    },
    {
     "data": {
      "text/html": [
       "<script>requirejs.config({paths: { 'plotly': ['https://cdn.plot.ly/plotly-latest.min']},});if(!window.Plotly) {{require(['plotly'],function(plotly) {window.Plotly=plotly;});}}</script>"
      ],
      "text/vnd.plotly.v1+html": [
       "<script>requirejs.config({paths: { 'plotly': ['https://cdn.plot.ly/plotly-latest.min']},});if(!window.Plotly) {{require(['plotly'],function(plotly) {window.Plotly=plotly;});}}</script>"
      ]
     },
     "metadata": {},
     "output_type": "display_data"
    }
   ],
   "source": [
    "from teanaps.text_analysis import SentimentAnalysis\n",
    "\n",
    "senti = SentimentAnalysis(model_path=\"/home/teanaps_home/workspace/local/senti_model\", kobert_path=\"/home/teanaps_home/workspace/local/mxnet_kobert\")\n",
    "\n",
    "\n"
   ]
  },
  {
   "cell_type": "code",
   "execution_count": 4,
   "metadata": {},
   "outputs": [],
   "source": [
    "data_step1 = data.loc[:, ['start_point']] # 출발단계\n",
    "data_step2 = data.loc[:, ['get_on']] # 탑승단계\n",
    "data_step3 = data.loc[:, ['get_off']] # 하차단계\n",
    "data_step4 = data.loc[:, ['end_point']] # 도착단계\n",
    "data_step5 = data.loc[:, ['recommend']] # 추천대상"
   ]
  },
  {
   "cell_type": "code",
   "execution_count": 5,
   "metadata": {},
   "outputs": [],
   "source": [
    "data_step1_dr = data_step1.dropna(axis = 0)\n",
    "data_step2_dr = data_step2.dropna(axis = 0)\n",
    "data_step3_dr = data_step3.dropna(axis = 0)\n",
    "data_step4_dr = data_step4.dropna(axis = 0)\n",
    "data_step5_dr = data_step5.dropna(axis = 0)"
   ]
  },
  {
   "cell_type": "code",
   "execution_count": 6,
   "metadata": {},
   "outputs": [
    {
     "name": "stdout",
     "output_type": "stream",
     "text": [
      "<class 'pandas.core.frame.DataFrame'>\n",
      "Int64Index: 47 entries, 0 to 46\n",
      "Data columns (total 1 columns):\n",
      " #   Column       Non-Null Count  Dtype \n",
      "---  ------       --------------  ----- \n",
      " 0   start_point  47 non-null     object\n",
      "dtypes: object(1)\n",
      "memory usage: 752.0+ bytes\n"
     ]
    }
   ],
   "source": [
    "data_step1_dr.info()"
   ]
  },
  {
   "cell_type": "code",
   "execution_count": 7,
   "metadata": {},
   "outputs": [
    {
     "name": "stdout",
     "output_type": "stream",
     "text": [
      "<class 'pandas.core.frame.DataFrame'>\n",
      "Int64Index: 47 entries, 0 to 46\n",
      "Data columns (total 1 columns):\n",
      " #   Column  Non-Null Count  Dtype \n",
      "---  ------  --------------  ----- \n",
      " 0   get_on  47 non-null     object\n",
      "dtypes: object(1)\n",
      "memory usage: 752.0+ bytes\n"
     ]
    }
   ],
   "source": [
    "data_step2_dr.info()"
   ]
  },
  {
   "cell_type": "code",
   "execution_count": 8,
   "metadata": {},
   "outputs": [
    {
     "name": "stdout",
     "output_type": "stream",
     "text": [
      "<class 'pandas.core.frame.DataFrame'>\n",
      "Int64Index: 47 entries, 0 to 46\n",
      "Data columns (total 1 columns):\n",
      " #   Column   Non-Null Count  Dtype \n",
      "---  ------   --------------  ----- \n",
      " 0   get_off  47 non-null     object\n",
      "dtypes: object(1)\n",
      "memory usage: 752.0+ bytes\n"
     ]
    }
   ],
   "source": [
    "data_step3_dr.info()"
   ]
  },
  {
   "cell_type": "code",
   "execution_count": 9,
   "metadata": {},
   "outputs": [
    {
     "name": "stdout",
     "output_type": "stream",
     "text": [
      "<class 'pandas.core.frame.DataFrame'>\n",
      "Int64Index: 47 entries, 0 to 46\n",
      "Data columns (total 1 columns):\n",
      " #   Column     Non-Null Count  Dtype \n",
      "---  ------     --------------  ----- \n",
      " 0   end_point  47 non-null     object\n",
      "dtypes: object(1)\n",
      "memory usage: 752.0+ bytes\n"
     ]
    }
   ],
   "source": [
    "data_step4_dr.info()"
   ]
  },
  {
   "cell_type": "code",
   "execution_count": 10,
   "metadata": {},
   "outputs": [
    {
     "name": "stdout",
     "output_type": "stream",
     "text": [
      "<class 'pandas.core.frame.DataFrame'>\n",
      "Int64Index: 47 entries, 0 to 46\n",
      "Data columns (total 1 columns):\n",
      " #   Column     Non-Null Count  Dtype \n",
      "---  ------     --------------  ----- \n",
      " 0   recommend  47 non-null     object\n",
      "dtypes: object(1)\n",
      "memory usage: 752.0+ bytes\n"
     ]
    }
   ],
   "source": [
    "data_step5_dr.info()"
   ]
  },
  {
   "cell_type": "code",
   "execution_count": 11,
   "metadata": {},
   "outputs": [
    {
     "data": {
      "text/html": [
       "<div>\n",
       "<style scoped>\n",
       "    .dataframe tbody tr th:only-of-type {\n",
       "        vertical-align: middle;\n",
       "    }\n",
       "\n",
       "    .dataframe tbody tr th {\n",
       "        vertical-align: top;\n",
       "    }\n",
       "\n",
       "    .dataframe thead th {\n",
       "        text-align: right;\n",
       "    }\n",
       "</style>\n",
       "<table border=\"1\" class=\"dataframe\">\n",
       "  <thead>\n",
       "    <tr style=\"text-align: right;\">\n",
       "      <th></th>\n",
       "      <th>start_point</th>\n",
       "    </tr>\n",
       "  </thead>\n",
       "  <tbody>\n",
       "    <tr>\n",
       "      <th>0</th>\n",
       "      <td>일요일에도 여는 한의원이라 치료를 받고 집으로 돌아감</td>\n",
       "    </tr>\n",
       "    <tr>\n",
       "      <th>1</th>\n",
       "      <td>일을 마치고 필라테스 상담을 하고 집에 가는데 버스간격이 길다 그래서 아이모드를 이...</td>\n",
       "    </tr>\n",
       "    <tr>\n",
       "      <th>2</th>\n",
       "      <td>검단의 IMOD를 이용하기 전 IMOD가 먼저 도입됐고 관광하기 좋은 송도를 방문하...</td>\n",
       "    </tr>\n",
       "    <tr>\n",
       "      <th>3</th>\n",
       "      <td>여자친구와 함께 송도 센트럴파크에 놀러갔다 오랜 시간동안 걸으니 피로가 많이 쌓여서...</td>\n",
       "    </tr>\n",
       "    <tr>\n",
       "      <th>4</th>\n",
       "      <td>송도에서 놀기 위해 차를 타고 송도로 향했다 송도에서 여기저기를 방문할 예정이라 차...</td>\n",
       "    </tr>\n",
       "  </tbody>\n",
       "</table>\n",
       "</div>"
      ],
      "text/plain": [
       "                                         start_point\n",
       "0                      일요일에도 여는 한의원이라 치료를 받고 집으로 돌아감\n",
       "1  일을 마치고 필라테스 상담을 하고 집에 가는데 버스간격이 길다 그래서 아이모드를 이...\n",
       "2  검단의 IMOD를 이용하기 전 IMOD가 먼저 도입됐고 관광하기 좋은 송도를 방문하...\n",
       "3  여자친구와 함께 송도 센트럴파크에 놀러갔다 오랜 시간동안 걸으니 피로가 많이 쌓여서...\n",
       "4  송도에서 놀기 위해 차를 타고 송도로 향했다 송도에서 여기저기를 방문할 예정이라 차..."
      ]
     },
     "execution_count": 11,
     "metadata": {},
     "output_type": "execute_result"
    }
   ],
   "source": [
    "data_step1_dr.head()"
   ]
  },
  {
   "cell_type": "markdown",
   "metadata": {},
   "source": [
    "### 데이터의 긍정/부정 분류"
   ]
  },
  {
   "cell_type": "code",
   "execution_count": 12,
   "metadata": {},
   "outputs": [],
   "source": [
    "df_1 = data_step1_dr\n",
    "df_2 = data_step2_dr\n",
    "df_3 = data_step3_dr\n",
    "df_4 = data_step4_dr\n",
    "df_5 = data_step5_dr"
   ]
  },
  {
   "cell_type": "code",
   "execution_count": 13,
   "metadata": {},
   "outputs": [],
   "source": [
    "df1 = df_1.reset_index(drop=True)\n",
    "df2 = df_2.reset_index(drop=True)\n",
    "df3 = df_3.reset_index(drop=True)\n",
    "df4 = df_4.reset_index(drop=True)"
   ]
  },
  {
   "cell_type": "code",
   "execution_count": 14,
   "metadata": {},
   "outputs": [
    {
     "name": "stdout",
     "output_type": "stream",
     "text": [
      "((0.9669, 0.0271), 'negative')\n"
     ]
    }
   ],
   "source": [
    "#https://github.com/SKTBrain/KoBERT/issues/89\n",
    "#positive, neutral, negative\n",
    "sentence = \"너무 짜증이 난다\"\n",
    "result = senti.tag(sentence)\n",
    "print(result)"
   ]
  },
  {
   "cell_type": "code",
   "execution_count": 15,
   "metadata": {},
   "outputs": [
    {
     "data": {
      "text/plain": [
       "'여자친구와 함께 송도 센트럴파크에 놀러갔다 오랜 시간동안 걸으니 피로가 많이 쌓여서\\n근처 카페에서 쉬다가 가기로 했다 충분히 쉰 후에 집에 가려고 교통편을 알아보니\\n버스 정류장이나 지하철역은 걸어가기에 거리가 약간 멀었고 택시를 타자니 비싼 가격이 우려되었다\\n그래서 가까운 거리에 정류장이 많은 IMOD를 이용해보기로 하였다 리뷰를 보니 배차시간이 너무  길어\\n이용이 불편하다는 평이 많았지만 편하고 부담되지 않는 가격으로 이동할 수 있으니 한번 이용해보기로 했다\\n배차가 바로 잡히기를 간절히 바랬던 것 같다'"
      ]
     },
     "execution_count": 15,
     "metadata": {},
     "output_type": "execute_result"
    }
   ],
   "source": [
    "df1[\"start_point\"][3]"
   ]
  },
  {
   "cell_type": "code",
   "execution_count": 18,
   "metadata": {},
   "outputs": [],
   "source": [
    "df_10 = pd.DataFrame(columns = ['start_point', 'sentiment'])"
   ]
  },
  {
   "cell_type": "code",
   "execution_count": null,
   "metadata": {},
   "outputs": [],
   "source": [
    "for i in range(0, len(df1)):\n",
    "    result = senti.tag(df1[\"start_point\"][i], neutral_th = 0.3)\n",
    "    review = df1[\"start_point\"][i]\n",
    "    df_10.loc[i] = [review, result[1]]\n",
    "df_10.head()"
   ]
  },
  {
   "cell_type": "code",
   "execution_count": null,
   "metadata": {},
   "outputs": [],
   "source": [
    "df_20 = pd.DataFrame(columns = ['get_on', 'sentiment'])"
   ]
  },
  {
   "cell_type": "code",
   "execution_count": null,
   "metadata": {},
   "outputs": [],
   "source": [
    "for i in range(0, len(df2)):\n",
    "    result = senti.tag(df2[\"get_on\"][i], neutral_th = 0.3)\n",
    "    review = df2[\"get_on\"][i]\n",
    "    df_20.loc[i] = [review, result[1]]\n",
    "df_20.head()"
   ]
  },
  {
   "cell_type": "code",
   "execution_count": null,
   "metadata": {},
   "outputs": [],
   "source": [
    "df_30 = pd.DataFrame(columns = ['get_off', 'sentiment'])"
   ]
  },
  {
   "cell_type": "code",
   "execution_count": null,
   "metadata": {},
   "outputs": [],
   "source": [
    "for i in range(0, len(df3)):\n",
    "    result = senti.tag(df3[\"get_off\"][i], neutral_th = 0.3)\n",
    "    review = df3[\"get_off\"][i]\n",
    "    df_30.loc[i] = [review, result[1]]\n",
    "df_30.head()"
   ]
  },
  {
   "cell_type": "code",
   "execution_count": null,
   "metadata": {},
   "outputs": [],
   "source": [
    "df_40 = pd.DataFrame(columns = ['end_point', 'sentiment'])"
   ]
  },
  {
   "cell_type": "code",
   "execution_count": null,
   "metadata": {},
   "outputs": [],
   "source": [
    "for i in range(0, len(df4)):\n",
    "    result = senti.tag(df4[\"end_point\"][i], neutral_th = 0.3)\n",
    "    review = df4[\"end_point\"][i]\n",
    "    df_40.loc[i] = [review, result[1]]\n",
    "df_40.head()"
   ]
  },
  {
   "cell_type": "code",
   "execution_count": null,
   "metadata": {},
   "outputs": [],
   "source": [
    "df_50 = pd.DataFrame(columns = ['recommend', 'sentiment'])"
   ]
  },
  {
   "cell_type": "code",
   "execution_count": null,
   "metadata": {},
   "outputs": [],
   "source": [
    "for i in range(0, len(df5)):\n",
    "    result = senti.tag(df5[\"recommend\"][i], neutral_th = 0.3)\n",
    "    review = df5[\"recommend\"][i]\n",
    "    df_50.loc[i] = [review, result[1]]\n",
    "df_50.head()"
   ]
  },
  {
   "cell_type": "code",
   "execution_count": null,
   "metadata": {},
   "outputs": [],
   "source": [
    "count_p = 0\n",
    "count_n = 0\n",
    "count_p_n = 0\n",
    "\n",
    "for i in range(0, len(df_10)):\n",
    "    if df_10[\"sentiment\"][i] == \"positive\":\n",
    "        count_p += 1\n",
    "    elif df_10[\"sentiment\"][i] == \"negative\":\n",
    "        count_n += 1\n",
    "    elif df_10[\"sentiment\"][i] == \"neutral\":\n",
    "        count_p_n += 1"
   ]
  },
  {
   "cell_type": "code",
   "execution_count": null,
   "metadata": {},
   "outputs": [],
   "source": [
    "percent_p = count_p / len(df_10)\n",
    "percent_n = count_n / len(df_10)\n",
    "percent_p_n = count_p_n / len(df_10)\n",
    "print(percent_p)\n",
    "print(percent_n)\n",
    "print(percent_p_n)"
   ]
  },
  {
   "cell_type": "code",
   "execution_count": null,
   "metadata": {},
   "outputs": [],
   "source": [
    "count_p = 0\n",
    "count_n = 0\n",
    "count_p_n = 0\n",
    "\n",
    "for i in range(0, len(df_20)):\n",
    "    if df_20[\"sentiment\"][i] == \"positive\":\n",
    "        count_p += 1\n",
    "    elif df_20[\"sentiment\"][i] == \"negative\":\n",
    "        count_n += 1\n",
    "    elif df_20[\"sentiment\"][i] == \"neutral\":\n",
    "        count_p_n += 1"
   ]
  },
  {
   "cell_type": "code",
   "execution_count": null,
   "metadata": {},
   "outputs": [],
   "source": [
    "percent_p = count_p / len(df_20)\n",
    "percent_n = count_n / len(df_20)\n",
    "percent_p_n = count_p_n / len(df_20)\n",
    "print(percent_p)\n",
    "print(percent_n)\n",
    "print(percent_p_n)"
   ]
  },
  {
   "cell_type": "code",
   "execution_count": null,
   "metadata": {},
   "outputs": [],
   "source": [
    "count_p = 0\n",
    "count_n = 0\n",
    "count_p_n = 0\n",
    "\n",
    "for i in range(0, len(df_30)):\n",
    "    if df_30[\"sentiment\"][i] == \"positive\":\n",
    "        count_p += 1\n",
    "    elif df_30[\"sentiment\"][i] == \"negative\":\n",
    "        count_n += 1\n",
    "    elif df_30[\"sentiment\"][i] == \"neutral\":\n",
    "        count_p_n += 1"
   ]
  },
  {
   "cell_type": "code",
   "execution_count": null,
   "metadata": {},
   "outputs": [],
   "source": [
    "percent_p = count_p / len(df_30)\n",
    "percent_n = count_n / len(df_30)\n",
    "percent_p_n = count_p_n / len(df_30)\n",
    "print(percent_p)\n",
    "print(percent_n)\n",
    "print(percent_p_n)"
   ]
  },
  {
   "cell_type": "code",
   "execution_count": null,
   "metadata": {},
   "outputs": [],
   "source": [
    "count_p = 0\n",
    "count_n = 0\n",
    "count_p_n = 0\n",
    "\n",
    "for i in range(0, len(df_40)):\n",
    "    if df_40[\"sentiment\"][i] == \"positive\":\n",
    "        count_p += 1\n",
    "    elif df_40[\"sentiment\"][i] == \"negative\":\n",
    "        count_n += 1\n",
    "    elif df_40[\"sentiment\"][i] == \"neutral\":\n",
    "        count_p_n += 1"
   ]
  },
  {
   "cell_type": "code",
   "execution_count": null,
   "metadata": {},
   "outputs": [],
   "source": [
    "percent_p = count_p / len(df_40)\n",
    "percent_n = count_n / len(df_40)\n",
    "percent_p_n = count_p_n / len(df_40)\n",
    "print(percent_p)\n",
    "print(percent_n)\n",
    "print(percent_p_n)"
   ]
  },
  {
   "cell_type": "code",
   "execution_count": null,
   "metadata": {},
   "outputs": [],
   "source": [
    "count_p = 0\n",
    "count_n = 0\n",
    "count_p_n = 0\n",
    "\n",
    "for i in range(0, len(df_50)):\n",
    "    if df_50[\"sentiment\"][i] == \"positive\":\n",
    "        count_p += 1\n",
    "    elif df_50[\"sentiment\"][i] == \"negative\":\n",
    "        count_n += 1\n",
    "    elif df_50[\"sentiment\"][i] == \"neutral\":\n",
    "        count_p_n += 1"
   ]
  },
  {
   "cell_type": "code",
   "execution_count": null,
   "metadata": {},
   "outputs": [],
   "source": [
    "percent_p = count_p / len(df_50)\n",
    "percent_n = count_n / len(df_50)\n",
    "percent_p_n = count_p_n / len(df_50)\n",
    "print(percent_p)\n",
    "print(percent_n)\n",
    "print(percent_p_n)"
   ]
  },
  {
   "cell_type": "code",
   "execution_count": null,
   "metadata": {},
   "outputs": [],
   "source": []
  }
 ],
 "metadata": {
  "kernelspec": {
   "display_name": "Python 3",
   "language": "python",
   "name": "python3"
  },
  "language_info": {
   "codemirror_mode": {
    "name": "ipython",
    "version": 3
   },
   "file_extension": ".py",
   "mimetype": "text/x-python",
   "name": "python",
   "nbconvert_exporter": "python",
   "pygments_lexer": "ipython3",
   "version": "3.7.4"
  }
 },
 "nbformat": 4,
 "nbformat_minor": 2
}
